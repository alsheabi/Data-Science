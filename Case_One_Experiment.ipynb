{
 "cells": [
  {
   "cell_type": "code",
   "execution_count": 1,
   "metadata": {},
   "outputs": [],
   "source": [
    "# Libraries\n",
    "# For implementing Bag of words\n",
    "from sklearn.feature_extraction.text import CountVectorizer\n",
    "# For implementing Linear Regression\n",
    "from sklearn.linear_model import LinearRegression\n",
    "# For implementing Support Vector Regression\n",
    "from sklearn.svm import SVR\n",
    "# For implementing Linear SVR\n",
    "from sklearn.svm import LinearSVR\n",
    "\n",
    "# For implementing CART\n",
    "from sklearn.tree import DecisionTreeRegressor\n",
    "# R2 Score\n",
    "from sklearn.metrics import r2_score\n",
    "# MAE Score\n",
    "from sklearn.metrics import mean_absolute_error\n",
    "# To convert string list into List object\n",
    "from ast import literal_eval\n",
    "\n",
    "import pandas as pd\n",
    "import json\n",
    "import numpy as np\n",
    "import random as rnd\n",
    "import time\n",
    "import re\n",
    "\n",
    "# For Scaling of preprocessing data\n",
    "from sklearn.preprocessing import StandardScaler\n",
    "from sklearn.preprocessing import MinMaxScaler\n",
    "from sklearn.preprocessing import Normalizer\n",
    "\n",
    "# visualization\n",
    "import seaborn as sns\n",
    "import matplotlib.pyplot as plt\n",
    "%matplotlib inline\n",
    "\n",
    "# Plot the CART decision tree\n",
    "from sklearn.tree import export_graphviz\n",
    "from sklearn.externals.six import StringIO  \n",
    "from IPython.display import Image  \n",
    "import pydotplus\n",
    "\n",
    "seed = 101"
   ]
  },
  {
   "cell_type": "markdown",
   "metadata": {},
   "source": [
    "The data from 2006 to 2008 is taken as train and the data of 2009 is taken as test \n",
    "Inorder to fast retrieve the records faster the following steps were done\n",
    "1. The records are retrieved from the 4 files and put to a single dataframe,\n",
    "2. Duplicates if any were removed,\n",
    "3. Then the records are ordered in decreasing order of the citation number and \n",
    "4. They are put in the CSV file"
   ]
  },
  {
   "cell_type": "code",
   "execution_count": 2,
   "metadata": {},
   "outputs": [],
   "source": [
    "data_train_Complete = pd.read_csv('Data/train_case_one.csv')\n",
    "data_test_Complete = pd.read_csv('Data/test_case_one.csv')"
   ]
  },
  {
   "cell_type": "code",
   "execution_count": 3,
   "metadata": {},
   "outputs": [
    {
     "data": {
      "text/html": [
       "<div>\n",
       "<style scoped>\n",
       "    .dataframe tbody tr th:only-of-type {\n",
       "        vertical-align: middle;\n",
       "    }\n",
       "\n",
       "    .dataframe tbody tr th {\n",
       "        vertical-align: top;\n",
       "    }\n",
       "\n",
       "    .dataframe thead th {\n",
       "        text-align: right;\n",
       "    }\n",
       "</style>\n",
       "<table border=\"1\" class=\"dataframe\">\n",
       "  <thead>\n",
       "    <tr style=\"text-align: right;\">\n",
       "      <th></th>\n",
       "      <th>Unnamed: 0</th>\n",
       "      <th>abstract</th>\n",
       "      <th>authors</th>\n",
       "      <th>id</th>\n",
       "      <th>n_citation</th>\n",
       "      <th>references</th>\n",
       "      <th>title</th>\n",
       "      <th>venue</th>\n",
       "      <th>year</th>\n",
       "    </tr>\n",
       "  </thead>\n",
       "  <tbody>\n",
       "    <tr>\n",
       "      <th>0</th>\n",
       "      <td>0</td>\n",
       "      <td>Cryptosystem designers frequently assume that ...</td>\n",
       "      <td>['Paul C. Kocher', 'Joshua M. Jaffe', 'Benjami...</td>\n",
       "      <td>033ebb72-0119-4cc9-89b8-f011c55ddd79</td>\n",
       "      <td>7091</td>\n",
       "      <td>[]</td>\n",
       "      <td>Differential power analysis</td>\n",
       "      <td>Lecture Notes in Computer Science</td>\n",
       "      <td>1999</td>\n",
       "    </tr>\n",
       "    <tr>\n",
       "      <th>1</th>\n",
       "      <td>1</td>\n",
       "      <td>NaN</td>\n",
       "      <td>['Jan C. A. van der Lubbe', 'Hendrik Jan Hoeue...</td>\n",
       "      <td>8dd4158a-bbc4-40cf-a4d5-14e0fe630387</td>\n",
       "      <td>3925</td>\n",
       "      <td>[]</td>\n",
       "      <td>Information theory</td>\n",
       "      <td>NaN</td>\n",
       "      <td>1997</td>\n",
       "    </tr>\n",
       "    <tr>\n",
       "      <th>2</th>\n",
       "      <td>2</td>\n",
       "      <td>NaN</td>\n",
       "      <td>['Nir Friedman', 'Michal Linial', 'Iftach Nach...</td>\n",
       "      <td>abad0cf5-6b84-4c40-91a2-f6ca3ad7fbc1</td>\n",
       "      <td>3515</td>\n",
       "      <td>['007cf08c-7de6-437c-ae53-8b41e276a9a6', '1106...</td>\n",
       "      <td>Using Bayesian networks to analyze expression ...</td>\n",
       "      <td>Journal of Computational Biology</td>\n",
       "      <td>2000</td>\n",
       "    </tr>\n",
       "    <tr>\n",
       "      <th>3</th>\n",
       "      <td>3</td>\n",
       "      <td>Adaptive hypermedia is a relatively new direct...</td>\n",
       "      <td>['Peter Brusilovsky']</td>\n",
       "      <td>8ab23f4b-0b87-42ed-9922-dbd10d9e845d</td>\n",
       "      <td>3192</td>\n",
       "      <td>['01c65f07-9d53-4844-8e25-ada6745a05d8', '13ca...</td>\n",
       "      <td>Adaptive Hypermedia</td>\n",
       "      <td>NaN</td>\n",
       "      <td>2001</td>\n",
       "    </tr>\n",
       "    <tr>\n",
       "      <th>4</th>\n",
       "      <td>4</td>\n",
       "      <td>NaN</td>\n",
       "      <td>['Andrew Blake', 'A. Zisserman']</td>\n",
       "      <td>3f4cc95c-5f47-4031-8671-e23ff4fe2ed2</td>\n",
       "      <td>2652</td>\n",
       "      <td>[]</td>\n",
       "      <td>Visual reconstruction</td>\n",
       "      <td>NaN</td>\n",
       "      <td>1987</td>\n",
       "    </tr>\n",
       "  </tbody>\n",
       "</table>\n",
       "</div>"
      ],
      "text/plain": [
       "   Unnamed: 0                                           abstract  \\\n",
       "0           0  Cryptosystem designers frequently assume that ...   \n",
       "1           1                                                NaN   \n",
       "2           2                                                NaN   \n",
       "3           3  Adaptive hypermedia is a relatively new direct...   \n",
       "4           4                                                NaN   \n",
       "\n",
       "                                             authors  \\\n",
       "0  ['Paul C. Kocher', 'Joshua M. Jaffe', 'Benjami...   \n",
       "1  ['Jan C. A. van der Lubbe', 'Hendrik Jan Hoeue...   \n",
       "2  ['Nir Friedman', 'Michal Linial', 'Iftach Nach...   \n",
       "3                              ['Peter Brusilovsky']   \n",
       "4                   ['Andrew Blake', 'A. Zisserman']   \n",
       "\n",
       "                                     id  n_citation  \\\n",
       "0  033ebb72-0119-4cc9-89b8-f011c55ddd79        7091   \n",
       "1  8dd4158a-bbc4-40cf-a4d5-14e0fe630387        3925   \n",
       "2  abad0cf5-6b84-4c40-91a2-f6ca3ad7fbc1        3515   \n",
       "3  8ab23f4b-0b87-42ed-9922-dbd10d9e845d        3192   \n",
       "4  3f4cc95c-5f47-4031-8671-e23ff4fe2ed2        2652   \n",
       "\n",
       "                                          references  \\\n",
       "0                                                 []   \n",
       "1                                                 []   \n",
       "2  ['007cf08c-7de6-437c-ae53-8b41e276a9a6', '1106...   \n",
       "3  ['01c65f07-9d53-4844-8e25-ada6745a05d8', '13ca...   \n",
       "4                                                 []   \n",
       "\n",
       "                                               title  \\\n",
       "0                        Differential power analysis   \n",
       "1                                 Information theory   \n",
       "2  Using Bayesian networks to analyze expression ...   \n",
       "3                                Adaptive Hypermedia   \n",
       "4                              Visual reconstruction   \n",
       "\n",
       "                               venue  year  \n",
       "0  Lecture Notes in Computer Science  1999  \n",
       "1                                NaN  1997  \n",
       "2   Journal of Computational Biology  2000  \n",
       "3                                NaN  2001  \n",
       "4                                NaN  1987  "
      ]
     },
     "execution_count": 3,
     "metadata": {},
     "output_type": "execute_result"
    }
   ],
   "source": [
    "data_train_Complete.head()"
   ]
  },
  {
   "cell_type": "code",
   "execution_count": 4,
   "metadata": {},
   "outputs": [
    {
     "name": "stdout",
     "output_type": "stream",
     "text": [
      "9345\n",
      "519\n"
     ]
    }
   ],
   "source": [
    "# The total length of the training and test set data\n",
    "print(len(data_train_Complete))\n",
    "print(len(data_test_Complete))"
   ]
  },
  {
   "cell_type": "code",
   "execution_count": 5,
   "metadata": {},
   "outputs": [],
   "source": [
    "# Coping the training and test data\n",
    "data_train= data_train_Complete\n",
    "data_test= data_test_Complete"
   ]
  },
  {
   "cell_type": "code",
   "execution_count": 6,
   "metadata": {},
   "outputs": [
    {
     "name": "stdout",
     "output_type": "stream",
     "text": [
      "   Unnamed: 0                                           abstract  \\\n",
      "0           0  Cryptosystem designers frequently assume that ...   \n",
      "1           1                                                NaN   \n",
      "\n",
      "                                             authors  \\\n",
      "0  ['Paul C. Kocher', 'Joshua M. Jaffe', 'Benjami...   \n",
      "1  ['Jan C. A. van der Lubbe', 'Hendrik Jan Hoeue...   \n",
      "\n",
      "                                     id  n_citation references  \\\n",
      "0  033ebb72-0119-4cc9-89b8-f011c55ddd79        7091         []   \n",
      "1  8dd4158a-bbc4-40cf-a4d5-14e0fe630387        3925         []   \n",
      "\n",
      "                         title                              venue  year  \n",
      "0  Differential power analysis  Lecture Notes in Computer Science  1999  \n",
      "1           Information theory                                NaN  1997  \n",
      "   Unnamed: 0                                           abstract  \\\n",
      "0           0  We consider a problem of considerable practica...   \n",
      "1           1  We show how to learn a deep graphical model of...   \n",
      "\n",
      "                                          authors  \\\n",
      "0        ['Emmanuel J. Candès', 'Benjamin Recht']   \n",
      "1  ['Ruslan Salakhutdinov', 'Geoffrey E. Hinton']   \n",
      "\n",
      "                                     id  n_citation  \\\n",
      "0  a5d31c22-bdb4-4f0d-ab7b-4af2a8e37b9c        2844   \n",
      "1  4c5ed508-b6e5-4db5-a59f-00e1d88dc221         789   \n",
      "\n",
      "                                          references  \\\n",
      "0  ['1976db1f-ba16-433b-b918-c04a50293153', '1bfa...   \n",
      "1  ['0ad38f3e-8131-4287-9e62-2b2ae77f47f7', '1ce7...   \n",
      "\n",
      "                                             title  \\\n",
      "0  Exact Matrix Completion via Convex Optimization   \n",
      "1                                 Semantic hashing   \n",
      "\n",
      "                                      venue  year  \n",
      "0  Foundations of Computational Mathematics  2009  \n",
      "1                                       NaN  2009  \n",
      "9345\n",
      "2\n"
     ]
    }
   ],
   "source": [
    "# The structure of frame along wth the data from training and test data\n",
    "print(data_train.head(2))\n",
    "print(data_test.head(2))\n",
    "\n",
    "# The total number of rows of training and test data\n",
    "print(len(data_train))\n",
    "print(len(data_test.head(2)))"
   ]
  },
  {
   "cell_type": "code",
   "execution_count": 7,
   "metadata": {},
   "outputs": [
    {
     "name": "stdout",
     "output_type": "stream",
     "text": [
      "9345\n",
      "519\n"
     ]
    }
   ],
   "source": [
    "print(len(data_train))\n",
    "print(len(data_test))"
   ]
  },
  {
   "cell_type": "markdown",
   "metadata": {},
   "source": [
    "# Training - AuthorCumulativeCitationCount(AcCc) Feature"
   ]
  },
  {
   "cell_type": "code",
   "execution_count": 8,
   "metadata": {},
   "outputs": [],
   "source": [
    "# # Training Set Data\n",
    "\n",
    "# Indexing is done to remove any discrepancies between removal of records during drop of rows\n",
    "data_train.index = pd.RangeIndex(len(data_train_Complete.index))\n",
    "\n",
    "data_id_train = data_train['id']\n",
    "data_Author_train = data_train['authors']\n",
    "data_numberOfCitation_train = data_train['n_citation']\n",
    "####################################################################################\n",
    "\n",
    "data_Author_train = data_Author_train\n",
    "data_numberOfCitation_train = data_numberOfCitation_train"
   ]
  },
  {
   "cell_type": "code",
   "execution_count": 9,
   "metadata": {},
   "outputs": [
    {
     "name": "stdout",
     "output_type": "stream",
     "text": [
      "9345\n"
     ]
    }
   ],
   "source": [
    "# Length of Train Data\n",
    "print(len(data_numberOfCitation_train))"
   ]
  },
  {
   "cell_type": "code",
   "execution_count": 10,
   "metadata": {},
   "outputs": [],
   "source": [
    "# Train################################################################\n",
    "# Here we are combining first and last name of authors to identify them\n",
    "# Our assumption is all authors have unique name and they are different based on their name \n",
    "\n",
    "# Find all authors from all the papers and store in a list\n",
    "X_train_authorValue=list()\n",
    "for key, value in data_Author_train.items():\n",
    "    X_train_authorValue.append(value)\n",
    "    \n",
    "##########################################################################################\n",
    "\n",
    "# Here we make name in X_train_authorValue as lowercase and combine the first and last name \n",
    "# And remove any spaces,special character - between names \n",
    "\n",
    "X_train_authorValue=','.join(str(e).lower().replace(\" \",\"\") for e in data_Author_train[0:len(data_Author_train)])\n",
    "X_train_authorValue=X_train_authorValue.replace('-','')\n",
    "X_train_authorValue=X_train_authorValue.replace('.','')\n",
    "\n",
    "# Copy contents to new string and replace blank and special character like '[', ']' inside the name\n",
    "X_train_allAuthorsNew=X_train_authorValue.replace('[','')\n",
    "X_train_allAuthorsNew=X_train_allAuthorsNew.replace(']','')\n",
    "X_train_allAuthorsNew=X_train_allAuthorsNew.replace(\" \",\"\")\n",
    "\n",
    "# We create an array X_train_authorValueArray of authors for papers by using ],[ as splitting criterion \n",
    "X_train_authorValueArray=X_train_authorValue.split('],[')\n",
    "X_train_authorValueArray = [s.replace('[', '') for s in X_train_authorValueArray]\n",
    "X_train_authorValueArray = [s.replace(']', '') for s in X_train_authorValueArray]"
   ]
  },
  {
   "cell_type": "code",
   "execution_count": 11,
   "metadata": {},
   "outputs": [],
   "source": [
    "# Train################################################################\n",
    "# Bag of Words Implementation\n",
    "train_vectorizer = CountVectorizer(analyzer = \"word\", tokenizer = None, preprocessor = None, stop_words = None, max_features = 500000) \n",
    "train_sentences=[X_train_allAuthorsNew]\n",
    "train_data_features = train_vectorizer.fit_transform(train_sentences)\n",
    "train_vectorizerActual=train_vectorizer.transform([value for value in X_train_authorValueArray[0:len(X_train_authorValueArray)]])\n",
    "# train_vectorList = train_vectorizer.transform([value for value in X_train_authorValueArray[0:len(X_train_authorValueArray)]]).toarray()\n",
    "train_vectorList = pd.SparseDataFrame(train_vectorizerActual).fillna(0)\n",
    "############################################################################\n",
    "train_authorList=pd.DataFrame(train_vectorizer.get_feature_names()).rename(index=int, columns={0: \"authorList\"})"
   ]
  },
  {
   "cell_type": "code",
   "execution_count": 12,
   "metadata": {},
   "outputs": [
    {
     "name": "stdout",
     "output_type": "stream",
     "text": [
      "20591\n"
     ]
    }
   ],
   "source": [
    "# Get Number of authors Feature Names after implementation of bag of words\n",
    "print(len(train_vectorizer.get_feature_names()))"
   ]
  },
  {
   "cell_type": "code",
   "execution_count": 13,
   "metadata": {},
   "outputs": [],
   "source": [
    "# Finding Total Number of Papers written by different author\n",
    "train_authorInfo=pd.DataFrame(train_vectorList)\n",
    "train_TotalNumberOfPapers = pd.DataFrame(train_authorInfo.sum(axis=0)).rename(index=int, columns={0: \"TotalNumberOfPapers\"})\n",
    "train_TotalNumberOfPapers['authorList']=train_authorList\n",
    "\n",
    "# Filtering the authors who has written only one paper\n",
    "train_TotalNumberOfPapers_1=train_TotalNumberOfPapers[train_TotalNumberOfPapers['TotalNumberOfPapers']==1]"
   ]
  },
  {
   "cell_type": "code",
   "execution_count": 14,
   "metadata": {},
   "outputs": [
    {
     "data": {
      "text/plain": [
       "False"
      ]
     },
     "execution_count": 14,
     "metadata": {},
     "output_type": "execute_result"
    }
   ],
   "source": [
    "train_TotalNumberOfPapers.isnull().values.any()"
   ]
  },
  {
   "cell_type": "code",
   "execution_count": 15,
   "metadata": {},
   "outputs": [
    {
     "name": "stdout",
     "output_type": "stream",
     "text": [
      "The total length = 17162 and percentage = 83.347093\n"
     ]
    }
   ],
   "source": [
    "print('The total length = %d and percentage = %f'%( len(train_TotalNumberOfPapers_1),(len(train_TotalNumberOfPapers_1)/len(train_TotalNumberOfPapers))*100))"
   ]
  },
  {
   "cell_type": "code",
   "execution_count": 16,
   "metadata": {},
   "outputs": [],
   "source": [
    "# Append the sparse matrix to a dataframe and number of citation for each paper\n",
    "train_dataAuthorAndCitation=pd.DataFrame(train_vectorList)\n",
    "train_dataAuthorCitationAndVenueWeights=train_dataAuthorAndCitation.copy()\n",
    "train_dataAuthorCitationAndVenueWeights['n_citation']=data_numberOfCitation_train"
   ]
  },
  {
   "cell_type": "code",
   "execution_count": 17,
   "metadata": {},
   "outputs": [
    {
     "data": {
      "text/html": [
       "<div>\n",
       "<style scoped>\n",
       "    .dataframe tbody tr th:only-of-type {\n",
       "        vertical-align: middle;\n",
       "    }\n",
       "\n",
       "    .dataframe tbody tr th {\n",
       "        vertical-align: top;\n",
       "    }\n",
       "\n",
       "    .dataframe thead th {\n",
       "        text-align: right;\n",
       "    }\n",
       "</style>\n",
       "<table border=\"1\" class=\"dataframe\">\n",
       "  <thead>\n",
       "    <tr style=\"text-align: right;\">\n",
       "      <th></th>\n",
       "      <th>0</th>\n",
       "      <th>1</th>\n",
       "      <th>2</th>\n",
       "      <th>3</th>\n",
       "      <th>4</th>\n",
       "      <th>5</th>\n",
       "      <th>6</th>\n",
       "      <th>7</th>\n",
       "      <th>8</th>\n",
       "      <th>9</th>\n",
       "      <th>...</th>\n",
       "      <th>20582</th>\n",
       "      <th>20583</th>\n",
       "      <th>20584</th>\n",
       "      <th>20585</th>\n",
       "      <th>20586</th>\n",
       "      <th>20587</th>\n",
       "      <th>20588</th>\n",
       "      <th>20589</th>\n",
       "      <th>20590</th>\n",
       "      <th>n_citation</th>\n",
       "    </tr>\n",
       "  </thead>\n",
       "  <tbody>\n",
       "    <tr>\n",
       "      <th>0</th>\n",
       "      <td>0.0</td>\n",
       "      <td>0.0</td>\n",
       "      <td>0.0</td>\n",
       "      <td>0.0</td>\n",
       "      <td>0.0</td>\n",
       "      <td>0.0</td>\n",
       "      <td>0.0</td>\n",
       "      <td>0.0</td>\n",
       "      <td>0.0</td>\n",
       "      <td>0.0</td>\n",
       "      <td>...</td>\n",
       "      <td>0.0</td>\n",
       "      <td>0.0</td>\n",
       "      <td>0.0</td>\n",
       "      <td>0.0</td>\n",
       "      <td>0.0</td>\n",
       "      <td>0.0</td>\n",
       "      <td>0.0</td>\n",
       "      <td>0.0</td>\n",
       "      <td>0.0</td>\n",
       "      <td>7091</td>\n",
       "    </tr>\n",
       "    <tr>\n",
       "      <th>1</th>\n",
       "      <td>0.0</td>\n",
       "      <td>0.0</td>\n",
       "      <td>0.0</td>\n",
       "      <td>0.0</td>\n",
       "      <td>0.0</td>\n",
       "      <td>0.0</td>\n",
       "      <td>0.0</td>\n",
       "      <td>0.0</td>\n",
       "      <td>0.0</td>\n",
       "      <td>0.0</td>\n",
       "      <td>...</td>\n",
       "      <td>0.0</td>\n",
       "      <td>0.0</td>\n",
       "      <td>0.0</td>\n",
       "      <td>0.0</td>\n",
       "      <td>0.0</td>\n",
       "      <td>0.0</td>\n",
       "      <td>0.0</td>\n",
       "      <td>0.0</td>\n",
       "      <td>0.0</td>\n",
       "      <td>3925</td>\n",
       "    </tr>\n",
       "  </tbody>\n",
       "</table>\n",
       "<p>2 rows × 20592 columns</p>\n",
       "</div>"
      ],
      "text/plain": [
       "     0    1    2    3    4    5    6    7    8    9     ...      20582  20583  \\\n",
       "0  0.0  0.0  0.0  0.0  0.0  0.0  0.0  0.0  0.0  0.0     ...        0.0    0.0   \n",
       "1  0.0  0.0  0.0  0.0  0.0  0.0  0.0  0.0  0.0  0.0     ...        0.0    0.0   \n",
       "\n",
       "   20584  20585  20586  20587  20588  20589  20590  n_citation  \n",
       "0    0.0    0.0    0.0    0.0    0.0    0.0    0.0        7091  \n",
       "1    0.0    0.0    0.0    0.0    0.0    0.0    0.0        3925  \n",
       "\n",
       "[2 rows x 20592 columns]"
      ]
     },
     "execution_count": 17,
     "metadata": {},
     "output_type": "execute_result"
    }
   ],
   "source": [
    "train_dataAuthorCitationAndVenueWeights.head(2)"
   ]
  },
  {
   "cell_type": "code",
   "execution_count": 18,
   "metadata": {},
   "outputs": [],
   "source": [
    "# train_dataAuthorCitationAndVenueWeights.to_csv('../Data/Authors/train_bagOfWordsSparseMatrixOutput.csv')"
   ]
  },
  {
   "cell_type": "code",
   "execution_count": 19,
   "metadata": {},
   "outputs": [],
   "source": [
    "# Correlation of every value for Author to number of Citations for each paper(Do not make any sense)\n",
    "# Takes a long time to compute as there are 9345(Number of papers) and 20591(Number of authors) \n",
    "# train_corr = train_dataAuthorCitationAndVenueWeights.corr()\n",
    "# sns.heatmap(train_corr);\n",
    "# train_corr"
   ]
  },
  {
   "cell_type": "code",
   "execution_count": 20,
   "metadata": {},
   "outputs": [],
   "source": [
    "# train_dataAuthorCitationAndVenueWeights.to_csv('../Data/Authors/train_bagOfWordsSparseMatrixOutput.csv')"
   ]
  },
  {
   "cell_type": "code",
   "execution_count": 21,
   "metadata": {},
   "outputs": [],
   "source": [
    "# Takes a long time to compute as there are 9345(Number of papers) and 20591(Number of authors) \n",
    "# Also does not make any sense\n",
    "# print(train_corr.info())\n",
    "# print(train_corr.mean().mean())"
   ]
  },
  {
   "cell_type": "code",
   "execution_count": 22,
   "metadata": {},
   "outputs": [],
   "source": [
    "# Calculating total number of citation author has during the period \n",
    "# and assigning it to frame train_sumOfCitationForAuthors \n",
    "\n",
    "train_sumOfCitationForAuthors=pd.DataFrame(train_authorInfo.multiply(pd.DataFrame(data_numberOfCitation_train)[\"n_citation\"], axis = 0).sum(axis=0)).rename(index=int, columns={0: \"SumOfCitationCount\"})\n",
    "\n",
    "# Calculating average citation for authors by dividing total number of citations by total number of papers\n",
    "# written by the authors  \n",
    "train_averageCitationForAuthors = pd.DataFrame(train_sumOfCitationForAuthors.div(train_TotalNumberOfPapers['TotalNumberOfPapers'],axis=0)).rename(index=int, columns={0: \"AverageCitationCount\"})\n",
    "\n",
    "# Assigning train_sumOfCitationForAuthors and AverageCitationCount \n",
    "# to the frame train_author_InformationFinal for each authors\n",
    "train_author_InformationFinal=pd.DataFrame(train_TotalNumberOfPapers)\n",
    "train_author_InformationFinal['SumOfCitationCount'] = train_sumOfCitationForAuthors\n",
    "train_author_InformationFinal['AverageCitationCount'] = train_averageCitationForAuthors"
   ]
  },
  {
   "cell_type": "code",
   "execution_count": 23,
   "metadata": {},
   "outputs": [
    {
     "data": {
      "text/html": [
       "<div>\n",
       "<style scoped>\n",
       "    .dataframe tbody tr th:only-of-type {\n",
       "        vertical-align: middle;\n",
       "    }\n",
       "\n",
       "    .dataframe tbody tr th {\n",
       "        vertical-align: top;\n",
       "    }\n",
       "\n",
       "    .dataframe thead th {\n",
       "        text-align: right;\n",
       "    }\n",
       "</style>\n",
       "<table border=\"1\" class=\"dataframe\">\n",
       "  <thead>\n",
       "    <tr style=\"text-align: right;\">\n",
       "      <th></th>\n",
       "      <th>TotalNumberOfPapers</th>\n",
       "      <th>authorList</th>\n",
       "      <th>SumOfCitationCount</th>\n",
       "      <th>AverageCitationCount</th>\n",
       "    </tr>\n",
       "  </thead>\n",
       "  <tbody>\n",
       "    <tr>\n",
       "      <th>0</th>\n",
       "      <td>1.0</td>\n",
       "      <td>aabdallah</td>\n",
       "      <td>0.0</td>\n",
       "      <td>0.0</td>\n",
       "    </tr>\n",
       "    <tr>\n",
       "      <th>1</th>\n",
       "      <td>1.0</td>\n",
       "      <td>aabhasvpaliwal</td>\n",
       "      <td>0.0</td>\n",
       "      <td>0.0</td>\n",
       "    </tr>\n",
       "    <tr>\n",
       "      <th>2</th>\n",
       "      <td>1.0</td>\n",
       "      <td>aadyashukla</td>\n",
       "      <td>0.0</td>\n",
       "      <td>0.0</td>\n",
       "    </tr>\n",
       "  </tbody>\n",
       "</table>\n",
       "</div>"
      ],
      "text/plain": [
       "   TotalNumberOfPapers      authorList  SumOfCitationCount  \\\n",
       "0                  1.0       aabdallah                 0.0   \n",
       "1                  1.0  aabhasvpaliwal                 0.0   \n",
       "2                  1.0     aadyashukla                 0.0   \n",
       "\n",
       "   AverageCitationCount  \n",
       "0                   0.0  \n",
       "1                   0.0  \n",
       "2                   0.0  "
      ]
     },
     "execution_count": 23,
     "metadata": {},
     "output_type": "execute_result"
    }
   ],
   "source": [
    "# First 1st 3 rows of train_author_InformationFinal\n",
    "train_author_InformationFinal.head(3)"
   ]
  },
  {
   "cell_type": "code",
   "execution_count": 24,
   "metadata": {},
   "outputs": [
    {
     "data": {
      "text/html": [
       "<div>\n",
       "<style scoped>\n",
       "    .dataframe tbody tr th:only-of-type {\n",
       "        vertical-align: middle;\n",
       "    }\n",
       "\n",
       "    .dataframe tbody tr th {\n",
       "        vertical-align: top;\n",
       "    }\n",
       "\n",
       "    .dataframe thead th {\n",
       "        text-align: right;\n",
       "    }\n",
       "</style>\n",
       "<table border=\"1\" class=\"dataframe\">\n",
       "  <thead>\n",
       "    <tr style=\"text-align: right;\">\n",
       "      <th></th>\n",
       "      <th>TotalNumberOfPapers</th>\n",
       "      <th>authorList</th>\n",
       "      <th>SumOfCitationCount</th>\n",
       "      <th>AverageCitationCount</th>\n",
       "    </tr>\n",
       "  </thead>\n",
       "  <tbody>\n",
       "    <tr>\n",
       "      <th>20581</th>\n",
       "      <td>1.0</td>\n",
       "      <td>øyvindryan</td>\n",
       "      <td>0.0</td>\n",
       "      <td>0.0</td>\n",
       "    </tr>\n",
       "    <tr>\n",
       "      <th>20582</th>\n",
       "      <td>1.0</td>\n",
       "      <td>úlfarerlingsson</td>\n",
       "      <td>0.0</td>\n",
       "      <td>0.0</td>\n",
       "    </tr>\n",
       "    <tr>\n",
       "      <th>20583</th>\n",
       "      <td>1.0</td>\n",
       "      <td>ünalufuktepe</td>\n",
       "      <td>0.0</td>\n",
       "      <td>0.0</td>\n",
       "    </tr>\n",
       "    <tr>\n",
       "      <th>20584</th>\n",
       "      <td>1.0</td>\n",
       "      <td>łukaszmikulski</td>\n",
       "      <td>0.0</td>\n",
       "      <td>0.0</td>\n",
       "    </tr>\n",
       "    <tr>\n",
       "      <th>20585</th>\n",
       "      <td>1.0</td>\n",
       "      <td>佐千男廣川</td>\n",
       "      <td>0.0</td>\n",
       "      <td>0.0</td>\n",
       "    </tr>\n",
       "    <tr>\n",
       "      <th>20586</th>\n",
       "      <td>1.0</td>\n",
       "      <td>弘士井上</td>\n",
       "      <td>0.0</td>\n",
       "      <td>0.0</td>\n",
       "    </tr>\n",
       "    <tr>\n",
       "      <th>20587</th>\n",
       "      <td>1.0</td>\n",
       "      <td>泰寛山田</td>\n",
       "      <td>0.0</td>\n",
       "      <td>0.0</td>\n",
       "    </tr>\n",
       "    <tr>\n",
       "      <th>20588</th>\n",
       "      <td>1.0</td>\n",
       "      <td>王佳文</td>\n",
       "      <td>0.0</td>\n",
       "      <td>0.0</td>\n",
       "    </tr>\n",
       "    <tr>\n",
       "      <th>20589</th>\n",
       "      <td>1.0</td>\n",
       "      <td>金堀利洋</td>\n",
       "      <td>0.0</td>\n",
       "      <td>0.0</td>\n",
       "    </tr>\n",
       "    <tr>\n",
       "      <th>20590</th>\n",
       "      <td>1.0</td>\n",
       "      <td>鈴木昌和</td>\n",
       "      <td>0.0</td>\n",
       "      <td>0.0</td>\n",
       "    </tr>\n",
       "  </tbody>\n",
       "</table>\n",
       "</div>"
      ],
      "text/plain": [
       "       TotalNumberOfPapers       authorList  SumOfCitationCount  \\\n",
       "20581                  1.0       øyvindryan                 0.0   \n",
       "20582                  1.0  úlfarerlingsson                 0.0   \n",
       "20583                  1.0     ünalufuktepe                 0.0   \n",
       "20584                  1.0   łukaszmikulski                 0.0   \n",
       "20585                  1.0            佐千男廣川                 0.0   \n",
       "20586                  1.0             弘士井上                 0.0   \n",
       "20587                  1.0             泰寛山田                 0.0   \n",
       "20588                  1.0              王佳文                 0.0   \n",
       "20589                  1.0             金堀利洋                 0.0   \n",
       "20590                  1.0             鈴木昌和                 0.0   \n",
       "\n",
       "       AverageCitationCount  \n",
       "20581                   0.0  \n",
       "20582                   0.0  \n",
       "20583                   0.0  \n",
       "20584                   0.0  \n",
       "20585                   0.0  \n",
       "20586                   0.0  \n",
       "20587                   0.0  \n",
       "20588                   0.0  \n",
       "20589                   0.0  \n",
       "20590                   0.0  "
      ]
     },
     "execution_count": 24,
     "metadata": {},
     "output_type": "execute_result"
    }
   ],
   "source": [
    "# Last 10 rows of train_author_InformationFinal\n",
    "train_author_InformationFinal.tail(10)"
   ]
  },
  {
   "cell_type": "code",
   "execution_count": 25,
   "metadata": {},
   "outputs": [],
   "source": [
    "# Creating the duplicate frame train_author_InformationDup from train_author_InformationFinal\n",
    "# Dropping SumOfCitationCount and TotalNumberOfPapers column from the frame\n",
    "train_author_InformationDup=pd.DataFrame(train_author_InformationFinal)\n",
    "train_author_InformationDup.drop(['SumOfCitationCount'], axis=1,inplace=True)\n",
    "train_author_InformationDup.drop(['TotalNumberOfPapers'], axis=1,inplace=True)"
   ]
  },
  {
   "cell_type": "code",
   "execution_count": 26,
   "metadata": {},
   "outputs": [
    {
     "data": {
      "text/html": [
       "<div>\n",
       "<style scoped>\n",
       "    .dataframe tbody tr th:only-of-type {\n",
       "        vertical-align: middle;\n",
       "    }\n",
       "\n",
       "    .dataframe tbody tr th {\n",
       "        vertical-align: top;\n",
       "    }\n",
       "\n",
       "    .dataframe thead th {\n",
       "        text-align: right;\n",
       "    }\n",
       "</style>\n",
       "<table border=\"1\" class=\"dataframe\">\n",
       "  <thead>\n",
       "    <tr style=\"text-align: right;\">\n",
       "      <th></th>\n",
       "      <th>authorList</th>\n",
       "      <th>AverageCitationCount</th>\n",
       "    </tr>\n",
       "  </thead>\n",
       "  <tbody>\n",
       "    <tr>\n",
       "      <th>0</th>\n",
       "      <td>aabdallah</td>\n",
       "      <td>0.0</td>\n",
       "    </tr>\n",
       "    <tr>\n",
       "      <th>1</th>\n",
       "      <td>aabhasvpaliwal</td>\n",
       "      <td>0.0</td>\n",
       "    </tr>\n",
       "    <tr>\n",
       "      <th>2</th>\n",
       "      <td>aadyashukla</td>\n",
       "      <td>0.0</td>\n",
       "    </tr>\n",
       "    <tr>\n",
       "      <th>3</th>\n",
       "      <td>aagrequicha</td>\n",
       "      <td>50.0</td>\n",
       "    </tr>\n",
       "  </tbody>\n",
       "</table>\n",
       "</div>"
      ],
      "text/plain": [
       "       authorList  AverageCitationCount\n",
       "0       aabdallah                   0.0\n",
       "1  aabhasvpaliwal                   0.0\n",
       "2     aadyashukla                   0.0\n",
       "3     aagrequicha                  50.0"
      ]
     },
     "execution_count": 26,
     "metadata": {},
     "output_type": "execute_result"
    }
   ],
   "source": [
    "# First 4 rows for train_author_InformationDup\n",
    "train_author_InformationDup.head(4)"
   ]
  },
  {
   "cell_type": "code",
   "execution_count": 27,
   "metadata": {},
   "outputs": [
    {
     "data": {
      "text/html": [
       "<div>\n",
       "<style scoped>\n",
       "    .dataframe tbody tr th:only-of-type {\n",
       "        vertical-align: middle;\n",
       "    }\n",
       "\n",
       "    .dataframe tbody tr th {\n",
       "        vertical-align: top;\n",
       "    }\n",
       "\n",
       "    .dataframe thead th {\n",
       "        text-align: right;\n",
       "    }\n",
       "</style>\n",
       "<table border=\"1\" class=\"dataframe\">\n",
       "  <thead>\n",
       "    <tr style=\"text-align: right;\">\n",
       "      <th></th>\n",
       "      <th>authorList</th>\n",
       "      <th>AverageCitationCount</th>\n",
       "    </tr>\n",
       "  </thead>\n",
       "  <tbody>\n",
       "    <tr>\n",
       "      <th>0</th>\n",
       "      <td>aabdallah</td>\n",
       "      <td>0.0</td>\n",
       "    </tr>\n",
       "    <tr>\n",
       "      <th>1</th>\n",
       "      <td>aabhasvpaliwal</td>\n",
       "      <td>0.0</td>\n",
       "    </tr>\n",
       "    <tr>\n",
       "      <th>2</th>\n",
       "      <td>aadyashukla</td>\n",
       "      <td>0.0</td>\n",
       "    </tr>\n",
       "    <tr>\n",
       "      <th>3</th>\n",
       "      <td>aagrequicha</td>\n",
       "      <td>50.0</td>\n",
       "    </tr>\n",
       "    <tr>\n",
       "      <th>4</th>\n",
       "      <td>aalique</td>\n",
       "      <td>0.0</td>\n",
       "    </tr>\n",
       "    <tr>\n",
       "      <th>5</th>\n",
       "      <td>aamalykh</td>\n",
       "      <td>0.0</td>\n",
       "    </tr>\n",
       "    <tr>\n",
       "      <th>6</th>\n",
       "      <td>aapohyvärinen</td>\n",
       "      <td>0.0</td>\n",
       "    </tr>\n",
       "    <tr>\n",
       "      <th>7</th>\n",
       "      <td>aapost</td>\n",
       "      <td>71.0</td>\n",
       "    </tr>\n",
       "    <tr>\n",
       "      <th>8</th>\n",
       "      <td>aaramyun</td>\n",
       "      <td>0.0</td>\n",
       "    </tr>\n",
       "    <tr>\n",
       "      <th>9</th>\n",
       "      <td>aaronarcher</td>\n",
       "      <td>0.0</td>\n",
       "    </tr>\n",
       "  </tbody>\n",
       "</table>\n",
       "</div>"
      ],
      "text/plain": [
       "       authorList  AverageCitationCount\n",
       "0       aabdallah                   0.0\n",
       "1  aabhasvpaliwal                   0.0\n",
       "2     aadyashukla                   0.0\n",
       "3     aagrequicha                  50.0\n",
       "4         aalique                   0.0\n",
       "5        aamalykh                   0.0\n",
       "6   aapohyvärinen                   0.0\n",
       "7          aapost                  71.0\n",
       "8        aaramyun                   0.0\n",
       "9     aaronarcher                   0.0"
      ]
     },
     "execution_count": 27,
     "metadata": {},
     "output_type": "execute_result"
    }
   ],
   "source": [
    "# First 10 rows for train_author_InformationDup\n",
    "train_author_InformationDup.head(10)"
   ]
  },
  {
   "cell_type": "code",
   "execution_count": 28,
   "metadata": {},
   "outputs": [
    {
     "data": {
      "text/html": [
       "<div>\n",
       "<style scoped>\n",
       "    .dataframe tbody tr th:only-of-type {\n",
       "        vertical-align: middle;\n",
       "    }\n",
       "\n",
       "    .dataframe tbody tr th {\n",
       "        vertical-align: top;\n",
       "    }\n",
       "\n",
       "    .dataframe thead th {\n",
       "        text-align: right;\n",
       "    }\n",
       "</style>\n",
       "<table border=\"1\" class=\"dataframe\">\n",
       "  <thead>\n",
       "    <tr style=\"text-align: right;\">\n",
       "      <th></th>\n",
       "      <th>authorList</th>\n",
       "      <th>AverageCitationCount</th>\n",
       "    </tr>\n",
       "  </thead>\n",
       "  <tbody>\n",
       "    <tr>\n",
       "      <th>20588</th>\n",
       "      <td>王佳文</td>\n",
       "      <td>0.0</td>\n",
       "    </tr>\n",
       "    <tr>\n",
       "      <th>20589</th>\n",
       "      <td>金堀利洋</td>\n",
       "      <td>0.0</td>\n",
       "    </tr>\n",
       "    <tr>\n",
       "      <th>20590</th>\n",
       "      <td>鈴木昌和</td>\n",
       "      <td>0.0</td>\n",
       "    </tr>\n",
       "  </tbody>\n",
       "</table>\n",
       "</div>"
      ],
      "text/plain": [
       "      authorList  AverageCitationCount\n",
       "20588        王佳文                   0.0\n",
       "20589       金堀利洋                   0.0\n",
       "20590       鈴木昌和                   0.0"
      ]
     },
     "execution_count": 28,
     "metadata": {},
     "output_type": "execute_result"
    }
   ],
   "source": [
    "# Last 3 rows of train_author_InformationDup\n",
    "train_author_InformationDup.tail(3)"
   ]
  },
  {
   "cell_type": "code",
   "execution_count": 29,
   "metadata": {},
   "outputs": [
    {
     "data": {
      "text/html": [
       "<div>\n",
       "<style scoped>\n",
       "    .dataframe tbody tr th:only-of-type {\n",
       "        vertical-align: middle;\n",
       "    }\n",
       "\n",
       "    .dataframe tbody tr th {\n",
       "        vertical-align: top;\n",
       "    }\n",
       "\n",
       "    .dataframe thead th {\n",
       "        text-align: right;\n",
       "    }\n",
       "</style>\n",
       "<table border=\"1\" class=\"dataframe\">\n",
       "  <thead>\n",
       "    <tr style=\"text-align: right;\">\n",
       "      <th></th>\n",
       "      <th>AverageCitationCount</th>\n",
       "    </tr>\n",
       "  </thead>\n",
       "  <tbody>\n",
       "    <tr>\n",
       "      <th>count</th>\n",
       "      <td>20591.000000</td>\n",
       "    </tr>\n",
       "    <tr>\n",
       "      <th>mean</th>\n",
       "      <td>28.419493</td>\n",
       "    </tr>\n",
       "    <tr>\n",
       "      <th>std</th>\n",
       "      <td>134.925981</td>\n",
       "    </tr>\n",
       "    <tr>\n",
       "      <th>min</th>\n",
       "      <td>0.000000</td>\n",
       "    </tr>\n",
       "    <tr>\n",
       "      <th>25%</th>\n",
       "      <td>0.000000</td>\n",
       "    </tr>\n",
       "    <tr>\n",
       "      <th>50%</th>\n",
       "      <td>0.000000</td>\n",
       "    </tr>\n",
       "    <tr>\n",
       "      <th>75%</th>\n",
       "      <td>50.000000</td>\n",
       "    </tr>\n",
       "    <tr>\n",
       "      <th>max</th>\n",
       "      <td>7091.000000</td>\n",
       "    </tr>\n",
       "  </tbody>\n",
       "</table>\n",
       "</div>"
      ],
      "text/plain": [
       "       AverageCitationCount\n",
       "count          20591.000000\n",
       "mean              28.419493\n",
       "std              134.925981\n",
       "min                0.000000\n",
       "25%                0.000000\n",
       "50%                0.000000\n",
       "75%               50.000000\n",
       "max             7091.000000"
      ]
     },
     "execution_count": 29,
     "metadata": {},
     "output_type": "execute_result"
    }
   ],
   "source": [
    "# Description of train_author_InformationDup \n",
    "train_author_InformationDup.describe()"
   ]
  },
  {
   "cell_type": "code",
   "execution_count": 30,
   "metadata": {},
   "outputs": [
    {
     "name": "stdout",
     "output_type": "stream",
     "text": [
      "<class 'pandas.core.frame.DataFrame'>\n",
      "Int64Index: 20591 entries, 0 to 20590\n",
      "Data columns (total 2 columns):\n",
      "authorList              20591 non-null object\n",
      "AverageCitationCount    20591 non-null float64\n",
      "dtypes: float64(1), object(1)\n",
      "memory usage: 482.6+ KB\n"
     ]
    }
   ],
   "source": [
    "# train_author_InformationDup statistics\n",
    "train_author_InformationDup.info()"
   ]
  },
  {
   "cell_type": "code",
   "execution_count": 31,
   "metadata": {},
   "outputs": [],
   "source": [
    "# Initial Trial based on the paper and later upgraded it\n",
    "# Assigning ranking weights to authors based on the original order using left join\n",
    "# train_data_authorPapers= pd.DataFrame(pd.merge(train_author_InformationFinal, train_author_InformationDup, on='authorList',how='left'))         \n",
    "\n",
    "# Removing duplicates column formed during join operation\n",
    "# train_data_authorPapers.drop(['AverageCitationCount_x','AverageCitationCount_y'],axis=1,inplace=True)"
   ]
  },
  {
   "cell_type": "code",
   "execution_count": 32,
   "metadata": {},
   "outputs": [],
   "source": [
    "# Copy of train_author_InformationDup\n",
    "train_data_authorPapers=train_author_InformationDup.copy()"
   ]
  },
  {
   "cell_type": "code",
   "execution_count": 33,
   "metadata": {},
   "outputs": [
    {
     "data": {
      "text/html": [
       "<div>\n",
       "<style scoped>\n",
       "    .dataframe tbody tr th:only-of-type {\n",
       "        vertical-align: middle;\n",
       "    }\n",
       "\n",
       "    .dataframe tbody tr th {\n",
       "        vertical-align: top;\n",
       "    }\n",
       "\n",
       "    .dataframe thead th {\n",
       "        text-align: right;\n",
       "    }\n",
       "</style>\n",
       "<table border=\"1\" class=\"dataframe\">\n",
       "  <thead>\n",
       "    <tr style=\"text-align: right;\">\n",
       "      <th></th>\n",
       "      <th>authorList</th>\n",
       "      <th>AverageCitationCount</th>\n",
       "    </tr>\n",
       "  </thead>\n",
       "  <tbody>\n",
       "    <tr>\n",
       "      <th>0</th>\n",
       "      <td>aabdallah</td>\n",
       "      <td>0.0</td>\n",
       "    </tr>\n",
       "    <tr>\n",
       "      <th>1</th>\n",
       "      <td>aabhasvpaliwal</td>\n",
       "      <td>0.0</td>\n",
       "    </tr>\n",
       "    <tr>\n",
       "      <th>2</th>\n",
       "      <td>aadyashukla</td>\n",
       "      <td>0.0</td>\n",
       "    </tr>\n",
       "    <tr>\n",
       "      <th>3</th>\n",
       "      <td>aagrequicha</td>\n",
       "      <td>50.0</td>\n",
       "    </tr>\n",
       "  </tbody>\n",
       "</table>\n",
       "</div>"
      ],
      "text/plain": [
       "       authorList  AverageCitationCount\n",
       "0       aabdallah                   0.0\n",
       "1  aabhasvpaliwal                   0.0\n",
       "2     aadyashukla                   0.0\n",
       "3     aagrequicha                  50.0"
      ]
     },
     "execution_count": 33,
     "metadata": {},
     "output_type": "execute_result"
    }
   ],
   "source": [
    "# First 4 rows of train_data_authorPapers\n",
    "train_data_authorPapers.head(4)"
   ]
  },
  {
   "cell_type": "code",
   "execution_count": 34,
   "metadata": {},
   "outputs": [],
   "source": [
    "# Copy frame to another train_authorInfo\n",
    "train_authorInfoNew=train_authorInfo.copy()\n",
    "\n",
    "# Transposing the AverageCitationCount feature from column to a single row\n",
    "# so that the cumulating Ranking weight ['CumulativeAuthorCitationCount'] can be found out\n",
    "# And adding column TotalNumberOfAuthors for the paper to the same frame\n",
    "\n",
    "train_authorAverageCitationCount=pd.DataFrame((train_data_authorPapers)[\"AverageCitationCount\"]).T\n",
    "train_authorInfoNew['CumulativeAuthorCitationCount']=pd.DataFrame(train_authorInfo.iloc[:,range(0,len(train_authorInfo.columns))].values*train_authorAverageCitationCount.iloc[:,range(0,len(train_authorAverageCitationCount.columns))].values).sum(axis=1)\n",
    "train_authorInfoNew['TotalNumberOfAuthors']=pd.DataFrame(train_authorInfo.sum(axis=1))"
   ]
  },
  {
   "cell_type": "code",
   "execution_count": 35,
   "metadata": {},
   "outputs": [
    {
     "data": {
      "text/html": [
       "<div>\n",
       "<style scoped>\n",
       "    .dataframe tbody tr th:only-of-type {\n",
       "        vertical-align: middle;\n",
       "    }\n",
       "\n",
       "    .dataframe tbody tr th {\n",
       "        vertical-align: top;\n",
       "    }\n",
       "\n",
       "    .dataframe thead th {\n",
       "        text-align: right;\n",
       "    }\n",
       "</style>\n",
       "<table border=\"1\" class=\"dataframe\">\n",
       "  <thead>\n",
       "    <tr style=\"text-align: right;\">\n",
       "      <th></th>\n",
       "      <th>0</th>\n",
       "      <th>1</th>\n",
       "      <th>2</th>\n",
       "      <th>3</th>\n",
       "      <th>4</th>\n",
       "      <th>5</th>\n",
       "      <th>6</th>\n",
       "      <th>7</th>\n",
       "      <th>8</th>\n",
       "      <th>9</th>\n",
       "      <th>...</th>\n",
       "      <th>20583</th>\n",
       "      <th>20584</th>\n",
       "      <th>20585</th>\n",
       "      <th>20586</th>\n",
       "      <th>20587</th>\n",
       "      <th>20588</th>\n",
       "      <th>20589</th>\n",
       "      <th>20590</th>\n",
       "      <th>CumulativeAuthorCitationCount</th>\n",
       "      <th>TotalNumberOfAuthors</th>\n",
       "    </tr>\n",
       "  </thead>\n",
       "  <tbody>\n",
       "    <tr>\n",
       "      <th>0</th>\n",
       "      <td>0.0</td>\n",
       "      <td>0.0</td>\n",
       "      <td>0.0</td>\n",
       "      <td>0.0</td>\n",
       "      <td>0.0</td>\n",
       "      <td>0.0</td>\n",
       "      <td>0.0</td>\n",
       "      <td>0.0</td>\n",
       "      <td>0.0</td>\n",
       "      <td>0.0</td>\n",
       "      <td>...</td>\n",
       "      <td>0.0</td>\n",
       "      <td>0.0</td>\n",
       "      <td>0.0</td>\n",
       "      <td>0.0</td>\n",
       "      <td>0.0</td>\n",
       "      <td>0.0</td>\n",
       "      <td>0.0</td>\n",
       "      <td>0.0</td>\n",
       "      <td>21273.0</td>\n",
       "      <td>3.0</td>\n",
       "    </tr>\n",
       "    <tr>\n",
       "      <th>1</th>\n",
       "      <td>0.0</td>\n",
       "      <td>0.0</td>\n",
       "      <td>0.0</td>\n",
       "      <td>0.0</td>\n",
       "      <td>0.0</td>\n",
       "      <td>0.0</td>\n",
       "      <td>0.0</td>\n",
       "      <td>0.0</td>\n",
       "      <td>0.0</td>\n",
       "      <td>0.0</td>\n",
       "      <td>...</td>\n",
       "      <td>0.0</td>\n",
       "      <td>0.0</td>\n",
       "      <td>0.0</td>\n",
       "      <td>0.0</td>\n",
       "      <td>0.0</td>\n",
       "      <td>0.0</td>\n",
       "      <td>0.0</td>\n",
       "      <td>0.0</td>\n",
       "      <td>11775.0</td>\n",
       "      <td>3.0</td>\n",
       "    </tr>\n",
       "    <tr>\n",
       "      <th>2</th>\n",
       "      <td>0.0</td>\n",
       "      <td>0.0</td>\n",
       "      <td>0.0</td>\n",
       "      <td>0.0</td>\n",
       "      <td>0.0</td>\n",
       "      <td>0.0</td>\n",
       "      <td>0.0</td>\n",
       "      <td>0.0</td>\n",
       "      <td>0.0</td>\n",
       "      <td>0.0</td>\n",
       "      <td>...</td>\n",
       "      <td>0.0</td>\n",
       "      <td>0.0</td>\n",
       "      <td>0.0</td>\n",
       "      <td>0.0</td>\n",
       "      <td>0.0</td>\n",
       "      <td>0.0</td>\n",
       "      <td>0.0</td>\n",
       "      <td>0.0</td>\n",
       "      <td>14955.0</td>\n",
       "      <td>5.0</td>\n",
       "    </tr>\n",
       "  </tbody>\n",
       "</table>\n",
       "<p>3 rows × 20593 columns</p>\n",
       "</div>"
      ],
      "text/plain": [
       "     0    1    2    3    4    5    6    7    8    9          ...           \\\n",
       "0  0.0  0.0  0.0  0.0  0.0  0.0  0.0  0.0  0.0  0.0          ...            \n",
       "1  0.0  0.0  0.0  0.0  0.0  0.0  0.0  0.0  0.0  0.0          ...            \n",
       "2  0.0  0.0  0.0  0.0  0.0  0.0  0.0  0.0  0.0  0.0          ...            \n",
       "\n",
       "   20583  20584  20585  20586  20587  20588  20589  20590  \\\n",
       "0    0.0    0.0    0.0    0.0    0.0    0.0    0.0    0.0   \n",
       "1    0.0    0.0    0.0    0.0    0.0    0.0    0.0    0.0   \n",
       "2    0.0    0.0    0.0    0.0    0.0    0.0    0.0    0.0   \n",
       "\n",
       "   CumulativeAuthorCitationCount  TotalNumberOfAuthors  \n",
       "0                        21273.0                   3.0  \n",
       "1                        11775.0                   3.0  \n",
       "2                        14955.0                   5.0  \n",
       "\n",
       "[3 rows x 20593 columns]"
      ]
     },
     "execution_count": 35,
     "metadata": {},
     "output_type": "execute_result"
    }
   ],
   "source": [
    "# First 3 rows of train_authorInfoNew\n",
    "train_authorInfoNew.head(3)"
   ]
  },
  {
   "cell_type": "code",
   "execution_count": 36,
   "metadata": {},
   "outputs": [],
   "source": [
    "# Dropping the numbered indexes related to Authors and \n",
    "# adding a new column/Feature called AverageCumulativeAuthorCitationCount (AcCc) \n",
    "# found by dividing CumulativeAuthorCitationCount by TotalNumberOfAuthors for each paper\n",
    "\n",
    "train_authorInfoNewCopy=train_authorInfoNew.copy()\n",
    "train_authorInfoNewCopy.drop(range(0,len(train_authorInfoNewCopy.columns)-2),axis=1,inplace=True)\n",
    "train_authorInfoNewCopy['AverageCumulativeAuthorCitationCount']=pd.DataFrame(train_authorInfoNewCopy['CumulativeAuthorCitationCount'].div(train_authorInfoNewCopy[\"TotalNumberOfAuthors\"], axis = 0)).rename(index=int, columns={0: \"AverageCumulativeAuthorCitationCount\"})['AverageCumulativeAuthorCitationCount']"
   ]
  },
  {
   "cell_type": "code",
   "execution_count": 37,
   "metadata": {},
   "outputs": [
    {
     "data": {
      "text/html": [
       "<div>\n",
       "<style scoped>\n",
       "    .dataframe tbody tr th:only-of-type {\n",
       "        vertical-align: middle;\n",
       "    }\n",
       "\n",
       "    .dataframe tbody tr th {\n",
       "        vertical-align: top;\n",
       "    }\n",
       "\n",
       "    .dataframe thead th {\n",
       "        text-align: right;\n",
       "    }\n",
       "</style>\n",
       "<table border=\"1\" class=\"dataframe\">\n",
       "  <thead>\n",
       "    <tr style=\"text-align: right;\">\n",
       "      <th></th>\n",
       "      <th>CumulativeAuthorCitationCount</th>\n",
       "      <th>TotalNumberOfAuthors</th>\n",
       "      <th>AverageCumulativeAuthorCitationCount</th>\n",
       "    </tr>\n",
       "  </thead>\n",
       "  <tbody>\n",
       "    <tr>\n",
       "      <th>0</th>\n",
       "      <td>21273.0</td>\n",
       "      <td>3.0</td>\n",
       "      <td>7091.0</td>\n",
       "    </tr>\n",
       "    <tr>\n",
       "      <th>1</th>\n",
       "      <td>11775.0</td>\n",
       "      <td>3.0</td>\n",
       "      <td>3925.0</td>\n",
       "    </tr>\n",
       "    <tr>\n",
       "      <th>2</th>\n",
       "      <td>14955.0</td>\n",
       "      <td>5.0</td>\n",
       "      <td>2991.0</td>\n",
       "    </tr>\n",
       "  </tbody>\n",
       "</table>\n",
       "</div>"
      ],
      "text/plain": [
       "   CumulativeAuthorCitationCount  TotalNumberOfAuthors  \\\n",
       "0                        21273.0                   3.0   \n",
       "1                        11775.0                   3.0   \n",
       "2                        14955.0                   5.0   \n",
       "\n",
       "   AverageCumulativeAuthorCitationCount  \n",
       "0                                7091.0  \n",
       "1                                3925.0  \n",
       "2                                2991.0  "
      ]
     },
     "execution_count": 37,
     "metadata": {},
     "output_type": "execute_result"
    }
   ],
   "source": [
    "# First 3 rows of train_authorInfoNewCopy\n",
    "train_authorInfoNewCopy.head(3)"
   ]
  },
  {
   "cell_type": "code",
   "execution_count": 38,
   "metadata": {},
   "outputs": [],
   "source": [
    "# Assigning columns id and n_citation to train_authorInfoNewCopy\n",
    "train_authorInfoNewCopy['n_citation']=data_numberOfCitation_train\n",
    "train_authorInfoNewCopy['id']=data_id_train"
   ]
  },
  {
   "cell_type": "code",
   "execution_count": 39,
   "metadata": {},
   "outputs": [
    {
     "name": "stdout",
     "output_type": "stream",
     "text": [
      "   CumulativeAuthorCitationCount  TotalNumberOfAuthors  \\\n",
      "0                        21273.0                   3.0   \n",
      "1                        11775.0                   3.0   \n",
      "2                        14955.0                   5.0   \n",
      "\n",
      "   AverageCumulativeAuthorCitationCount  n_citation  \\\n",
      "0                                7091.0        7091   \n",
      "1                                3925.0        3925   \n",
      "2                                2991.0        3515   \n",
      "\n",
      "                                     id  \n",
      "0  033ebb72-0119-4cc9-89b8-f011c55ddd79  \n",
      "1  8dd4158a-bbc4-40cf-a4d5-14e0fe630387  \n",
      "2  abad0cf5-6b84-4c40-91a2-f6ca3ad7fbc1  \n"
     ]
    }
   ],
   "source": [
    "# First 3 rows of train_authorInfoNewCopy\n",
    "print(train_authorInfoNewCopy.head(3))"
   ]
  },
  {
   "cell_type": "markdown",
   "metadata": {},
   "source": [
    "### Correlation - AverageCumulativeAuthorCitationCount(AcCc) vs n_citation  "
   ]
  },
  {
   "cell_type": "code",
   "execution_count": 40,
   "metadata": {
    "scrolled": true
   },
   "outputs": [
    {
     "data": {
      "text/html": [
       "<div>\n",
       "<style scoped>\n",
       "    .dataframe tbody tr th:only-of-type {\n",
       "        vertical-align: middle;\n",
       "    }\n",
       "\n",
       "    .dataframe tbody tr th {\n",
       "        vertical-align: top;\n",
       "    }\n",
       "\n",
       "    .dataframe thead th {\n",
       "        text-align: right;\n",
       "    }\n",
       "</style>\n",
       "<table border=\"1\" class=\"dataframe\">\n",
       "  <thead>\n",
       "    <tr style=\"text-align: right;\">\n",
       "      <th></th>\n",
       "      <th>CumulativeAuthorCitationCount</th>\n",
       "      <th>TotalNumberOfAuthors</th>\n",
       "      <th>AverageCumulativeAuthorCitationCount</th>\n",
       "      <th>n_citation</th>\n",
       "    </tr>\n",
       "  </thead>\n",
       "  <tbody>\n",
       "    <tr>\n",
       "      <th>CumulativeAuthorCitationCount</th>\n",
       "      <td>1.000000</td>\n",
       "      <td>0.106979</td>\n",
       "      <td>0.900799</td>\n",
       "      <td>0.866391</td>\n",
       "    </tr>\n",
       "    <tr>\n",
       "      <th>TotalNumberOfAuthors</th>\n",
       "      <td>0.106979</td>\n",
       "      <td>1.000000</td>\n",
       "      <td>-0.019817</td>\n",
       "      <td>-0.017709</td>\n",
       "    </tr>\n",
       "    <tr>\n",
       "      <th>AverageCumulativeAuthorCitationCount</th>\n",
       "      <td>0.900799</td>\n",
       "      <td>-0.019817</td>\n",
       "      <td>1.000000</td>\n",
       "      <td>0.954561</td>\n",
       "    </tr>\n",
       "    <tr>\n",
       "      <th>n_citation</th>\n",
       "      <td>0.866391</td>\n",
       "      <td>-0.017709</td>\n",
       "      <td>0.954561</td>\n",
       "      <td>1.000000</td>\n",
       "    </tr>\n",
       "  </tbody>\n",
       "</table>\n",
       "</div>"
      ],
      "text/plain": [
       "                                      CumulativeAuthorCitationCount  \\\n",
       "CumulativeAuthorCitationCount                              1.000000   \n",
       "TotalNumberOfAuthors                                       0.106979   \n",
       "AverageCumulativeAuthorCitationCount                       0.900799   \n",
       "n_citation                                                 0.866391   \n",
       "\n",
       "                                      TotalNumberOfAuthors  \\\n",
       "CumulativeAuthorCitationCount                     0.106979   \n",
       "TotalNumberOfAuthors                              1.000000   \n",
       "AverageCumulativeAuthorCitationCount             -0.019817   \n",
       "n_citation                                       -0.017709   \n",
       "\n",
       "                                      AverageCumulativeAuthorCitationCount  \\\n",
       "CumulativeAuthorCitationCount                                     0.900799   \n",
       "TotalNumberOfAuthors                                             -0.019817   \n",
       "AverageCumulativeAuthorCitationCount                              1.000000   \n",
       "n_citation                                                        0.954561   \n",
       "\n",
       "                                      n_citation  \n",
       "CumulativeAuthorCitationCount           0.866391  \n",
       "TotalNumberOfAuthors                   -0.017709  \n",
       "AverageCumulativeAuthorCitationCount    0.954561  \n",
       "n_citation                              1.000000  "
      ]
     },
     "execution_count": 40,
     "metadata": {},
     "output_type": "execute_result"
    },
    {
     "data": {
      "image/png": "[encoded data removed]",
      "text/plain": [
       "<Figure size 432x288 with 2 Axes>"
      ]
     },
     "metadata": {
      "needs_background": "light"
     },
     "output_type": "display_data"
    }
   ],
   "source": [
    "# Correlation Heat Map \n",
    "# Correlation between AverageCumulativeAuthorCitationCount(AcCc) and n_citation found to be 0.954561\n",
    "corr = train_authorInfoNewCopy.corr()\n",
    "sns.heatmap(corr);\n",
    "corr"
   ]
  },
  {
   "cell_type": "code",
   "execution_count": 41,
   "metadata": {},
   "outputs": [
    {
     "name": "stdout",
     "output_type": "stream",
     "text": [
      "<class 'pandas.core.frame.DataFrame'>\n",
      "RangeIndex: 9345 entries, 0 to 9344\n",
      "Data columns (total 5 columns):\n",
      "CumulativeAuthorCitationCount           9345 non-null float64\n",
      "TotalNumberOfAuthors                    9345 non-null float64\n",
      "AverageCumulativeAuthorCitationCount    9345 non-null float64\n",
      "n_citation                              9345 non-null int64\n",
      "id                                      9345 non-null object\n",
      "dtypes: float64(3), int64(1), object(1)\n",
      "memory usage: 365.1+ KB\n"
     ]
    }
   ],
   "source": [
    "# Information about train_authorInfoNewCopy\n",
    "train_authorInfoNewCopy.info()"
   ]
  },
  {
   "cell_type": "code",
   "execution_count": 42,
   "metadata": {},
   "outputs": [],
   "source": [
    "# Drop the columns n_citation,CumulativeAuthorCitationCount,TotalNumberOfAuthors\n",
    "train_authorInfoNewCopy.drop(['n_citation','CumulativeAuthorCitationCount','TotalNumberOfAuthors'],axis=1,inplace=True)"
   ]
  },
  {
   "cell_type": "markdown",
   "metadata": {},
   "source": [
    "# Training - Age Feature"
   ]
  },
  {
   "cell_type": "code",
   "execution_count": 43,
   "metadata": {},
   "outputs": [],
   "source": [
    "# Created a new feature called age. \n",
    "# age = \"Aminer citation data released\" - \"paper published year\"\n",
    "# Release date of Aminer version 10 dataset is 2018.\n",
    "train = data_train\n",
    "train['age'] = 2018 - train.year"
   ]
  },
  {
   "cell_type": "markdown",
   "metadata": {},
   "source": [
    "# Training - Average Venue Citation Feature"
   ]
  },
  {
   "cell_type": "code",
   "execution_count": 44,
   "metadata": {},
   "outputs": [],
   "source": [
    "# Created a new feature called Average Venue citation(avgVenueCite). \n",
    "# avgVenueCite = (Sum of citation count of all the papers presented at the venue)/(Total number of papers presented at the venue)\n",
    "# Stored venue and its avgVenueCite in '../Data/AvgVenueCitationFromTrainData.csv' file.\n",
    "train = data_train\n",
    "AvgVenueCite = pd.read_csv('Data/AvgVenueCitationFromTrainData_case_one.csv')"
   ]
  },
  {
   "cell_type": "code",
   "execution_count": 45,
   "metadata": {},
   "outputs": [],
   "source": [
    "# Merged train data with its avgVenueCite.\n",
    "train_venue = pd.merge(train, AvgVenueCite, on=['venue'], how='left')"
   ]
  },
  {
   "cell_type": "code",
   "execution_count": 46,
   "metadata": {},
   "outputs": [],
   "source": [
    "# dropped unwanted columns from train data.\n",
    "train_venue.drop(['Unnamed: 0_x','Unnamed: 0_y'],axis=1,inplace=True)"
   ]
  },
  {
   "cell_type": "code",
   "execution_count": 47,
   "metadata": {},
   "outputs": [
    {
     "name": "stdout",
     "output_type": "stream",
     "text": [
      "<class 'pandas.core.frame.DataFrame'>\n",
      "Int64Index: 9345 entries, 0 to 9344\n",
      "Data columns (total 10 columns):\n",
      "abstract        4860 non-null object\n",
      "authors         9345 non-null object\n",
      "id              9345 non-null object\n",
      "n_citation      9345 non-null int64\n",
      "references      9345 non-null object\n",
      "title           9345 non-null object\n",
      "venue           6059 non-null object\n",
      "year            9345 non-null int64\n",
      "age             9345 non-null int64\n",
      "avgVenueCite    6059 non-null float64\n",
      "dtypes: float64(1), int64(3), object(6)\n",
      "memory usage: 803.1+ KB\n"
     ]
    }
   ],
   "source": [
    "train_venue.info()"
   ]
  },
  {
   "cell_type": "code",
   "execution_count": 48,
   "metadata": {},
   "outputs": [],
   "source": [
    "# Assumption: assigned \"average venue citation\" to 0 for all the venues who's rank is not available.\n",
    "train_venue['avgVenueCite'] = train_venue.avgVenueCite.replace(np.nan, 0)"
   ]
  },
  {
   "cell_type": "code",
   "execution_count": 49,
   "metadata": {},
   "outputs": [
    {
     "data": {
      "text/html": [
       "<div>\n",
       "<style scoped>\n",
       "    .dataframe tbody tr th:only-of-type {\n",
       "        vertical-align: middle;\n",
       "    }\n",
       "\n",
       "    .dataframe tbody tr th {\n",
       "        vertical-align: top;\n",
       "    }\n",
       "\n",
       "    .dataframe thead th {\n",
       "        text-align: right;\n",
       "    }\n",
       "</style>\n",
       "<table border=\"1\" class=\"dataframe\">\n",
       "  <thead>\n",
       "    <tr style=\"text-align: right;\">\n",
       "      <th></th>\n",
       "      <th>avgVenueCite</th>\n",
       "      <th>n_citation</th>\n",
       "    </tr>\n",
       "  </thead>\n",
       "  <tbody>\n",
       "    <tr>\n",
       "      <th>avgVenueCite</th>\n",
       "      <td>1.000000</td>\n",
       "      <td>0.291017</td>\n",
       "    </tr>\n",
       "    <tr>\n",
       "      <th>n_citation</th>\n",
       "      <td>0.291017</td>\n",
       "      <td>1.000000</td>\n",
       "    </tr>\n",
       "  </tbody>\n",
       "</table>\n",
       "</div>"
      ],
      "text/plain": [
       "              avgVenueCite  n_citation\n",
       "avgVenueCite      1.000000    0.291017\n",
       "n_citation        0.291017    1.000000"
      ]
     },
     "execution_count": 49,
     "metadata": {},
     "output_type": "execute_result"
    },
    {
     "data": {
      "image/png": "[encoded data removed]",
      "text/plain": [
       "<Figure size 432x288 with 2 Axes>"
      ]
     },
     "metadata": {
      "needs_background": "light"
     },
     "output_type": "display_data"
    }
   ],
   "source": [
    "# finding correlation between \"Average Venue Citation\" and \"Citation count\".\n",
    "corrmat = train_venue[['avgVenueCite', 'n_citation']].corr()\n",
    "\n",
    "sns.heatmap(corrmat);\n",
    "corrmat"
   ]
  },
  {
   "cell_type": "code",
   "execution_count": 50,
   "metadata": {},
   "outputs": [
    {
     "data": {
      "text/html": [
       "<div>\n",
       "<style scoped>\n",
       "    .dataframe tbody tr th:only-of-type {\n",
       "        vertical-align: middle;\n",
       "    }\n",
       "\n",
       "    .dataframe tbody tr th {\n",
       "        vertical-align: top;\n",
       "    }\n",
       "\n",
       "    .dataframe thead th {\n",
       "        text-align: right;\n",
       "    }\n",
       "</style>\n",
       "<table border=\"1\" class=\"dataframe\">\n",
       "  <thead>\n",
       "    <tr style=\"text-align: right;\">\n",
       "      <th></th>\n",
       "      <th>abstract</th>\n",
       "      <th>authors</th>\n",
       "      <th>id</th>\n",
       "      <th>n_citation</th>\n",
       "      <th>references</th>\n",
       "      <th>title</th>\n",
       "      <th>venue</th>\n",
       "      <th>year</th>\n",
       "      <th>age</th>\n",
       "      <th>avgVenueCite</th>\n",
       "    </tr>\n",
       "  </thead>\n",
       "  <tbody>\n",
       "    <tr>\n",
       "      <th>0</th>\n",
       "      <td>Cryptosystem designers frequently assume that ...</td>\n",
       "      <td>['Paul C. Kocher', 'Joshua M. Jaffe', 'Benjami...</td>\n",
       "      <td>033ebb72-0119-4cc9-89b8-f011c55ddd79</td>\n",
       "      <td>7091</td>\n",
       "      <td>[]</td>\n",
       "      <td>Differential power analysis</td>\n",
       "      <td>Lecture Notes in Computer Science</td>\n",
       "      <td>1999</td>\n",
       "      <td>19</td>\n",
       "      <td>16.943557</td>\n",
       "    </tr>\n",
       "  </tbody>\n",
       "</table>\n",
       "</div>"
      ],
      "text/plain": [
       "                                            abstract  \\\n",
       "0  Cryptosystem designers frequently assume that ...   \n",
       "\n",
       "                                             authors  \\\n",
       "0  ['Paul C. Kocher', 'Joshua M. Jaffe', 'Benjami...   \n",
       "\n",
       "                                     id  n_citation references  \\\n",
       "0  033ebb72-0119-4cc9-89b8-f011c55ddd79        7091         []   \n",
       "\n",
       "                         title                              venue  year  age  \\\n",
       "0  Differential power analysis  Lecture Notes in Computer Science  1999   19   \n",
       "\n",
       "   avgVenueCite  \n",
       "0     16.943557  "
      ]
     },
     "execution_count": 50,
     "metadata": {},
     "output_type": "execute_result"
    }
   ],
   "source": [
    "train = train_venue\n",
    "train.head(1)"
   ]
  },
  {
   "cell_type": "markdown",
   "metadata": {},
   "source": [
    "# Training - Aminer Venue Rank and Aminer H-5 Index"
   ]
  },
  {
   "cell_type": "code",
   "execution_count": 51,
   "metadata": {},
   "outputs": [],
   "source": [
    "# Webscrapped Conference Ranks and H5-Index from 'https://www.aminer.cn/ranks/conf' website and\n",
    "# stored into \"../Data/Aminer_Conf_Ranks.csv\" file.\n",
    "# Column order in \"Aminer_Conf_Ranks.csv\" is [Rank, Conference, Short Name, H5-Index]\n",
    "# Rank range from 1 to 1000, where 1000 means buttom and 1 means top.\n",
    "# H5-Index range from 0 and increases, where 0 means buttom and highest means top.\n",
    "aminer_data = pd.read_csv('Data/Aminer_Conf_Ranks.csv', index_col='Unnamed: 0')\n",
    "aminer_data.drop(['Short Name'], axis=1, inplace=True)"
   ]
  },
  {
   "cell_type": "code",
   "execution_count": 52,
   "metadata": {},
   "outputs": [],
   "source": [
    "# added a empty venue with Rank: 1000 and H5-Index:0\n",
    "# Assumption: Rank = 1000 and H5-Index = 0 will be assigned to all the papers with empty venue.\n",
    "empty_venue = [1000, '', 0]\n",
    "aminer_data = aminer_data.append(pd.Series(empty_venue, index=aminer_data.columns ), ignore_index=True)"
   ]
  },
  {
   "cell_type": "code",
   "execution_count": 53,
   "metadata": {},
   "outputs": [],
   "source": [
    "# renamed column name from 'Conference' to 'venue' for easy merging. \n",
    "# also converted venue feature in aminer_data and train data to lower case for a easy match while merging\n",
    "aminer_data.rename(index=str, columns={\"Conference\": \"venue\"}, inplace=True)\n",
    "\n",
    "train.venue = train.venue.str.lower()\n",
    "aminer_data.venue = aminer_data.venue.str.lower()"
   ]
  },
  {
   "cell_type": "code",
   "execution_count": 54,
   "metadata": {},
   "outputs": [],
   "source": [
    "# dropped duplicates if any while webscraping\n",
    "aminer_data = aminer_data.drop_duplicates(subset=['venue'])"
   ]
  },
  {
   "cell_type": "code",
   "execution_count": 55,
   "metadata": {},
   "outputs": [
    {
     "name": "stdout",
     "output_type": "stream",
     "text": [
      "<class 'pandas.core.frame.DataFrame'>\n",
      "Int64Index: 9345 entries, 0 to 9344\n",
      "Data columns (total 10 columns):\n",
      "abstract        4860 non-null object\n",
      "authors         9345 non-null object\n",
      "id              9345 non-null object\n",
      "n_citation      9345 non-null int64\n",
      "references      9345 non-null object\n",
      "title           9345 non-null object\n",
      "venue           6059 non-null object\n",
      "year            9345 non-null int64\n",
      "age             9345 non-null int64\n",
      "avgVenueCite    9345 non-null float64\n",
      "dtypes: float64(1), int64(3), object(6)\n",
      "memory usage: 803.1+ KB\n"
     ]
    }
   ],
   "source": [
    "train.info()"
   ]
  },
  {
   "cell_type": "code",
   "execution_count": 56,
   "metadata": {},
   "outputs": [],
   "source": [
    "# Assumption: replaced all 'NaN' in venue to empty string which inturn gets Rank:1000 and H5-Index:0 \n",
    "# after merging.\n",
    "train['venue'] = train['venue'].replace(np.nan, '')"
   ]
  },
  {
   "cell_type": "code",
   "execution_count": 57,
   "metadata": {},
   "outputs": [
    {
     "data": {
      "text/html": [
       "<div>\n",
       "<style scoped>\n",
       "    .dataframe tbody tr th:only-of-type {\n",
       "        vertical-align: middle;\n",
       "    }\n",
       "\n",
       "    .dataframe tbody tr th {\n",
       "        vertical-align: top;\n",
       "    }\n",
       "\n",
       "    .dataframe thead th {\n",
       "        text-align: right;\n",
       "    }\n",
       "</style>\n",
       "<table border=\"1\" class=\"dataframe\">\n",
       "  <thead>\n",
       "    <tr style=\"text-align: right;\">\n",
       "      <th></th>\n",
       "      <th>Rank</th>\n",
       "      <th>venue</th>\n",
       "      <th>H5-Index</th>\n",
       "    </tr>\n",
       "  </thead>\n",
       "  <tbody>\n",
       "    <tr>\n",
       "      <th>0</th>\n",
       "      <td>1</td>\n",
       "      <td>science</td>\n",
       "      <td>162.0</td>\n",
       "    </tr>\n",
       "    <tr>\n",
       "      <th>1</th>\n",
       "      <td>2</td>\n",
       "      <td>nucleic acids research</td>\n",
       "      <td>128.0</td>\n",
       "    </tr>\n",
       "    <tr>\n",
       "      <th>2</th>\n",
       "      <td>3</td>\n",
       "      <td>ieee conference on computer vision and pattern...</td>\n",
       "      <td>112.0</td>\n",
       "    </tr>\n",
       "    <tr>\n",
       "      <th>3</th>\n",
       "      <td>4</td>\n",
       "      <td>ieee transactions on pattern analysis and mach...</td>\n",
       "      <td>101.0</td>\n",
       "    </tr>\n",
       "    <tr>\n",
       "      <th>4</th>\n",
       "      <td>5</td>\n",
       "      <td>neuroimage</td>\n",
       "      <td>99.0</td>\n",
       "    </tr>\n",
       "  </tbody>\n",
       "</table>\n",
       "</div>"
      ],
      "text/plain": [
       "   Rank                                              venue  H5-Index\n",
       "0     1                                            science     162.0\n",
       "1     2                             nucleic acids research     128.0\n",
       "2     3  ieee conference on computer vision and pattern...     112.0\n",
       "3     4  ieee transactions on pattern analysis and mach...     101.0\n",
       "4     5                                         neuroimage      99.0"
      ]
     },
     "execution_count": 57,
     "metadata": {},
     "output_type": "execute_result"
    }
   ],
   "source": [
    "aminer_data.head()"
   ]
  },
  {
   "cell_type": "code",
   "execution_count": 58,
   "metadata": {},
   "outputs": [],
   "source": [
    "# merged 'Rank', 'H5-Index' to the train data on 'venue' feature.\n",
    "train_aminer = pd.merge(train, aminer_data,  how='left', on=['venue'])"
   ]
  },
  {
   "cell_type": "code",
   "execution_count": 59,
   "metadata": {},
   "outputs": [
    {
     "data": {
      "text/plain": [
       "9345"
      ]
     },
     "execution_count": 59,
     "metadata": {},
     "output_type": "execute_result"
    }
   ],
   "source": [
    "len(train_aminer)"
   ]
  },
  {
   "cell_type": "code",
   "execution_count": 60,
   "metadata": {},
   "outputs": [],
   "source": [
    "# Assumption: replaced all unmatached venue's Rank and H5-Index with 1000 and 0 respectively.\n",
    "train_aminer['Rank'] = train_aminer['Rank'].replace(np.nan, 1000)\n",
    "train_aminer['H5-Index'] = train_aminer['H5-Index'].replace(np.nan, 0)"
   ]
  },
  {
   "cell_type": "code",
   "execution_count": 61,
   "metadata": {},
   "outputs": [
    {
     "name": "stdout",
     "output_type": "stream",
     "text": [
      "<class 'pandas.core.frame.DataFrame'>\n",
      "Int64Index: 9345 entries, 0 to 9344\n",
      "Data columns (total 12 columns):\n",
      "abstract        4860 non-null object\n",
      "authors         9345 non-null object\n",
      "id              9345 non-null object\n",
      "n_citation      9345 non-null int64\n",
      "references      9345 non-null object\n",
      "title           9345 non-null object\n",
      "venue           9345 non-null object\n",
      "year            9345 non-null int64\n",
      "age             9345 non-null int64\n",
      "avgVenueCite    9345 non-null float64\n",
      "Rank            9345 non-null float64\n",
      "H5-Index        9345 non-null float64\n",
      "dtypes: float64(3), int64(3), object(6)\n",
      "memory usage: 949.1+ KB\n"
     ]
    }
   ],
   "source": [
    "train_aminer.info()"
   ]
  },
  {
   "cell_type": "code",
   "execution_count": 62,
   "metadata": {},
   "outputs": [
    {
     "data": {
      "text/html": [
       "<div>\n",
       "<style scoped>\n",
       "    .dataframe tbody tr th:only-of-type {\n",
       "        vertical-align: middle;\n",
       "    }\n",
       "\n",
       "    .dataframe tbody tr th {\n",
       "        vertical-align: top;\n",
       "    }\n",
       "\n",
       "    .dataframe thead th {\n",
       "        text-align: right;\n",
       "    }\n",
       "</style>\n",
       "<table border=\"1\" class=\"dataframe\">\n",
       "  <thead>\n",
       "    <tr style=\"text-align: right;\">\n",
       "      <th></th>\n",
       "      <th>abstract</th>\n",
       "      <th>authors</th>\n",
       "      <th>id</th>\n",
       "      <th>n_citation</th>\n",
       "      <th>references</th>\n",
       "      <th>title</th>\n",
       "      <th>venue</th>\n",
       "      <th>year</th>\n",
       "      <th>age</th>\n",
       "      <th>avgVenueCite</th>\n",
       "      <th>Rank</th>\n",
       "      <th>H5-Index</th>\n",
       "    </tr>\n",
       "  </thead>\n",
       "  <tbody>\n",
       "    <tr>\n",
       "      <th>0</th>\n",
       "      <td>Cryptosystem designers frequently assume that ...</td>\n",
       "      <td>['Paul C. Kocher', 'Joshua M. Jaffe', 'Benjami...</td>\n",
       "      <td>033ebb72-0119-4cc9-89b8-f011c55ddd79</td>\n",
       "      <td>7091</td>\n",
       "      <td>[]</td>\n",
       "      <td>Differential power analysis</td>\n",
       "      <td>lecture notes in computer science</td>\n",
       "      <td>1999</td>\n",
       "      <td>19</td>\n",
       "      <td>16.943557</td>\n",
       "      <td>1000.0</td>\n",
       "      <td>0.0</td>\n",
       "    </tr>\n",
       "    <tr>\n",
       "      <th>1</th>\n",
       "      <td>NaN</td>\n",
       "      <td>['Jan C. A. van der Lubbe', 'Hendrik Jan Hoeue...</td>\n",
       "      <td>8dd4158a-bbc4-40cf-a4d5-14e0fe630387</td>\n",
       "      <td>3925</td>\n",
       "      <td>[]</td>\n",
       "      <td>Information theory</td>\n",
       "      <td></td>\n",
       "      <td>1997</td>\n",
       "      <td>21</td>\n",
       "      <td>0.000000</td>\n",
       "      <td>1000.0</td>\n",
       "      <td>0.0</td>\n",
       "    </tr>\n",
       "    <tr>\n",
       "      <th>2</th>\n",
       "      <td>NaN</td>\n",
       "      <td>['Nir Friedman', 'Michal Linial', 'Iftach Nach...</td>\n",
       "      <td>abad0cf5-6b84-4c40-91a2-f6ca3ad7fbc1</td>\n",
       "      <td>3515</td>\n",
       "      <td>['007cf08c-7de6-437c-ae53-8b41e276a9a6', '1106...</td>\n",
       "      <td>Using Bayesian networks to analyze expression ...</td>\n",
       "      <td>journal of computational biology</td>\n",
       "      <td>2000</td>\n",
       "      <td>18</td>\n",
       "      <td>224.073171</td>\n",
       "      <td>308.0</td>\n",
       "      <td>26.0</td>\n",
       "    </tr>\n",
       "    <tr>\n",
       "      <th>3</th>\n",
       "      <td>Adaptive hypermedia is a relatively new direct...</td>\n",
       "      <td>['Peter Brusilovsky']</td>\n",
       "      <td>8ab23f4b-0b87-42ed-9922-dbd10d9e845d</td>\n",
       "      <td>3192</td>\n",
       "      <td>['01c65f07-9d53-4844-8e25-ada6745a05d8', '13ca...</td>\n",
       "      <td>Adaptive Hypermedia</td>\n",
       "      <td></td>\n",
       "      <td>2001</td>\n",
       "      <td>17</td>\n",
       "      <td>0.000000</td>\n",
       "      <td>1000.0</td>\n",
       "      <td>0.0</td>\n",
       "    </tr>\n",
       "    <tr>\n",
       "      <th>4</th>\n",
       "      <td>NaN</td>\n",
       "      <td>['Andrew Blake', 'A. Zisserman']</td>\n",
       "      <td>3f4cc95c-5f47-4031-8671-e23ff4fe2ed2</td>\n",
       "      <td>2652</td>\n",
       "      <td>[]</td>\n",
       "      <td>Visual reconstruction</td>\n",
       "      <td></td>\n",
       "      <td>1987</td>\n",
       "      <td>31</td>\n",
       "      <td>0.000000</td>\n",
       "      <td>1000.0</td>\n",
       "      <td>0.0</td>\n",
       "    </tr>\n",
       "  </tbody>\n",
       "</table>\n",
       "</div>"
      ],
      "text/plain": [
       "                                            abstract  \\\n",
       "0  Cryptosystem designers frequently assume that ...   \n",
       "1                                                NaN   \n",
       "2                                                NaN   \n",
       "3  Adaptive hypermedia is a relatively new direct...   \n",
       "4                                                NaN   \n",
       "\n",
       "                                             authors  \\\n",
       "0  ['Paul C. Kocher', 'Joshua M. Jaffe', 'Benjami...   \n",
       "1  ['Jan C. A. van der Lubbe', 'Hendrik Jan Hoeue...   \n",
       "2  ['Nir Friedman', 'Michal Linial', 'Iftach Nach...   \n",
       "3                              ['Peter Brusilovsky']   \n",
       "4                   ['Andrew Blake', 'A. Zisserman']   \n",
       "\n",
       "                                     id  n_citation  \\\n",
       "0  033ebb72-0119-4cc9-89b8-f011c55ddd79        7091   \n",
       "1  8dd4158a-bbc4-40cf-a4d5-14e0fe630387        3925   \n",
       "2  abad0cf5-6b84-4c40-91a2-f6ca3ad7fbc1        3515   \n",
       "3  8ab23f4b-0b87-42ed-9922-dbd10d9e845d        3192   \n",
       "4  3f4cc95c-5f47-4031-8671-e23ff4fe2ed2        2652   \n",
       "\n",
       "                                          references  \\\n",
       "0                                                 []   \n",
       "1                                                 []   \n",
       "2  ['007cf08c-7de6-437c-ae53-8b41e276a9a6', '1106...   \n",
       "3  ['01c65f07-9d53-4844-8e25-ada6745a05d8', '13ca...   \n",
       "4                                                 []   \n",
       "\n",
       "                                               title  \\\n",
       "0                        Differential power analysis   \n",
       "1                                 Information theory   \n",
       "2  Using Bayesian networks to analyze expression ...   \n",
       "3                                Adaptive Hypermedia   \n",
       "4                              Visual reconstruction   \n",
       "\n",
       "                               venue  year  age  avgVenueCite    Rank  \\\n",
       "0  lecture notes in computer science  1999   19     16.943557  1000.0   \n",
       "1                                     1997   21      0.000000  1000.0   \n",
       "2   journal of computational biology  2000   18    224.073171   308.0   \n",
       "3                                     2001   17      0.000000  1000.0   \n",
       "4                                     1987   31      0.000000  1000.0   \n",
       "\n",
       "   H5-Index  \n",
       "0       0.0  \n",
       "1       0.0  \n",
       "2      26.0  \n",
       "3       0.0  \n",
       "4       0.0  "
      ]
     },
     "execution_count": 62,
     "metadata": {},
     "output_type": "execute_result"
    }
   ],
   "source": [
    "train_aminer.head()"
   ]
  },
  {
   "cell_type": "markdown",
   "metadata": {},
   "source": [
    "### Correlation - Aminer venue rank vs citation count "
   ]
  },
  {
   "cell_type": "code",
   "execution_count": 63,
   "metadata": {},
   "outputs": [],
   "source": [
    "AminerRank_cite = train_aminer[['Rank', 'n_citation']]"
   ]
  },
  {
   "cell_type": "code",
   "execution_count": 64,
   "metadata": {},
   "outputs": [
    {
     "name": "stdout",
     "output_type": "stream",
     "text": [
      "<class 'pandas.core.frame.DataFrame'>\n",
      "Int64Index: 9345 entries, 0 to 9344\n",
      "Data columns (total 2 columns):\n",
      "Rank          9345 non-null float64\n",
      "n_citation    9345 non-null int64\n",
      "dtypes: float64(1), int64(1)\n",
      "memory usage: 219.0 KB\n"
     ]
    }
   ],
   "source": [
    "AminerRank_cite.info()"
   ]
  },
  {
   "cell_type": "code",
   "execution_count": 65,
   "metadata": {},
   "outputs": [
    {
     "data": {
      "text/html": [
       "<div>\n",
       "<style scoped>\n",
       "    .dataframe tbody tr th:only-of-type {\n",
       "        vertical-align: middle;\n",
       "    }\n",
       "\n",
       "    .dataframe tbody tr th {\n",
       "        vertical-align: top;\n",
       "    }\n",
       "\n",
       "    .dataframe thead th {\n",
       "        text-align: right;\n",
       "    }\n",
       "</style>\n",
       "<table border=\"1\" class=\"dataframe\">\n",
       "  <thead>\n",
       "    <tr style=\"text-align: right;\">\n",
       "      <th></th>\n",
       "      <th>Rank</th>\n",
       "      <th>n_citation</th>\n",
       "    </tr>\n",
       "  </thead>\n",
       "  <tbody>\n",
       "    <tr>\n",
       "      <th>Rank</th>\n",
       "      <td>1.000000</td>\n",
       "      <td>-0.085795</td>\n",
       "    </tr>\n",
       "    <tr>\n",
       "      <th>n_citation</th>\n",
       "      <td>-0.085795</td>\n",
       "      <td>1.000000</td>\n",
       "    </tr>\n",
       "  </tbody>\n",
       "</table>\n",
       "</div>"
      ],
      "text/plain": [
       "                Rank  n_citation\n",
       "Rank        1.000000   -0.085795\n",
       "n_citation -0.085795    1.000000"
      ]
     },
     "execution_count": 65,
     "metadata": {},
     "output_type": "execute_result"
    },
    {
     "data": {
      "image/png": "[encoded data removed]",
      "text/plain": [
       "<Figure size 432x288 with 2 Axes>"
      ]
     },
     "metadata": {
      "needs_background": "light"
     },
     "output_type": "display_data"
    }
   ],
   "source": [
    "# correlation between Rank and Citation count.\n",
    "corrmat = AminerRank_cite.corr()\n",
    "\n",
    "sns.heatmap(corrmat);\n",
    "corrmat"
   ]
  },
  {
   "cell_type": "markdown",
   "metadata": {},
   "source": [
    "### Correlation - Aminer H5 Index vs Citation Count"
   ]
  },
  {
   "cell_type": "code",
   "execution_count": 66,
   "metadata": {},
   "outputs": [],
   "source": [
    "AminerH5Index_cite = train_aminer[['H5-Index', 'n_citation']]"
   ]
  },
  {
   "cell_type": "code",
   "execution_count": 67,
   "metadata": {},
   "outputs": [
    {
     "name": "stdout",
     "output_type": "stream",
     "text": [
      "<class 'pandas.core.frame.DataFrame'>\n",
      "Int64Index: 9345 entries, 0 to 9344\n",
      "Data columns (total 2 columns):\n",
      "H5-Index      9345 non-null float64\n",
      "n_citation    9345 non-null int64\n",
      "dtypes: float64(1), int64(1)\n",
      "memory usage: 219.0 KB\n"
     ]
    }
   ],
   "source": [
    "AminerH5Index_cite.info()"
   ]
  },
  {
   "cell_type": "code",
   "execution_count": 68,
   "metadata": {},
   "outputs": [
    {
     "data": {
      "text/html": [
       "<div>\n",
       "<style scoped>\n",
       "    .dataframe tbody tr th:only-of-type {\n",
       "        vertical-align: middle;\n",
       "    }\n",
       "\n",
       "    .dataframe tbody tr th {\n",
       "        vertical-align: top;\n",
       "    }\n",
       "\n",
       "    .dataframe thead th {\n",
       "        text-align: right;\n",
       "    }\n",
       "</style>\n",
       "<table border=\"1\" class=\"dataframe\">\n",
       "  <thead>\n",
       "    <tr style=\"text-align: right;\">\n",
       "      <th></th>\n",
       "      <th>H5-Index</th>\n",
       "      <th>n_citation</th>\n",
       "    </tr>\n",
       "  </thead>\n",
       "  <tbody>\n",
       "    <tr>\n",
       "      <th>H5-Index</th>\n",
       "      <td>1.000000</td>\n",
       "      <td>0.082413</td>\n",
       "    </tr>\n",
       "    <tr>\n",
       "      <th>n_citation</th>\n",
       "      <td>0.082413</td>\n",
       "      <td>1.000000</td>\n",
       "    </tr>\n",
       "  </tbody>\n",
       "</table>\n",
       "</div>"
      ],
      "text/plain": [
       "            H5-Index  n_citation\n",
       "H5-Index    1.000000    0.082413\n",
       "n_citation  0.082413    1.000000"
      ]
     },
     "execution_count": 68,
     "metadata": {},
     "output_type": "execute_result"
    },
    {
     "data": {
      "image/png": "[encoded data removed]",
      "text/plain": [
       "<Figure size 432x288 with 2 Axes>"
      ]
     },
     "metadata": {
      "needs_background": "light"
     },
     "output_type": "display_data"
    }
   ],
   "source": [
    "# Correlation between H5-Index and citation count.\n",
    "corrmat = AminerH5Index_cite.corr()\n",
    "\n",
    "sns.heatmap(corrmat);\n",
    "corrmat"
   ]
  },
  {
   "cell_type": "markdown",
   "metadata": {},
   "source": [
    "### Correlation - Age Of Paper vs Citation Count"
   ]
  },
  {
   "cell_type": "code",
   "execution_count": 69,
   "metadata": {},
   "outputs": [],
   "source": [
    "AminerH5Index_age = train_aminer[['age', 'n_citation']]"
   ]
  },
  {
   "cell_type": "code",
   "execution_count": 70,
   "metadata": {},
   "outputs": [
    {
     "name": "stdout",
     "output_type": "stream",
     "text": [
      "<class 'pandas.core.frame.DataFrame'>\n",
      "Int64Index: 9345 entries, 0 to 9344\n",
      "Data columns (total 2 columns):\n",
      "age           9345 non-null int64\n",
      "n_citation    9345 non-null int64\n",
      "dtypes: int64(2)\n",
      "memory usage: 219.0 KB\n"
     ]
    }
   ],
   "source": [
    "AminerH5Index_age.info()"
   ]
  },
  {
   "cell_type": "code",
   "execution_count": 71,
   "metadata": {},
   "outputs": [
    {
     "data": {
      "text/html": [
       "<div>\n",
       "<style scoped>\n",
       "    .dataframe tbody tr th:only-of-type {\n",
       "        vertical-align: middle;\n",
       "    }\n",
       "\n",
       "    .dataframe tbody tr th {\n",
       "        vertical-align: top;\n",
       "    }\n",
       "\n",
       "    .dataframe thead th {\n",
       "        text-align: right;\n",
       "    }\n",
       "</style>\n",
       "<table border=\"1\" class=\"dataframe\">\n",
       "  <thead>\n",
       "    <tr style=\"text-align: right;\">\n",
       "      <th></th>\n",
       "      <th>age</th>\n",
       "      <th>n_citation</th>\n",
       "    </tr>\n",
       "  </thead>\n",
       "  <tbody>\n",
       "    <tr>\n",
       "      <th>age</th>\n",
       "      <td>1.000000</td>\n",
       "      <td>0.060597</td>\n",
       "    </tr>\n",
       "    <tr>\n",
       "      <th>n_citation</th>\n",
       "      <td>0.060597</td>\n",
       "      <td>1.000000</td>\n",
       "    </tr>\n",
       "  </tbody>\n",
       "</table>\n",
       "</div>"
      ],
      "text/plain": [
       "                 age  n_citation\n",
       "age         1.000000    0.060597\n",
       "n_citation  0.060597    1.000000"
      ]
     },
     "execution_count": 71,
     "metadata": {},
     "output_type": "execute_result"
    },
    {
     "data": {
      "image/png": "[encoded data removed]",
      "text/plain": [
       "<Figure size 432x288 with 2 Axes>"
      ]
     },
     "metadata": {
      "needs_background": "light"
     },
     "output_type": "display_data"
    }
   ],
   "source": [
    "# Correlation between age and citation count.\n",
    "corrmat = AminerH5Index_age.corr()\n",
    " \n",
    "sns.heatmap(corrmat);\n",
    "corrmat"
   ]
  },
  {
   "cell_type": "markdown",
   "metadata": {},
   "source": [
    "# Training - References Ctation Count Feature\n",
    "#### This feature is created considering that the extension of a good work will gernerate a good paper too. \n",
    "\n",
    "##### Reference Citation Count = sum(referred paper's citation count) / (Total No. of referred paper's)"
   ]
  },
  {
   "cell_type": "code",
   "execution_count": 72,
   "metadata": {},
   "outputs": [],
   "source": [
    "# Created a sub dataframe of required feature to calcualte Reference Citation Count\n",
    "train_ref = train[['id', 'references', 'n_citation']]"
   ]
  },
  {
   "cell_type": "code",
   "execution_count": 73,
   "metadata": {},
   "outputs": [
    {
     "name": "stderr",
     "output_type": "stream",
     "text": [
      "C:\\Users\\Suresh\\Anaconda3\\lib\\site-packages\\ipykernel_launcher.py:2: SettingWithCopyWarning: \n",
      "A value is trying to be set on a copy of a slice from a DataFrame.\n",
      "Try using .loc[row_indexer,col_indexer] = value instead\n",
      "\n",
      "See the caveats in the documentation: http://pandas.pydata.org/pandas-docs/stable/indexing.html#indexing-view-versus-copy\n",
      "  \n"
     ]
    }
   ],
   "source": [
    "# Converted string structured list to list object.\n",
    "train_ref['references'] = train_ref['references'].apply(literal_eval)"
   ]
  },
  {
   "cell_type": "code",
   "execution_count": 74,
   "metadata": {},
   "outputs": [
    {
     "name": "stdout",
     "output_type": "stream",
     "text": [
      "<class 'pandas.core.frame.DataFrame'>\n",
      "Int64Index: 9345 entries, 0 to 9344\n",
      "Data columns (total 3 columns):\n",
      "id            9345 non-null object\n",
      "references    9345 non-null object\n",
      "n_citation    9345 non-null int64\n",
      "dtypes: int64(1), object(2)\n",
      "memory usage: 292.0+ KB\n"
     ]
    }
   ],
   "source": [
    "train_ref.info()"
   ]
  },
  {
   "cell_type": "code",
   "execution_count": 75,
   "metadata": {},
   "outputs": [
    {
     "data": {
      "text/html": [
       "<div>\n",
       "<style scoped>\n",
       "    .dataframe tbody tr th:only-of-type {\n",
       "        vertical-align: middle;\n",
       "    }\n",
       "\n",
       "    .dataframe tbody tr th {\n",
       "        vertical-align: top;\n",
       "    }\n",
       "\n",
       "    .dataframe thead th {\n",
       "        text-align: right;\n",
       "    }\n",
       "</style>\n",
       "<table border=\"1\" class=\"dataframe\">\n",
       "  <thead>\n",
       "    <tr style=\"text-align: right;\">\n",
       "      <th></th>\n",
       "      <th>id</th>\n",
       "      <th>references</th>\n",
       "      <th>n_citation</th>\n",
       "    </tr>\n",
       "  </thead>\n",
       "  <tbody>\n",
       "    <tr>\n",
       "      <th>5639</th>\n",
       "      <td>02e81c9e-f2ae-4335-b2e2-416eb95df3ac</td>\n",
       "      <td>[]</td>\n",
       "      <td>0</td>\n",
       "    </tr>\n",
       "  </tbody>\n",
       "</table>\n",
       "</div>"
      ],
      "text/plain": [
       "                                        id references  n_citation\n",
       "5639  02e81c9e-f2ae-4335-b2e2-416eb95df3ac         []           0"
      ]
     },
     "execution_count": 75,
     "metadata": {},
     "output_type": "execute_result"
    }
   ],
   "source": [
    "train_ref[train_ref['id'] == \"02e81c9e-f2ae-4335-b2e2-416eb95df3ac\"]"
   ]
  },
  {
   "cell_type": "code",
   "execution_count": 76,
   "metadata": {},
   "outputs": [
    {
     "name": "stderr",
     "output_type": "stream",
     "text": [
      "C:\\Users\\Suresh\\Anaconda3\\lib\\site-packages\\pandas\\core\\indexing.py:362: SettingWithCopyWarning: \n",
      "A value is trying to be set on a copy of a slice from a DataFrame.\n",
      "Try using .loc[row_indexer,col_indexer] = value instead\n",
      "\n",
      "See the caveats in the documentation: http://pandas.pydata.org/pandas-docs/stable/indexing.html#indexing-view-versus-copy\n",
      "  self.obj[key] = _infer_fill_value(value)\n",
      "C:\\Users\\Suresh\\Anaconda3\\lib\\site-packages\\pandas\\core\\indexing.py:543: SettingWithCopyWarning: \n",
      "A value is trying to be set on a copy of a slice from a DataFrame.\n",
      "Try using .loc[row_indexer,col_indexer] = value instead\n",
      "\n",
      "See the caveats in the documentation: http://pandas.pydata.org/pandas-docs/stable/indexing.html#indexing-view-versus-copy\n",
      "  self.obj[item] = s\n"
     ]
    },
    {
     "name": "stdout",
     "output_type": "stream",
     "text": [
      "9344\r"
     ]
    }
   ],
   "source": [
    "# created a list of referred paper's citation count \n",
    "# using that list max, sum and average as been calculated. \n",
    "for i, row in train_ref.iterrows():\n",
    "#     print(row.references)\n",
    "    count = [0]\n",
    "    for ref in row.references:\n",
    "        ref_data = train_ref[train_ref.id == ref]\n",
    "        if not ref_data.empty:\n",
    "            count.append(ref_data.iat[0,2])\n",
    "#             if count > 0:\n",
    "#                 print(i, ref_data.index, count)\n",
    "    train_ref.at[i, 'ref_max_count'] = max(count)\n",
    "    train_ref.at[i, 'ref_sum_count'] = sum(count)\n",
    "    train_ref.at[i, 'ref_avg_count'] = sum(count)/len(count)\n",
    "    print(i, end='\\r')"
   ]
  },
  {
   "cell_type": "markdown",
   "metadata": {},
   "source": [
    "### Correlation - References citation count vs citation count"
   ]
  },
  {
   "cell_type": "code",
   "execution_count": 77,
   "metadata": {},
   "outputs": [],
   "source": [
    "# correlation between max, sum, avg of referred paper's citation count and citation count of the paper\n",
    "corrmat = train_ref[['ref_max_count', 'ref_sum_count', 'ref_avg_count', 'n_citation']].corr()"
   ]
  },
  {
   "cell_type": "code",
   "execution_count": 78,
   "metadata": {},
   "outputs": [
    {
     "data": {
      "text/html": [
       "<div>\n",
       "<style scoped>\n",
       "    .dataframe tbody tr th:only-of-type {\n",
       "        vertical-align: middle;\n",
       "    }\n",
       "\n",
       "    .dataframe tbody tr th {\n",
       "        vertical-align: top;\n",
       "    }\n",
       "\n",
       "    .dataframe thead th {\n",
       "        text-align: right;\n",
       "    }\n",
       "</style>\n",
       "<table border=\"1\" class=\"dataframe\">\n",
       "  <thead>\n",
       "    <tr style=\"text-align: right;\">\n",
       "      <th></th>\n",
       "      <th>ref_max_count</th>\n",
       "      <th>ref_sum_count</th>\n",
       "      <th>ref_avg_count</th>\n",
       "      <th>n_citation</th>\n",
       "    </tr>\n",
       "  </thead>\n",
       "  <tbody>\n",
       "    <tr>\n",
       "      <th>ref_max_count</th>\n",
       "      <td>1.000000</td>\n",
       "      <td>0.998844</td>\n",
       "      <td>0.993003</td>\n",
       "      <td>0.070293</td>\n",
       "    </tr>\n",
       "    <tr>\n",
       "      <th>ref_sum_count</th>\n",
       "      <td>0.998844</td>\n",
       "      <td>1.000000</td>\n",
       "      <td>0.986581</td>\n",
       "      <td>0.068354</td>\n",
       "    </tr>\n",
       "    <tr>\n",
       "      <th>ref_avg_count</th>\n",
       "      <td>0.993003</td>\n",
       "      <td>0.986581</td>\n",
       "      <td>1.000000</td>\n",
       "      <td>0.074664</td>\n",
       "    </tr>\n",
       "    <tr>\n",
       "      <th>n_citation</th>\n",
       "      <td>0.070293</td>\n",
       "      <td>0.068354</td>\n",
       "      <td>0.074664</td>\n",
       "      <td>1.000000</td>\n",
       "    </tr>\n",
       "  </tbody>\n",
       "</table>\n",
       "</div>"
      ],
      "text/plain": [
       "               ref_max_count  ref_sum_count  ref_avg_count  n_citation\n",
       "ref_max_count       1.000000       0.998844       0.993003    0.070293\n",
       "ref_sum_count       0.998844       1.000000       0.986581    0.068354\n",
       "ref_avg_count       0.993003       0.986581       1.000000    0.074664\n",
       "n_citation          0.070293       0.068354       0.074664    1.000000"
      ]
     },
     "execution_count": 78,
     "metadata": {},
     "output_type": "execute_result"
    },
    {
     "data": {
      "image/png": "[encoded data removed]",
      "text/plain": [
       "<Figure size 432x288 with 2 Axes>"
      ]
     },
     "metadata": {
      "needs_background": "light"
     },
     "output_type": "display_data"
    }
   ],
   "source": [
    "sns.heatmap(corrmat);\n",
    "corrmat"
   ]
  },
  {
   "cell_type": "code",
   "execution_count": 79,
   "metadata": {},
   "outputs": [
    {
     "data": {
      "text/plain": [
       "9345"
      ]
     },
     "execution_count": 79,
     "metadata": {},
     "output_type": "execute_result"
    }
   ],
   "source": [
    "len(train_aminer)"
   ]
  },
  {
   "cell_type": "code",
   "execution_count": 80,
   "metadata": {},
   "outputs": [],
   "source": [
    "# Since average of \"reference citation count\" gave a good correlation compare to max and sum\n",
    "# So max and sum of \"reference citation count\" are not considered for training.\n",
    "train_aminer = pd.merge(train_aminer, train_ref.drop(['ref_max_count','ref_sum_count','references','n_citation'],axis=1),  how='left', on=['id'])"
   ]
  },
  {
   "cell_type": "code",
   "execution_count": 81,
   "metadata": {},
   "outputs": [
    {
     "data": {
      "text/html": [
       "<div>\n",
       "<style scoped>\n",
       "    .dataframe tbody tr th:only-of-type {\n",
       "        vertical-align: middle;\n",
       "    }\n",
       "\n",
       "    .dataframe tbody tr th {\n",
       "        vertical-align: top;\n",
       "    }\n",
       "\n",
       "    .dataframe thead th {\n",
       "        text-align: right;\n",
       "    }\n",
       "</style>\n",
       "<table border=\"1\" class=\"dataframe\">\n",
       "  <thead>\n",
       "    <tr style=\"text-align: right;\">\n",
       "      <th></th>\n",
       "      <th>abstract</th>\n",
       "      <th>authors</th>\n",
       "      <th>id</th>\n",
       "      <th>n_citation</th>\n",
       "      <th>references</th>\n",
       "      <th>title</th>\n",
       "      <th>venue</th>\n",
       "      <th>year</th>\n",
       "      <th>age</th>\n",
       "      <th>avgVenueCite</th>\n",
       "      <th>Rank</th>\n",
       "      <th>H5-Index</th>\n",
       "      <th>ref_avg_count</th>\n",
       "    </tr>\n",
       "  </thead>\n",
       "  <tbody>\n",
       "    <tr>\n",
       "      <th>0</th>\n",
       "      <td>Cryptosystem designers frequently assume that ...</td>\n",
       "      <td>['Paul C. Kocher', 'Joshua M. Jaffe', 'Benjami...</td>\n",
       "      <td>033ebb72-0119-4cc9-89b8-f011c55ddd79</td>\n",
       "      <td>7091</td>\n",
       "      <td>[]</td>\n",
       "      <td>Differential power analysis</td>\n",
       "      <td>lecture notes in computer science</td>\n",
       "      <td>1999</td>\n",
       "      <td>19</td>\n",
       "      <td>16.943557</td>\n",
       "      <td>1000.0</td>\n",
       "      <td>0.0</td>\n",
       "      <td>0.0</td>\n",
       "    </tr>\n",
       "    <tr>\n",
       "      <th>1</th>\n",
       "      <td>NaN</td>\n",
       "      <td>['Jan C. A. van der Lubbe', 'Hendrik Jan Hoeue...</td>\n",
       "      <td>8dd4158a-bbc4-40cf-a4d5-14e0fe630387</td>\n",
       "      <td>3925</td>\n",
       "      <td>[]</td>\n",
       "      <td>Information theory</td>\n",
       "      <td></td>\n",
       "      <td>1997</td>\n",
       "      <td>21</td>\n",
       "      <td>0.000000</td>\n",
       "      <td>1000.0</td>\n",
       "      <td>0.0</td>\n",
       "      <td>0.0</td>\n",
       "    </tr>\n",
       "    <tr>\n",
       "      <th>2</th>\n",
       "      <td>NaN</td>\n",
       "      <td>['Nir Friedman', 'Michal Linial', 'Iftach Nach...</td>\n",
       "      <td>abad0cf5-6b84-4c40-91a2-f6ca3ad7fbc1</td>\n",
       "      <td>3515</td>\n",
       "      <td>['007cf08c-7de6-437c-ae53-8b41e276a9a6', '1106...</td>\n",
       "      <td>Using Bayesian networks to analyze expression ...</td>\n",
       "      <td>journal of computational biology</td>\n",
       "      <td>2000</td>\n",
       "      <td>18</td>\n",
       "      <td>224.073171</td>\n",
       "      <td>308.0</td>\n",
       "      <td>26.0</td>\n",
       "      <td>685.5</td>\n",
       "    </tr>\n",
       "    <tr>\n",
       "      <th>3</th>\n",
       "      <td>Adaptive hypermedia is a relatively new direct...</td>\n",
       "      <td>['Peter Brusilovsky']</td>\n",
       "      <td>8ab23f4b-0b87-42ed-9922-dbd10d9e845d</td>\n",
       "      <td>3192</td>\n",
       "      <td>['01c65f07-9d53-4844-8e25-ada6745a05d8', '13ca...</td>\n",
       "      <td>Adaptive Hypermedia</td>\n",
       "      <td></td>\n",
       "      <td>2001</td>\n",
       "      <td>17</td>\n",
       "      <td>0.000000</td>\n",
       "      <td>1000.0</td>\n",
       "      <td>0.0</td>\n",
       "      <td>0.0</td>\n",
       "    </tr>\n",
       "    <tr>\n",
       "      <th>4</th>\n",
       "      <td>NaN</td>\n",
       "      <td>['Andrew Blake', 'A. Zisserman']</td>\n",
       "      <td>3f4cc95c-5f47-4031-8671-e23ff4fe2ed2</td>\n",
       "      <td>2652</td>\n",
       "      <td>[]</td>\n",
       "      <td>Visual reconstruction</td>\n",
       "      <td></td>\n",
       "      <td>1987</td>\n",
       "      <td>31</td>\n",
       "      <td>0.000000</td>\n",
       "      <td>1000.0</td>\n",
       "      <td>0.0</td>\n",
       "      <td>0.0</td>\n",
       "    </tr>\n",
       "  </tbody>\n",
       "</table>\n",
       "</div>"
      ],
      "text/plain": [
       "                                            abstract  \\\n",
       "0  Cryptosystem designers frequently assume that ...   \n",
       "1                                                NaN   \n",
       "2                                                NaN   \n",
       "3  Adaptive hypermedia is a relatively new direct...   \n",
       "4                                                NaN   \n",
       "\n",
       "                                             authors  \\\n",
       "0  ['Paul C. Kocher', 'Joshua M. Jaffe', 'Benjami...   \n",
       "1  ['Jan C. A. van der Lubbe', 'Hendrik Jan Hoeue...   \n",
       "2  ['Nir Friedman', 'Michal Linial', 'Iftach Nach...   \n",
       "3                              ['Peter Brusilovsky']   \n",
       "4                   ['Andrew Blake', 'A. Zisserman']   \n",
       "\n",
       "                                     id  n_citation  \\\n",
       "0  033ebb72-0119-4cc9-89b8-f011c55ddd79        7091   \n",
       "1  8dd4158a-bbc4-40cf-a4d5-14e0fe630387        3925   \n",
       "2  abad0cf5-6b84-4c40-91a2-f6ca3ad7fbc1        3515   \n",
       "3  8ab23f4b-0b87-42ed-9922-dbd10d9e845d        3192   \n",
       "4  3f4cc95c-5f47-4031-8671-e23ff4fe2ed2        2652   \n",
       "\n",
       "                                          references  \\\n",
       "0                                                 []   \n",
       "1                                                 []   \n",
       "2  ['007cf08c-7de6-437c-ae53-8b41e276a9a6', '1106...   \n",
       "3  ['01c65f07-9d53-4844-8e25-ada6745a05d8', '13ca...   \n",
       "4                                                 []   \n",
       "\n",
       "                                               title  \\\n",
       "0                        Differential power analysis   \n",
       "1                                 Information theory   \n",
       "2  Using Bayesian networks to analyze expression ...   \n",
       "3                                Adaptive Hypermedia   \n",
       "4                              Visual reconstruction   \n",
       "\n",
       "                               venue  year  age  avgVenueCite    Rank  \\\n",
       "0  lecture notes in computer science  1999   19     16.943557  1000.0   \n",
       "1                                     1997   21      0.000000  1000.0   \n",
       "2   journal of computational biology  2000   18    224.073171   308.0   \n",
       "3                                     2001   17      0.000000  1000.0   \n",
       "4                                     1987   31      0.000000  1000.0   \n",
       "\n",
       "   H5-Index  ref_avg_count  \n",
       "0       0.0            0.0  \n",
       "1       0.0            0.0  \n",
       "2      26.0          685.5  \n",
       "3       0.0            0.0  \n",
       "4       0.0            0.0  "
      ]
     },
     "execution_count": 81,
     "metadata": {},
     "output_type": "execute_result"
    }
   ],
   "source": [
    "train_aminer.head()"
   ]
  },
  {
   "cell_type": "markdown",
   "metadata": {},
   "source": [
    "# Test Data Starts\n",
    "# Test - Author Feature"
   ]
  },
  {
   "cell_type": "code",
   "execution_count": 82,
   "metadata": {},
   "outputs": [],
   "source": [
    "# Test Set Data\n",
    "data_test.index = pd.RangeIndex(len(data_test_Complete.index))\n",
    "data_Author_test = data_test['authors']\n",
    "data_numberOfCitation_test = data_test['n_citation']\n",
    "data_id_test = data_test['id']"
   ]
  },
  {
   "cell_type": "code",
   "execution_count": 83,
   "metadata": {},
   "outputs": [
    {
     "name": "stdout",
     "output_type": "stream",
     "text": [
      "519\n"
     ]
    }
   ],
   "source": [
    "print(len(data_numberOfCitation_test))"
   ]
  },
  {
   "cell_type": "code",
   "execution_count": 84,
   "metadata": {},
   "outputs": [],
   "source": [
    "# Test################################################################\n",
    "# Here we are combining first and last name of authors to identify them\n",
    "# Our assumption is all authors have unique name and they are different which may not hold true for all cases \n",
    "\n",
    "# Find all authors from all the papers and store in a list\n",
    "X_test_authorValue=list()\n",
    "for key, value in data_Author_test.items():\n",
    "    X_test_authorValue.append(value)\n",
    "    \n",
    "##########################################################################################\n",
    "\n",
    "# Here we make name in X_test_authorValue as lowercase and combine the first and last name \n",
    "# And remove any spaces,special character - between names \n",
    "\n",
    "X_test_authorValue=','.join(str(e).lower().replace(\" \",\"\") for e in data_Author_test[0:len(data_Author_test)])\n",
    "X_test_authorValue=X_test_authorValue.replace('-','')\n",
    "X_test_authorValue=X_test_authorValue.replace('.','')\n",
    "\n",
    "\n",
    "# Copy contents to new string and replace blank and special character like '[', ']' inside the name\n",
    "X_test_allAuthorsNew=X_test_authorValue.replace('[','')\n",
    "X_test_allAuthorsNew=X_test_allAuthorsNew.replace(']','')\n",
    "X_test_allAuthorsNew=X_test_allAuthorsNew.replace(\" \",\"\")\n",
    "\n",
    "# We create an array X_test_authorValueArray of authors for papers by using ],[ as splitting criterion \n",
    "# And replace '[', ']' and \"'\" inside the name\n",
    "X_test_authorValueArray=X_test_authorValue.split('],[')\n",
    "X_test_authorValueArray = [s.replace('[', '') for s in X_test_authorValueArray]\n",
    "X_test_authorValueArray = [s.replace(']', '') for s in X_test_authorValueArray]"
   ]
  },
  {
   "cell_type": "code",
   "execution_count": 85,
   "metadata": {},
   "outputs": [],
   "source": [
    "# Test################################################################\n",
    "# Bag of Words Implementation\n",
    "test_vectorizer = CountVectorizer(analyzer = \"word\", tokenizer = None, preprocessor = None, stop_words = None, max_features = 500000) \n",
    "test_sentences=[X_test_allAuthorsNew]\n",
    "test_data_features = test_vectorizer.fit_transform(test_sentences)\n",
    "test_vectorizerActual=test_vectorizer.transform([value for value in X_test_authorValueArray[0:len(X_test_authorValueArray)]])\n",
    "test_vectorList = pd.SparseDataFrame(test_vectorizerActual).fillna(0)\n",
    "############################################################################\n",
    "test_authorList=pd.DataFrame(test_vectorizer.get_feature_names()).rename(index=int, columns={0: \"authorList\"})"
   ]
  },
  {
   "cell_type": "code",
   "execution_count": 86,
   "metadata": {},
   "outputs": [
    {
     "name": "stdout",
     "output_type": "stream",
     "text": [
      "1530\n",
      "519\n"
     ]
    }
   ],
   "source": [
    "# Get Number of authors Feature Names after implementation of bag of words\n",
    "print(len(test_vectorizer.get_feature_names()))\n",
    "# Get number of papers\n",
    "print(len(test_vectorList))"
   ]
  },
  {
   "cell_type": "code",
   "execution_count": 87,
   "metadata": {},
   "outputs": [],
   "source": [
    "# Get all the authors from the test set\n",
    "test_authorInfo=pd.DataFrame(test_vectorList)\n",
    "test_TotalNumberOfAuthors=test_authorList.copy()"
   ]
  },
  {
   "cell_type": "code",
   "execution_count": 88,
   "metadata": {},
   "outputs": [],
   "source": [
    "# Assign AverageCitationCount for the authors in test data set based on trained dataset\n",
    "# For new author, the default value of zero is assigned\n",
    "test_data_authorPapers= pd.merge(test_TotalNumberOfAuthors, train_author_InformationDup, on='authorList',how='left')\n",
    "test_data_authorPapers['AverageCitationCount']= test_data_authorPapers['AverageCitationCount'].fillna(0)"
   ]
  },
  {
   "cell_type": "code",
   "execution_count": 89,
   "metadata": {},
   "outputs": [],
   "source": [
    "# print(len(test_data_authorPapers[test_data_authorPapers['AverageCitationCount']!=0]))\n",
    "# print(test_data_authorPapers[test_data_authorPapers['AverageCitationCount']!=0])"
   ]
  },
  {
   "cell_type": "code",
   "execution_count": 90,
   "metadata": {},
   "outputs": [],
   "source": [
    "# Copy frame to another train_authorInfo\n",
    "test_authorInfoNew=test_authorInfo.copy()\n",
    "\n",
    "# Transposing the AverageCitationCount feature from column to a single row\n",
    "# so that the cumulating Ranking weight ['CumulativeAuthorCitationCount'] can be found out\n",
    "# And adding column CumulativeAuthorCitationCount for the paper to the same frame\n",
    "\n",
    "test_authorAverageCitationCount=pd.DataFrame((test_data_authorPapers)[\"AverageCitationCount\"]).T\n",
    "test_authorInfoNew['CumulativeAuthorCitationCount']=pd.DataFrame(test_authorInfo.iloc[:,range(0,len(test_authorInfo.columns))].values*test_authorAverageCitationCount.iloc[:,range(0,len(test_authorAverageCitationCount.columns))].values).sum(axis=1)\n",
    "test_authorInfoNew['TotalNumberOfAuthors']=pd.DataFrame(test_authorInfo.sum(axis=1))\n",
    "test_authorInfoNew['AverageCumulativeAuthorCitationCount']=pd.DataFrame(test_authorInfoNew['CumulativeAuthorCitationCount'].div(test_authorInfoNew[\"TotalNumberOfAuthors\"], axis = 0)).rename(index=int, columns={0: \"AverageCumulativeAuthorCitationCount\"})['AverageCumulativeAuthorCitationCount']"
   ]
  },
  {
   "cell_type": "code",
   "execution_count": 91,
   "metadata": {},
   "outputs": [
    {
     "data": {
      "text/html": [
       "<div>\n",
       "<style scoped>\n",
       "    .dataframe tbody tr th:only-of-type {\n",
       "        vertical-align: middle;\n",
       "    }\n",
       "\n",
       "    .dataframe tbody tr th {\n",
       "        vertical-align: top;\n",
       "    }\n",
       "\n",
       "    .dataframe thead th {\n",
       "        text-align: right;\n",
       "    }\n",
       "</style>\n",
       "<table border=\"1\" class=\"dataframe\">\n",
       "  <thead>\n",
       "    <tr style=\"text-align: right;\">\n",
       "      <th></th>\n",
       "      <th>0</th>\n",
       "      <th>1</th>\n",
       "      <th>2</th>\n",
       "      <th>3</th>\n",
       "      <th>4</th>\n",
       "      <th>5</th>\n",
       "      <th>6</th>\n",
       "      <th>7</th>\n",
       "      <th>8</th>\n",
       "      <th>9</th>\n",
       "      <th>...</th>\n",
       "      <th>1523</th>\n",
       "      <th>1524</th>\n",
       "      <th>1525</th>\n",
       "      <th>1526</th>\n",
       "      <th>1527</th>\n",
       "      <th>1528</th>\n",
       "      <th>1529</th>\n",
       "      <th>CumulativeAuthorCitationCount</th>\n",
       "      <th>TotalNumberOfAuthors</th>\n",
       "      <th>AverageCumulativeAuthorCitationCount</th>\n",
       "    </tr>\n",
       "  </thead>\n",
       "  <tbody>\n",
       "    <tr>\n",
       "      <th>0</th>\n",
       "      <td>0.0</td>\n",
       "      <td>0.0</td>\n",
       "      <td>0.0</td>\n",
       "      <td>0.0</td>\n",
       "      <td>0.0</td>\n",
       "      <td>0.0</td>\n",
       "      <td>0.0</td>\n",
       "      <td>0.0</td>\n",
       "      <td>0.0</td>\n",
       "      <td>0.0</td>\n",
       "      <td>...</td>\n",
       "      <td>0.0</td>\n",
       "      <td>0.0</td>\n",
       "      <td>0.0</td>\n",
       "      <td>0.0</td>\n",
       "      <td>0.0</td>\n",
       "      <td>0.0</td>\n",
       "      <td>0.0</td>\n",
       "      <td>0.0</td>\n",
       "      <td>2.0</td>\n",
       "      <td>0.0</td>\n",
       "    </tr>\n",
       "    <tr>\n",
       "      <th>1</th>\n",
       "      <td>0.0</td>\n",
       "      <td>0.0</td>\n",
       "      <td>0.0</td>\n",
       "      <td>0.0</td>\n",
       "      <td>0.0</td>\n",
       "      <td>0.0</td>\n",
       "      <td>0.0</td>\n",
       "      <td>0.0</td>\n",
       "      <td>0.0</td>\n",
       "      <td>0.0</td>\n",
       "      <td>...</td>\n",
       "      <td>0.0</td>\n",
       "      <td>0.0</td>\n",
       "      <td>0.0</td>\n",
       "      <td>0.0</td>\n",
       "      <td>0.0</td>\n",
       "      <td>0.0</td>\n",
       "      <td>0.0</td>\n",
       "      <td>0.0</td>\n",
       "      <td>2.0</td>\n",
       "      <td>0.0</td>\n",
       "    </tr>\n",
       "  </tbody>\n",
       "</table>\n",
       "<p>2 rows × 1533 columns</p>\n",
       "</div>"
      ],
      "text/plain": [
       "     0    1    2    3    4    5    6    7    8    9  \\\n",
       "0  0.0  0.0  0.0  0.0  0.0  0.0  0.0  0.0  0.0  0.0   \n",
       "1  0.0  0.0  0.0  0.0  0.0  0.0  0.0  0.0  0.0  0.0   \n",
       "\n",
       "                   ...                   1523  1524  1525  1526  1527  1528  \\\n",
       "0                  ...                    0.0   0.0   0.0   0.0   0.0   0.0   \n",
       "1                  ...                    0.0   0.0   0.0   0.0   0.0   0.0   \n",
       "\n",
       "   1529  CumulativeAuthorCitationCount  TotalNumberOfAuthors  \\\n",
       "0   0.0                            0.0                   2.0   \n",
       "1   0.0                            0.0                   2.0   \n",
       "\n",
       "   AverageCumulativeAuthorCitationCount  \n",
       "0                                   0.0  \n",
       "1                                   0.0  \n",
       "\n",
       "[2 rows x 1533 columns]"
      ]
     },
     "execution_count": 91,
     "metadata": {},
     "output_type": "execute_result"
    }
   ],
   "source": [
    "test_authorInfoNew.head(2)"
   ]
  },
  {
   "cell_type": "code",
   "execution_count": 92,
   "metadata": {},
   "outputs": [],
   "source": [
    "test_DataAuthor=test_authorInfoNew.copy()\n",
    "# Dropping the columns for the authors range \n",
    "test_DataAuthor.drop(range(0,len(test_DataAuthor.columns) - 3),axis=1,inplace=True)"
   ]
  },
  {
   "cell_type": "code",
   "execution_count": 93,
   "metadata": {},
   "outputs": [],
   "source": [
    "# Dropping two more features CumulativeAuthorCitationCount and TotalNumberOfAuthors\n",
    "test_DataAuthor.drop(['CumulativeAuthorCitationCount','TotalNumberOfAuthors'],axis=1,inplace=True)"
   ]
  },
  {
   "cell_type": "code",
   "execution_count": 94,
   "metadata": {},
   "outputs": [],
   "source": [
    "# Assigning the id feature to the existing dataset with AverageCumulativeAuthorCitationCount(AcCc) dataset\n",
    "test_DataAuthor['id']=data_id_test"
   ]
  },
  {
   "cell_type": "code",
   "execution_count": 95,
   "metadata": {},
   "outputs": [
    {
     "data": {
      "text/html": [
       "<div>\n",
       "<style scoped>\n",
       "    .dataframe tbody tr th:only-of-type {\n",
       "        vertical-align: middle;\n",
       "    }\n",
       "\n",
       "    .dataframe tbody tr th {\n",
       "        vertical-align: top;\n",
       "    }\n",
       "\n",
       "    .dataframe thead th {\n",
       "        text-align: right;\n",
       "    }\n",
       "</style>\n",
       "<table border=\"1\" class=\"dataframe\">\n",
       "  <thead>\n",
       "    <tr style=\"text-align: right;\">\n",
       "      <th></th>\n",
       "      <th>AverageCumulativeAuthorCitationCount</th>\n",
       "      <th>id</th>\n",
       "    </tr>\n",
       "  </thead>\n",
       "  <tbody>\n",
       "    <tr>\n",
       "      <th>0</th>\n",
       "      <td>0.0</td>\n",
       "      <td>a5d31c22-bdb4-4f0d-ab7b-4af2a8e37b9c</td>\n",
       "    </tr>\n",
       "    <tr>\n",
       "      <th>1</th>\n",
       "      <td>0.0</td>\n",
       "      <td>4c5ed508-b6e5-4db5-a59f-00e1d88dc221</td>\n",
       "    </tr>\n",
       "  </tbody>\n",
       "</table>\n",
       "</div>"
      ],
      "text/plain": [
       "   AverageCumulativeAuthorCitationCount                                    id\n",
       "0                                   0.0  a5d31c22-bdb4-4f0d-ab7b-4af2a8e37b9c\n",
       "1                                   0.0  4c5ed508-b6e5-4db5-a59f-00e1d88dc221"
      ]
     },
     "execution_count": 95,
     "metadata": {},
     "output_type": "execute_result"
    }
   ],
   "source": [
    "# Display of the test dataset\n",
    "test_DataAuthor.head(2)"
   ]
  },
  {
   "cell_type": "code",
   "execution_count": 96,
   "metadata": {},
   "outputs": [
    {
     "name": "stdout",
     "output_type": "stream",
     "text": [
      "126\n"
     ]
    }
   ],
   "source": [
    "# Total number of authors who have AverageCumulativeAuthorCitationCount(AcCc) not equal to zero \n",
    "# which is due to new authors or the number of citations they got in the papers is zero(Not famous authors in the period)\n",
    "print(len(test_DataAuthor[test_DataAuthor['AverageCumulativeAuthorCitationCount']!=0]))"
   ]
  },
  {
   "cell_type": "code",
   "execution_count": 97,
   "metadata": {},
   "outputs": [
    {
     "data": {
      "text/html": [
       "<div>\n",
       "<style scoped>\n",
       "    .dataframe tbody tr th:only-of-type {\n",
       "        vertical-align: middle;\n",
       "    }\n",
       "\n",
       "    .dataframe tbody tr th {\n",
       "        vertical-align: top;\n",
       "    }\n",
       "\n",
       "    .dataframe thead th {\n",
       "        text-align: right;\n",
       "    }\n",
       "</style>\n",
       "<table border=\"1\" class=\"dataframe\">\n",
       "  <thead>\n",
       "    <tr style=\"text-align: right;\">\n",
       "      <th></th>\n",
       "      <th>AverageCumulativeAuthorCitationCount</th>\n",
       "      <th>id</th>\n",
       "    </tr>\n",
       "  </thead>\n",
       "  <tbody>\n",
       "    <tr>\n",
       "      <th>0</th>\n",
       "      <td>0.0</td>\n",
       "      <td>a5d31c22-bdb4-4f0d-ab7b-4af2a8e37b9c</td>\n",
       "    </tr>\n",
       "  </tbody>\n",
       "</table>\n",
       "</div>"
      ],
      "text/plain": [
       "   AverageCumulativeAuthorCitationCount                                    id\n",
       "0                                   0.0  a5d31c22-bdb4-4f0d-ab7b-4af2a8e37b9c"
      ]
     },
     "execution_count": 97,
     "metadata": {},
     "output_type": "execute_result"
    }
   ],
   "source": [
    "# print(test_DataAuthor[test_DataAuthor['AverageCumulativeAuthorCitationCount']!=0].head(2))\n",
    "test_DataAuthor.head(1)"
   ]
  },
  {
   "cell_type": "markdown",
   "metadata": {},
   "source": [
    "# Test - Paper Age Feature"
   ]
  },
  {
   "cell_type": "code",
   "execution_count": 98,
   "metadata": {},
   "outputs": [],
   "source": [
    "# age = \"Aminer citation data released\" - \"paper published year\"\n",
    "# Release date of Aminer version 10 dataset is 2018.\n",
    "test=data_test_Complete\n",
    "test=data_test.copy()\n",
    "test['age']=2018- test.year\n",
    "test.head()\n",
    "test.drop('Unnamed: 0',axis=1,inplace=True)"
   ]
  },
  {
   "cell_type": "markdown",
   "metadata": {},
   "source": [
    "# Test - Average Venue Citation Feature(avgVenueCite)\n",
    "\n",
    "#### avgVenueCite = (Sum of citation count of all the papers presented at the venue)/(Total number of papers presented at the venue)\n",
    "#### Stored venue and its avgVenueCite in '../Data/AvgVenueCitationFromTrainData.csv' file."
   ]
  },
  {
   "cell_type": "code",
   "execution_count": 99,
   "metadata": {},
   "outputs": [],
   "source": [
    "# To change to 2009\n",
    "# test=data_test_Complete\n",
    "# test = pd.read_csv('../Data/test2010/test2010.csv', index_col='Unnamed: 0')"
   ]
  },
  {
   "cell_type": "code",
   "execution_count": 100,
   "metadata": {},
   "outputs": [],
   "source": [
    "AvgVenueCite.drop('Unnamed: 0',axis=1,inplace=True)"
   ]
  },
  {
   "cell_type": "code",
   "execution_count": 101,
   "metadata": {},
   "outputs": [],
   "source": [
    "# Merged test data with its avg citation count.\n",
    "test_venue = pd.merge(test, AvgVenueCite, on=['venue'], how='left')"
   ]
  },
  {
   "cell_type": "code",
   "execution_count": 102,
   "metadata": {},
   "outputs": [
    {
     "name": "stdout",
     "output_type": "stream",
     "text": [
      "<class 'pandas.core.frame.DataFrame'>\n",
      "Int64Index: 519 entries, 0 to 518\n",
      "Data columns (total 10 columns):\n",
      "abstract        192 non-null object\n",
      "authors         519 non-null object\n",
      "id              519 non-null object\n",
      "n_citation      519 non-null int64\n",
      "references      519 non-null object\n",
      "title           519 non-null object\n",
      "venue           304 non-null object\n",
      "year            519 non-null int64\n",
      "age             519 non-null int64\n",
      "avgVenueCite    224 non-null float64\n",
      "dtypes: float64(1), int64(3), object(6)\n",
      "memory usage: 44.6+ KB\n"
     ]
    }
   ],
   "source": [
    "test_venue.info()"
   ]
  },
  {
   "cell_type": "code",
   "execution_count": 103,
   "metadata": {},
   "outputs": [],
   "source": [
    "# Assumption: for venue who's avgVenueCite is not found in '../Data/AvgVenueCitationFromTrainData.csv'\n",
    "# will be assigned with 0\n",
    "test_venue.avgVenueCite.replace(np.nan, 0, inplace=True)"
   ]
  },
  {
   "cell_type": "code",
   "execution_count": 104,
   "metadata": {
    "scrolled": true
   },
   "outputs": [
    {
     "data": {
      "text/plain": [
       "519"
      ]
     },
     "execution_count": 104,
     "metadata": {},
     "output_type": "execute_result"
    }
   ],
   "source": [
    "len(test_venue)"
   ]
  },
  {
   "cell_type": "markdown",
   "metadata": {},
   "source": [
    "# Test - Aminer Venue Rank and H5- Index Features"
   ]
  },
  {
   "cell_type": "code",
   "execution_count": 105,
   "metadata": {},
   "outputs": [
    {
     "name": "stdout",
     "output_type": "stream",
     "text": [
      "<class 'pandas.core.frame.DataFrame'>\n",
      "RangeIndex: 519 entries, 0 to 518\n",
      "Data columns (total 9 columns):\n",
      "abstract      192 non-null object\n",
      "authors       519 non-null object\n",
      "id            519 non-null object\n",
      "n_citation    519 non-null int64\n",
      "references    519 non-null object\n",
      "title         519 non-null object\n",
      "venue         304 non-null object\n",
      "year          519 non-null int64\n",
      "age           519 non-null int64\n",
      "dtypes: int64(3), object(6)\n",
      "memory usage: 36.6+ KB\n"
     ]
    }
   ],
   "source": [
    "test.venue = test.venue.str.lower()\n",
    "test.info()"
   ]
  },
  {
   "cell_type": "code",
   "execution_count": 106,
   "metadata": {},
   "outputs": [
    {
     "data": {
      "text/html": [
       "<div>\n",
       "<style scoped>\n",
       "    .dataframe tbody tr th:only-of-type {\n",
       "        vertical-align: middle;\n",
       "    }\n",
       "\n",
       "    .dataframe tbody tr th {\n",
       "        vertical-align: top;\n",
       "    }\n",
       "\n",
       "    .dataframe thead th {\n",
       "        text-align: right;\n",
       "    }\n",
       "</style>\n",
       "<table border=\"1\" class=\"dataframe\">\n",
       "  <thead>\n",
       "    <tr style=\"text-align: right;\">\n",
       "      <th></th>\n",
       "      <th>abstract</th>\n",
       "      <th>authors</th>\n",
       "      <th>id</th>\n",
       "      <th>n_citation</th>\n",
       "      <th>references</th>\n",
       "      <th>title</th>\n",
       "      <th>venue</th>\n",
       "      <th>year</th>\n",
       "      <th>age</th>\n",
       "      <th>avgVenueCite</th>\n",
       "      <th>Rank</th>\n",
       "      <th>H5-Index</th>\n",
       "    </tr>\n",
       "  </thead>\n",
       "  <tbody>\n",
       "    <tr>\n",
       "      <th>0</th>\n",
       "      <td>We consider a problem of considerable practica...</td>\n",
       "      <td>['Emmanuel J. Candès', 'Benjamin Recht']</td>\n",
       "      <td>a5d31c22-bdb4-4f0d-ab7b-4af2a8e37b9c</td>\n",
       "      <td>2844</td>\n",
       "      <td>['1976db1f-ba16-433b-b918-c04a50293153', '1bfa...</td>\n",
       "      <td>Exact Matrix Completion via Convex Optimization</td>\n",
       "      <td>Foundations of Computational Mathematics</td>\n",
       "      <td>2009</td>\n",
       "      <td>9</td>\n",
       "      <td>0.00</td>\n",
       "      <td>NaN</td>\n",
       "      <td>NaN</td>\n",
       "    </tr>\n",
       "    <tr>\n",
       "      <th>1</th>\n",
       "      <td>We show how to learn a deep graphical model of...</td>\n",
       "      <td>['Ruslan Salakhutdinov', 'Geoffrey E. Hinton']</td>\n",
       "      <td>4c5ed508-b6e5-4db5-a59f-00e1d88dc221</td>\n",
       "      <td>789</td>\n",
       "      <td>['0ad38f3e-8131-4287-9e62-2b2ae77f47f7', '1ce7...</td>\n",
       "      <td>Semantic hashing</td>\n",
       "      <td></td>\n",
       "      <td>2009</td>\n",
       "      <td>9</td>\n",
       "      <td>0.00</td>\n",
       "      <td>1000.0</td>\n",
       "      <td>0.0</td>\n",
       "    </tr>\n",
       "    <tr>\n",
       "      <th>2</th>\n",
       "      <td>NaN</td>\n",
       "      <td>['Jeff Z. Pan']</td>\n",
       "      <td>a5388275-30dd-4ea7-9695-5da0ecd763b5</td>\n",
       "      <td>722</td>\n",
       "      <td>['23f1f137-5e9b-450e-ab31-c3512e3e4b47', '25f9...</td>\n",
       "      <td>Resource Description Framework</td>\n",
       "      <td></td>\n",
       "      <td>2009</td>\n",
       "      <td>9</td>\n",
       "      <td>0.00</td>\n",
       "      <td>1000.0</td>\n",
       "      <td>0.0</td>\n",
       "    </tr>\n",
       "    <tr>\n",
       "      <th>3</th>\n",
       "      <td>Semi-supervised clustering algorithms aim to i...</td>\n",
       "      <td>['Brian Kulis', 'Sugato Basu', 'Inderjit S. Dh...</td>\n",
       "      <td>1c7c10b0-2e48-4182-805e-d923ebd1a1c4</td>\n",
       "      <td>452</td>\n",
       "      <td>['01b4a097-49a7-4218-a255-49efbd4b5e6e', '0cdb...</td>\n",
       "      <td>Semi-supervised graph clustering: a kernel app...</td>\n",
       "      <td>Machine Learning</td>\n",
       "      <td>2009</td>\n",
       "      <td>9</td>\n",
       "      <td>91.75</td>\n",
       "      <td>NaN</td>\n",
       "      <td>NaN</td>\n",
       "    </tr>\n",
       "    <tr>\n",
       "      <th>4</th>\n",
       "      <td>Ontology matching consists of finding correspo...</td>\n",
       "      <td>['Jérôme Euzenat', 'Alfio Ferrara', 'Laura Hol...</td>\n",
       "      <td>f967618b-e047-43a9-bea8-44b9e74d708f</td>\n",
       "      <td>431</td>\n",
       "      <td>['21d7d0ce-ee66-4bc3-9faa-3851f15d6036', '3bcd...</td>\n",
       "      <td>Results of the ontology alignment evaluation i...</td>\n",
       "      <td></td>\n",
       "      <td>2009</td>\n",
       "      <td>9</td>\n",
       "      <td>0.00</td>\n",
       "      <td>1000.0</td>\n",
       "      <td>0.0</td>\n",
       "    </tr>\n",
       "  </tbody>\n",
       "</table>\n",
       "</div>"
      ],
      "text/plain": [
       "                                            abstract  \\\n",
       "0  We consider a problem of considerable practica...   \n",
       "1  We show how to learn a deep graphical model of...   \n",
       "2                                                NaN   \n",
       "3  Semi-supervised clustering algorithms aim to i...   \n",
       "4  Ontology matching consists of finding correspo...   \n",
       "\n",
       "                                             authors  \\\n",
       "0           ['Emmanuel J. Candès', 'Benjamin Recht']   \n",
       "1     ['Ruslan Salakhutdinov', 'Geoffrey E. Hinton']   \n",
       "2                                    ['Jeff Z. Pan']   \n",
       "3  ['Brian Kulis', 'Sugato Basu', 'Inderjit S. Dh...   \n",
       "4  ['Jérôme Euzenat', 'Alfio Ferrara', 'Laura Hol...   \n",
       "\n",
       "                                     id  n_citation  \\\n",
       "0  a5d31c22-bdb4-4f0d-ab7b-4af2a8e37b9c        2844   \n",
       "1  4c5ed508-b6e5-4db5-a59f-00e1d88dc221         789   \n",
       "2  a5388275-30dd-4ea7-9695-5da0ecd763b5         722   \n",
       "3  1c7c10b0-2e48-4182-805e-d923ebd1a1c4         452   \n",
       "4  f967618b-e047-43a9-bea8-44b9e74d708f         431   \n",
       "\n",
       "                                          references  \\\n",
       "0  ['1976db1f-ba16-433b-b918-c04a50293153', '1bfa...   \n",
       "1  ['0ad38f3e-8131-4287-9e62-2b2ae77f47f7', '1ce7...   \n",
       "2  ['23f1f137-5e9b-450e-ab31-c3512e3e4b47', '25f9...   \n",
       "3  ['01b4a097-49a7-4218-a255-49efbd4b5e6e', '0cdb...   \n",
       "4  ['21d7d0ce-ee66-4bc3-9faa-3851f15d6036', '3bcd...   \n",
       "\n",
       "                                               title  \\\n",
       "0    Exact Matrix Completion via Convex Optimization   \n",
       "1                                   Semantic hashing   \n",
       "2                     Resource Description Framework   \n",
       "3  Semi-supervised graph clustering: a kernel app...   \n",
       "4  Results of the ontology alignment evaluation i...   \n",
       "\n",
       "                                      venue  year  age  avgVenueCite    Rank  \\\n",
       "0  Foundations of Computational Mathematics  2009    9          0.00     NaN   \n",
       "1                                            2009    9          0.00  1000.0   \n",
       "2                                            2009    9          0.00  1000.0   \n",
       "3                          Machine Learning  2009    9         91.75     NaN   \n",
       "4                                            2009    9          0.00  1000.0   \n",
       "\n",
       "   H5-Index  \n",
       "0       NaN  \n",
       "1       0.0  \n",
       "2       0.0  \n",
       "3       NaN  \n",
       "4       0.0  "
      ]
     },
     "execution_count": 106,
     "metadata": {},
     "output_type": "execute_result"
    }
   ],
   "source": [
    "test=test_venue\n",
    "# Assumption: for an unknown venue we assigned an empty string\n",
    "# to which we give Rank and H5-Index as 1000 and 0 respectively in the next step.\n",
    "test['venue'] = test['venue'].replace(np.nan, '')\n",
    "test_aminer = pd.merge(test, aminer_data,  how='left', on=['venue'])\n",
    "test_aminer.head()"
   ]
  },
  {
   "cell_type": "code",
   "execution_count": 107,
   "metadata": {},
   "outputs": [
    {
     "name": "stdout",
     "output_type": "stream",
     "text": [
      "<class 'pandas.core.frame.DataFrame'>\n",
      "Int64Index: 519 entries, 0 to 518\n",
      "Data columns (total 12 columns):\n",
      "abstract        192 non-null object\n",
      "authors         519 non-null object\n",
      "id              519 non-null object\n",
      "n_citation      519 non-null int64\n",
      "references      519 non-null object\n",
      "title           519 non-null object\n",
      "venue           519 non-null object\n",
      "year            519 non-null int64\n",
      "age             519 non-null int64\n",
      "avgVenueCite    519 non-null float64\n",
      "Rank            519 non-null float64\n",
      "H5-Index        519 non-null float64\n",
      "dtypes: float64(3), int64(3), object(6)\n",
      "memory usage: 52.7+ KB\n"
     ]
    }
   ],
   "source": [
    "# Assumption: venues which are not found in \"../Data/Aminer_Conf_Ranks.csv\"\n",
    "# are assigned with 1000 Rank and 0 H5-Index\n",
    "test_aminer['Rank'] = test_aminer['Rank'].replace(np.nan, 1000)\n",
    "test_aminer['H5-Index'] = test_aminer['H5-Index'].replace(np.nan, 0)\n",
    "test_aminer.info()"
   ]
  },
  {
   "cell_type": "code",
   "execution_count": 108,
   "metadata": {},
   "outputs": [
    {
     "data": {
      "text/html": [
       "<div>\n",
       "<style scoped>\n",
       "    .dataframe tbody tr th:only-of-type {\n",
       "        vertical-align: middle;\n",
       "    }\n",
       "\n",
       "    .dataframe tbody tr th {\n",
       "        vertical-align: top;\n",
       "    }\n",
       "\n",
       "    .dataframe thead th {\n",
       "        text-align: right;\n",
       "    }\n",
       "</style>\n",
       "<table border=\"1\" class=\"dataframe\">\n",
       "  <thead>\n",
       "    <tr style=\"text-align: right;\">\n",
       "      <th></th>\n",
       "      <th>abstract</th>\n",
       "      <th>authors</th>\n",
       "      <th>id</th>\n",
       "      <th>n_citation</th>\n",
       "      <th>references</th>\n",
       "      <th>title</th>\n",
       "      <th>venue</th>\n",
       "      <th>year</th>\n",
       "      <th>age</th>\n",
       "      <th>avgVenueCite</th>\n",
       "      <th>Rank</th>\n",
       "      <th>H5-Index</th>\n",
       "    </tr>\n",
       "  </thead>\n",
       "  <tbody>\n",
       "    <tr>\n",
       "      <th>0</th>\n",
       "      <td>We consider a problem of considerable practica...</td>\n",
       "      <td>['Emmanuel J. Candès', 'Benjamin Recht']</td>\n",
       "      <td>a5d31c22-bdb4-4f0d-ab7b-4af2a8e37b9c</td>\n",
       "      <td>2844</td>\n",
       "      <td>['1976db1f-ba16-433b-b918-c04a50293153', '1bfa...</td>\n",
       "      <td>Exact Matrix Completion via Convex Optimization</td>\n",
       "      <td>Foundations of Computational Mathematics</td>\n",
       "      <td>2009</td>\n",
       "      <td>9</td>\n",
       "      <td>0.00</td>\n",
       "      <td>1000.0</td>\n",
       "      <td>0.0</td>\n",
       "    </tr>\n",
       "    <tr>\n",
       "      <th>1</th>\n",
       "      <td>We show how to learn a deep graphical model of...</td>\n",
       "      <td>['Ruslan Salakhutdinov', 'Geoffrey E. Hinton']</td>\n",
       "      <td>4c5ed508-b6e5-4db5-a59f-00e1d88dc221</td>\n",
       "      <td>789</td>\n",
       "      <td>['0ad38f3e-8131-4287-9e62-2b2ae77f47f7', '1ce7...</td>\n",
       "      <td>Semantic hashing</td>\n",
       "      <td></td>\n",
       "      <td>2009</td>\n",
       "      <td>9</td>\n",
       "      <td>0.00</td>\n",
       "      <td>1000.0</td>\n",
       "      <td>0.0</td>\n",
       "    </tr>\n",
       "    <tr>\n",
       "      <th>2</th>\n",
       "      <td>NaN</td>\n",
       "      <td>['Jeff Z. Pan']</td>\n",
       "      <td>a5388275-30dd-4ea7-9695-5da0ecd763b5</td>\n",
       "      <td>722</td>\n",
       "      <td>['23f1f137-5e9b-450e-ab31-c3512e3e4b47', '25f9...</td>\n",
       "      <td>Resource Description Framework</td>\n",
       "      <td></td>\n",
       "      <td>2009</td>\n",
       "      <td>9</td>\n",
       "      <td>0.00</td>\n",
       "      <td>1000.0</td>\n",
       "      <td>0.0</td>\n",
       "    </tr>\n",
       "    <tr>\n",
       "      <th>3</th>\n",
       "      <td>Semi-supervised clustering algorithms aim to i...</td>\n",
       "      <td>['Brian Kulis', 'Sugato Basu', 'Inderjit S. Dh...</td>\n",
       "      <td>1c7c10b0-2e48-4182-805e-d923ebd1a1c4</td>\n",
       "      <td>452</td>\n",
       "      <td>['01b4a097-49a7-4218-a255-49efbd4b5e6e', '0cdb...</td>\n",
       "      <td>Semi-supervised graph clustering: a kernel app...</td>\n",
       "      <td>Machine Learning</td>\n",
       "      <td>2009</td>\n",
       "      <td>9</td>\n",
       "      <td>91.75</td>\n",
       "      <td>1000.0</td>\n",
       "      <td>0.0</td>\n",
       "    </tr>\n",
       "    <tr>\n",
       "      <th>4</th>\n",
       "      <td>Ontology matching consists of finding correspo...</td>\n",
       "      <td>['Jérôme Euzenat', 'Alfio Ferrara', 'Laura Hol...</td>\n",
       "      <td>f967618b-e047-43a9-bea8-44b9e74d708f</td>\n",
       "      <td>431</td>\n",
       "      <td>['21d7d0ce-ee66-4bc3-9faa-3851f15d6036', '3bcd...</td>\n",
       "      <td>Results of the ontology alignment evaluation i...</td>\n",
       "      <td></td>\n",
       "      <td>2009</td>\n",
       "      <td>9</td>\n",
       "      <td>0.00</td>\n",
       "      <td>1000.0</td>\n",
       "      <td>0.0</td>\n",
       "    </tr>\n",
       "  </tbody>\n",
       "</table>\n",
       "</div>"
      ],
      "text/plain": [
       "                                            abstract  \\\n",
       "0  We consider a problem of considerable practica...   \n",
       "1  We show how to learn a deep graphical model of...   \n",
       "2                                                NaN   \n",
       "3  Semi-supervised clustering algorithms aim to i...   \n",
       "4  Ontology matching consists of finding correspo...   \n",
       "\n",
       "                                             authors  \\\n",
       "0           ['Emmanuel J. Candès', 'Benjamin Recht']   \n",
       "1     ['Ruslan Salakhutdinov', 'Geoffrey E. Hinton']   \n",
       "2                                    ['Jeff Z. Pan']   \n",
       "3  ['Brian Kulis', 'Sugato Basu', 'Inderjit S. Dh...   \n",
       "4  ['Jérôme Euzenat', 'Alfio Ferrara', 'Laura Hol...   \n",
       "\n",
       "                                     id  n_citation  \\\n",
       "0  a5d31c22-bdb4-4f0d-ab7b-4af2a8e37b9c        2844   \n",
       "1  4c5ed508-b6e5-4db5-a59f-00e1d88dc221         789   \n",
       "2  a5388275-30dd-4ea7-9695-5da0ecd763b5         722   \n",
       "3  1c7c10b0-2e48-4182-805e-d923ebd1a1c4         452   \n",
       "4  f967618b-e047-43a9-bea8-44b9e74d708f         431   \n",
       "\n",
       "                                          references  \\\n",
       "0  ['1976db1f-ba16-433b-b918-c04a50293153', '1bfa...   \n",
       "1  ['0ad38f3e-8131-4287-9e62-2b2ae77f47f7', '1ce7...   \n",
       "2  ['23f1f137-5e9b-450e-ab31-c3512e3e4b47', '25f9...   \n",
       "3  ['01b4a097-49a7-4218-a255-49efbd4b5e6e', '0cdb...   \n",
       "4  ['21d7d0ce-ee66-4bc3-9faa-3851f15d6036', '3bcd...   \n",
       "\n",
       "                                               title  \\\n",
       "0    Exact Matrix Completion via Convex Optimization   \n",
       "1                                   Semantic hashing   \n",
       "2                     Resource Description Framework   \n",
       "3  Semi-supervised graph clustering: a kernel app...   \n",
       "4  Results of the ontology alignment evaluation i...   \n",
       "\n",
       "                                      venue  year  age  avgVenueCite    Rank  \\\n",
       "0  Foundations of Computational Mathematics  2009    9          0.00  1000.0   \n",
       "1                                            2009    9          0.00  1000.0   \n",
       "2                                            2009    9          0.00  1000.0   \n",
       "3                          Machine Learning  2009    9         91.75  1000.0   \n",
       "4                                            2009    9          0.00  1000.0   \n",
       "\n",
       "   H5-Index  \n",
       "0       0.0  \n",
       "1       0.0  \n",
       "2       0.0  \n",
       "3       0.0  \n",
       "4       0.0  "
      ]
     },
     "execution_count": 108,
     "metadata": {},
     "output_type": "execute_result"
    }
   ],
   "source": [
    "test_aminer.head()"
   ]
  },
  {
   "cell_type": "code",
   "execution_count": 109,
   "metadata": {},
   "outputs": [],
   "source": [
    "test_aminer.drop(['authors','title','venue'],axis=1,inplace=True)"
   ]
  },
  {
   "cell_type": "markdown",
   "metadata": {},
   "source": [
    "# Test - Reference Count Features\n",
    "\n",
    "##### Reference Citation Count = sum(referred paper's citation count) / (Total No. of referred paper's)"
   ]
  },
  {
   "cell_type": "code",
   "execution_count": 110,
   "metadata": {},
   "outputs": [],
   "source": [
    "# Created a sub dataframe of required feature to calcualte Reference Citation Count\n",
    "test_ref = test[['id', 'references', 'n_citation']]"
   ]
  },
  {
   "cell_type": "code",
   "execution_count": 111,
   "metadata": {},
   "outputs": [
    {
     "name": "stderr",
     "output_type": "stream",
     "text": [
      "C:\\Users\\Suresh\\Anaconda3\\lib\\site-packages\\ipykernel_launcher.py:2: SettingWithCopyWarning: \n",
      "A value is trying to be set on a copy of a slice from a DataFrame.\n",
      "Try using .loc[row_indexer,col_indexer] = value instead\n",
      "\n",
      "See the caveats in the documentation: http://pandas.pydata.org/pandas-docs/stable/indexing.html#indexing-view-versus-copy\n",
      "  \n"
     ]
    }
   ],
   "source": [
    "# Converted string structured list to list object.\n",
    "test_ref['references'] = test_ref['references'].apply(literal_eval)"
   ]
  },
  {
   "cell_type": "code",
   "execution_count": 112,
   "metadata": {},
   "outputs": [
    {
     "name": "stderr",
     "output_type": "stream",
     "text": [
      "C:\\Users\\Suresh\\Anaconda3\\lib\\site-packages\\pandas\\core\\indexing.py:362: SettingWithCopyWarning: \n",
      "A value is trying to be set on a copy of a slice from a DataFrame.\n",
      "Try using .loc[row_indexer,col_indexer] = value instead\n",
      "\n",
      "See the caveats in the documentation: http://pandas.pydata.org/pandas-docs/stable/indexing.html#indexing-view-versus-copy\n",
      "  self.obj[key] = _infer_fill_value(value)\n",
      "C:\\Users\\Suresh\\Anaconda3\\lib\\site-packages\\pandas\\core\\indexing.py:543: SettingWithCopyWarning: \n",
      "A value is trying to be set on a copy of a slice from a DataFrame.\n",
      "Try using .loc[row_indexer,col_indexer] = value instead\n",
      "\n",
      "See the caveats in the documentation: http://pandas.pydata.org/pandas-docs/stable/indexing.html#indexing-view-versus-copy\n",
      "  self.obj[item] = s\n"
     ]
    },
    {
     "name": "stdout",
     "output_type": "stream",
     "text": [
      "518\r"
     ]
    }
   ],
   "source": [
    "# created a list of referred paper's citation count \n",
    "# using that list max, sum and average as been calculated.\n",
    "for i, row in test_ref.iterrows():\n",
    "#     print(row.references)\n",
    "    count = [0]\n",
    "    for ref in row.references:\n",
    "        ref_data = test_ref[test_ref.id == ref]\n",
    "        if not ref_data.empty:\n",
    "            count.append(ref_data.iat[0,2])\n",
    "#             if count > 0:\n",
    "#                 print(i, ref_data.index, count)\n",
    "    test_ref.at[i, 'ref_max_count'] = max(count)\n",
    "    test_ref.at[i, 'ref_sum_count'] = sum(count)\n",
    "    test_ref.at[i, 'ref_avg_count'] = sum(count)/len(count)\n",
    "    print(i, end='\\r')"
   ]
  },
  {
   "cell_type": "code",
   "execution_count": 113,
   "metadata": {},
   "outputs": [],
   "source": [
    "# correlation between max, sum, avg of referred paper's citation count and citation count of the paper\n",
    "test_aminer = pd.merge(test_aminer, test_ref.drop(['ref_max_count','ref_sum_count','references','n_citation'],axis=1),  how='left', on=['id'])"
   ]
  },
  {
   "cell_type": "markdown",
   "metadata": {},
   "source": [
    "# Application of Machine Learning Model"
   ]
  },
  {
   "cell_type": "code",
   "execution_count": 114,
   "metadata": {},
   "outputs": [],
   "source": [
    "# Four datasets formed\n",
    "# X_train and Y_train are for training \n",
    "# X_test and Y_test are for testing\n",
    "\n",
    "X_train = pd.merge(train_aminer, train_authorInfoNewCopy,  how='left', on=['id'])\n",
    "Y_train= train_aminer['n_citation']\n",
    "X_test = pd.merge(test_aminer, test_DataAuthor,  how='left', on=['id'])\n",
    "Y_test = test_aminer['n_citation']"
   ]
  },
  {
   "cell_type": "code",
   "execution_count": 115,
   "metadata": {},
   "outputs": [
    {
     "data": {
      "text/plain": [
       "9345"
      ]
     },
     "execution_count": 115,
     "metadata": {},
     "output_type": "execute_result"
    }
   ],
   "source": [
    "len(Y_train)"
   ]
  },
  {
   "cell_type": "code",
   "execution_count": 116,
   "metadata": {},
   "outputs": [],
   "source": [
    "# Dropping the unnecessary features before application of the machine learning algorithms\n",
    "X_train.drop(['id','authors','title','venue','n_citation','year','references','abstract'],axis=1,inplace=True)\n",
    "X_test.drop(['id','n_citation','year','references','abstract'],axis=1,inplace=True)"
   ]
  },
  {
   "cell_type": "code",
   "execution_count": 117,
   "metadata": {},
   "outputs": [],
   "source": [
    "# Storing the training and test values which can be retrieved later\n",
    "X_train_Dup=X_train.copy()\n",
    "X_test_Dup=X_test.copy()"
   ]
  },
  {
   "cell_type": "code",
   "execution_count": 118,
   "metadata": {},
   "outputs": [
    {
     "name": "stdout",
     "output_type": "stream",
     "text": [
      "<class 'pandas.core.frame.DataFrame'>\n",
      "Int64Index: 9345 entries, 0 to 9344\n",
      "Data columns (total 6 columns):\n",
      "age                                     9345 non-null int64\n",
      "avgVenueCite                            9345 non-null float64\n",
      "Rank                                    9345 non-null float64\n",
      "H5-Index                                9345 non-null float64\n",
      "ref_avg_count                           9345 non-null float64\n",
      "AverageCumulativeAuthorCitationCount    9345 non-null float64\n",
      "dtypes: float64(5), int64(1)\n",
      "memory usage: 511.1 KB\n"
     ]
    }
   ],
   "source": [
    "X_train_Dup.info()"
   ]
  },
  {
   "cell_type": "code",
   "execution_count": 119,
   "metadata": {},
   "outputs": [
    {
     "data": {
      "text/html": [
       "<div>\n",
       "<style scoped>\n",
       "    .dataframe tbody tr th:only-of-type {\n",
       "        vertical-align: middle;\n",
       "    }\n",
       "\n",
       "    .dataframe tbody tr th {\n",
       "        vertical-align: top;\n",
       "    }\n",
       "\n",
       "    .dataframe thead th {\n",
       "        text-align: right;\n",
       "    }\n",
       "</style>\n",
       "<table border=\"1\" class=\"dataframe\">\n",
       "  <thead>\n",
       "    <tr style=\"text-align: right;\">\n",
       "      <th></th>\n",
       "      <th>age</th>\n",
       "      <th>avgVenueCite</th>\n",
       "      <th>Rank</th>\n",
       "      <th>H5-Index</th>\n",
       "      <th>ref_avg_count</th>\n",
       "      <th>AverageCumulativeAuthorCitationCount</th>\n",
       "    </tr>\n",
       "  </thead>\n",
       "  <tbody>\n",
       "    <tr>\n",
       "      <th>count</th>\n",
       "      <td>9345.000000</td>\n",
       "      <td>9345.000000</td>\n",
       "      <td>9345.000000</td>\n",
       "      <td>9345.000000</td>\n",
       "      <td>9345.000000</td>\n",
       "      <td>9345.000000</td>\n",
       "    </tr>\n",
       "    <tr>\n",
       "      <th>mean</th>\n",
       "      <td>16.547030</td>\n",
       "      <td>18.220546</td>\n",
       "      <td>952.525950</td>\n",
       "      <td>2.384377</td>\n",
       "      <td>3.529526</td>\n",
       "      <td>29.837566</td>\n",
       "    </tr>\n",
       "    <tr>\n",
       "      <th>std</th>\n",
       "      <td>6.631342</td>\n",
       "      <td>44.184947</td>\n",
       "      <td>177.757744</td>\n",
       "      <td>9.179347</td>\n",
       "      <td>71.619792</td>\n",
       "      <td>123.819022</td>\n",
       "    </tr>\n",
       "    <tr>\n",
       "      <th>min</th>\n",
       "      <td>10.000000</td>\n",
       "      <td>0.000000</td>\n",
       "      <td>2.000000</td>\n",
       "      <td>0.000000</td>\n",
       "      <td>0.000000</td>\n",
       "      <td>0.000000</td>\n",
       "    </tr>\n",
       "    <tr>\n",
       "      <th>25%</th>\n",
       "      <td>12.000000</td>\n",
       "      <td>0.000000</td>\n",
       "      <td>1000.000000</td>\n",
       "      <td>0.000000</td>\n",
       "      <td>0.000000</td>\n",
       "      <td>0.000000</td>\n",
       "    </tr>\n",
       "    <tr>\n",
       "      <th>50%</th>\n",
       "      <td>14.000000</td>\n",
       "      <td>16.943557</td>\n",
       "      <td>1000.000000</td>\n",
       "      <td>0.000000</td>\n",
       "      <td>0.000000</td>\n",
       "      <td>6.250000</td>\n",
       "    </tr>\n",
       "    <tr>\n",
       "      <th>75%</th>\n",
       "      <td>18.000000</td>\n",
       "      <td>16.943557</td>\n",
       "      <td>1000.000000</td>\n",
       "      <td>0.000000</td>\n",
       "      <td>0.000000</td>\n",
       "      <td>45.000000</td>\n",
       "    </tr>\n",
       "    <tr>\n",
       "      <th>max</th>\n",
       "      <td>63.000000</td>\n",
       "      <td>1362.000000</td>\n",
       "      <td>1000.000000</td>\n",
       "      <td>128.000000</td>\n",
       "      <td>3545.500000</td>\n",
       "      <td>7091.000000</td>\n",
       "    </tr>\n",
       "  </tbody>\n",
       "</table>\n",
       "</div>"
      ],
      "text/plain": [
       "               age  avgVenueCite         Rank     H5-Index  ref_avg_count  \\\n",
       "count  9345.000000   9345.000000  9345.000000  9345.000000    9345.000000   \n",
       "mean     16.547030     18.220546   952.525950     2.384377       3.529526   \n",
       "std       6.631342     44.184947   177.757744     9.179347      71.619792   \n",
       "min      10.000000      0.000000     2.000000     0.000000       0.000000   \n",
       "25%      12.000000      0.000000  1000.000000     0.000000       0.000000   \n",
       "50%      14.000000     16.943557  1000.000000     0.000000       0.000000   \n",
       "75%      18.000000     16.943557  1000.000000     0.000000       0.000000   \n",
       "max      63.000000   1362.000000  1000.000000   128.000000    3545.500000   \n",
       "\n",
       "       AverageCumulativeAuthorCitationCount  \n",
       "count                           9345.000000  \n",
       "mean                              29.837566  \n",
       "std                              123.819022  \n",
       "min                                0.000000  \n",
       "25%                                0.000000  \n",
       "50%                                6.250000  \n",
       "75%                               45.000000  \n",
       "max                             7091.000000  "
      ]
     },
     "execution_count": 119,
     "metadata": {},
     "output_type": "execute_result"
    }
   ],
   "source": [
    "X_train.describe()"
   ]
  },
  {
   "cell_type": "markdown",
   "metadata": {},
   "source": [
    "### Considering all the features into consideration"
   ]
  },
  {
   "cell_type": "code",
   "execution_count": 120,
   "metadata": {},
   "outputs": [
    {
     "name": "stdout",
     "output_type": "stream",
     "text": [
      "R2 Score -0.07206939842909565\n",
      "Mean Absolute Error 41.5875422473085\n"
     ]
    }
   ],
   "source": [
    "# Linear Regression Algorithm\n",
    "linreg=LinearRegression()\n",
    "linreg.fit(X_train, Y_train)\n",
    "\n",
    "# predict\n",
    "Y_pred_LinearReg = linreg.predict(X_test)\n",
    "acc_log_LinReg = round(linreg.score(X_test, Y_test) * 100, 2)\n",
    "r2_score_LinReg = r2_score(Y_test,Y_pred_LinearReg)\n",
    "mean_absolute_error_LinReg=mean_absolute_error(Y_test, Y_pred_LinearReg)\n",
    "\n",
    "print('R2 Score '+ str(r2_score_LinReg))\n",
    "print('Mean Absolute Error '+ str(mean_absolute_error_LinReg))"
   ]
  },
  {
   "cell_type": "code",
   "execution_count": 121,
   "metadata": {},
   "outputs": [
    {
     "name": "stdout",
     "output_type": "stream",
     "text": [
      "R2 Score -0.06749418918658456\n",
      "Mean Absolute Error 39.82658959537572\n"
     ]
    }
   ],
   "source": [
    "# CART Decision Tree Algorithm\n",
    "cart = DecisionTreeRegressor(criterion='mse', max_depth=None, min_samples_split=2, min_samples_leaf=1, max_features=None, random_state=0)\n",
    "cart.fit(X_train, Y_train)\n",
    "# Predicting a new result\n",
    "Y_pred_CART = cart.predict(X_test)\n",
    "acc_log_CART = round(cart.score(X_test, Y_test) * 100, 2)\n",
    "r2_score_CART = r2_score(Y_test,Y_pred_CART)\n",
    "mean_absolute_error_CART=mean_absolute_error(Y_test, Y_pred_CART)\n",
    "print('R2 Score '+ str(r2_score_CART))\n",
    "print('Mean Absolute Error '+ str(mean_absolute_error_CART))"
   ]
  },
  {
   "cell_type": "code",
   "execution_count": 122,
   "metadata": {},
   "outputs": [
    {
     "name": "stdout",
     "output_type": "stream",
     "text": [
      "dot: graph is too large for cairo-renderer bitmaps. Scaling by 0.331539 to fit\r\n",
      "\n"
     ]
    },
    {
     "data": {
      "text/plain": [
       "True"
      ]
     },
     "execution_count": 122,
     "metadata": {},
     "output_type": "execute_result"
    }
   ],
   "source": [
    "# Visualisation of the CART tree formed\n",
    "feature_cols = ['age','avgVenueCite','Rank','H5-Index','ref_avg_count','AverageCumulativeAuthorCitationCount']\n",
    "dot_data = StringIO()\n",
    "export_graphviz(cart, out_file=dot_data,  \n",
    "                filled=True, rounded=True,\n",
    "                special_characters=True,feature_names = feature_cols)\n",
    "graph = pydotplus.graph_from_dot_data(dot_data.getvalue())  \n",
    "graph.write_png('Data/CART.png')"
   ]
  },
  {
   "cell_type": "code",
   "execution_count": 123,
   "metadata": {},
   "outputs": [
    {
     "name": "stdout",
     "output_type": "stream",
     "text": [
      "dot: graph is too large for cairo-renderer bitmaps. Scaling by 0.331539 to fit\r\n",
      "\n"
     ]
    },
    {
     "data": {
      "text/plain": [
       "True"
      ]
     },
     "execution_count": 123,
     "metadata": {},
     "output_type": "execute_result"
    }
   ],
   "source": [
    "graph.write_png('Data/CART.png')"
   ]
  },
  {
   "cell_type": "code",
   "execution_count": 124,
   "metadata": {},
   "outputs": [
    {
     "name": "stdout",
     "output_type": "stream",
     "text": [
      "R2 Score with RBF kernel -0.18370968009002553\n",
      "Mean Absolute Error with RBF kernel 60.10894952000596\n",
      "R2 Score with Linear kernel -0.749553334739405\n",
      "Mean Absolute Error with Linear kernel 78.92992899692113\n"
     ]
    }
   ],
   "source": [
    "# Application of the StandardScaler before applying SVR\n",
    "scaler = StandardScaler()\n",
    "scaler.fit(X_train)\n",
    "X_train_Scaled=scaler.transform(X_train)\n",
    "scaler.fit(X_test)\n",
    "X_test_Scaled=scaler.transform(X_test)\n",
    "\n",
    "# SVR with RBF kernel\n",
    "svr=SVR(kernel='rbf')\n",
    "svr.fit(X_train_Scaled,Y_train)\n",
    "# predict\n",
    "Y_pred_SVR=svr.predict(X_test_Scaled)\n",
    "\n",
    "acc_log_SVR = round(svr.score(X_test_Scaled, Y_test) * 100, 2)\n",
    "r2_score_SVR = r2_score(Y_test,Y_pred_SVR)\n",
    "mean_absolute_error_SVR=mean_absolute_error(Y_test, Y_pred_SVR)\n",
    "# Print the computed values\n",
    "print('R2 Score with RBF kernel '+ str(r2_score_SVR))\n",
    "print('Mean Absolute Error with RBF kernel '+ str(mean_absolute_error_SVR))\n",
    "\n",
    "# SVR with Linear kernel / Linear SVR Algorithm\n",
    "lsvr = LinearSVR(random_state=0, tol=1e-5)\n",
    "lsvr.fit(X_train_Scaled, Y_train)\n",
    "# predict\n",
    "Y_pred_SVR=lsvr.predict(X_test_Scaled)\n",
    "\n",
    "acc_log_SVR = round(lsvr.score(X_test_Scaled, Y_test) * 100, 2)\n",
    "r2_score_SVR = r2_score(Y_test,Y_pred_SVR)\n",
    "mean_absolute_error_SVR=mean_absolute_error(Y_test, Y_pred_SVR)\n",
    "# Print the computed values\n",
    "print('R2 Score with Linear kernel '+ str(r2_score_SVR))\n",
    "print('Mean Absolute Error with Linear kernel '+ str(mean_absolute_error_SVR))"
   ]
  },
  {
   "cell_type": "markdown",
   "metadata": {},
   "source": [
    "#### Considering all features except Age"
   ]
  },
  {
   "cell_type": "code",
   "execution_count": 125,
   "metadata": {},
   "outputs": [],
   "source": [
    "X_train.drop(['age'],axis=1,inplace=True)\n",
    "X_test.drop(['age'],axis=1,inplace=True)"
   ]
  },
  {
   "cell_type": "code",
   "execution_count": 126,
   "metadata": {},
   "outputs": [
    {
     "name": "stdout",
     "output_type": "stream",
     "text": [
      "R2 Score -0.07150017819103005\n",
      "Mean Absolute Error 41.480473316175846\n"
     ]
    }
   ],
   "source": [
    "# Linear Regression Algorithm\n",
    "linreg=LinearRegression()\n",
    "linreg.fit(X_train, Y_train)\n",
    "\n",
    "# predict\n",
    "Y_pred_LinearReg = linreg.predict(X_test)\n",
    "acc_log_LinReg = round(linreg.score(X_test, Y_test) * 100, 2)\n",
    "r2_score_LinReg = r2_score(Y_test,Y_pred_LinearReg)\n",
    "mean_absolute_error_LinReg=mean_absolute_error(Y_test, Y_pred_LinearReg)\n",
    "\n",
    "print('R2 Score '+ str(r2_score_LinReg))\n",
    "print('Mean Absolute Error '+ str(mean_absolute_error_LinReg))"
   ]
  },
  {
   "cell_type": "code",
   "execution_count": 127,
   "metadata": {},
   "outputs": [
    {
     "name": "stdout",
     "output_type": "stream",
     "text": [
      "R2 Score -0.06742413711970685\n",
      "Mean Absolute Error 39.99998161602439\n"
     ]
    }
   ],
   "source": [
    "# CART Decision Tree Algorithm\n",
    "cart = DecisionTreeRegressor(criterion='mse', max_depth=None, min_samples_split=2, min_samples_leaf=1, max_features=None, random_state=0)\n",
    "cart.fit(X_train, Y_train)\n",
    "# Predicting a new result\n",
    "Y_pred_CART = cart.predict(X_test)\n",
    "acc_log_CART = round(cart.score(X_test, Y_test) * 100, 2)\n",
    "r2_score_CART = r2_score(Y_test,Y_pred_CART)\n",
    "mean_absolute_error_CART=mean_absolute_error(Y_test, Y_pred_CART)\n",
    "print('R2 Score '+ str(r2_score_CART))\n",
    "print('Mean Absolute Error '+ str(mean_absolute_error_CART))"
   ]
  },
  {
   "cell_type": "code",
   "execution_count": 128,
   "metadata": {},
   "outputs": [
    {
     "name": "stdout",
     "output_type": "stream",
     "text": [
      "R2 Score with RBF kernel -0.1753787639998401\n",
      "Mean Absolute Error with RBF kernel 59.36306974057512\n",
      "R2 Score with Linear kernel -0.7495533347394137\n",
      "Mean Absolute Error with Linear kernel 78.9299289969222\n"
     ]
    }
   ],
   "source": [
    "# Application of the StandardScaler before applying SVR\n",
    "scaler = StandardScaler()\n",
    "scaler.fit(X_train)\n",
    "X_train_Scaled=scaler.transform(X_train)\n",
    "scaler.fit(X_test)\n",
    "X_test_Scaled=scaler.transform(X_test)\n",
    "\n",
    "# SVR with RBF kernel\n",
    "svr=SVR(kernel='rbf')\n",
    "svr.fit(X_train_Scaled,Y_train)\n",
    "# predict\n",
    "Y_pred_SVR=svr.predict(X_test_Scaled)\n",
    "\n",
    "acc_log_SVR = round(svr.score(X_test_Scaled, Y_test) * 100, 2)\n",
    "r2_score_SVR = r2_score(Y_test,Y_pred_SVR)\n",
    "mean_absolute_error_SVR=mean_absolute_error(Y_test, Y_pred_SVR)\n",
    "# Print the computed values\n",
    "print('R2 Score with RBF kernel '+ str(r2_score_SVR))\n",
    "print('Mean Absolute Error with RBF kernel '+ str(mean_absolute_error_SVR))\n",
    "\n",
    "# SVR with Linear kernel / Linear SVR Algorithm\n",
    "lsvr = LinearSVR(random_state=0, tol=1e-5)\n",
    "lsvr.fit(X_train_Scaled, Y_train)\n",
    "# predict\n",
    "Y_pred_SVR=lsvr.predict(X_test_Scaled)\n",
    "\n",
    "acc_log_SVR = round(lsvr.score(X_test_Scaled, Y_test) * 100, 2)\n",
    "r2_score_SVR = r2_score(Y_test,Y_pred_SVR)\n",
    "mean_absolute_error_SVR=mean_absolute_error(Y_test, Y_pred_SVR)\n",
    "# Print the computed values\n",
    "print('R2 Score with Linear kernel '+ str(r2_score_SVR))\n",
    "print('Mean Absolute Error with Linear kernel '+ str(mean_absolute_error_SVR))"
   ]
  },
  {
   "cell_type": "markdown",
   "metadata": {},
   "source": [
    "#### Considering all features except H5-Index"
   ]
  },
  {
   "cell_type": "code",
   "execution_count": 129,
   "metadata": {},
   "outputs": [],
   "source": [
    "X_train=X_train_Dup.drop(['H5-Index'],axis=1)\n",
    "X_test=X_test_Dup.drop(['H5-Index'],axis=1)"
   ]
  },
  {
   "cell_type": "code",
   "execution_count": 130,
   "metadata": {},
   "outputs": [
    {
     "name": "stdout",
     "output_type": "stream",
     "text": [
      "R2 Score -0.07208606042931698\n",
      "Mean Absolute Error 41.59575446161414\n"
     ]
    }
   ],
   "source": [
    "# Linear Regression Algorithm\n",
    "linreg=LinearRegression()\n",
    "linreg.fit(X_train, Y_train)\n",
    "\n",
    "# predict\n",
    "Y_pred_LinearReg = linreg.predict(X_test)\n",
    "acc_log_LinReg = round(linreg.score(X_test, Y_test) * 100, 2)\n",
    "r2_score_LinReg = r2_score(Y_test,Y_pred_LinearReg)\n",
    "mean_absolute_error_LinReg=mean_absolute_error(Y_test, Y_pred_LinearReg)\n",
    "\n",
    "print('R2 Score '+ str(r2_score_LinReg))\n",
    "print('Mean Absolute Error '+ str(mean_absolute_error_LinReg))"
   ]
  },
  {
   "cell_type": "code",
   "execution_count": 131,
   "metadata": {},
   "outputs": [
    {
     "name": "stdout",
     "output_type": "stream",
     "text": [
      "R2 Score -0.0664537338390565\n",
      "Mean Absolute Error 39.80555555555555\n"
     ]
    }
   ],
   "source": [
    "# CART Decision Tree Algorithm\n",
    "cart = DecisionTreeRegressor(criterion='mse', max_depth=None, min_samples_split=2, min_samples_leaf=1, max_features=None, random_state=0)\n",
    "cart.fit(X_train, Y_train)\n",
    "# Predicting a new result\n",
    "Y_pred_CART = cart.predict(X_test)\n",
    "acc_log_CART = round(cart.score(X_test, Y_test) * 100, 2)\n",
    "r2_score_CART = r2_score(Y_test,Y_pred_CART)\n",
    "mean_absolute_error_CART=mean_absolute_error(Y_test, Y_pred_CART)\n",
    "print('R2 Score '+ str(r2_score_CART))\n",
    "print('Mean Absolute Error '+ str(mean_absolute_error_CART))"
   ]
  },
  {
   "cell_type": "code",
   "execution_count": 132,
   "metadata": {},
   "outputs": [
    {
     "name": "stdout",
     "output_type": "stream",
     "text": [
      "R2 Score with RBF kernel -0.17365354699656121\n",
      "Mean Absolute Error with RBF kernel 59.04827015130106\n",
      "R2 Score with Linear kernel -0.749553334739401\n",
      "Mean Absolute Error with Linear kernel 78.92992899692112\n"
     ]
    }
   ],
   "source": [
    "# Application of the StandardScaler before applying SVR\n",
    "scaler = StandardScaler()\n",
    "scaler.fit(X_train)\n",
    "X_train_Scaled=scaler.transform(X_train)\n",
    "scaler.fit(X_test)\n",
    "X_test_Scaled=scaler.transform(X_test)\n",
    "\n",
    "# SVR with RBF kernel\n",
    "svr=SVR(kernel='rbf')\n",
    "svr.fit(X_train_Scaled,Y_train)\n",
    "# predict\n",
    "Y_pred_SVR=svr.predict(X_test_Scaled)\n",
    "\n",
    "acc_log_SVR = round(svr.score(X_test_Scaled, Y_test) * 100, 2)\n",
    "r2_score_SVR = r2_score(Y_test,Y_pred_SVR)\n",
    "mean_absolute_error_SVR=mean_absolute_error(Y_test, Y_pred_SVR)\n",
    "# Print the computed values\n",
    "print('R2 Score with RBF kernel '+ str(r2_score_SVR))\n",
    "print('Mean Absolute Error with RBF kernel '+ str(mean_absolute_error_SVR))\n",
    "\n",
    "# SVR with Linear kernel / Linear SVR Algorithm\n",
    "lsvr = LinearSVR(random_state=0, tol=1e-5)\n",
    "lsvr.fit(X_train_Scaled, Y_train)\n",
    "# predict\n",
    "Y_pred_SVR=lsvr.predict(X_test_Scaled)\n",
    "\n",
    "acc_log_SVR = round(lsvr.score(X_test_Scaled, Y_test) * 100, 2)\n",
    "r2_score_SVR = r2_score(Y_test,Y_pred_SVR)\n",
    "mean_absolute_error_SVR=mean_absolute_error(Y_test, Y_pred_SVR)\n",
    "# Print the computed values\n",
    "print('R2 Score with Linear kernel '+ str(r2_score_SVR))\n",
    "print('Mean Absolute Error with Linear kernel '+ str(mean_absolute_error_SVR))"
   ]
  },
  {
   "cell_type": "markdown",
   "metadata": {},
   "source": [
    "#### Considering all features except Rank"
   ]
  },
  {
   "cell_type": "code",
   "execution_count": 133,
   "metadata": {},
   "outputs": [],
   "source": [
    "X_train=X_train_Dup.drop(['Rank'],axis=1)\n",
    "X_test=X_test_Dup.drop(['Rank'],axis=1)"
   ]
  },
  {
   "cell_type": "code",
   "execution_count": 134,
   "metadata": {},
   "outputs": [
    {
     "name": "stdout",
     "output_type": "stream",
     "text": [
      "R2 Score -0.07207152396544969\n",
      "Mean Absolute Error 41.595325567454026\n"
     ]
    }
   ],
   "source": [
    "# Linear Regression Algorithm\n",
    "linreg=LinearRegression()\n",
    "linreg.fit(X_train, Y_train)\n",
    "\n",
    "# predict\n",
    "Y_pred_LinearReg = linreg.predict(X_test)\n",
    "acc_log_LinReg = round(linreg.score(X_test, Y_test) * 100, 2)\n",
    "r2_score_LinReg = r2_score(Y_test,Y_pred_LinearReg)\n",
    "mean_absolute_error_LinReg=mean_absolute_error(Y_test, Y_pred_LinearReg)\n",
    "\n",
    "print('R2 Score '+ str(r2_score_LinReg))\n",
    "print('Mean Absolute Error '+ str(mean_absolute_error_LinReg))"
   ]
  },
  {
   "cell_type": "code",
   "execution_count": 135,
   "metadata": {},
   "outputs": [
    {
     "name": "stdout",
     "output_type": "stream",
     "text": [
      "R2 Score -0.06668133485736516\n",
      "Mean Absolute Error 39.64932562620424\n"
     ]
    }
   ],
   "source": [
    "# CART Decision Tree Algorithm\n",
    "cart = DecisionTreeRegressor(criterion='mse', max_depth=None, min_samples_split=2, min_samples_leaf=1, max_features=None, random_state=0)\n",
    "cart.fit(X_train, Y_train)\n",
    "# Predicting a new result\n",
    "Y_pred_CART = cart.predict(X_test)\n",
    "acc_log_CART = round(cart.score(X_test, Y_test) * 100, 2)\n",
    "r2_score_CART = r2_score(Y_test,Y_pred_CART)\n",
    "mean_absolute_error_CART=mean_absolute_error(Y_test, Y_pred_CART)\n",
    "print('R2 Score '+ str(r2_score_CART))\n",
    "print('Mean Absolute Error '+ str(mean_absolute_error_CART))"
   ]
  },
  {
   "cell_type": "code",
   "execution_count": 136,
   "metadata": {},
   "outputs": [
    {
     "name": "stdout",
     "output_type": "stream",
     "text": [
      "R2 Score with RBF kernel -0.17376560363024063\n",
      "Mean Absolute Error with RBF kernel 59.17338011330599\n",
      "R2 Score with Linear kernel -0.7495533347393948\n",
      "Mean Absolute Error with Linear kernel 78.9299289969209\n"
     ]
    }
   ],
   "source": [
    "# Application of the StandardScaler before applying SVR\n",
    "scaler = StandardScaler()\n",
    "scaler.fit(X_train)\n",
    "X_train_Scaled=scaler.transform(X_train)\n",
    "scaler.fit(X_test)\n",
    "X_test_Scaled=scaler.transform(X_test)\n",
    "\n",
    "# SVR with RBF kernel\n",
    "svr=SVR(kernel='rbf')\n",
    "svr.fit(X_train_Scaled,Y_train)\n",
    "# predict\n",
    "Y_pred_SVR=svr.predict(X_test_Scaled)\n",
    "\n",
    "acc_log_SVR = round(svr.score(X_test_Scaled, Y_test) * 100, 2)\n",
    "r2_score_SVR = r2_score(Y_test,Y_pred_SVR)\n",
    "mean_absolute_error_SVR=mean_absolute_error(Y_test, Y_pred_SVR)\n",
    "# Print the computed values\n",
    "print('R2 Score with RBF kernel '+ str(r2_score_SVR))\n",
    "print('Mean Absolute Error with RBF kernel '+ str(mean_absolute_error_SVR))\n",
    "\n",
    "# SVR with Linear kernel / Linear SVR Algorithm\n",
    "lsvr = LinearSVR(random_state=0, tol=1e-5)\n",
    "lsvr.fit(X_train_Scaled, Y_train)\n",
    "# predict\n",
    "Y_pred_SVR=lsvr.predict(X_test_Scaled)\n",
    "\n",
    "acc_log_SVR = round(lsvr.score(X_test_Scaled, Y_test) * 100, 2)\n",
    "r2_score_SVR = r2_score(Y_test,Y_pred_SVR)\n",
    "mean_absolute_error_SVR=mean_absolute_error(Y_test, Y_pred_SVR)\n",
    "# Print the computed values\n",
    "print('R2 Score with Linear kernel '+ str(r2_score_SVR))\n",
    "print('Mean Absolute Error with Linear kernel '+ str(mean_absolute_error_SVR))"
   ]
  },
  {
   "cell_type": "markdown",
   "metadata": {},
   "source": [
    "#### Considering all features except AverageCumulativeAuthorCitationCount(AcCc)"
   ]
  },
  {
   "cell_type": "code",
   "execution_count": 137,
   "metadata": {},
   "outputs": [],
   "source": [
    "X_train=X_train_Dup.drop(['AverageCumulativeAuthorCitationCount'],axis=1)\n",
    "X_test=X_test_Dup.drop(['AverageCumulativeAuthorCitationCount'],axis=1)"
   ]
  },
  {
   "cell_type": "code",
   "execution_count": 138,
   "metadata": {},
   "outputs": [
    {
     "name": "stdout",
     "output_type": "stream",
     "text": [
      "R2 Score -0.07918623943107517\n",
      "Mean Absolute Error 42.19531205217426\n"
     ]
    }
   ],
   "source": [
    "# Linear Regression Algorithm\n",
    "linreg=LinearRegression()\n",
    "linreg.fit(X_train, Y_train)\n",
    "\n",
    "# predict\n",
    "Y_pred_LinearReg = linreg.predict(X_test)\n",
    "acc_log_LinReg = round(linreg.score(X_test, Y_test) * 100, 2)\n",
    "r2_score_LinReg = r2_score(Y_test,Y_pred_LinearReg)\n",
    "mean_absolute_error_LinReg=mean_absolute_error(Y_test, Y_pred_LinearReg)\n",
    "\n",
    "print('R2 Score '+ str(r2_score_LinReg))\n",
    "print('Mean Absolute Error '+ str(mean_absolute_error_LinReg))"
   ]
  },
  {
   "cell_type": "code",
   "execution_count": 139,
   "metadata": {},
   "outputs": [
    {
     "name": "stdout",
     "output_type": "stream",
     "text": [
      "R2 Score -0.06248723103571874\n",
      "Mean Absolute Error 44.69113575236912\n"
     ]
    }
   ],
   "source": [
    "# CART Decision Tree Algorithm\n",
    "cart = DecisionTreeRegressor(criterion='mse', max_depth=None, min_samples_split=2, min_samples_leaf=1, max_features=None, random_state=0)\n",
    "cart.fit(X_train, Y_train)\n",
    "# Predicting a new result\n",
    "Y_pred_CART = cart.predict(X_test)\n",
    "acc_log_CART = round(cart.score(X_test, Y_test) * 100, 2)\n",
    "r2_score_CART = r2_score(Y_test,Y_pred_CART)\n",
    "mean_absolute_error_CART=mean_absolute_error(Y_test, Y_pred_CART)\n",
    "print('R2 Score '+ str(r2_score_CART))\n",
    "print('Mean Absolute Error '+ str(mean_absolute_error_CART))"
   ]
  },
  {
   "cell_type": "code",
   "execution_count": 140,
   "metadata": {},
   "outputs": [
    {
     "name": "stdout",
     "output_type": "stream",
     "text": [
      "R2 Score with RBF kernel -0.06031111986066384\n",
      "Mean Absolute Error with RBF kernel 37.78334456610717\n",
      "R2 Score with Linear kernel -0.07063799449338704\n",
      "Mean Absolute Error with Linear kernel 39.53086355363164\n"
     ]
    }
   ],
   "source": [
    "# Application of the StandardScaler before applying SVR\n",
    "scaler = StandardScaler()\n",
    "scaler.fit(X_train)\n",
    "X_train_Scaled=scaler.transform(X_train)\n",
    "scaler.fit(X_test)\n",
    "X_test_Scaled=scaler.transform(X_test)\n",
    "\n",
    "# SVR with RBF kernel\n",
    "svr=SVR(kernel='rbf')\n",
    "svr.fit(X_train_Scaled,Y_train)\n",
    "# predict\n",
    "Y_pred_SVR=svr.predict(X_test_Scaled)\n",
    "\n",
    "acc_log_SVR = round(svr.score(X_test_Scaled, Y_test) * 100, 2)\n",
    "r2_score_SVR = r2_score(Y_test,Y_pred_SVR)\n",
    "mean_absolute_error_SVR=mean_absolute_error(Y_test, Y_pred_SVR)\n",
    "# Print the computed values\n",
    "print('R2 Score with RBF kernel '+ str(r2_score_SVR))\n",
    "print('Mean Absolute Error with RBF kernel '+ str(mean_absolute_error_SVR))\n",
    "\n",
    "# SVR with Linear kernel / Linear SVR Algorithm\n",
    "lsvr = LinearSVR(random_state=0, tol=1e-5)\n",
    "lsvr.fit(X_train_Scaled, Y_train)\n",
    "# predict\n",
    "Y_pred_SVR=lsvr.predict(X_test_Scaled)\n",
    "\n",
    "acc_log_SVR = round(lsvr.score(X_test_Scaled, Y_test) * 100, 2)\n",
    "r2_score_SVR = r2_score(Y_test,Y_pred_SVR)\n",
    "mean_absolute_error_SVR=mean_absolute_error(Y_test, Y_pred_SVR)\n",
    "# Print the computed values\n",
    "print('R2 Score with Linear kernel '+ str(r2_score_SVR))\n",
    "print('Mean Absolute Error with Linear kernel '+ str(mean_absolute_error_SVR))"
   ]
  },
  {
   "cell_type": "markdown",
   "metadata": {},
   "source": [
    "#### Considering all features except ref_avg_count"
   ]
  },
  {
   "cell_type": "code",
   "execution_count": 141,
   "metadata": {},
   "outputs": [],
   "source": [
    "X_train=X_train_Dup.drop(['ref_avg_count'],axis=1)\n",
    "X_test=X_test_Dup.drop(['ref_avg_count'],axis=1)"
   ]
  },
  {
   "cell_type": "code",
   "execution_count": 142,
   "metadata": {},
   "outputs": [
    {
     "name": "stdout",
     "output_type": "stream",
     "text": [
      "R2 Score -0.07215835705216933\n",
      "Mean Absolute Error 41.60064802090268\n"
     ]
    }
   ],
   "source": [
    "# Linear Regression Algorithm\n",
    "linreg=LinearRegression()\n",
    "linreg.fit(X_train, Y_train)\n",
    "\n",
    "# predict\n",
    "Y_pred_LinearReg = linreg.predict(X_test)\n",
    "acc_log_LinReg = round(linreg.score(X_test, Y_test) * 100, 2)\n",
    "r2_score_LinReg = r2_score(Y_test,Y_pred_LinearReg)\n",
    "mean_absolute_error_LinReg=mean_absolute_error(Y_test, Y_pred_LinearReg)\n",
    "\n",
    "print('R2 Score '+ str(r2_score_LinReg))\n",
    "print('Mean Absolute Error '+ str(mean_absolute_error_LinReg))"
   ]
  },
  {
   "cell_type": "code",
   "execution_count": 143,
   "metadata": {},
   "outputs": [
    {
     "name": "stdout",
     "output_type": "stream",
     "text": [
      "R2 Score -0.06842281021017804\n",
      "Mean Absolute Error 39.55860629415543\n"
     ]
    }
   ],
   "source": [
    "# CART Decision Tree Algorithm\n",
    "cart = DecisionTreeRegressor(criterion='mse', max_depth=None, min_samples_split=2, min_samples_leaf=1, max_features=None, random_state=0)\n",
    "cart.fit(X_train, Y_train)\n",
    "# Predicting a new result\n",
    "Y_pred_CART = cart.predict(X_test)\n",
    "acc_log_CART = round(cart.score(X_test, Y_test) * 100, 2)\n",
    "r2_score_CART = r2_score(Y_test,Y_pred_CART)\n",
    "mean_absolute_error_CART=mean_absolute_error(Y_test, Y_pred_CART)\n",
    "print('R2 Score '+ str(r2_score_CART))\n",
    "print('Mean Absolute Error '+ str(mean_absolute_error_CART))"
   ]
  },
  {
   "cell_type": "code",
   "execution_count": 144,
   "metadata": {},
   "outputs": [
    {
     "name": "stdout",
     "output_type": "stream",
     "text": [
      "R2 Score with RBF kernel -0.17294738141315524\n",
      "Mean Absolute Error with RBF kernel 59.16068330103346\n",
      "R2 Score with Linear kernel -0.7495533347393923\n",
      "Mean Absolute Error with Linear kernel 78.92992899692045\n"
     ]
    }
   ],
   "source": [
    "# Application of the StandardScaler before applying SVR\n",
    "scaler = StandardScaler()\n",
    "scaler.fit(X_train)\n",
    "X_train_Scaled=scaler.transform(X_train)\n",
    "scaler.fit(X_test)\n",
    "X_test_Scaled=scaler.transform(X_test)\n",
    "\n",
    "# SVR with RBF kernel\n",
    "svr=SVR(kernel='rbf')\n",
    "svr.fit(X_train_Scaled,Y_train)\n",
    "# predict\n",
    "Y_pred_SVR=svr.predict(X_test_Scaled)\n",
    "\n",
    "acc_log_SVR = round(svr.score(X_test_Scaled, Y_test) * 100, 2)\n",
    "r2_score_SVR = r2_score(Y_test,Y_pred_SVR)\n",
    "mean_absolute_error_SVR=mean_absolute_error(Y_test, Y_pred_SVR)\n",
    "# Print the computed values\n",
    "print('R2 Score with RBF kernel '+ str(r2_score_SVR))\n",
    "print('Mean Absolute Error with RBF kernel '+ str(mean_absolute_error_SVR))\n",
    "\n",
    "# SVR with Linear kernel / Linear SVR Algorithm\n",
    "lsvr = LinearSVR(random_state=0, tol=1e-5)\n",
    "lsvr.fit(X_train_Scaled, Y_train)\n",
    "# predict\n",
    "Y_pred_SVR=lsvr.predict(X_test_Scaled)\n",
    "\n",
    "acc_log_SVR = round(lsvr.score(X_test_Scaled, Y_test) * 100, 2)\n",
    "r2_score_SVR = r2_score(Y_test,Y_pred_SVR)\n",
    "mean_absolute_error_SVR=mean_absolute_error(Y_test, Y_pred_SVR)\n",
    "# Print the computed values\n",
    "print('R2 Score with Linear kernel '+ str(r2_score_SVR))\n",
    "print('Mean Absolute Error with Linear kernel '+ str(mean_absolute_error_SVR))"
   ]
  },
  {
   "cell_type": "markdown",
   "metadata": {},
   "source": [
    "#### Considering all features except avgVenueCite"
   ]
  },
  {
   "cell_type": "code",
   "execution_count": 145,
   "metadata": {},
   "outputs": [],
   "source": [
    "X_train=X_train_Dup.drop(['avgVenueCite'],axis=1)\n",
    "X_test=X_test_Dup.drop(['avgVenueCite'],axis=1)"
   ]
  },
  {
   "cell_type": "code",
   "execution_count": 146,
   "metadata": {},
   "outputs": [
    {
     "name": "stdout",
     "output_type": "stream",
     "text": [
      "R2 Score -0.07264291800182043\n",
      "Mean Absolute Error 41.71357395912929\n"
     ]
    }
   ],
   "source": [
    "# Linear Regression Algorithm\n",
    "linreg=LinearRegression()\n",
    "linreg.fit(X_train, Y_train)\n",
    "\n",
    "# predict\n",
    "Y_pred_LinearReg = linreg.predict(X_test)\n",
    "acc_log_LinReg = round(linreg.score(X_test, Y_test) * 100, 2)\n",
    "r2_score_LinReg = r2_score(Y_test,Y_pred_LinearReg)\n",
    "mean_absolute_error_LinReg=mean_absolute_error(Y_test, Y_pred_LinearReg)\n",
    "\n",
    "print('R2 Score '+ str(r2_score_LinReg))\n",
    "print('Mean Absolute Error '+ str(mean_absolute_error_LinReg))"
   ]
  },
  {
   "cell_type": "code",
   "execution_count": 147,
   "metadata": {},
   "outputs": [
    {
     "name": "stdout",
     "output_type": "stream",
     "text": [
      "R2 Score -0.0745647219782819\n",
      "Mean Absolute Error 40.203275529865124\n"
     ]
    }
   ],
   "source": [
    "# CART Decision Tree Algorithm\n",
    "cart = DecisionTreeRegressor(criterion='mse', max_depth=None, min_samples_split=2, min_samples_leaf=1, max_features=None, random_state=0)\n",
    "cart.fit(X_train, Y_train)\n",
    "# Predicting a new result\n",
    "Y_pred_CART = cart.predict(X_test)\n",
    "acc_log_CART = round(cart.score(X_test, Y_test) * 100, 2)\n",
    "r2_score_CART = r2_score(Y_test,Y_pred_CART)\n",
    "mean_absolute_error_CART=mean_absolute_error(Y_test, Y_pred_CART)\n",
    "print('R2 Score '+ str(r2_score_CART))\n",
    "print('Mean Absolute Error '+ str(mean_absolute_error_CART))"
   ]
  },
  {
   "cell_type": "code",
   "execution_count": 148,
   "metadata": {},
   "outputs": [
    {
     "name": "stdout",
     "output_type": "stream",
     "text": [
      "R2 Score with RBF kernel -0.19984259175864416\n",
      "Mean Absolute Error with RBF kernel 62.78629105275201\n",
      "R2 Score with Linear kernel -0.7495533347394165\n",
      "Mean Absolute Error with Linear kernel 78.92992899692179\n"
     ]
    }
   ],
   "source": [
    "# Application of the StandardScaler before applying SVR\n",
    "scaler = StandardScaler()\n",
    "scaler.fit(X_train)\n",
    "X_train_Scaled=scaler.transform(X_train)\n",
    "scaler.fit(X_test)\n",
    "X_test_Scaled=scaler.transform(X_test)\n",
    "\n",
    "# SVR with RBF kernel\n",
    "svr=SVR(kernel='rbf')\n",
    "svr.fit(X_train_Scaled,Y_train)\n",
    "# predict\n",
    "Y_pred_SVR=svr.predict(X_test_Scaled)\n",
    "\n",
    "acc_log_SVR = round(svr.score(X_test_Scaled, Y_test) * 100, 2)\n",
    "r2_score_SVR = r2_score(Y_test,Y_pred_SVR)\n",
    "mean_absolute_error_SVR=mean_absolute_error(Y_test, Y_pred_SVR)\n",
    "# Print the computed values\n",
    "print('R2 Score with RBF kernel '+ str(r2_score_SVR))\n",
    "print('Mean Absolute Error with RBF kernel '+ str(mean_absolute_error_SVR))\n",
    "\n",
    "# SVR with Linear kernel / Linear SVR Algorithm\n",
    "lsvr = LinearSVR(random_state=0, tol=1e-5)\n",
    "lsvr.fit(X_train_Scaled, Y_train)\n",
    "# predict\n",
    "Y_pred_SVR=lsvr.predict(X_test_Scaled)\n",
    "\n",
    "acc_log_SVR = round(lsvr.score(X_test_Scaled, Y_test) * 100, 2)\n",
    "r2_score_SVR = r2_score(Y_test,Y_pred_SVR)\n",
    "mean_absolute_error_SVR=mean_absolute_error(Y_test, Y_pred_SVR)\n",
    "# Print the computed values\n",
    "print('R2 Score with Linear kernel '+ str(r2_score_SVR))\n",
    "print('Mean Absolute Error with Linear kernel '+ str(mean_absolute_error_SVR))"
   ]
  },
  {
   "cell_type": "markdown",
   "metadata": {},
   "source": [
    "#### Considering only AverageCumulativeAuthorCitationCount feature"
   ]
  },
  {
   "cell_type": "code",
   "execution_count": 149,
   "metadata": {},
   "outputs": [],
   "source": [
    "X_train=X_train_Dup.drop(['ref_avg_count','age','Rank','H5-Index','avgVenueCite'],axis=1)\n",
    "X_test=X_test_Dup.drop(['ref_avg_count','age','Rank','H5-Index','avgVenueCite'],axis=1)"
   ]
  },
  {
   "cell_type": "code",
   "execution_count": 150,
   "metadata": {},
   "outputs": [
    {
     "name": "stdout",
     "output_type": "stream",
     "text": [
      "R2 Score -0.07195107041400828\n",
      "Mean Absolute Error 41.55501622487002\n"
     ]
    }
   ],
   "source": [
    "# Linear Regression Algorithm\n",
    "linreg=LinearRegression()\n",
    "linreg.fit(X_train, Y_train)\n",
    "\n",
    "# predict\n",
    "Y_pred_LinearReg = linreg.predict(X_test)\n",
    "acc_log_LinReg = round(linreg.score(X_test, Y_test) * 100, 2)\n",
    "r2_score_LinReg = r2_score(Y_test,Y_pred_LinearReg)\n",
    "mean_absolute_error_LinReg=mean_absolute_error(Y_test, Y_pred_LinearReg)\n",
    "\n",
    "print('R2 Score '+ str(r2_score_LinReg))\n",
    "print('Mean Absolute Error '+ str(mean_absolute_error_LinReg))"
   ]
  },
  {
   "cell_type": "code",
   "execution_count": 151,
   "metadata": {},
   "outputs": [
    {
     "name": "stdout",
     "output_type": "stream",
     "text": [
      "R2 Score -0.07150914988078472\n",
      "Mean Absolute Error 40.118645345094734\n"
     ]
    }
   ],
   "source": [
    "# CART Decision Tree Algorithm\n",
    "cart = DecisionTreeRegressor(criterion='mse', max_depth=None, min_samples_split=2, min_samples_leaf=1, max_features=None, random_state=0)\n",
    "cart.fit(X_train, Y_train)\n",
    "# Predicting a new result\n",
    "Y_pred_CART = cart.predict(X_test)\n",
    "acc_log_CART = round(cart.score(X_test, Y_test) * 100, 2)\n",
    "r2_score_CART = r2_score(Y_test,Y_pred_CART)\n",
    "mean_absolute_error_CART=mean_absolute_error(Y_test, Y_pred_CART)\n",
    "print('R2 Score '+ str(r2_score_CART))\n",
    "print('Mean Absolute Error '+ str(mean_absolute_error_CART))"
   ]
  },
  {
   "cell_type": "code",
   "execution_count": 152,
   "metadata": {},
   "outputs": [
    {
     "name": "stdout",
     "output_type": "stream",
     "text": [
      "R2 Score with RBF kernel -0.17936015469682798\n",
      "Mean Absolute Error with RBF kernel 59.0508763617217\n",
      "R2 Score with Linear kernel -0.749553334739397\n",
      "Mean Absolute Error with Linear kernel 78.92992899692078\n"
     ]
    }
   ],
   "source": [
    "# Application of the StandardScaler before applying SVR\n",
    "scaler = StandardScaler()\n",
    "scaler.fit(X_train)\n",
    "X_train_Scaled=scaler.transform(X_train)\n",
    "scaler.fit(X_test)\n",
    "X_test_Scaled=scaler.transform(X_test)\n",
    "\n",
    "# SVR with RBF kernel\n",
    "svr=SVR(kernel='rbf')\n",
    "svr.fit(X_train_Scaled,Y_train)\n",
    "# predict\n",
    "Y_pred_SVR=svr.predict(X_test_Scaled)\n",
    "\n",
    "acc_log_SVR = round(svr.score(X_test_Scaled, Y_test) * 100, 2)\n",
    "r2_score_SVR = r2_score(Y_test,Y_pred_SVR)\n",
    "mean_absolute_error_SVR=mean_absolute_error(Y_test, Y_pred_SVR)\n",
    "# Print the computed values\n",
    "print('R2 Score with RBF kernel '+ str(r2_score_SVR))\n",
    "print('Mean Absolute Error with RBF kernel '+ str(mean_absolute_error_SVR))\n",
    "\n",
    "# SVR with Linear kernel / Linear SVR Algorithm\n",
    "lsvr = LinearSVR(random_state=0, tol=1e-5)\n",
    "lsvr.fit(X_train_Scaled, Y_train)\n",
    "# predict\n",
    "Y_pred_SVR=lsvr.predict(X_test_Scaled)\n",
    "\n",
    "acc_log_SVR = round(lsvr.score(X_test_Scaled, Y_test) * 100, 2)\n",
    "r2_score_SVR = r2_score(Y_test,Y_pred_SVR)\n",
    "mean_absolute_error_SVR=mean_absolute_error(Y_test, Y_pred_SVR)\n",
    "# Print the computed values\n",
    "print('R2 Score with Linear kernel '+ str(r2_score_SVR))\n",
    "print('Mean Absolute Error with Linear kernel '+ str(mean_absolute_error_SVR))"
   ]
  },
  {
   "cell_type": "markdown",
   "metadata": {},
   "source": [
    "#### Considering only ref_avg_count feature"
   ]
  },
  {
   "cell_type": "code",
   "execution_count": 153,
   "metadata": {},
   "outputs": [],
   "source": [
    "X_train=X_train_Dup.drop(['AverageCumulativeAuthorCitationCount','age','Rank','H5-Index','avgVenueCite'],axis=1)\n",
    "X_test=X_test_Dup.drop(['AverageCumulativeAuthorCitationCount','age','Rank','H5-Index','avgVenueCite'],axis=1)"
   ]
  },
  {
   "cell_type": "code",
   "execution_count": 154,
   "metadata": {},
   "outputs": [
    {
     "name": "stdout",
     "output_type": "stream",
     "text": [
      "R2 Score -0.0053764803655205196\n",
      "Mean Absolute Error 41.014650074473614\n"
     ]
    }
   ],
   "source": [
    "# Linear Regression Algorithm\n",
    "linreg=LinearRegression()\n",
    "linreg.fit(X_train, Y_train)\n",
    "\n",
    "# predict\n",
    "Y_pred_LinearReg = linreg.predict(X_test)\n",
    "acc_log_LinReg = round(linreg.score(X_test, Y_test) * 100, 2)\n",
    "r2_score_LinReg = r2_score(Y_test,Y_pred_LinearReg)\n",
    "mean_absolute_error_LinReg=mean_absolute_error(Y_test, Y_pred_LinearReg)\n",
    "\n",
    "print('R2 Score '+ str(r2_score_LinReg))\n",
    "print('Mean Absolute Error '+ str(mean_absolute_error_LinReg))"
   ]
  },
  {
   "cell_type": "code",
   "execution_count": 155,
   "metadata": {},
   "outputs": [
    {
     "name": "stdout",
     "output_type": "stream",
     "text": [
      "R2 Score -0.00618911035276426\n",
      "Mean Absolute Error 40.969652917995894\n"
     ]
    }
   ],
   "source": [
    "# CART Decision Tree Algorithm\n",
    "cart = DecisionTreeRegressor(criterion='mse', max_depth=None, min_samples_split=2, min_samples_leaf=1, max_features=None, random_state=0)\n",
    "cart.fit(X_train, Y_train)\n",
    "# Predicting a new result\n",
    "Y_pred_CART = cart.predict(X_test)\n",
    "acc_log_CART = round(cart.score(X_test, Y_test) * 100, 2)\n",
    "r2_score_CART = r2_score(Y_test,Y_pred_CART)\n",
    "mean_absolute_error_CART=mean_absolute_error(Y_test, Y_pred_CART)\n",
    "print('R2 Score '+ str(r2_score_CART))\n",
    "print('Mean Absolute Error '+ str(mean_absolute_error_CART))"
   ]
  },
  {
   "cell_type": "code",
   "execution_count": 156,
   "metadata": {},
   "outputs": [
    {
     "name": "stdout",
     "output_type": "stream",
     "text": [
      "R2 Score with RBF kernel -0.07253703760600527\n",
      "Mean Absolute Error with RBF kernel 39.647836957625046\n",
      "R2 Score with Linear kernel -0.0784607994348101\n",
      "Mean Absolute Error with Linear kernel 39.640619932823526\n"
     ]
    }
   ],
   "source": [
    "# Application of the StandardScaler before applying SVR\n",
    "scaler = StandardScaler()\n",
    "scaler.fit(X_train)\n",
    "X_train_Scaled=scaler.transform(X_train)\n",
    "scaler.fit(X_test)\n",
    "X_test_Scaled=scaler.transform(X_test)\n",
    "\n",
    "# SVR with RBF kernel\n",
    "svr=SVR(kernel='rbf')\n",
    "svr.fit(X_train_Scaled,Y_train)\n",
    "# predict\n",
    "Y_pred_SVR=svr.predict(X_test_Scaled)\n",
    "\n",
    "acc_log_SVR = round(svr.score(X_test_Scaled, Y_test) * 100, 2)\n",
    "r2_score_SVR = r2_score(Y_test,Y_pred_SVR)\n",
    "mean_absolute_error_SVR=mean_absolute_error(Y_test, Y_pred_SVR)\n",
    "# Print the computed values\n",
    "print('R2 Score with RBF kernel '+ str(r2_score_SVR))\n",
    "print('Mean Absolute Error with RBF kernel '+ str(mean_absolute_error_SVR))\n",
    "\n",
    "# SVR with Linear kernel / Linear SVR Algorithm\n",
    "lsvr = LinearSVR(random_state=0, tol=1e-5)\n",
    "lsvr.fit(X_train_Scaled, Y_train)\n",
    "# predict\n",
    "Y_pred_SVR=lsvr.predict(X_test_Scaled)\n",
    "\n",
    "acc_log_SVR = round(lsvr.score(X_test_Scaled, Y_test) * 100, 2)\n",
    "r2_score_SVR = r2_score(Y_test,Y_pred_SVR)\n",
    "mean_absolute_error_SVR=mean_absolute_error(Y_test, Y_pred_SVR)\n",
    "# Print the computed values\n",
    "print('R2 Score with Linear kernel '+ str(r2_score_SVR))\n",
    "print('Mean Absolute Error with Linear kernel '+ str(mean_absolute_error_SVR))"
   ]
  },
  {
   "cell_type": "markdown",
   "metadata": {},
   "source": [
    "#### Considering only age feature"
   ]
  },
  {
   "cell_type": "code",
   "execution_count": 157,
   "metadata": {},
   "outputs": [],
   "source": [
    "X_train=X_train_Dup.drop(['AverageCumulativeAuthorCitationCount','ref_avg_count','Rank','H5-Index','avgVenueCite'],axis=1)\n",
    "X_test=X_test_Dup.drop(['AverageCumulativeAuthorCitationCount','ref_avg_count','Rank','H5-Index','avgVenueCite'],axis=1)"
   ]
  },
  {
   "cell_type": "code",
   "execution_count": 158,
   "metadata": {},
   "outputs": [
    {
     "name": "stdout",
     "output_type": "stream",
     "text": [
      "R2 Score -0.01851288210673041\n",
      "Mean Absolute Error 40.515648624304816\n"
     ]
    }
   ],
   "source": [
    "# Linear Regression Algorithm\n",
    "linreg=LinearRegression()\n",
    "linreg.fit(X_train, Y_train)\n",
    "\n",
    "# predict\n",
    "Y_pred_LinearReg = linreg.predict(X_test)\n",
    "acc_log_LinReg = round(linreg.score(X_test, Y_test) * 100, 2)\n",
    "r2_score_LinReg = r2_score(Y_test,Y_pred_LinearReg)\n",
    "mean_absolute_error_LinReg=mean_absolute_error(Y_test, Y_pred_LinearReg)\n",
    "\n",
    "print('R2 Score '+ str(r2_score_LinReg))\n",
    "print('Mean Absolute Error '+ str(mean_absolute_error_LinReg))"
   ]
  },
  {
   "cell_type": "code",
   "execution_count": 159,
   "metadata": {},
   "outputs": [
    {
     "name": "stdout",
     "output_type": "stream",
     "text": [
      "R2 Score -0.0058759688812175526\n",
      "Mean Absolute Error 40.98662049033286\n"
     ]
    }
   ],
   "source": [
    "# CART Decision Tree Algorithm\n",
    "cart = DecisionTreeRegressor(criterion='mse', max_depth=None, min_samples_split=2, min_samples_leaf=1, max_features=None, random_state=0)\n",
    "cart.fit(X_train, Y_train)\n",
    "# Predicting a new result\n",
    "Y_pred_CART = cart.predict(X_test)\n",
    "acc_log_CART = round(cart.score(X_test, Y_test) * 100, 2)\n",
    "r2_score_CART = r2_score(Y_test,Y_pred_CART)\n",
    "mean_absolute_error_CART=mean_absolute_error(Y_test, Y_pred_CART)\n",
    "print('R2 Score '+ str(r2_score_CART))\n",
    "print('Mean Absolute Error '+ str(mean_absolute_error_CART))"
   ]
  },
  {
   "cell_type": "code",
   "execution_count": 160,
   "metadata": {},
   "outputs": [
    {
     "name": "stdout",
     "output_type": "stream",
     "text": [
      "R2 Score with RBF kernel -0.07873420116273877\n",
      "Mean Absolute Error with RBF kernel 39.64101707795895\n",
      "R2 Score with Linear kernel -0.07914913402445478\n",
      "Mean Absolute Error with Linear kernel 39.64161849710991\n"
     ]
    }
   ],
   "source": [
    "# Application of the StandardScaler before applying SVR\n",
    "scaler = StandardScaler()\n",
    "scaler.fit(X_train)\n",
    "X_train_Scaled=scaler.transform(X_train)\n",
    "scaler.fit(X_test)\n",
    "X_test_Scaled=scaler.transform(X_test)\n",
    "\n",
    "# SVR with RBF kernel\n",
    "svr=SVR(kernel='rbf')\n",
    "svr.fit(X_train_Scaled,Y_train)\n",
    "# predict\n",
    "Y_pred_SVR=svr.predict(X_test_Scaled)\n",
    "\n",
    "acc_log_SVR = round(svr.score(X_test_Scaled, Y_test) * 100, 2)\n",
    "r2_score_SVR = r2_score(Y_test,Y_pred_SVR)\n",
    "mean_absolute_error_SVR=mean_absolute_error(Y_test, Y_pred_SVR)\n",
    "# Print the computed values\n",
    "print('R2 Score with RBF kernel '+ str(r2_score_SVR))\n",
    "print('Mean Absolute Error with RBF kernel '+ str(mean_absolute_error_SVR))\n",
    "\n",
    "# SVR with Linear kernel / Linear SVR Algorithm\n",
    "lsvr = LinearSVR(random_state=0, tol=1e-5)\n",
    "lsvr.fit(X_train_Scaled, Y_train)\n",
    "# predict\n",
    "Y_pred_SVR=lsvr.predict(X_test_Scaled)\n",
    "\n",
    "acc_log_SVR = round(lsvr.score(X_test_Scaled, Y_test) * 100, 2)\n",
    "r2_score_SVR = r2_score(Y_test,Y_pred_SVR)\n",
    "mean_absolute_error_SVR=mean_absolute_error(Y_test, Y_pred_SVR)\n",
    "# Print the computed values\n",
    "print('R2 Score with Linear kernel '+ str(r2_score_SVR))\n",
    "print('Mean Absolute Error with Linear kernel '+ str(mean_absolute_error_SVR))"
   ]
  },
  {
   "cell_type": "markdown",
   "metadata": {},
   "source": [
    "#### Considering only Rank feature"
   ]
  },
  {
   "cell_type": "code",
   "execution_count": 161,
   "metadata": {},
   "outputs": [],
   "source": [
    "X_train=X_train_Dup.drop(['AverageCumulativeAuthorCitationCount','ref_avg_count','age','H5-Index','avgVenueCite'],axis=1)\n",
    "X_test=X_test_Dup.drop(['AverageCumulativeAuthorCitationCount','ref_avg_count','age','H5-Index','avgVenueCite'],axis=1)"
   ]
  },
  {
   "cell_type": "code",
   "execution_count": 162,
   "metadata": {},
   "outputs": [
    {
     "name": "stdout",
     "output_type": "stream",
     "text": [
      "R2 Score -0.01293435696489409\n",
      "Mean Absolute Error 41.60859847404975\n"
     ]
    }
   ],
   "source": [
    "# Linear Regression Algorithm\n",
    "linreg=LinearRegression()\n",
    "linreg.fit(X_train, Y_train)\n",
    "\n",
    "# predict\n",
    "Y_pred_LinearReg = linreg.predict(X_test)\n",
    "acc_log_LinReg = round(linreg.score(X_test, Y_test) * 100, 2)\n",
    "r2_score_LinReg = r2_score(Y_test,Y_pred_LinearReg)\n",
    "mean_absolute_error_LinReg=mean_absolute_error(Y_test, Y_pred_LinearReg)\n",
    "\n",
    "print('R2 Score '+ str(r2_score_LinReg))\n",
    "print('Mean Absolute Error '+ str(mean_absolute_error_LinReg))"
   ]
  },
  {
   "cell_type": "code",
   "execution_count": 163,
   "metadata": {},
   "outputs": [
    {
     "name": "stdout",
     "output_type": "stream",
     "text": [
      "R2 Score -0.009446923766294857\n",
      "Mean Absolute Error 40.809793783161446\n"
     ]
    }
   ],
   "source": [
    "# CART Decision Tree Algorithm\n",
    "cart = DecisionTreeRegressor(criterion='mse', max_depth=None, min_samples_split=2, min_samples_leaf=1, max_features=None, random_state=0)\n",
    "cart.fit(X_train, Y_train)\n",
    "# Predicting a new result\n",
    "Y_pred_CART = cart.predict(X_test)\n",
    "acc_log_CART = round(cart.score(X_test, Y_test) * 100, 2)\n",
    "r2_score_CART = r2_score(Y_test,Y_pred_CART)\n",
    "mean_absolute_error_CART=mean_absolute_error(Y_test, Y_pred_CART)\n",
    "print('R2 Score '+ str(r2_score_CART))\n",
    "print('Mean Absolute Error '+ str(mean_absolute_error_CART))"
   ]
  },
  {
   "cell_type": "code",
   "execution_count": 164,
   "metadata": {},
   "outputs": [
    {
     "name": "stdout",
     "output_type": "stream",
     "text": [
      "R2 Score with RBF kernel -0.06695976251945246\n",
      "Mean Absolute Error with RBF kernel 39.510035853222334\n",
      "R2 Score with Linear kernel -0.07664918695614342\n",
      "Mean Absolute Error with Linear kernel 40.13840156870869\n"
     ]
    }
   ],
   "source": [
    "# Application of the StandardScaler before applying SVR\n",
    "scaler = StandardScaler()\n",
    "scaler.fit(X_train)\n",
    "X_train_Scaled=scaler.transform(X_train)\n",
    "scaler.fit(X_test)\n",
    "X_test_Scaled=scaler.transform(X_test)\n",
    "\n",
    "# SVR with RBF kernel\n",
    "svr=SVR(kernel='rbf')\n",
    "svr.fit(X_train_Scaled,Y_train)\n",
    "# predict\n",
    "Y_pred_SVR=svr.predict(X_test_Scaled)\n",
    "\n",
    "acc_log_SVR = round(svr.score(X_test_Scaled, Y_test) * 100, 2)\n",
    "r2_score_SVR = r2_score(Y_test,Y_pred_SVR)\n",
    "mean_absolute_error_SVR=mean_absolute_error(Y_test, Y_pred_SVR)\n",
    "# Print the computed values\n",
    "print('R2 Score with RBF kernel '+ str(r2_score_SVR))\n",
    "print('Mean Absolute Error with RBF kernel '+ str(mean_absolute_error_SVR))\n",
    "\n",
    "# SVR with Linear kernel / Linear SVR Algorithm\n",
    "lsvr = LinearSVR(random_state=0, tol=1e-5)\n",
    "lsvr.fit(X_train_Scaled, Y_train)\n",
    "# predict\n",
    "Y_pred_SVR=lsvr.predict(X_test_Scaled)\n",
    "\n",
    "acc_log_SVR = round(lsvr.score(X_test_Scaled, Y_test) * 100, 2)\n",
    "r2_score_SVR = r2_score(Y_test,Y_pred_SVR)\n",
    "mean_absolute_error_SVR=mean_absolute_error(Y_test, Y_pred_SVR)\n",
    "# Print the computed values\n",
    "print('R2 Score with Linear kernel '+ str(r2_score_SVR))\n",
    "print('Mean Absolute Error with Linear kernel '+ str(mean_absolute_error_SVR))"
   ]
  },
  {
   "cell_type": "markdown",
   "metadata": {},
   "source": [
    "#### Considering only H5-Index feature"
   ]
  },
  {
   "cell_type": "code",
   "execution_count": 165,
   "metadata": {},
   "outputs": [],
   "source": [
    "X_train=X_train_Dup.drop(['AverageCumulativeAuthorCitationCount','ref_avg_count','age','Rank','avgVenueCite'],axis=1)\n",
    "X_test=X_test_Dup.drop(['AverageCumulativeAuthorCitationCount','ref_avg_count','age','Rank','avgVenueCite'],axis=1)"
   ]
  },
  {
   "cell_type": "code",
   "execution_count": 166,
   "metadata": {},
   "outputs": [
    {
     "name": "stdout",
     "output_type": "stream",
     "text": [
      "R2 Score -0.01096317512028211\n",
      "Mean Absolute Error 41.3604407934403\n"
     ]
    }
   ],
   "source": [
    "# Linear Regression Algorithm\n",
    "linreg=LinearRegression()\n",
    "linreg.fit(X_train, Y_train)\n",
    "\n",
    "# predict\n",
    "Y_pred_LinearReg = linreg.predict(X_test)\n",
    "acc_log_LinReg = round(linreg.score(X_test, Y_test) * 100, 2)\n",
    "r2_score_LinReg = r2_score(Y_test,Y_pred_LinearReg)\n",
    "mean_absolute_error_LinReg=mean_absolute_error(Y_test, Y_pred_LinearReg)\n",
    "\n",
    "print('R2 Score '+ str(r2_score_LinReg))\n",
    "print('Mean Absolute Error '+ str(mean_absolute_error_LinReg))"
   ]
  },
  {
   "cell_type": "code",
   "execution_count": 167,
   "metadata": {},
   "outputs": [
    {
     "name": "stdout",
     "output_type": "stream",
     "text": [
      "R2 Score -0.021738797526164033\n",
      "Mean Absolute Error 41.62354790867402\n"
     ]
    }
   ],
   "source": [
    "# CART Decision Tree Algorithm\n",
    "cart = DecisionTreeRegressor(criterion='mse', max_depth=None, min_samples_split=2, min_samples_leaf=1, max_features=None, random_state=0)\n",
    "cart.fit(X_train, Y_train)\n",
    "# Predicting a new result\n",
    "Y_pred_CART = cart.predict(X_test)\n",
    "acc_log_CART = round(cart.score(X_test, Y_test) * 100, 2)\n",
    "r2_score_CART = r2_score(Y_test,Y_pred_CART)\n",
    "mean_absolute_error_CART=mean_absolute_error(Y_test, Y_pred_CART)\n",
    "print('R2 Score '+ str(r2_score_CART))\n",
    "print('Mean Absolute Error '+ str(mean_absolute_error_CART))"
   ]
  },
  {
   "cell_type": "code",
   "execution_count": 168,
   "metadata": {},
   "outputs": [
    {
     "name": "stdout",
     "output_type": "stream",
     "text": [
      "R2 Score with RBF kernel -0.07458755838634179\n",
      "Mean Absolute Error with RBF kernel 39.59075878167266\n",
      "R2 Score with Linear kernel -0.07662692035032115\n",
      "Mean Absolute Error with Linear kernel 40.02758415533103\n"
     ]
    }
   ],
   "source": [
    "# Application of the StandardScaler before applying SVR\n",
    "scaler = StandardScaler()\n",
    "scaler.fit(X_train)\n",
    "X_train_Scaled=scaler.transform(X_train)\n",
    "scaler.fit(X_test)\n",
    "X_test_Scaled=scaler.transform(X_test)\n",
    "\n",
    "# SVR with RBF kernel\n",
    "svr=SVR(kernel='rbf')\n",
    "svr.fit(X_train_Scaled,Y_train)\n",
    "# predict\n",
    "Y_pred_SVR=svr.predict(X_test_Scaled)\n",
    "\n",
    "acc_log_SVR = round(svr.score(X_test_Scaled, Y_test) * 100, 2)\n",
    "r2_score_SVR = r2_score(Y_test,Y_pred_SVR)\n",
    "mean_absolute_error_SVR=mean_absolute_error(Y_test, Y_pred_SVR)\n",
    "# Print the computed values\n",
    "print('R2 Score with RBF kernel '+ str(r2_score_SVR))\n",
    "print('Mean Absolute Error with RBF kernel '+ str(mean_absolute_error_SVR))\n",
    "\n",
    "# SVR with Linear kernel / Linear SVR Algorithm\n",
    "lsvr = LinearSVR(random_state=0, tol=1e-5)\n",
    "lsvr.fit(X_train_Scaled, Y_train)\n",
    "# predict\n",
    "Y_pred_SVR=lsvr.predict(X_test_Scaled)\n",
    "\n",
    "acc_log_SVR = round(lsvr.score(X_test_Scaled, Y_test) * 100, 2)\n",
    "r2_score_SVR = r2_score(Y_test,Y_pred_SVR)\n",
    "mean_absolute_error_SVR=mean_absolute_error(Y_test, Y_pred_SVR)\n",
    "# Print the computed values\n",
    "print('R2 Score with Linear kernel '+ str(r2_score_SVR))\n",
    "print('Mean Absolute Error with Linear kernel '+ str(mean_absolute_error_SVR))"
   ]
  },
  {
   "cell_type": "markdown",
   "metadata": {},
   "source": [
    "#### Considering only avgVenueCite feature"
   ]
  },
  {
   "cell_type": "code",
   "execution_count": 169,
   "metadata": {},
   "outputs": [],
   "source": [
    "X_train=X_train_Dup.drop(['AverageCumulativeAuthorCitationCount','ref_avg_count','age','Rank','H5-Index'],axis=1)\n",
    "X_test=X_test_Dup.drop(['AverageCumulativeAuthorCitationCount','ref_avg_count','age','Rank','H5-Index'],axis=1)"
   ]
  },
  {
   "cell_type": "code",
   "execution_count": 170,
   "metadata": {},
   "outputs": [
    {
     "name": "stdout",
     "output_type": "stream",
     "text": [
      "R2 Score -0.06634634193505251\n",
      "Mean Absolute Error 44.22002831453086\n"
     ]
    }
   ],
   "source": [
    "# Linear Regression Algorithm\n",
    "linreg=LinearRegression()\n",
    "linreg.fit(X_train, Y_train)\n",
    "\n",
    "# predict\n",
    "Y_pred_LinearReg = linreg.predict(X_test)\n",
    "acc_log_LinReg = round(linreg.score(X_test, Y_test) * 100, 2)\n",
    "r2_score_LinReg = r2_score(Y_test,Y_pred_LinearReg)\n",
    "mean_absolute_error_LinReg=mean_absolute_error(Y_test, Y_pred_LinearReg)\n",
    "\n",
    "print('R2 Score '+ str(r2_score_LinReg))\n",
    "print('Mean Absolute Error '+ str(mean_absolute_error_LinReg))"
   ]
  },
  {
   "cell_type": "code",
   "execution_count": 171,
   "metadata": {},
   "outputs": [
    {
     "name": "stdout",
     "output_type": "stream",
     "text": [
      "R2 Score -0.04557128603894545\n",
      "Mean Absolute Error 44.1446910070142\n"
     ]
    }
   ],
   "source": [
    "# CART Decision Tree Algorithm\n",
    "cart = DecisionTreeRegressor(criterion='mse', max_depth=None, min_samples_split=2, min_samples_leaf=1, max_features=None, random_state=0)\n",
    "cart.fit(X_train, Y_train)\n",
    "# Predicting a new result\n",
    "Y_pred_CART = cart.predict(X_test)\n",
    "acc_log_CART = round(cart.score(X_test, Y_test) * 100, 2)\n",
    "r2_score_CART = r2_score(Y_test,Y_pred_CART)\n",
    "mean_absolute_error_CART=mean_absolute_error(Y_test, Y_pred_CART)\n",
    "print('R2 Score '+ str(r2_score_CART))\n",
    "print('Mean Absolute Error '+ str(mean_absolute_error_CART))"
   ]
  },
  {
   "cell_type": "code",
   "execution_count": 172,
   "metadata": {},
   "outputs": [
    {
     "name": "stdout",
     "output_type": "stream",
     "text": [
      "R2 Score with RBF kernel -0.05847371033094673\n",
      "Mean Absolute Error with RBF kernel 37.853565516229516\n",
      "R2 Score with Linear kernel -0.07192537630847418\n",
      "Mean Absolute Error with Linear kernel 39.710234714974554\n"
     ]
    }
   ],
   "source": [
    "# Application of the StandardScaler before applying SVR\n",
    "scaler = StandardScaler()\n",
    "scaler.fit(X_train)\n",
    "X_train_Scaled=scaler.transform(X_train)\n",
    "scaler.fit(X_test)\n",
    "X_test_Scaled=scaler.transform(X_test)\n",
    "\n",
    "# SVR with RBF kernel\n",
    "svr=SVR(kernel='rbf')\n",
    "svr.fit(X_train_Scaled,Y_train)\n",
    "# predict\n",
    "Y_pred_SVR=svr.predict(X_test_Scaled)\n",
    "\n",
    "acc_log_SVR = round(svr.score(X_test_Scaled, Y_test) * 100, 2)\n",
    "r2_score_SVR = r2_score(Y_test,Y_pred_SVR)\n",
    "mean_absolute_error_SVR=mean_absolute_error(Y_test, Y_pred_SVR)\n",
    "# Print the computed values\n",
    "print('R2 Score with RBF kernel '+ str(r2_score_SVR))\n",
    "print('Mean Absolute Error with RBF kernel '+ str(mean_absolute_error_SVR))\n",
    "\n",
    "# SVR with Linear kernel / Linear SVR Algorithm\n",
    "lsvr = LinearSVR(random_state=0, tol=1e-5)\n",
    "lsvr.fit(X_train_Scaled, Y_train)\n",
    "# predict\n",
    "Y_pred_SVR=lsvr.predict(X_test_Scaled)\n",
    "\n",
    "acc_log_SVR = round(lsvr.score(X_test_Scaled, Y_test) * 100, 2)\n",
    "r2_score_SVR = r2_score(Y_test,Y_pred_SVR)\n",
    "mean_absolute_error_SVR=mean_absolute_error(Y_test, Y_pred_SVR)\n",
    "# Print the computed values\n",
    "print('R2 Score with Linear kernel '+ str(r2_score_SVR))\n",
    "print('Mean Absolute Error with Linear kernel '+ str(mean_absolute_error_SVR))"
   ]
  }
 ],
 "metadata": {
  "kernelspec": {
   "display_name": "Python 3",
   "language": "python",
   "name": "python3"
  },
  "language_info": {
   "codemirror_mode": {
    "name": "ipython",
    "version": 3
   },
   "file_extension": ".py",
   "mimetype": "text/x-python",
   "name": "python",
   "nbconvert_exporter": "python",
   "pygments_lexer": "ipython3",
   "version": "3.7.0"
  }
 },
 "nbformat": 4,
 "nbformat_minor": 2
}
