{
 "cells": [
  {
   "cell_type": "code",
   "execution_count": 1,
   "metadata": {},
   "outputs": [],
   "source": [
    "# Libraries\n",
    "# For implementing Bag of words\n",
    "from sklearn.feature_extraction.text import CountVectorizer\n",
    "# For implementing Linear Regression\n",
    "from sklearn.linear_model import LinearRegression\n",
    "# For implementing Support Vector Regression\n",
    "from sklearn.svm import SVR\n",
    "# For implementing Linear SVR\n",
    "from sklearn.svm import LinearSVR\n",
    "\n",
    "# For implementing CART\n",
    "from sklearn.tree import DecisionTreeRegressor\n",
    "# R2 Score\n",
    "from sklearn.metrics import r2_score\n",
    "# MAE Score\n",
    "from sklearn.metrics import mean_absolute_error\n",
    "\n",
    "# For Scaling of preprocessing data\n",
    "from sklearn.preprocessing import StandardScaler\n",
    "from sklearn.preprocessing import MinMaxScaler\n",
    "from sklearn.preprocessing import Normalizer\n",
    "\n",
    "import pandas as pd\n",
    "import numpy as np\n",
    "import seaborn as sns"
   ]
  },
  {
   "cell_type": "markdown",
   "metadata": {},
   "source": [
    "Dataset: dblp-ref-3.json is considered in this experiment.\n",
    "1. In this dataset, we considered papers whose venue rank and h5-index are known.\n",
    "2. Venue rank and h5-index are taken from Aminer conference ranks website(http://aminer.org/ranks/conf)\n",
    "3. We removed papers which has NaN in any feature.\n",
    "4. Finally, the remaining dataset is split into train and test set at 80:30 ratio."
   ]
  },
  {
   "cell_type": "code",
   "execution_count": 2,
   "metadata": {},
   "outputs": [],
   "source": [
    "# Loading train and test dataset\n",
    "train = pd.read_csv('Data/train_case_two.csv', index_col='Unnamed: 0')\n",
    "test = pd.read_csv('Data/test_case_two.csv', index_col='Unnamed: 0')"
   ]
  },
  {
   "cell_type": "code",
   "execution_count": 3,
   "metadata": {},
   "outputs": [],
   "source": [
    "train.reset_index(inplace=True, drop=True)\n",
    "test.reset_index(inplace=True, drop=True)"
   ]
  },
  {
   "cell_type": "code",
   "execution_count": 4,
   "metadata": {},
   "outputs": [
    {
     "name": "stdout",
     "output_type": "stream",
     "text": [
      "<class 'pandas.core.frame.DataFrame'>\n",
      "RangeIndex: 6686 entries, 0 to 6685\n",
      "Data columns (total 8 columns):\n",
      "abstract      6686 non-null object\n",
      "authors       6686 non-null object\n",
      "id            6686 non-null object\n",
      "n_citation    6686 non-null int64\n",
      "references    6686 non-null object\n",
      "title         6686 non-null object\n",
      "venue         6686 non-null object\n",
      "year          6686 non-null int64\n",
      "dtypes: int64(2), object(6)\n",
      "memory usage: 418.0+ KB\n"
     ]
    }
   ],
   "source": [
    "train.info()"
   ]
  },
  {
   "cell_type": "code",
   "execution_count": 5,
   "metadata": {},
   "outputs": [
    {
     "name": "stdout",
     "output_type": "stream",
     "text": [
      "<class 'pandas.core.frame.DataFrame'>\n",
      "RangeIndex: 1672 entries, 0 to 1671\n",
      "Data columns (total 8 columns):\n",
      "abstract      1672 non-null object\n",
      "authors       1672 non-null object\n",
      "id            1672 non-null object\n",
      "n_citation    1672 non-null int64\n",
      "references    1672 non-null object\n",
      "title         1672 non-null object\n",
      "venue         1672 non-null object\n",
      "year          1672 non-null int64\n",
      "dtypes: int64(2), object(6)\n",
      "memory usage: 104.6+ KB\n"
     ]
    }
   ],
   "source": [
    "test.info()"
   ]
  },
  {
   "cell_type": "code",
   "execution_count": 6,
   "metadata": {},
   "outputs": [
    {
     "data": {
      "text/html": [
       "<div>\n",
       "<style scoped>\n",
       "    .dataframe tbody tr th:only-of-type {\n",
       "        vertical-align: middle;\n",
       "    }\n",
       "\n",
       "    .dataframe tbody tr th {\n",
       "        vertical-align: top;\n",
       "    }\n",
       "\n",
       "    .dataframe thead th {\n",
       "        text-align: right;\n",
       "    }\n",
       "</style>\n",
       "<table border=\"1\" class=\"dataframe\">\n",
       "  <thead>\n",
       "    <tr style=\"text-align: right;\">\n",
       "      <th></th>\n",
       "      <th>abstract</th>\n",
       "      <th>authors</th>\n",
       "      <th>id</th>\n",
       "      <th>n_citation</th>\n",
       "      <th>references</th>\n",
       "      <th>title</th>\n",
       "      <th>venue</th>\n",
       "      <th>year</th>\n",
       "    </tr>\n",
       "  </thead>\n",
       "  <tbody>\n",
       "    <tr>\n",
       "      <th>1667</th>\n",
       "      <td>Condition-based maintenance (CBM) has received...</td>\n",
       "      <td>['Minou C.A. Olde Keizer', 'Simme Douwe P. Fla...</td>\n",
       "      <td>9db0808b-f67e-49b1-8ce6-d58dd4d96cb3</td>\n",
       "      <td>50</td>\n",
       "      <td>['030d7248-9611-4a78-a7a1-5bebabf8a84b', '0559...</td>\n",
       "      <td>Condition-based maintenance policies for syste...</td>\n",
       "      <td>European Journal of Operational Research</td>\n",
       "      <td>2017</td>\n",
       "    </tr>\n",
       "    <tr>\n",
       "      <th>1668</th>\n",
       "      <td>This article presents an extension of the IaaS...</td>\n",
       "      <td>['Hamza Ouarnoughi', 'Jalil Boukhobza', 'Frank...</td>\n",
       "      <td>5652eae4-ec59-448d-bca7-224d2a97ab42</td>\n",
       "      <td>0</td>\n",
       "      <td>['444373bf-e707-462c-9da2-48c67e9d4187', '5a4c...</td>\n",
       "      <td>Integrating I/Os in Cloudsim for Performance a...</td>\n",
       "      <td>Operating Systems Review</td>\n",
       "      <td>2017</td>\n",
       "    </tr>\n",
       "    <tr>\n",
       "      <th>1669</th>\n",
       "      <td>In analyzing longitudinal data, within-subject...</td>\n",
       "      <td>['Lianfen Qian', 'Suojin Wang']</td>\n",
       "      <td>66a00e3e-938b-4e17-9a04-c8f6526720d8</td>\n",
       "      <td>0</td>\n",
       "      <td>[]</td>\n",
       "      <td>Subject-wise empirical likelihood inference in...</td>\n",
       "      <td>Computational Statistics &amp; Data Analysis</td>\n",
       "      <td>2017</td>\n",
       "    </tr>\n",
       "    <tr>\n",
       "      <th>1670</th>\n",
       "      <td>Peer-to-peer network is organized on top of an...</td>\n",
       "      <td>['Sara Fathipour Deiman', 'Ali Mohammad Saghir...</td>\n",
       "      <td>a2b1bca8-fa93-41c4-84d7-77f1cb4e3df3</td>\n",
       "      <td>0</td>\n",
       "      <td>['092300d0-146d-46d6-ba94-7188584c4ccc', '1c26...</td>\n",
       "      <td>A Delay Aware Super-Peer Selection Algorithm f...</td>\n",
       "      <td>Wireless Personal Communications</td>\n",
       "      <td>2017</td>\n",
       "    </tr>\n",
       "    <tr>\n",
       "      <th>1671</th>\n",
       "      <td>A computational secret-sharing scheme is a met...</td>\n",
       "      <td>['Ilan Komargodski', 'Moni Naor', 'Eylon Yogev']</td>\n",
       "      <td>c3020a17-2c9f-4e58-80ea-2b81a2086c65</td>\n",
       "      <td>0</td>\n",
       "      <td>['05c4021c-2169-45a0-949b-d3fab1b88af1', '0b62...</td>\n",
       "      <td>Secret-Sharing for NP</td>\n",
       "      <td>Journal of Cryptology</td>\n",
       "      <td>2017</td>\n",
       "    </tr>\n",
       "  </tbody>\n",
       "</table>\n",
       "</div>"
      ],
      "text/plain": [
       "                                               abstract  \\\n",
       "1667  Condition-based maintenance (CBM) has received...   \n",
       "1668  This article presents an extension of the IaaS...   \n",
       "1669  In analyzing longitudinal data, within-subject...   \n",
       "1670  Peer-to-peer network is organized on top of an...   \n",
       "1671  A computational secret-sharing scheme is a met...   \n",
       "\n",
       "                                                authors  \\\n",
       "1667  ['Minou C.A. Olde Keizer', 'Simme Douwe P. Fla...   \n",
       "1668  ['Hamza Ouarnoughi', 'Jalil Boukhobza', 'Frank...   \n",
       "1669                    ['Lianfen Qian', 'Suojin Wang']   \n",
       "1670  ['Sara Fathipour Deiman', 'Ali Mohammad Saghir...   \n",
       "1671   ['Ilan Komargodski', 'Moni Naor', 'Eylon Yogev']   \n",
       "\n",
       "                                        id  n_citation  \\\n",
       "1667  9db0808b-f67e-49b1-8ce6-d58dd4d96cb3          50   \n",
       "1668  5652eae4-ec59-448d-bca7-224d2a97ab42           0   \n",
       "1669  66a00e3e-938b-4e17-9a04-c8f6526720d8           0   \n",
       "1670  a2b1bca8-fa93-41c4-84d7-77f1cb4e3df3           0   \n",
       "1671  c3020a17-2c9f-4e58-80ea-2b81a2086c65           0   \n",
       "\n",
       "                                             references  \\\n",
       "1667  ['030d7248-9611-4a78-a7a1-5bebabf8a84b', '0559...   \n",
       "1668  ['444373bf-e707-462c-9da2-48c67e9d4187', '5a4c...   \n",
       "1669                                                 []   \n",
       "1670  ['092300d0-146d-46d6-ba94-7188584c4ccc', '1c26...   \n",
       "1671  ['05c4021c-2169-45a0-949b-d3fab1b88af1', '0b62...   \n",
       "\n",
       "                                                  title  \\\n",
       "1667  Condition-based maintenance policies for syste...   \n",
       "1668  Integrating I/Os in Cloudsim for Performance a...   \n",
       "1669  Subject-wise empirical likelihood inference in...   \n",
       "1670  A Delay Aware Super-Peer Selection Algorithm f...   \n",
       "1671                              Secret-Sharing for NP   \n",
       "\n",
       "                                         venue  year  \n",
       "1667  European Journal of Operational Research  2017  \n",
       "1668                  Operating Systems Review  2017  \n",
       "1669  Computational Statistics & Data Analysis  2017  \n",
       "1670          Wireless Personal Communications  2017  \n",
       "1671                     Journal of Cryptology  2017  "
      ]
     },
     "execution_count": 6,
     "metadata": {},
     "output_type": "execute_result"
    }
   ],
   "source": [
    "test.tail()"
   ]
  },
  {
   "cell_type": "markdown",
   "metadata": {},
   "source": [
    "## Age feature is derived"
   ]
  },
  {
   "cell_type": "code",
   "execution_count": 7,
   "metadata": {},
   "outputs": [],
   "source": [
    "train['age'] = 2018 - train.year\n",
    "test['age'] = 2018 - test.year"
   ]
  },
  {
   "cell_type": "code",
   "execution_count": 8,
   "metadata": {},
   "outputs": [
    {
     "data": {
      "text/html": [
       "<div>\n",
       "<style scoped>\n",
       "    .dataframe tbody tr th:only-of-type {\n",
       "        vertical-align: middle;\n",
       "    }\n",
       "\n",
       "    .dataframe tbody tr th {\n",
       "        vertical-align: top;\n",
       "    }\n",
       "\n",
       "    .dataframe thead th {\n",
       "        text-align: right;\n",
       "    }\n",
       "</style>\n",
       "<table border=\"1\" class=\"dataframe\">\n",
       "  <thead>\n",
       "    <tr style=\"text-align: right;\">\n",
       "      <th></th>\n",
       "      <th>abstract</th>\n",
       "      <th>authors</th>\n",
       "      <th>id</th>\n",
       "      <th>n_citation</th>\n",
       "      <th>references</th>\n",
       "      <th>title</th>\n",
       "      <th>venue</th>\n",
       "      <th>year</th>\n",
       "      <th>age</th>\n",
       "    </tr>\n",
       "  </thead>\n",
       "  <tbody>\n",
       "    <tr>\n",
       "      <th>65</th>\n",
       "      <td>Declustering techniques have been widely adopt...</td>\n",
       "      <td>['Rakesh K. Sinha', 'Randeep Bhatia', 'Chung-M...</td>\n",
       "      <td>67a186a6-c025-4584-bcf3-7490a3c6c6cb</td>\n",
       "      <td>53</td>\n",
       "      <td>['1d85fc08-5218-4254-bc56-413a70972bcd', '22c4...</td>\n",
       "      <td>Asymptotically optimal declustering schemes fo...</td>\n",
       "      <td>Theoretical Computer Science</td>\n",
       "      <td>2003</td>\n",
       "      <td>15</td>\n",
       "    </tr>\n",
       "    <tr>\n",
       "      <th>106</th>\n",
       "      <td>In this work we consider the Colpitts oscillat...</td>\n",
       "      <td>['Oscar De Feo', 'Gian Mario Maggio', 'Michael...</td>\n",
       "      <td>fe89b02d-e097-49d5-b84f-0ecfe12a26f7</td>\n",
       "      <td>55</td>\n",
       "      <td>[]</td>\n",
       "      <td>The Colpitts oscillator: Families of periodic ...</td>\n",
       "      <td>International Journal of Bifurcation and Chaos</td>\n",
       "      <td>2000</td>\n",
       "      <td>18</td>\n",
       "    </tr>\n",
       "    <tr>\n",
       "      <th>132</th>\n",
       "      <td>This paper introduces a new mechanism for spec...</td>\n",
       "      <td>['Gregory E. Graham', 'M. Anzar Afaq', 'David ...</td>\n",
       "      <td>b9e0d58e-dec1-4e5d-9f26-c74f180ecc6f</td>\n",
       "      <td>0</td>\n",
       "      <td>['699e4d26-730c-40b3-bec8-cc5ef6efabff', '6ff0...</td>\n",
       "      <td>Contextual Constraint Modeling in Grid Applica...</td>\n",
       "      <td>Concurrency and Computation: Practice and Expe...</td>\n",
       "      <td>2006</td>\n",
       "      <td>12</td>\n",
       "    </tr>\n",
       "    <tr>\n",
       "      <th>173</th>\n",
       "      <td>Grassmannian frames are frames satisfying a mi...</td>\n",
       "      <td>['John J. Benedetto', 'Joseph D. Kolesar']</td>\n",
       "      <td>be01749c-9612-4763-86f6-9885faf73a2a</td>\n",
       "      <td>74</td>\n",
       "      <td>['1efdec77-a53c-4e92-8877-941e9e5cf103', '7bda...</td>\n",
       "      <td>Geometric Properties of Grassmannian Frames fo...</td>\n",
       "      <td>EURASIP Journal on Advances in Signal Processing</td>\n",
       "      <td>2006</td>\n",
       "      <td>12</td>\n",
       "    </tr>\n",
       "    <tr>\n",
       "      <th>218</th>\n",
       "      <td>A reformulation of the path length of binary s...</td>\n",
       "      <td>['Helmut Prodinger']</td>\n",
       "      <td>5d790c9a-6828-4902-b357-a76e8f8f2e59</td>\n",
       "      <td>8</td>\n",
       "      <td>['185ae1b4-2e83-4376-bf15-ea78442c99f9']</td>\n",
       "      <td>A q -Analogue of the Path Length of Binary Sea...</td>\n",
       "      <td>Algorithmica</td>\n",
       "      <td>2001</td>\n",
       "      <td>17</td>\n",
       "    </tr>\n",
       "  </tbody>\n",
       "</table>\n",
       "</div>"
      ],
      "text/plain": [
       "                                              abstract  \\\n",
       "65   Declustering techniques have been widely adopt...   \n",
       "106  In this work we consider the Colpitts oscillat...   \n",
       "132  This paper introduces a new mechanism for spec...   \n",
       "173  Grassmannian frames are frames satisfying a mi...   \n",
       "218  A reformulation of the path length of binary s...   \n",
       "\n",
       "                                               authors  \\\n",
       "65   ['Rakesh K. Sinha', 'Randeep Bhatia', 'Chung-M...   \n",
       "106  ['Oscar De Feo', 'Gian Mario Maggio', 'Michael...   \n",
       "132  ['Gregory E. Graham', 'M. Anzar Afaq', 'David ...   \n",
       "173         ['John J. Benedetto', 'Joseph D. Kolesar']   \n",
       "218                               ['Helmut Prodinger']   \n",
       "\n",
       "                                       id  n_citation  \\\n",
       "65   67a186a6-c025-4584-bcf3-7490a3c6c6cb          53   \n",
       "106  fe89b02d-e097-49d5-b84f-0ecfe12a26f7          55   \n",
       "132  b9e0d58e-dec1-4e5d-9f26-c74f180ecc6f           0   \n",
       "173  be01749c-9612-4763-86f6-9885faf73a2a          74   \n",
       "218  5d790c9a-6828-4902-b357-a76e8f8f2e59           8   \n",
       "\n",
       "                                            references  \\\n",
       "65   ['1d85fc08-5218-4254-bc56-413a70972bcd', '22c4...   \n",
       "106                                                 []   \n",
       "132  ['699e4d26-730c-40b3-bec8-cc5ef6efabff', '6ff0...   \n",
       "173  ['1efdec77-a53c-4e92-8877-941e9e5cf103', '7bda...   \n",
       "218           ['185ae1b4-2e83-4376-bf15-ea78442c99f9']   \n",
       "\n",
       "                                                 title  \\\n",
       "65   Asymptotically optimal declustering schemes fo...   \n",
       "106  The Colpitts oscillator: Families of periodic ...   \n",
       "132  Contextual Constraint Modeling in Grid Applica...   \n",
       "173  Geometric Properties of Grassmannian Frames fo...   \n",
       "218  A q -Analogue of the Path Length of Binary Sea...   \n",
       "\n",
       "                                                 venue  year  age  \n",
       "65                        Theoretical Computer Science  2003   15  \n",
       "106     International Journal of Bifurcation and Chaos  2000   18  \n",
       "132  Concurrency and Computation: Practice and Expe...  2006   12  \n",
       "173   EURASIP Journal on Advances in Signal Processing  2006   12  \n",
       "218                                       Algorithmica  2001   17  "
      ]
     },
     "execution_count": 8,
     "metadata": {},
     "output_type": "execute_result"
    }
   ],
   "source": [
    "train[train.age > 10].head()"
   ]
  },
  {
   "cell_type": "code",
   "execution_count": 9,
   "metadata": {},
   "outputs": [
    {
     "data": {
      "text/html": [
       "<div>\n",
       "<style scoped>\n",
       "    .dataframe tbody tr th:only-of-type {\n",
       "        vertical-align: middle;\n",
       "    }\n",
       "\n",
       "    .dataframe tbody tr th {\n",
       "        vertical-align: top;\n",
       "    }\n",
       "\n",
       "    .dataframe thead th {\n",
       "        text-align: right;\n",
       "    }\n",
       "</style>\n",
       "<table border=\"1\" class=\"dataframe\">\n",
       "  <thead>\n",
       "    <tr style=\"text-align: right;\">\n",
       "      <th></th>\n",
       "      <th>abstract</th>\n",
       "      <th>authors</th>\n",
       "      <th>id</th>\n",
       "      <th>n_citation</th>\n",
       "      <th>references</th>\n",
       "      <th>title</th>\n",
       "      <th>venue</th>\n",
       "      <th>year</th>\n",
       "      <th>age</th>\n",
       "    </tr>\n",
       "  </thead>\n",
       "  <tbody>\n",
       "    <tr>\n",
       "      <th>7</th>\n",
       "      <td>Calendar applications for small handheld devic...</td>\n",
       "      <td>['Benjamin B. Bederson', 'Aaron Clamage', 'Mar...</td>\n",
       "      <td>41547a1b-4659-4ae4-8530-29dee0dbaad5</td>\n",
       "      <td>242</td>\n",
       "      <td>['1a6548e3-ac10-4a17-a70f-b5a95bf4866a', '2b49...</td>\n",
       "      <td>DateLens: A fisheye calendar interface for PDAs</td>\n",
       "      <td>ACM Transactions on Computer-Human Interaction</td>\n",
       "      <td>2004</td>\n",
       "      <td>14</td>\n",
       "    </tr>\n",
       "    <tr>\n",
       "      <th>87</th>\n",
       "      <td>In this paper, we present a new upper bound fo...</td>\n",
       "      <td>['Van H. Vu']</td>\n",
       "      <td>c99eaf28-c23e-4be3-8ad3-7a7aea34cff2</td>\n",
       "      <td>84</td>\n",
       "      <td>['1a13d600-c9ab-4a3b-a71f-e172976117a2', 'f19c...</td>\n",
       "      <td>Spectral norm of random matrices</td>\n",
       "      <td>Combinatorica</td>\n",
       "      <td>2007</td>\n",
       "      <td>11</td>\n",
       "    </tr>\n",
       "    <tr>\n",
       "      <th>181</th>\n",
       "      <td>This paper formulates a new approach to the st...</td>\n",
       "      <td>['Amlan K. Sengupta']</td>\n",
       "      <td>65f93b20-7fc6-4494-9e38-600741594cb1</td>\n",
       "      <td>10</td>\n",
       "      <td>['5ca9f573-14f9-4b7e-91e4-979d54447977']</td>\n",
       "      <td>TOWARD A THEORY OF CHAOS</td>\n",
       "      <td>International Journal of Bifurcation and Chaos</td>\n",
       "      <td>2003</td>\n",
       "      <td>15</td>\n",
       "    </tr>\n",
       "    <tr>\n",
       "      <th>617</th>\n",
       "      <td>Abstract   The tree-metric theorem provides a ...</td>\n",
       "      <td>['Lior Pachter', 'David E Speyer']</td>\n",
       "      <td>94165c07-5d81-418e-912a-8f3302c1c8a8</td>\n",
       "      <td>69</td>\n",
       "      <td>['0270a584-f399-4db0-82a6-5cf6dfc2a310', '9219...</td>\n",
       "      <td>Reconstructing trees from subtree weights</td>\n",
       "      <td>Applied Mathematics Letters</td>\n",
       "      <td>2004</td>\n",
       "      <td>14</td>\n",
       "    </tr>\n",
       "    <tr>\n",
       "      <th>638</th>\n",
       "      <td>Since optical character recognition systems of...</td>\n",
       "      <td>['John D. Hobby']</td>\n",
       "      <td>0fd421fb-1cbc-4324-b26c-50acdd336342</td>\n",
       "      <td>67</td>\n",
       "      <td>['2184be7d-6ffb-4f9f-bbc4-e34cee4061d0', '44ac...</td>\n",
       "      <td>Matching document images with ground truth</td>\n",
       "      <td>International Journal on Document Analysis and...</td>\n",
       "      <td>1998</td>\n",
       "      <td>20</td>\n",
       "    </tr>\n",
       "  </tbody>\n",
       "</table>\n",
       "</div>"
      ],
      "text/plain": [
       "                                              abstract  \\\n",
       "7    Calendar applications for small handheld devic...   \n",
       "87   In this paper, we present a new upper bound fo...   \n",
       "181  This paper formulates a new approach to the st...   \n",
       "617  Abstract   The tree-metric theorem provides a ...   \n",
       "638  Since optical character recognition systems of...   \n",
       "\n",
       "                                               authors  \\\n",
       "7    ['Benjamin B. Bederson', 'Aaron Clamage', 'Mar...   \n",
       "87                                       ['Van H. Vu']   \n",
       "181                              ['Amlan K. Sengupta']   \n",
       "617                 ['Lior Pachter', 'David E Speyer']   \n",
       "638                                  ['John D. Hobby']   \n",
       "\n",
       "                                       id  n_citation  \\\n",
       "7    41547a1b-4659-4ae4-8530-29dee0dbaad5         242   \n",
       "87   c99eaf28-c23e-4be3-8ad3-7a7aea34cff2          84   \n",
       "181  65f93b20-7fc6-4494-9e38-600741594cb1          10   \n",
       "617  94165c07-5d81-418e-912a-8f3302c1c8a8          69   \n",
       "638  0fd421fb-1cbc-4324-b26c-50acdd336342          67   \n",
       "\n",
       "                                            references  \\\n",
       "7    ['1a6548e3-ac10-4a17-a70f-b5a95bf4866a', '2b49...   \n",
       "87   ['1a13d600-c9ab-4a3b-a71f-e172976117a2', 'f19c...   \n",
       "181           ['5ca9f573-14f9-4b7e-91e4-979d54447977']   \n",
       "617  ['0270a584-f399-4db0-82a6-5cf6dfc2a310', '9219...   \n",
       "638  ['2184be7d-6ffb-4f9f-bbc4-e34cee4061d0', '44ac...   \n",
       "\n",
       "                                               title  \\\n",
       "7    DateLens: A fisheye calendar interface for PDAs   \n",
       "87                  Spectral norm of random matrices   \n",
       "181                         TOWARD A THEORY OF CHAOS   \n",
       "617        Reconstructing trees from subtree weights   \n",
       "638       Matching document images with ground truth   \n",
       "\n",
       "                                                 venue  year  age  \n",
       "7       ACM Transactions on Computer-Human Interaction  2004   14  \n",
       "87                                       Combinatorica  2007   11  \n",
       "181     International Journal of Bifurcation and Chaos  2003   15  \n",
       "617                        Applied Mathematics Letters  2004   14  \n",
       "638  International Journal on Document Analysis and...  1998   20  "
      ]
     },
     "execution_count": 9,
     "metadata": {},
     "output_type": "execute_result"
    }
   ],
   "source": [
    "test[test.age > 10].head()"
   ]
  },
  {
   "cell_type": "code",
   "execution_count": 10,
   "metadata": {},
   "outputs": [
    {
     "data": {
      "text/html": [
       "<div>\n",
       "<style scoped>\n",
       "    .dataframe tbody tr th:only-of-type {\n",
       "        vertical-align: middle;\n",
       "    }\n",
       "\n",
       "    .dataframe tbody tr th {\n",
       "        vertical-align: top;\n",
       "    }\n",
       "\n",
       "    .dataframe thead th {\n",
       "        text-align: right;\n",
       "    }\n",
       "</style>\n",
       "<table border=\"1\" class=\"dataframe\">\n",
       "  <thead>\n",
       "    <tr style=\"text-align: right;\">\n",
       "      <th></th>\n",
       "      <th>abstract</th>\n",
       "      <th>authors</th>\n",
       "      <th>id</th>\n",
       "      <th>n_citation</th>\n",
       "      <th>references</th>\n",
       "      <th>title</th>\n",
       "      <th>venue</th>\n",
       "      <th>year</th>\n",
       "      <th>age</th>\n",
       "    </tr>\n",
       "  </thead>\n",
       "  <tbody>\n",
       "    <tr>\n",
       "      <th>1667</th>\n",
       "      <td>Condition-based maintenance (CBM) has received...</td>\n",
       "      <td>['Minou C.A. Olde Keizer', 'Simme Douwe P. Fla...</td>\n",
       "      <td>9db0808b-f67e-49b1-8ce6-d58dd4d96cb3</td>\n",
       "      <td>50</td>\n",
       "      <td>['030d7248-9611-4a78-a7a1-5bebabf8a84b', '0559...</td>\n",
       "      <td>Condition-based maintenance policies for syste...</td>\n",
       "      <td>European Journal of Operational Research</td>\n",
       "      <td>2017</td>\n",
       "      <td>1</td>\n",
       "    </tr>\n",
       "    <tr>\n",
       "      <th>1668</th>\n",
       "      <td>This article presents an extension of the IaaS...</td>\n",
       "      <td>['Hamza Ouarnoughi', 'Jalil Boukhobza', 'Frank...</td>\n",
       "      <td>5652eae4-ec59-448d-bca7-224d2a97ab42</td>\n",
       "      <td>0</td>\n",
       "      <td>['444373bf-e707-462c-9da2-48c67e9d4187', '5a4c...</td>\n",
       "      <td>Integrating I/Os in Cloudsim for Performance a...</td>\n",
       "      <td>Operating Systems Review</td>\n",
       "      <td>2017</td>\n",
       "      <td>1</td>\n",
       "    </tr>\n",
       "    <tr>\n",
       "      <th>1669</th>\n",
       "      <td>In analyzing longitudinal data, within-subject...</td>\n",
       "      <td>['Lianfen Qian', 'Suojin Wang']</td>\n",
       "      <td>66a00e3e-938b-4e17-9a04-c8f6526720d8</td>\n",
       "      <td>0</td>\n",
       "      <td>[]</td>\n",
       "      <td>Subject-wise empirical likelihood inference in...</td>\n",
       "      <td>Computational Statistics &amp; Data Analysis</td>\n",
       "      <td>2017</td>\n",
       "      <td>1</td>\n",
       "    </tr>\n",
       "    <tr>\n",
       "      <th>1670</th>\n",
       "      <td>Peer-to-peer network is organized on top of an...</td>\n",
       "      <td>['Sara Fathipour Deiman', 'Ali Mohammad Saghir...</td>\n",
       "      <td>a2b1bca8-fa93-41c4-84d7-77f1cb4e3df3</td>\n",
       "      <td>0</td>\n",
       "      <td>['092300d0-146d-46d6-ba94-7188584c4ccc', '1c26...</td>\n",
       "      <td>A Delay Aware Super-Peer Selection Algorithm f...</td>\n",
       "      <td>Wireless Personal Communications</td>\n",
       "      <td>2017</td>\n",
       "      <td>1</td>\n",
       "    </tr>\n",
       "    <tr>\n",
       "      <th>1671</th>\n",
       "      <td>A computational secret-sharing scheme is a met...</td>\n",
       "      <td>['Ilan Komargodski', 'Moni Naor', 'Eylon Yogev']</td>\n",
       "      <td>c3020a17-2c9f-4e58-80ea-2b81a2086c65</td>\n",
       "      <td>0</td>\n",
       "      <td>['05c4021c-2169-45a0-949b-d3fab1b88af1', '0b62...</td>\n",
       "      <td>Secret-Sharing for NP</td>\n",
       "      <td>Journal of Cryptology</td>\n",
       "      <td>2017</td>\n",
       "      <td>1</td>\n",
       "    </tr>\n",
       "  </tbody>\n",
       "</table>\n",
       "</div>"
      ],
      "text/plain": [
       "                                               abstract  \\\n",
       "1667  Condition-based maintenance (CBM) has received...   \n",
       "1668  This article presents an extension of the IaaS...   \n",
       "1669  In analyzing longitudinal data, within-subject...   \n",
       "1670  Peer-to-peer network is organized on top of an...   \n",
       "1671  A computational secret-sharing scheme is a met...   \n",
       "\n",
       "                                                authors  \\\n",
       "1667  ['Minou C.A. Olde Keizer', 'Simme Douwe P. Fla...   \n",
       "1668  ['Hamza Ouarnoughi', 'Jalil Boukhobza', 'Frank...   \n",
       "1669                    ['Lianfen Qian', 'Suojin Wang']   \n",
       "1670  ['Sara Fathipour Deiman', 'Ali Mohammad Saghir...   \n",
       "1671   ['Ilan Komargodski', 'Moni Naor', 'Eylon Yogev']   \n",
       "\n",
       "                                        id  n_citation  \\\n",
       "1667  9db0808b-f67e-49b1-8ce6-d58dd4d96cb3          50   \n",
       "1668  5652eae4-ec59-448d-bca7-224d2a97ab42           0   \n",
       "1669  66a00e3e-938b-4e17-9a04-c8f6526720d8           0   \n",
       "1670  a2b1bca8-fa93-41c4-84d7-77f1cb4e3df3           0   \n",
       "1671  c3020a17-2c9f-4e58-80ea-2b81a2086c65           0   \n",
       "\n",
       "                                             references  \\\n",
       "1667  ['030d7248-9611-4a78-a7a1-5bebabf8a84b', '0559...   \n",
       "1668  ['444373bf-e707-462c-9da2-48c67e9d4187', '5a4c...   \n",
       "1669                                                 []   \n",
       "1670  ['092300d0-146d-46d6-ba94-7188584c4ccc', '1c26...   \n",
       "1671  ['05c4021c-2169-45a0-949b-d3fab1b88af1', '0b62...   \n",
       "\n",
       "                                                  title  \\\n",
       "1667  Condition-based maintenance policies for syste...   \n",
       "1668  Integrating I/Os in Cloudsim for Performance a...   \n",
       "1669  Subject-wise empirical likelihood inference in...   \n",
       "1670  A Delay Aware Super-Peer Selection Algorithm f...   \n",
       "1671                              Secret-Sharing for NP   \n",
       "\n",
       "                                         venue  year  age  \n",
       "1667  European Journal of Operational Research  2017    1  \n",
       "1668                  Operating Systems Review  2017    1  \n",
       "1669  Computational Statistics & Data Analysis  2017    1  \n",
       "1670          Wireless Personal Communications  2017    1  \n",
       "1671                     Journal of Cryptology  2017    1  "
      ]
     },
     "execution_count": 10,
     "metadata": {},
     "output_type": "execute_result"
    }
   ],
   "source": [
    "test.tail()"
   ]
  },
  {
   "cell_type": "markdown",
   "metadata": {},
   "source": [
    "## Aminer Rank"
   ]
  },
  {
   "cell_type": "code",
   "execution_count": 11,
   "metadata": {},
   "outputs": [
    {
     "name": "stdout",
     "output_type": "stream",
     "text": [
      "<class 'pandas.core.frame.DataFrame'>\n",
      "Index: 978 entries, 0 to 999\n",
      "Data columns (total 3 columns):\n",
      "Rank        978 non-null int64\n",
      "venue       978 non-null object\n",
      "H5-Index    978 non-null float64\n",
      "dtypes: float64(1), int64(1), object(1)\n",
      "memory usage: 30.6+ KB\n"
     ]
    }
   ],
   "source": [
    "# Loading aminer conference ranks and h5-index\n",
    "aminer = pd.read_csv('Data/Aminer_Conf_Ranks.csv')\n",
    "\n",
    "aminer = aminer[['Rank', 'Conference', 'H5-Index']]\n",
    "aminer.dropna(inplace=True)\n",
    "# rename is performed in order to do the merging smoothly\n",
    "aminer.rename(index=str, columns={\"Conference\": \"venue\"}, inplace=True)\n",
    "aminer.info()"
   ]
  },
  {
   "cell_type": "code",
   "execution_count": 12,
   "metadata": {},
   "outputs": [],
   "source": [
    "# Merged train and test dataset with Aminer rank and h5-index.\n",
    "train = pd.merge(train, aminer, how='left', on=['venue'])\n",
    "test = pd.merge(test, aminer, how='left', on=['venue'])"
   ]
  },
  {
   "cell_type": "code",
   "execution_count": 13,
   "metadata": {},
   "outputs": [],
   "source": [
    "# Dropped duplicate papers\n",
    "train.drop_duplicates(['id'], keep='last', inplace=True)\n",
    "test.drop_duplicates(['id'], keep='last', inplace=True)"
   ]
  },
  {
   "cell_type": "code",
   "execution_count": 14,
   "metadata": {},
   "outputs": [],
   "source": [
    "train.reset_index(inplace=True, drop=True)\n",
    "test.reset_index(inplace=True, drop=True)"
   ]
  },
  {
   "cell_type": "code",
   "execution_count": 15,
   "metadata": {},
   "outputs": [
    {
     "data": {
      "text/html": [
       "<div>\n",
       "<style scoped>\n",
       "    .dataframe tbody tr th:only-of-type {\n",
       "        vertical-align: middle;\n",
       "    }\n",
       "\n",
       "    .dataframe tbody tr th {\n",
       "        vertical-align: top;\n",
       "    }\n",
       "\n",
       "    .dataframe thead th {\n",
       "        text-align: right;\n",
       "    }\n",
       "</style>\n",
       "<table border=\"1\" class=\"dataframe\">\n",
       "  <thead>\n",
       "    <tr style=\"text-align: right;\">\n",
       "      <th></th>\n",
       "      <th>abstract</th>\n",
       "      <th>authors</th>\n",
       "      <th>id</th>\n",
       "      <th>n_citation</th>\n",
       "      <th>references</th>\n",
       "      <th>title</th>\n",
       "      <th>venue</th>\n",
       "      <th>year</th>\n",
       "      <th>age</th>\n",
       "      <th>Rank</th>\n",
       "      <th>H5-Index</th>\n",
       "    </tr>\n",
       "  </thead>\n",
       "  <tbody>\n",
       "    <tr>\n",
       "      <th>1667</th>\n",
       "      <td>Condition-based maintenance (CBM) has received...</td>\n",
       "      <td>['Minou C.A. Olde Keizer', 'Simme Douwe P. Fla...</td>\n",
       "      <td>9db0808b-f67e-49b1-8ce6-d58dd4d96cb3</td>\n",
       "      <td>50</td>\n",
       "      <td>['030d7248-9611-4a78-a7a1-5bebabf8a84b', '0559...</td>\n",
       "      <td>Condition-based maintenance policies for syste...</td>\n",
       "      <td>European Journal of Operational Research</td>\n",
       "      <td>2017</td>\n",
       "      <td>1</td>\n",
       "      <td>26</td>\n",
       "      <td>59.0</td>\n",
       "    </tr>\n",
       "    <tr>\n",
       "      <th>1668</th>\n",
       "      <td>This article presents an extension of the IaaS...</td>\n",
       "      <td>['Hamza Ouarnoughi', 'Jalil Boukhobza', 'Frank...</td>\n",
       "      <td>5652eae4-ec59-448d-bca7-224d2a97ab42</td>\n",
       "      <td>0</td>\n",
       "      <td>['444373bf-e707-462c-9da2-48c67e9d4187', '5a4c...</td>\n",
       "      <td>Integrating I/Os in Cloudsim for Performance a...</td>\n",
       "      <td>Operating Systems Review</td>\n",
       "      <td>2017</td>\n",
       "      <td>1</td>\n",
       "      <td>463</td>\n",
       "      <td>21.0</td>\n",
       "    </tr>\n",
       "    <tr>\n",
       "      <th>1669</th>\n",
       "      <td>In analyzing longitudinal data, within-subject...</td>\n",
       "      <td>['Lianfen Qian', 'Suojin Wang']</td>\n",
       "      <td>66a00e3e-938b-4e17-9a04-c8f6526720d8</td>\n",
       "      <td>0</td>\n",
       "      <td>[]</td>\n",
       "      <td>Subject-wise empirical likelihood inference in...</td>\n",
       "      <td>Computational Statistics &amp; Data Analysis</td>\n",
       "      <td>2017</td>\n",
       "      <td>1</td>\n",
       "      <td>186</td>\n",
       "      <td>32.0</td>\n",
       "    </tr>\n",
       "    <tr>\n",
       "      <th>1670</th>\n",
       "      <td>Peer-to-peer network is organized on top of an...</td>\n",
       "      <td>['Sara Fathipour Deiman', 'Ali Mohammad Saghir...</td>\n",
       "      <td>a2b1bca8-fa93-41c4-84d7-77f1cb4e3df3</td>\n",
       "      <td>0</td>\n",
       "      <td>['092300d0-146d-46d6-ba94-7188584c4ccc', '1c26...</td>\n",
       "      <td>A Delay Aware Super-Peer Selection Algorithm f...</td>\n",
       "      <td>Wireless Personal Communications</td>\n",
       "      <td>2017</td>\n",
       "      <td>1</td>\n",
       "      <td>542</td>\n",
       "      <td>19.0</td>\n",
       "    </tr>\n",
       "    <tr>\n",
       "      <th>1671</th>\n",
       "      <td>A computational secret-sharing scheme is a met...</td>\n",
       "      <td>['Ilan Komargodski', 'Moni Naor', 'Eylon Yogev']</td>\n",
       "      <td>c3020a17-2c9f-4e58-80ea-2b81a2086c65</td>\n",
       "      <td>0</td>\n",
       "      <td>['05c4021c-2169-45a0-949b-d3fab1b88af1', '0b62...</td>\n",
       "      <td>Secret-Sharing for NP</td>\n",
       "      <td>Journal of Cryptology</td>\n",
       "      <td>2017</td>\n",
       "      <td>1</td>\n",
       "      <td>391</td>\n",
       "      <td>23.0</td>\n",
       "    </tr>\n",
       "  </tbody>\n",
       "</table>\n",
       "</div>"
      ],
      "text/plain": [
       "                                               abstract  \\\n",
       "1667  Condition-based maintenance (CBM) has received...   \n",
       "1668  This article presents an extension of the IaaS...   \n",
       "1669  In analyzing longitudinal data, within-subject...   \n",
       "1670  Peer-to-peer network is organized on top of an...   \n",
       "1671  A computational secret-sharing scheme is a met...   \n",
       "\n",
       "                                                authors  \\\n",
       "1667  ['Minou C.A. Olde Keizer', 'Simme Douwe P. Fla...   \n",
       "1668  ['Hamza Ouarnoughi', 'Jalil Boukhobza', 'Frank...   \n",
       "1669                    ['Lianfen Qian', 'Suojin Wang']   \n",
       "1670  ['Sara Fathipour Deiman', 'Ali Mohammad Saghir...   \n",
       "1671   ['Ilan Komargodski', 'Moni Naor', 'Eylon Yogev']   \n",
       "\n",
       "                                        id  n_citation  \\\n",
       "1667  9db0808b-f67e-49b1-8ce6-d58dd4d96cb3          50   \n",
       "1668  5652eae4-ec59-448d-bca7-224d2a97ab42           0   \n",
       "1669  66a00e3e-938b-4e17-9a04-c8f6526720d8           0   \n",
       "1670  a2b1bca8-fa93-41c4-84d7-77f1cb4e3df3           0   \n",
       "1671  c3020a17-2c9f-4e58-80ea-2b81a2086c65           0   \n",
       "\n",
       "                                             references  \\\n",
       "1667  ['030d7248-9611-4a78-a7a1-5bebabf8a84b', '0559...   \n",
       "1668  ['444373bf-e707-462c-9da2-48c67e9d4187', '5a4c...   \n",
       "1669                                                 []   \n",
       "1670  ['092300d0-146d-46d6-ba94-7188584c4ccc', '1c26...   \n",
       "1671  ['05c4021c-2169-45a0-949b-d3fab1b88af1', '0b62...   \n",
       "\n",
       "                                                  title  \\\n",
       "1667  Condition-based maintenance policies for syste...   \n",
       "1668  Integrating I/Os in Cloudsim for Performance a...   \n",
       "1669  Subject-wise empirical likelihood inference in...   \n",
       "1670  A Delay Aware Super-Peer Selection Algorithm f...   \n",
       "1671                              Secret-Sharing for NP   \n",
       "\n",
       "                                         venue  year  age  Rank  H5-Index  \n",
       "1667  European Journal of Operational Research  2017    1    26      59.0  \n",
       "1668                  Operating Systems Review  2017    1   463      21.0  \n",
       "1669  Computational Statistics & Data Analysis  2017    1   186      32.0  \n",
       "1670          Wireless Personal Communications  2017    1   542      19.0  \n",
       "1671                     Journal of Cryptology  2017    1   391      23.0  "
      ]
     },
     "execution_count": 15,
     "metadata": {},
     "output_type": "execute_result"
    }
   ],
   "source": [
    "test.tail()"
   ]
  },
  {
   "cell_type": "code",
   "execution_count": 16,
   "metadata": {},
   "outputs": [
    {
     "name": "stdout",
     "output_type": "stream",
     "text": [
      "<class 'pandas.core.frame.DataFrame'>\n",
      "RangeIndex: 6686 entries, 0 to 6685\n",
      "Data columns (total 11 columns):\n",
      "abstract      6686 non-null object\n",
      "authors       6686 non-null object\n",
      "id            6686 non-null object\n",
      "n_citation    6686 non-null int64\n",
      "references    6686 non-null object\n",
      "title         6686 non-null object\n",
      "venue         6686 non-null object\n",
      "year          6686 non-null int64\n",
      "age           6686 non-null int64\n",
      "Rank          6686 non-null int64\n",
      "H5-Index      6686 non-null float64\n",
      "dtypes: float64(1), int64(4), object(6)\n",
      "memory usage: 574.7+ KB\n"
     ]
    }
   ],
   "source": [
    "train.info()"
   ]
  },
  {
   "cell_type": "code",
   "execution_count": 17,
   "metadata": {},
   "outputs": [
    {
     "name": "stdout",
     "output_type": "stream",
     "text": [
      "<class 'pandas.core.frame.DataFrame'>\n",
      "RangeIndex: 1672 entries, 0 to 1671\n",
      "Data columns (total 11 columns):\n",
      "abstract      1672 non-null object\n",
      "authors       1672 non-null object\n",
      "id            1672 non-null object\n",
      "n_citation    1672 non-null int64\n",
      "references    1672 non-null object\n",
      "title         1672 non-null object\n",
      "venue         1672 non-null object\n",
      "year          1672 non-null int64\n",
      "age           1672 non-null int64\n",
      "Rank          1672 non-null int64\n",
      "H5-Index      1672 non-null float64\n",
      "dtypes: float64(1), int64(4), object(6)\n",
      "memory usage: 143.8+ KB\n"
     ]
    }
   ],
   "source": [
    "test.info()"
   ]
  },
  {
   "cell_type": "markdown",
   "metadata": {},
   "source": [
    "## Derived rank-age feature\n",
    "##### rank-age = rank * age"
   ]
  },
  {
   "cell_type": "code",
   "execution_count": 18,
   "metadata": {},
   "outputs": [],
   "source": [
    "train['rank-age'] = train['Rank'] * train['age']\n",
    "test['rank-age'] = test['Rank'] * test['age']"
   ]
  },
  {
   "cell_type": "markdown",
   "metadata": {},
   "source": [
    "## Derived H5-Index-age\n",
    "###### h5-age = H5-Index * age"
   ]
  },
  {
   "cell_type": "code",
   "execution_count": 19,
   "metadata": {},
   "outputs": [],
   "source": [
    "train['h5-age'] = train['H5-Index'] * train['age']\n",
    "test['h5-age'] = test['H5-Index'] * test['age']"
   ]
  },
  {
   "cell_type": "code",
   "execution_count": 20,
   "metadata": {},
   "outputs": [
    {
     "name": "stdout",
     "output_type": "stream",
     "text": [
      "<class 'pandas.core.frame.DataFrame'>\n",
      "RangeIndex: 6686 entries, 0 to 6685\n",
      "Data columns (total 13 columns):\n",
      "abstract      6686 non-null object\n",
      "authors       6686 non-null object\n",
      "id            6686 non-null object\n",
      "n_citation    6686 non-null int64\n",
      "references    6686 non-null object\n",
      "title         6686 non-null object\n",
      "venue         6686 non-null object\n",
      "year          6686 non-null int64\n",
      "age           6686 non-null int64\n",
      "Rank          6686 non-null int64\n",
      "H5-Index      6686 non-null float64\n",
      "rank-age      6686 non-null int64\n",
      "h5-age        6686 non-null float64\n",
      "dtypes: float64(2), int64(5), object(6)\n",
      "memory usage: 679.1+ KB\n"
     ]
    }
   ],
   "source": [
    "train.info()"
   ]
  },
  {
   "cell_type": "code",
   "execution_count": 21,
   "metadata": {},
   "outputs": [
    {
     "name": "stdout",
     "output_type": "stream",
     "text": [
      "<class 'pandas.core.frame.DataFrame'>\n",
      "RangeIndex: 1672 entries, 0 to 1671\n",
      "Data columns (total 13 columns):\n",
      "abstract      1672 non-null object\n",
      "authors       1672 non-null object\n",
      "id            1672 non-null object\n",
      "n_citation    1672 non-null int64\n",
      "references    1672 non-null object\n",
      "title         1672 non-null object\n",
      "venue         1672 non-null object\n",
      "year          1672 non-null int64\n",
      "age           1672 non-null int64\n",
      "Rank          1672 non-null int64\n",
      "H5-Index      1672 non-null float64\n",
      "rank-age      1672 non-null int64\n",
      "h5-age        1672 non-null float64\n",
      "dtypes: float64(2), int64(5), object(6)\n",
      "memory usage: 169.9+ KB\n"
     ]
    }
   ],
   "source": [
    "test.info()"
   ]
  },
  {
   "cell_type": "code",
   "execution_count": 22,
   "metadata": {},
   "outputs": [
    {
     "data": {
      "text/html": [
       "<div>\n",
       "<style scoped>\n",
       "    .dataframe tbody tr th:only-of-type {\n",
       "        vertical-align: middle;\n",
       "    }\n",
       "\n",
       "    .dataframe tbody tr th {\n",
       "        vertical-align: top;\n",
       "    }\n",
       "\n",
       "    .dataframe thead th {\n",
       "        text-align: right;\n",
       "    }\n",
       "</style>\n",
       "<table border=\"1\" class=\"dataframe\">\n",
       "  <thead>\n",
       "    <tr style=\"text-align: right;\">\n",
       "      <th></th>\n",
       "      <th>abstract</th>\n",
       "      <th>authors</th>\n",
       "      <th>id</th>\n",
       "      <th>n_citation</th>\n",
       "      <th>references</th>\n",
       "      <th>title</th>\n",
       "      <th>venue</th>\n",
       "      <th>year</th>\n",
       "      <th>age</th>\n",
       "      <th>Rank</th>\n",
       "      <th>H5-Index</th>\n",
       "      <th>rank-age</th>\n",
       "      <th>h5-age</th>\n",
       "    </tr>\n",
       "  </thead>\n",
       "  <tbody>\n",
       "    <tr>\n",
       "      <th>1667</th>\n",
       "      <td>Condition-based maintenance (CBM) has received...</td>\n",
       "      <td>['Minou C.A. Olde Keizer', 'Simme Douwe P. Fla...</td>\n",
       "      <td>9db0808b-f67e-49b1-8ce6-d58dd4d96cb3</td>\n",
       "      <td>50</td>\n",
       "      <td>['030d7248-9611-4a78-a7a1-5bebabf8a84b', '0559...</td>\n",
       "      <td>Condition-based maintenance policies for syste...</td>\n",
       "      <td>European Journal of Operational Research</td>\n",
       "      <td>2017</td>\n",
       "      <td>1</td>\n",
       "      <td>26</td>\n",
       "      <td>59.0</td>\n",
       "      <td>26</td>\n",
       "      <td>59.0</td>\n",
       "    </tr>\n",
       "    <tr>\n",
       "      <th>1668</th>\n",
       "      <td>This article presents an extension of the IaaS...</td>\n",
       "      <td>['Hamza Ouarnoughi', 'Jalil Boukhobza', 'Frank...</td>\n",
       "      <td>5652eae4-ec59-448d-bca7-224d2a97ab42</td>\n",
       "      <td>0</td>\n",
       "      <td>['444373bf-e707-462c-9da2-48c67e9d4187', '5a4c...</td>\n",
       "      <td>Integrating I/Os in Cloudsim for Performance a...</td>\n",
       "      <td>Operating Systems Review</td>\n",
       "      <td>2017</td>\n",
       "      <td>1</td>\n",
       "      <td>463</td>\n",
       "      <td>21.0</td>\n",
       "      <td>463</td>\n",
       "      <td>21.0</td>\n",
       "    </tr>\n",
       "    <tr>\n",
       "      <th>1669</th>\n",
       "      <td>In analyzing longitudinal data, within-subject...</td>\n",
       "      <td>['Lianfen Qian', 'Suojin Wang']</td>\n",
       "      <td>66a00e3e-938b-4e17-9a04-c8f6526720d8</td>\n",
       "      <td>0</td>\n",
       "      <td>[]</td>\n",
       "      <td>Subject-wise empirical likelihood inference in...</td>\n",
       "      <td>Computational Statistics &amp; Data Analysis</td>\n",
       "      <td>2017</td>\n",
       "      <td>1</td>\n",
       "      <td>186</td>\n",
       "      <td>32.0</td>\n",
       "      <td>186</td>\n",
       "      <td>32.0</td>\n",
       "    </tr>\n",
       "    <tr>\n",
       "      <th>1670</th>\n",
       "      <td>Peer-to-peer network is organized on top of an...</td>\n",
       "      <td>['Sara Fathipour Deiman', 'Ali Mohammad Saghir...</td>\n",
       "      <td>a2b1bca8-fa93-41c4-84d7-77f1cb4e3df3</td>\n",
       "      <td>0</td>\n",
       "      <td>['092300d0-146d-46d6-ba94-7188584c4ccc', '1c26...</td>\n",
       "      <td>A Delay Aware Super-Peer Selection Algorithm f...</td>\n",
       "      <td>Wireless Personal Communications</td>\n",
       "      <td>2017</td>\n",
       "      <td>1</td>\n",
       "      <td>542</td>\n",
       "      <td>19.0</td>\n",
       "      <td>542</td>\n",
       "      <td>19.0</td>\n",
       "    </tr>\n",
       "    <tr>\n",
       "      <th>1671</th>\n",
       "      <td>A computational secret-sharing scheme is a met...</td>\n",
       "      <td>['Ilan Komargodski', 'Moni Naor', 'Eylon Yogev']</td>\n",
       "      <td>c3020a17-2c9f-4e58-80ea-2b81a2086c65</td>\n",
       "      <td>0</td>\n",
       "      <td>['05c4021c-2169-45a0-949b-d3fab1b88af1', '0b62...</td>\n",
       "      <td>Secret-Sharing for NP</td>\n",
       "      <td>Journal of Cryptology</td>\n",
       "      <td>2017</td>\n",
       "      <td>1</td>\n",
       "      <td>391</td>\n",
       "      <td>23.0</td>\n",
       "      <td>391</td>\n",
       "      <td>23.0</td>\n",
       "    </tr>\n",
       "  </tbody>\n",
       "</table>\n",
       "</div>"
      ],
      "text/plain": [
       "                                               abstract  \\\n",
       "1667  Condition-based maintenance (CBM) has received...   \n",
       "1668  This article presents an extension of the IaaS...   \n",
       "1669  In analyzing longitudinal data, within-subject...   \n",
       "1670  Peer-to-peer network is organized on top of an...   \n",
       "1671  A computational secret-sharing scheme is a met...   \n",
       "\n",
       "                                                authors  \\\n",
       "1667  ['Minou C.A. Olde Keizer', 'Simme Douwe P. Fla...   \n",
       "1668  ['Hamza Ouarnoughi', 'Jalil Boukhobza', 'Frank...   \n",
       "1669                    ['Lianfen Qian', 'Suojin Wang']   \n",
       "1670  ['Sara Fathipour Deiman', 'Ali Mohammad Saghir...   \n",
       "1671   ['Ilan Komargodski', 'Moni Naor', 'Eylon Yogev']   \n",
       "\n",
       "                                        id  n_citation  \\\n",
       "1667  9db0808b-f67e-49b1-8ce6-d58dd4d96cb3          50   \n",
       "1668  5652eae4-ec59-448d-bca7-224d2a97ab42           0   \n",
       "1669  66a00e3e-938b-4e17-9a04-c8f6526720d8           0   \n",
       "1670  a2b1bca8-fa93-41c4-84d7-77f1cb4e3df3           0   \n",
       "1671  c3020a17-2c9f-4e58-80ea-2b81a2086c65           0   \n",
       "\n",
       "                                             references  \\\n",
       "1667  ['030d7248-9611-4a78-a7a1-5bebabf8a84b', '0559...   \n",
       "1668  ['444373bf-e707-462c-9da2-48c67e9d4187', '5a4c...   \n",
       "1669                                                 []   \n",
       "1670  ['092300d0-146d-46d6-ba94-7188584c4ccc', '1c26...   \n",
       "1671  ['05c4021c-2169-45a0-949b-d3fab1b88af1', '0b62...   \n",
       "\n",
       "                                                  title  \\\n",
       "1667  Condition-based maintenance policies for syste...   \n",
       "1668  Integrating I/Os in Cloudsim for Performance a...   \n",
       "1669  Subject-wise empirical likelihood inference in...   \n",
       "1670  A Delay Aware Super-Peer Selection Algorithm f...   \n",
       "1671                              Secret-Sharing for NP   \n",
       "\n",
       "                                         venue  year  age  Rank  H5-Index  \\\n",
       "1667  European Journal of Operational Research  2017    1    26      59.0   \n",
       "1668                  Operating Systems Review  2017    1   463      21.0   \n",
       "1669  Computational Statistics & Data Analysis  2017    1   186      32.0   \n",
       "1670          Wireless Personal Communications  2017    1   542      19.0   \n",
       "1671                     Journal of Cryptology  2017    1   391      23.0   \n",
       "\n",
       "      rank-age  h5-age  \n",
       "1667        26    59.0  \n",
       "1668       463    21.0  \n",
       "1669       186    32.0  \n",
       "1670       542    19.0  \n",
       "1671       391    23.0  "
      ]
     },
     "execution_count": 22,
     "metadata": {},
     "output_type": "execute_result"
    }
   ],
   "source": [
    "test.tail()"
   ]
  },
  {
   "cell_type": "code",
   "execution_count": 23,
   "metadata": {},
   "outputs": [
    {
     "data": {
      "text/html": [
       "<div>\n",
       "<style scoped>\n",
       "    .dataframe tbody tr th:only-of-type {\n",
       "        vertical-align: middle;\n",
       "    }\n",
       "\n",
       "    .dataframe tbody tr th {\n",
       "        vertical-align: top;\n",
       "    }\n",
       "\n",
       "    .dataframe thead th {\n",
       "        text-align: right;\n",
       "    }\n",
       "</style>\n",
       "<table border=\"1\" class=\"dataframe\">\n",
       "  <thead>\n",
       "    <tr style=\"text-align: right;\">\n",
       "      <th></th>\n",
       "      <th>n_citation</th>\n",
       "      <th>H5-Index</th>\n",
       "    </tr>\n",
       "  </thead>\n",
       "  <tbody>\n",
       "    <tr>\n",
       "      <th>n_citation</th>\n",
       "      <td>1.000000</td>\n",
       "      <td>0.017628</td>\n",
       "    </tr>\n",
       "    <tr>\n",
       "      <th>H5-Index</th>\n",
       "      <td>0.017628</td>\n",
       "      <td>1.000000</td>\n",
       "    </tr>\n",
       "  </tbody>\n",
       "</table>\n",
       "</div>"
      ],
      "text/plain": [
       "            n_citation  H5-Index\n",
       "n_citation    1.000000  0.017628\n",
       "H5-Index      0.017628  1.000000"
      ]
     },
     "execution_count": 23,
     "metadata": {},
     "output_type": "execute_result"
    },
    {
     "data": {
      "image/png": "[encoded data removed]",
      "text/plain": [
       "<Figure size 432x288 with 2 Axes>"
      ]
     },
     "metadata": {
      "needs_background": "light"
     },
     "output_type": "display_data"
    }
   ],
   "source": [
    "train_corr = train[['n_citation', 'H5-Index']].corr()\n",
    "sns.heatmap(train_corr);\n",
    "train_corr"
   ]
  },
  {
   "cell_type": "markdown",
   "metadata": {},
   "source": [
    "## Average citation count for venues\n",
    "###### This data is generated in data preprocessing."
   ]
  },
  {
   "cell_type": "code",
   "execution_count": 24,
   "metadata": {},
   "outputs": [],
   "source": [
    "venueCC = pd.read_csv('Data/AvgVenueCitationFromTrainData_case_two.csv', index_col='Unnamed: 0')"
   ]
  },
  {
   "cell_type": "code",
   "execution_count": 25,
   "metadata": {},
   "outputs": [
    {
     "name": "stdout",
     "output_type": "stream",
     "text": [
      "<class 'pandas.core.frame.DataFrame'>\n",
      "Int64Index: 312 entries, 0 to 311\n",
      "Data columns (total 2 columns):\n",
      "venue           312 non-null object\n",
      "avgVenueCite    312 non-null float64\n",
      "dtypes: float64(1), object(1)\n",
      "memory usage: 7.3+ KB\n"
     ]
    }
   ],
   "source": [
    "venueCC.info()"
   ]
  },
  {
   "cell_type": "code",
   "execution_count": 26,
   "metadata": {},
   "outputs": [
    {
     "data": {
      "text/html": [
       "<div>\n",
       "<style scoped>\n",
       "    .dataframe tbody tr th:only-of-type {\n",
       "        vertical-align: middle;\n",
       "    }\n",
       "\n",
       "    .dataframe tbody tr th {\n",
       "        vertical-align: top;\n",
       "    }\n",
       "\n",
       "    .dataframe thead th {\n",
       "        text-align: right;\n",
       "    }\n",
       "</style>\n",
       "<table border=\"1\" class=\"dataframe\">\n",
       "  <thead>\n",
       "    <tr style=\"text-align: right;\">\n",
       "      <th></th>\n",
       "      <th>abstract</th>\n",
       "      <th>authors</th>\n",
       "      <th>id</th>\n",
       "      <th>n_citation</th>\n",
       "      <th>references</th>\n",
       "      <th>title</th>\n",
       "      <th>venue</th>\n",
       "      <th>year</th>\n",
       "      <th>age</th>\n",
       "      <th>Rank</th>\n",
       "      <th>H5-Index</th>\n",
       "      <th>rank-age</th>\n",
       "      <th>h5-age</th>\n",
       "    </tr>\n",
       "  </thead>\n",
       "  <tbody>\n",
       "    <tr>\n",
       "      <th>1667</th>\n",
       "      <td>Condition-based maintenance (CBM) has received...</td>\n",
       "      <td>['Minou C.A. Olde Keizer', 'Simme Douwe P. Fla...</td>\n",
       "      <td>9db0808b-f67e-49b1-8ce6-d58dd4d96cb3</td>\n",
       "      <td>50</td>\n",
       "      <td>['030d7248-9611-4a78-a7a1-5bebabf8a84b', '0559...</td>\n",
       "      <td>Condition-based maintenance policies for syste...</td>\n",
       "      <td>European Journal of Operational Research</td>\n",
       "      <td>2017</td>\n",
       "      <td>1</td>\n",
       "      <td>26</td>\n",
       "      <td>59.0</td>\n",
       "      <td>26</td>\n",
       "      <td>59.0</td>\n",
       "    </tr>\n",
       "    <tr>\n",
       "      <th>1668</th>\n",
       "      <td>This article presents an extension of the IaaS...</td>\n",
       "      <td>['Hamza Ouarnoughi', 'Jalil Boukhobza', 'Frank...</td>\n",
       "      <td>5652eae4-ec59-448d-bca7-224d2a97ab42</td>\n",
       "      <td>0</td>\n",
       "      <td>['444373bf-e707-462c-9da2-48c67e9d4187', '5a4c...</td>\n",
       "      <td>Integrating I/Os in Cloudsim for Performance a...</td>\n",
       "      <td>Operating Systems Review</td>\n",
       "      <td>2017</td>\n",
       "      <td>1</td>\n",
       "      <td>463</td>\n",
       "      <td>21.0</td>\n",
       "      <td>463</td>\n",
       "      <td>21.0</td>\n",
       "    </tr>\n",
       "    <tr>\n",
       "      <th>1669</th>\n",
       "      <td>In analyzing longitudinal data, within-subject...</td>\n",
       "      <td>['Lianfen Qian', 'Suojin Wang']</td>\n",
       "      <td>66a00e3e-938b-4e17-9a04-c8f6526720d8</td>\n",
       "      <td>0</td>\n",
       "      <td>[]</td>\n",
       "      <td>Subject-wise empirical likelihood inference in...</td>\n",
       "      <td>Computational Statistics &amp; Data Analysis</td>\n",
       "      <td>2017</td>\n",
       "      <td>1</td>\n",
       "      <td>186</td>\n",
       "      <td>32.0</td>\n",
       "      <td>186</td>\n",
       "      <td>32.0</td>\n",
       "    </tr>\n",
       "    <tr>\n",
       "      <th>1670</th>\n",
       "      <td>Peer-to-peer network is organized on top of an...</td>\n",
       "      <td>['Sara Fathipour Deiman', 'Ali Mohammad Saghir...</td>\n",
       "      <td>a2b1bca8-fa93-41c4-84d7-77f1cb4e3df3</td>\n",
       "      <td>0</td>\n",
       "      <td>['092300d0-146d-46d6-ba94-7188584c4ccc', '1c26...</td>\n",
       "      <td>A Delay Aware Super-Peer Selection Algorithm f...</td>\n",
       "      <td>Wireless Personal Communications</td>\n",
       "      <td>2017</td>\n",
       "      <td>1</td>\n",
       "      <td>542</td>\n",
       "      <td>19.0</td>\n",
       "      <td>542</td>\n",
       "      <td>19.0</td>\n",
       "    </tr>\n",
       "    <tr>\n",
       "      <th>1671</th>\n",
       "      <td>A computational secret-sharing scheme is a met...</td>\n",
       "      <td>['Ilan Komargodski', 'Moni Naor', 'Eylon Yogev']</td>\n",
       "      <td>c3020a17-2c9f-4e58-80ea-2b81a2086c65</td>\n",
       "      <td>0</td>\n",
       "      <td>['05c4021c-2169-45a0-949b-d3fab1b88af1', '0b62...</td>\n",
       "      <td>Secret-Sharing for NP</td>\n",
       "      <td>Journal of Cryptology</td>\n",
       "      <td>2017</td>\n",
       "      <td>1</td>\n",
       "      <td>391</td>\n",
       "      <td>23.0</td>\n",
       "      <td>391</td>\n",
       "      <td>23.0</td>\n",
       "    </tr>\n",
       "  </tbody>\n",
       "</table>\n",
       "</div>"
      ],
      "text/plain": [
       "                                               abstract  \\\n",
       "1667  Condition-based maintenance (CBM) has received...   \n",
       "1668  This article presents an extension of the IaaS...   \n",
       "1669  In analyzing longitudinal data, within-subject...   \n",
       "1670  Peer-to-peer network is organized on top of an...   \n",
       "1671  A computational secret-sharing scheme is a met...   \n",
       "\n",
       "                                                authors  \\\n",
       "1667  ['Minou C.A. Olde Keizer', 'Simme Douwe P. Fla...   \n",
       "1668  ['Hamza Ouarnoughi', 'Jalil Boukhobza', 'Frank...   \n",
       "1669                    ['Lianfen Qian', 'Suojin Wang']   \n",
       "1670  ['Sara Fathipour Deiman', 'Ali Mohammad Saghir...   \n",
       "1671   ['Ilan Komargodski', 'Moni Naor', 'Eylon Yogev']   \n",
       "\n",
       "                                        id  n_citation  \\\n",
       "1667  9db0808b-f67e-49b1-8ce6-d58dd4d96cb3          50   \n",
       "1668  5652eae4-ec59-448d-bca7-224d2a97ab42           0   \n",
       "1669  66a00e3e-938b-4e17-9a04-c8f6526720d8           0   \n",
       "1670  a2b1bca8-fa93-41c4-84d7-77f1cb4e3df3           0   \n",
       "1671  c3020a17-2c9f-4e58-80ea-2b81a2086c65           0   \n",
       "\n",
       "                                             references  \\\n",
       "1667  ['030d7248-9611-4a78-a7a1-5bebabf8a84b', '0559...   \n",
       "1668  ['444373bf-e707-462c-9da2-48c67e9d4187', '5a4c...   \n",
       "1669                                                 []   \n",
       "1670  ['092300d0-146d-46d6-ba94-7188584c4ccc', '1c26...   \n",
       "1671  ['05c4021c-2169-45a0-949b-d3fab1b88af1', '0b62...   \n",
       "\n",
       "                                                  title  \\\n",
       "1667  Condition-based maintenance policies for syste...   \n",
       "1668  Integrating I/Os in Cloudsim for Performance a...   \n",
       "1669  Subject-wise empirical likelihood inference in...   \n",
       "1670  A Delay Aware Super-Peer Selection Algorithm f...   \n",
       "1671                              Secret-Sharing for NP   \n",
       "\n",
       "                                         venue  year  age  Rank  H5-Index  \\\n",
       "1667  European Journal of Operational Research  2017    1    26      59.0   \n",
       "1668                  Operating Systems Review  2017    1   463      21.0   \n",
       "1669  Computational Statistics & Data Analysis  2017    1   186      32.0   \n",
       "1670          Wireless Personal Communications  2017    1   542      19.0   \n",
       "1671                     Journal of Cryptology  2017    1   391      23.0   \n",
       "\n",
       "      rank-age  h5-age  \n",
       "1667        26    59.0  \n",
       "1668       463    21.0  \n",
       "1669       186    32.0  \n",
       "1670       542    19.0  \n",
       "1671       391    23.0  "
      ]
     },
     "execution_count": 26,
     "metadata": {},
     "output_type": "execute_result"
    }
   ],
   "source": [
    "test.tail()"
   ]
  },
  {
   "cell_type": "code",
   "execution_count": 27,
   "metadata": {},
   "outputs": [],
   "source": [
    "train = pd.merge(train, venueCC, on=['venue'], how='left')\n",
    "test = pd.merge(test, venueCC, on=['venue'], how='left')"
   ]
  },
  {
   "cell_type": "code",
   "execution_count": 28,
   "metadata": {},
   "outputs": [],
   "source": [
    "test.dropna(inplace=True)"
   ]
  },
  {
   "cell_type": "code",
   "execution_count": 29,
   "metadata": {},
   "outputs": [],
   "source": [
    "train['venueCC-age'] = train['avgVenueCite'] * train['age']\n",
    "test['venueCC-age'] = test['avgVenueCite'] * test['age']"
   ]
  },
  {
   "cell_type": "code",
   "execution_count": 30,
   "metadata": {},
   "outputs": [
    {
     "data": {
      "text/plain": [
       "1662"
      ]
     },
     "execution_count": 30,
     "metadata": {},
     "output_type": "execute_result"
    }
   ],
   "source": [
    "len(test)"
   ]
  },
  {
   "cell_type": "code",
   "execution_count": 31,
   "metadata": {},
   "outputs": [],
   "source": [
    "train.reset_index(inplace=True, drop=True)\n",
    "test.reset_index(inplace=True, drop=True)"
   ]
  },
  {
   "cell_type": "code",
   "execution_count": 32,
   "metadata": {},
   "outputs": [
    {
     "data": {
      "text/html": [
       "<div>\n",
       "<style scoped>\n",
       "    .dataframe tbody tr th:only-of-type {\n",
       "        vertical-align: middle;\n",
       "    }\n",
       "\n",
       "    .dataframe tbody tr th {\n",
       "        vertical-align: top;\n",
       "    }\n",
       "\n",
       "    .dataframe thead th {\n",
       "        text-align: right;\n",
       "    }\n",
       "</style>\n",
       "<table border=\"1\" class=\"dataframe\">\n",
       "  <thead>\n",
       "    <tr style=\"text-align: right;\">\n",
       "      <th></th>\n",
       "      <th>abstract</th>\n",
       "      <th>authors</th>\n",
       "      <th>id</th>\n",
       "      <th>n_citation</th>\n",
       "      <th>references</th>\n",
       "      <th>title</th>\n",
       "      <th>venue</th>\n",
       "      <th>year</th>\n",
       "      <th>age</th>\n",
       "      <th>Rank</th>\n",
       "      <th>H5-Index</th>\n",
       "      <th>rank-age</th>\n",
       "      <th>h5-age</th>\n",
       "      <th>avgVenueCite</th>\n",
       "      <th>venueCC-age</th>\n",
       "    </tr>\n",
       "  </thead>\n",
       "  <tbody>\n",
       "    <tr>\n",
       "      <th>1657</th>\n",
       "      <td>The medial axis is a natural skeleton for shap...</td>\n",
       "      <td>['Lei Lan', 'Junfeng Yao', 'Ping Huang', 'Xiao...</td>\n",
       "      <td>f10d2b94-a293-4c39-aba5-6f1e618bfb26</td>\n",
       "      <td>50</td>\n",
       "      <td>['01844457-36fa-4c85-8b31-e06e31702d4f', '0c04...</td>\n",
       "      <td>Medial-axis-driven shape deformation with volu...</td>\n",
       "      <td>The Visual Computer</td>\n",
       "      <td>2017</td>\n",
       "      <td>1</td>\n",
       "      <td>574</td>\n",
       "      <td>19.0</td>\n",
       "      <td>574</td>\n",
       "      <td>19.0</td>\n",
       "      <td>28.333333</td>\n",
       "      <td>28.333333</td>\n",
       "    </tr>\n",
       "    <tr>\n",
       "      <th>1658</th>\n",
       "      <td>Condition-based maintenance (CBM) has received...</td>\n",
       "      <td>['Minou C.A. Olde Keizer', 'Simme Douwe P. Fla...</td>\n",
       "      <td>9db0808b-f67e-49b1-8ce6-d58dd4d96cb3</td>\n",
       "      <td>50</td>\n",
       "      <td>['030d7248-9611-4a78-a7a1-5bebabf8a84b', '0559...</td>\n",
       "      <td>Condition-based maintenance policies for syste...</td>\n",
       "      <td>European Journal of Operational Research</td>\n",
       "      <td>2017</td>\n",
       "      <td>1</td>\n",
       "      <td>26</td>\n",
       "      <td>59.0</td>\n",
       "      <td>26</td>\n",
       "      <td>59.0</td>\n",
       "      <td>6.220779</td>\n",
       "      <td>6.220779</td>\n",
       "    </tr>\n",
       "    <tr>\n",
       "      <th>1659</th>\n",
       "      <td>This article presents an extension of the IaaS...</td>\n",
       "      <td>['Hamza Ouarnoughi', 'Jalil Boukhobza', 'Frank...</td>\n",
       "      <td>5652eae4-ec59-448d-bca7-224d2a97ab42</td>\n",
       "      <td>0</td>\n",
       "      <td>['444373bf-e707-462c-9da2-48c67e9d4187', '5a4c...</td>\n",
       "      <td>Integrating I/Os in Cloudsim for Performance a...</td>\n",
       "      <td>Operating Systems Review</td>\n",
       "      <td>2017</td>\n",
       "      <td>1</td>\n",
       "      <td>463</td>\n",
       "      <td>21.0</td>\n",
       "      <td>463</td>\n",
       "      <td>21.0</td>\n",
       "      <td>18.181818</td>\n",
       "      <td>18.181818</td>\n",
       "    </tr>\n",
       "    <tr>\n",
       "      <th>1660</th>\n",
       "      <td>In analyzing longitudinal data, within-subject...</td>\n",
       "      <td>['Lianfen Qian', 'Suojin Wang']</td>\n",
       "      <td>66a00e3e-938b-4e17-9a04-c8f6526720d8</td>\n",
       "      <td>0</td>\n",
       "      <td>[]</td>\n",
       "      <td>Subject-wise empirical likelihood inference in...</td>\n",
       "      <td>Computational Statistics &amp; Data Analysis</td>\n",
       "      <td>2017</td>\n",
       "      <td>1</td>\n",
       "      <td>186</td>\n",
       "      <td>32.0</td>\n",
       "      <td>186</td>\n",
       "      <td>32.0</td>\n",
       "      <td>1.470588</td>\n",
       "      <td>1.470588</td>\n",
       "    </tr>\n",
       "    <tr>\n",
       "      <th>1661</th>\n",
       "      <td>Peer-to-peer network is organized on top of an...</td>\n",
       "      <td>['Sara Fathipour Deiman', 'Ali Mohammad Saghir...</td>\n",
       "      <td>a2b1bca8-fa93-41c4-84d7-77f1cb4e3df3</td>\n",
       "      <td>0</td>\n",
       "      <td>['092300d0-146d-46d6-ba94-7188584c4ccc', '1c26...</td>\n",
       "      <td>A Delay Aware Super-Peer Selection Algorithm f...</td>\n",
       "      <td>Wireless Personal Communications</td>\n",
       "      <td>2017</td>\n",
       "      <td>1</td>\n",
       "      <td>542</td>\n",
       "      <td>19.0</td>\n",
       "      <td>542</td>\n",
       "      <td>19.0</td>\n",
       "      <td>1.912568</td>\n",
       "      <td>1.912568</td>\n",
       "    </tr>\n",
       "  </tbody>\n",
       "</table>\n",
       "</div>"
      ],
      "text/plain": [
       "                                               abstract  \\\n",
       "1657  The medial axis is a natural skeleton for shap...   \n",
       "1658  Condition-based maintenance (CBM) has received...   \n",
       "1659  This article presents an extension of the IaaS...   \n",
       "1660  In analyzing longitudinal data, within-subject...   \n",
       "1661  Peer-to-peer network is organized on top of an...   \n",
       "\n",
       "                                                authors  \\\n",
       "1657  ['Lei Lan', 'Junfeng Yao', 'Ping Huang', 'Xiao...   \n",
       "1658  ['Minou C.A. Olde Keizer', 'Simme Douwe P. Fla...   \n",
       "1659  ['Hamza Ouarnoughi', 'Jalil Boukhobza', 'Frank...   \n",
       "1660                    ['Lianfen Qian', 'Suojin Wang']   \n",
       "1661  ['Sara Fathipour Deiman', 'Ali Mohammad Saghir...   \n",
       "\n",
       "                                        id  n_citation  \\\n",
       "1657  f10d2b94-a293-4c39-aba5-6f1e618bfb26          50   \n",
       "1658  9db0808b-f67e-49b1-8ce6-d58dd4d96cb3          50   \n",
       "1659  5652eae4-ec59-448d-bca7-224d2a97ab42           0   \n",
       "1660  66a00e3e-938b-4e17-9a04-c8f6526720d8           0   \n",
       "1661  a2b1bca8-fa93-41c4-84d7-77f1cb4e3df3           0   \n",
       "\n",
       "                                             references  \\\n",
       "1657  ['01844457-36fa-4c85-8b31-e06e31702d4f', '0c04...   \n",
       "1658  ['030d7248-9611-4a78-a7a1-5bebabf8a84b', '0559...   \n",
       "1659  ['444373bf-e707-462c-9da2-48c67e9d4187', '5a4c...   \n",
       "1660                                                 []   \n",
       "1661  ['092300d0-146d-46d6-ba94-7188584c4ccc', '1c26...   \n",
       "\n",
       "                                                  title  \\\n",
       "1657  Medial-axis-driven shape deformation with volu...   \n",
       "1658  Condition-based maintenance policies for syste...   \n",
       "1659  Integrating I/Os in Cloudsim for Performance a...   \n",
       "1660  Subject-wise empirical likelihood inference in...   \n",
       "1661  A Delay Aware Super-Peer Selection Algorithm f...   \n",
       "\n",
       "                                         venue  year  age  Rank  H5-Index  \\\n",
       "1657                       The Visual Computer  2017    1   574      19.0   \n",
       "1658  European Journal of Operational Research  2017    1    26      59.0   \n",
       "1659                  Operating Systems Review  2017    1   463      21.0   \n",
       "1660  Computational Statistics & Data Analysis  2017    1   186      32.0   \n",
       "1661          Wireless Personal Communications  2017    1   542      19.0   \n",
       "\n",
       "      rank-age  h5-age  avgVenueCite  venueCC-age  \n",
       "1657       574    19.0     28.333333    28.333333  \n",
       "1658        26    59.0      6.220779     6.220779  \n",
       "1659       463    21.0     18.181818    18.181818  \n",
       "1660       186    32.0      1.470588     1.470588  \n",
       "1661       542    19.0      1.912568     1.912568  "
      ]
     },
     "execution_count": 32,
     "metadata": {},
     "output_type": "execute_result"
    }
   ],
   "source": [
    "test.tail()"
   ]
  },
  {
   "cell_type": "code",
   "execution_count": 33,
   "metadata": {},
   "outputs": [],
   "source": [
    "test.dropna(inplace=True)"
   ]
  },
  {
   "cell_type": "code",
   "execution_count": 34,
   "metadata": {},
   "outputs": [
    {
     "data": {
      "text/html": [
       "<div>\n",
       "<style scoped>\n",
       "    .dataframe tbody tr th:only-of-type {\n",
       "        vertical-align: middle;\n",
       "    }\n",
       "\n",
       "    .dataframe tbody tr th {\n",
       "        vertical-align: top;\n",
       "    }\n",
       "\n",
       "    .dataframe thead th {\n",
       "        text-align: right;\n",
       "    }\n",
       "</style>\n",
       "<table border=\"1\" class=\"dataframe\">\n",
       "  <thead>\n",
       "    <tr style=\"text-align: right;\">\n",
       "      <th></th>\n",
       "      <th>abstract</th>\n",
       "      <th>authors</th>\n",
       "      <th>id</th>\n",
       "      <th>n_citation</th>\n",
       "      <th>references</th>\n",
       "      <th>title</th>\n",
       "      <th>venue</th>\n",
       "      <th>year</th>\n",
       "      <th>age</th>\n",
       "      <th>Rank</th>\n",
       "      <th>H5-Index</th>\n",
       "      <th>rank-age</th>\n",
       "      <th>h5-age</th>\n",
       "      <th>avgVenueCite</th>\n",
       "      <th>venueCC-age</th>\n",
       "    </tr>\n",
       "  </thead>\n",
       "  <tbody>\n",
       "    <tr>\n",
       "      <th>1657</th>\n",
       "      <td>The medial axis is a natural skeleton for shap...</td>\n",
       "      <td>['Lei Lan', 'Junfeng Yao', 'Ping Huang', 'Xiao...</td>\n",
       "      <td>f10d2b94-a293-4c39-aba5-6f1e618bfb26</td>\n",
       "      <td>50</td>\n",
       "      <td>['01844457-36fa-4c85-8b31-e06e31702d4f', '0c04...</td>\n",
       "      <td>Medial-axis-driven shape deformation with volu...</td>\n",
       "      <td>The Visual Computer</td>\n",
       "      <td>2017</td>\n",
       "      <td>1</td>\n",
       "      <td>574</td>\n",
       "      <td>19.0</td>\n",
       "      <td>574</td>\n",
       "      <td>19.0</td>\n",
       "      <td>28.333333</td>\n",
       "      <td>28.333333</td>\n",
       "    </tr>\n",
       "    <tr>\n",
       "      <th>1658</th>\n",
       "      <td>Condition-based maintenance (CBM) has received...</td>\n",
       "      <td>['Minou C.A. Olde Keizer', 'Simme Douwe P. Fla...</td>\n",
       "      <td>9db0808b-f67e-49b1-8ce6-d58dd4d96cb3</td>\n",
       "      <td>50</td>\n",
       "      <td>['030d7248-9611-4a78-a7a1-5bebabf8a84b', '0559...</td>\n",
       "      <td>Condition-based maintenance policies for syste...</td>\n",
       "      <td>European Journal of Operational Research</td>\n",
       "      <td>2017</td>\n",
       "      <td>1</td>\n",
       "      <td>26</td>\n",
       "      <td>59.0</td>\n",
       "      <td>26</td>\n",
       "      <td>59.0</td>\n",
       "      <td>6.220779</td>\n",
       "      <td>6.220779</td>\n",
       "    </tr>\n",
       "    <tr>\n",
       "      <th>1659</th>\n",
       "      <td>This article presents an extension of the IaaS...</td>\n",
       "      <td>['Hamza Ouarnoughi', 'Jalil Boukhobza', 'Frank...</td>\n",
       "      <td>5652eae4-ec59-448d-bca7-224d2a97ab42</td>\n",
       "      <td>0</td>\n",
       "      <td>['444373bf-e707-462c-9da2-48c67e9d4187', '5a4c...</td>\n",
       "      <td>Integrating I/Os in Cloudsim for Performance a...</td>\n",
       "      <td>Operating Systems Review</td>\n",
       "      <td>2017</td>\n",
       "      <td>1</td>\n",
       "      <td>463</td>\n",
       "      <td>21.0</td>\n",
       "      <td>463</td>\n",
       "      <td>21.0</td>\n",
       "      <td>18.181818</td>\n",
       "      <td>18.181818</td>\n",
       "    </tr>\n",
       "    <tr>\n",
       "      <th>1660</th>\n",
       "      <td>In analyzing longitudinal data, within-subject...</td>\n",
       "      <td>['Lianfen Qian', 'Suojin Wang']</td>\n",
       "      <td>66a00e3e-938b-4e17-9a04-c8f6526720d8</td>\n",
       "      <td>0</td>\n",
       "      <td>[]</td>\n",
       "      <td>Subject-wise empirical likelihood inference in...</td>\n",
       "      <td>Computational Statistics &amp; Data Analysis</td>\n",
       "      <td>2017</td>\n",
       "      <td>1</td>\n",
       "      <td>186</td>\n",
       "      <td>32.0</td>\n",
       "      <td>186</td>\n",
       "      <td>32.0</td>\n",
       "      <td>1.470588</td>\n",
       "      <td>1.470588</td>\n",
       "    </tr>\n",
       "    <tr>\n",
       "      <th>1661</th>\n",
       "      <td>Peer-to-peer network is organized on top of an...</td>\n",
       "      <td>['Sara Fathipour Deiman', 'Ali Mohammad Saghir...</td>\n",
       "      <td>a2b1bca8-fa93-41c4-84d7-77f1cb4e3df3</td>\n",
       "      <td>0</td>\n",
       "      <td>['092300d0-146d-46d6-ba94-7188584c4ccc', '1c26...</td>\n",
       "      <td>A Delay Aware Super-Peer Selection Algorithm f...</td>\n",
       "      <td>Wireless Personal Communications</td>\n",
       "      <td>2017</td>\n",
       "      <td>1</td>\n",
       "      <td>542</td>\n",
       "      <td>19.0</td>\n",
       "      <td>542</td>\n",
       "      <td>19.0</td>\n",
       "      <td>1.912568</td>\n",
       "      <td>1.912568</td>\n",
       "    </tr>\n",
       "  </tbody>\n",
       "</table>\n",
       "</div>"
      ],
      "text/plain": [
       "                                               abstract  \\\n",
       "1657  The medial axis is a natural skeleton for shap...   \n",
       "1658  Condition-based maintenance (CBM) has received...   \n",
       "1659  This article presents an extension of the IaaS...   \n",
       "1660  In analyzing longitudinal data, within-subject...   \n",
       "1661  Peer-to-peer network is organized on top of an...   \n",
       "\n",
       "                                                authors  \\\n",
       "1657  ['Lei Lan', 'Junfeng Yao', 'Ping Huang', 'Xiao...   \n",
       "1658  ['Minou C.A. Olde Keizer', 'Simme Douwe P. Fla...   \n",
       "1659  ['Hamza Ouarnoughi', 'Jalil Boukhobza', 'Frank...   \n",
       "1660                    ['Lianfen Qian', 'Suojin Wang']   \n",
       "1661  ['Sara Fathipour Deiman', 'Ali Mohammad Saghir...   \n",
       "\n",
       "                                        id  n_citation  \\\n",
       "1657  f10d2b94-a293-4c39-aba5-6f1e618bfb26          50   \n",
       "1658  9db0808b-f67e-49b1-8ce6-d58dd4d96cb3          50   \n",
       "1659  5652eae4-ec59-448d-bca7-224d2a97ab42           0   \n",
       "1660  66a00e3e-938b-4e17-9a04-c8f6526720d8           0   \n",
       "1661  a2b1bca8-fa93-41c4-84d7-77f1cb4e3df3           0   \n",
       "\n",
       "                                             references  \\\n",
       "1657  ['01844457-36fa-4c85-8b31-e06e31702d4f', '0c04...   \n",
       "1658  ['030d7248-9611-4a78-a7a1-5bebabf8a84b', '0559...   \n",
       "1659  ['444373bf-e707-462c-9da2-48c67e9d4187', '5a4c...   \n",
       "1660                                                 []   \n",
       "1661  ['092300d0-146d-46d6-ba94-7188584c4ccc', '1c26...   \n",
       "\n",
       "                                                  title  \\\n",
       "1657  Medial-axis-driven shape deformation with volu...   \n",
       "1658  Condition-based maintenance policies for syste...   \n",
       "1659  Integrating I/Os in Cloudsim for Performance a...   \n",
       "1660  Subject-wise empirical likelihood inference in...   \n",
       "1661  A Delay Aware Super-Peer Selection Algorithm f...   \n",
       "\n",
       "                                         venue  year  age  Rank  H5-Index  \\\n",
       "1657                       The Visual Computer  2017    1   574      19.0   \n",
       "1658  European Journal of Operational Research  2017    1    26      59.0   \n",
       "1659                  Operating Systems Review  2017    1   463      21.0   \n",
       "1660  Computational Statistics & Data Analysis  2017    1   186      32.0   \n",
       "1661          Wireless Personal Communications  2017    1   542      19.0   \n",
       "\n",
       "      rank-age  h5-age  avgVenueCite  venueCC-age  \n",
       "1657       574    19.0     28.333333    28.333333  \n",
       "1658        26    59.0      6.220779     6.220779  \n",
       "1659       463    21.0     18.181818    18.181818  \n",
       "1660       186    32.0      1.470588     1.470588  \n",
       "1661       542    19.0      1.912568     1.912568  "
      ]
     },
     "execution_count": 34,
     "metadata": {},
     "output_type": "execute_result"
    }
   ],
   "source": [
    "test.tail()"
   ]
  },
  {
   "cell_type": "code",
   "execution_count": 35,
   "metadata": {},
   "outputs": [
    {
     "data": {
      "text/html": [
       "<div>\n",
       "<style scoped>\n",
       "    .dataframe tbody tr th:only-of-type {\n",
       "        vertical-align: middle;\n",
       "    }\n",
       "\n",
       "    .dataframe tbody tr th {\n",
       "        vertical-align: top;\n",
       "    }\n",
       "\n",
       "    .dataframe thead th {\n",
       "        text-align: right;\n",
       "    }\n",
       "</style>\n",
       "<table border=\"1\" class=\"dataframe\">\n",
       "  <thead>\n",
       "    <tr style=\"text-align: right;\">\n",
       "      <th></th>\n",
       "      <th>n_citation</th>\n",
       "      <th>age</th>\n",
       "    </tr>\n",
       "  </thead>\n",
       "  <tbody>\n",
       "    <tr>\n",
       "      <th>n_citation</th>\n",
       "      <td>1.000000</td>\n",
       "      <td>0.369863</td>\n",
       "    </tr>\n",
       "    <tr>\n",
       "      <th>age</th>\n",
       "      <td>0.369863</td>\n",
       "      <td>1.000000</td>\n",
       "    </tr>\n",
       "  </tbody>\n",
       "</table>\n",
       "</div>"
      ],
      "text/plain": [
       "            n_citation       age\n",
       "n_citation    1.000000  0.369863\n",
       "age           0.369863  1.000000"
      ]
     },
     "execution_count": 35,
     "metadata": {},
     "output_type": "execute_result"
    },
    {
     "data": {
      "image/png": "[encoded data removed]",
      "text/plain": [
       "<Figure size 432x288 with 2 Axes>"
      ]
     },
     "metadata": {
      "needs_background": "light"
     },
     "output_type": "display_data"
    }
   ],
   "source": [
    "train_corr = train[['n_citation', 'age']].corr()\n",
    "sns.heatmap(train_corr);\n",
    "train_corr"
   ]
  },
  {
   "cell_type": "markdown",
   "metadata": {},
   "source": [
    "## Author AcCc -- Train"
   ]
  },
  {
   "cell_type": "code",
   "execution_count": 36,
   "metadata": {},
   "outputs": [],
   "source": [
    "# # Training Set Data\n",
    "\n",
    "# Indexing is done to remove any discrepancies between removal of records during drop of rows\n",
    "# data_train.index = pd.RangeIndex(len(data_train_Complete.index))\n",
    "\n",
    "data_id_train = train['id']\n",
    "data_Author_train = train['authors']\n",
    "data_numberOfCitation_train = train['n_citation']\n",
    "####################################################################################\n",
    "\n",
    "data_Author_train = data_Author_train\n",
    "data_numberOfCitation_train = data_numberOfCitation_train"
   ]
  },
  {
   "cell_type": "code",
   "execution_count": 37,
   "metadata": {},
   "outputs": [
    {
     "name": "stdout",
     "output_type": "stream",
     "text": [
      "6686\n"
     ]
    }
   ],
   "source": [
    "# Length of Train Data\n",
    "print(len(data_numberOfCitation_train))"
   ]
  },
  {
   "cell_type": "code",
   "execution_count": 38,
   "metadata": {},
   "outputs": [],
   "source": [
    "# Train################################################################\n",
    "# Here we are combining first and last name of authors to identify them\n",
    "# Our assumption is all authors have unique name and they are different based on their name \n",
    "\n",
    "# Find all authors from all the papers and store in a list\n",
    "X_train_authorValue=list()\n",
    "for key, value in data_Author_train.items():\n",
    "    X_train_authorValue.append(value)\n",
    "    \n",
    "##########################################################################################\n",
    "\n",
    "# Here we make name in X_train_authorValue as lowercase and combine the first and last name \n",
    "# And remove any spaces,special character - between names \n",
    "\n",
    "X_train_authorValue=','.join(str(e).lower().replace(\" \",\"\") for e in data_Author_train[0:len(data_Author_train)])\n",
    "X_train_authorValue=X_train_authorValue.replace('-','')\n",
    "X_train_authorValue=X_train_authorValue.replace('.','')\n",
    "\n",
    "# Copy contents to new string and replace blank and special character like '[', ']' inside the name\n",
    "X_train_allAuthorsNew=X_train_authorValue.replace('[','')\n",
    "X_train_allAuthorsNew=X_train_allAuthorsNew.replace(']','')\n",
    "X_train_allAuthorsNew=X_train_allAuthorsNew.replace(\" \",\"\")\n",
    "\n",
    "# We create an array X_train_authorValueArray of authors for papers by using ],[ as splitting criterion \n",
    "X_train_authorValueArray=X_train_authorValue.split('],[')\n",
    "X_train_authorValueArray = [s.replace('[', '') for s in X_train_authorValueArray]\n",
    "X_train_authorValueArray = [s.replace(']', '') for s in X_train_authorValueArray]"
   ]
  },
  {
   "cell_type": "code",
   "execution_count": 39,
   "metadata": {},
   "outputs": [],
   "source": [
    "# Train################################################################\n",
    "# Bag of Words Implementation\n",
    "train_vectorizer = CountVectorizer(analyzer = \"word\", tokenizer = None, preprocessor = None, stop_words = None, max_features = 500000) \n",
    "train_sentences=[X_train_allAuthorsNew]\n",
    "train_data_features = train_vectorizer.fit_transform(train_sentences)\n",
    "train_vectorizerActual=train_vectorizer.transform([value for value in X_train_authorValueArray[0:len(X_train_authorValueArray)]])\n",
    "# train_vectorList = train_vectorizer.transform([value for value in X_train_authorValueArray[0:len(X_train_authorValueArray)]]).toarray()\n",
    "train_vectorList = pd.SparseDataFrame(train_vectorizerActual).fillna(0)\n",
    "############################################################################\n",
    "train_authorList=pd.DataFrame(train_vectorizer.get_feature_names()).rename(index=int, columns={0: \"authorList\"})"
   ]
  },
  {
   "cell_type": "code",
   "execution_count": 40,
   "metadata": {},
   "outputs": [
    {
     "name": "stdout",
     "output_type": "stream",
     "text": [
      "21377\n"
     ]
    }
   ],
   "source": [
    "# Get Number of authors Feature Names after implementation of bag of words\n",
    "print(len(train_vectorizer.get_feature_names()))"
   ]
  },
  {
   "cell_type": "code",
   "execution_count": 41,
   "metadata": {},
   "outputs": [],
   "source": [
    "# Finding Total Number of Papers written by different author\n",
    "train_authorInfo=pd.DataFrame(train_vectorList)\n",
    "train_TotalNumberOfPapers = pd.DataFrame(train_authorInfo.sum(axis=0)).rename(index=int, columns={0: \"TotalNumberOfPapers\"})\n",
    "train_TotalNumberOfPapers['authorList']=train_authorList\n",
    "\n",
    "# Filtering the authors who has written only one paper\n",
    "train_TotalNumberOfPapers_1=train_TotalNumberOfPapers[train_TotalNumberOfPapers['TotalNumberOfPapers']==1]"
   ]
  },
  {
   "cell_type": "code",
   "execution_count": 42,
   "metadata": {},
   "outputs": [
    {
     "data": {
      "text/plain": [
       "False"
      ]
     },
     "execution_count": 42,
     "metadata": {},
     "output_type": "execute_result"
    }
   ],
   "source": [
    "train_TotalNumberOfPapers.isnull().values.any()"
   ]
  },
  {
   "cell_type": "code",
   "execution_count": 43,
   "metadata": {},
   "outputs": [],
   "source": [
    "# Append the sparse matrix to a dataframe and number of citation for each paper\n",
    "train_dataAuthorAndCitation=pd.DataFrame(train_vectorList)\n",
    "train_dataAuthorCitationAndVenueWeights=train_dataAuthorAndCitation.copy()\n",
    "train_dataAuthorCitationAndVenueWeights['n_citation']=data_numberOfCitation_train"
   ]
  },
  {
   "cell_type": "code",
   "execution_count": 44,
   "metadata": {},
   "outputs": [
    {
     "data": {
      "text/html": [
       "<div>\n",
       "<style scoped>\n",
       "    .dataframe tbody tr th:only-of-type {\n",
       "        vertical-align: middle;\n",
       "    }\n",
       "\n",
       "    .dataframe tbody tr th {\n",
       "        vertical-align: top;\n",
       "    }\n",
       "\n",
       "    .dataframe thead th {\n",
       "        text-align: right;\n",
       "    }\n",
       "</style>\n",
       "<table border=\"1\" class=\"dataframe\">\n",
       "  <thead>\n",
       "    <tr style=\"text-align: right;\">\n",
       "      <th></th>\n",
       "      <th>0</th>\n",
       "      <th>1</th>\n",
       "      <th>2</th>\n",
       "      <th>3</th>\n",
       "      <th>4</th>\n",
       "      <th>5</th>\n",
       "      <th>6</th>\n",
       "      <th>7</th>\n",
       "      <th>8</th>\n",
       "      <th>9</th>\n",
       "      <th>...</th>\n",
       "      <th>21368</th>\n",
       "      <th>21369</th>\n",
       "      <th>21370</th>\n",
       "      <th>21371</th>\n",
       "      <th>21372</th>\n",
       "      <th>21373</th>\n",
       "      <th>21374</th>\n",
       "      <th>21375</th>\n",
       "      <th>21376</th>\n",
       "      <th>n_citation</th>\n",
       "    </tr>\n",
       "  </thead>\n",
       "  <tbody>\n",
       "    <tr>\n",
       "      <th>0</th>\n",
       "      <td>0.0</td>\n",
       "      <td>0.0</td>\n",
       "      <td>0.0</td>\n",
       "      <td>0.0</td>\n",
       "      <td>0.0</td>\n",
       "      <td>0.0</td>\n",
       "      <td>0.0</td>\n",
       "      <td>0.0</td>\n",
       "      <td>0.0</td>\n",
       "      <td>0.0</td>\n",
       "      <td>...</td>\n",
       "      <td>0.0</td>\n",
       "      <td>0.0</td>\n",
       "      <td>0.0</td>\n",
       "      <td>0.0</td>\n",
       "      <td>0.0</td>\n",
       "      <td>0.0</td>\n",
       "      <td>0.0</td>\n",
       "      <td>0.0</td>\n",
       "      <td>0.0</td>\n",
       "      <td>0</td>\n",
       "    </tr>\n",
       "    <tr>\n",
       "      <th>1</th>\n",
       "      <td>0.0</td>\n",
       "      <td>0.0</td>\n",
       "      <td>0.0</td>\n",
       "      <td>0.0</td>\n",
       "      <td>0.0</td>\n",
       "      <td>0.0</td>\n",
       "      <td>0.0</td>\n",
       "      <td>0.0</td>\n",
       "      <td>0.0</td>\n",
       "      <td>0.0</td>\n",
       "      <td>...</td>\n",
       "      <td>0.0</td>\n",
       "      <td>0.0</td>\n",
       "      <td>0.0</td>\n",
       "      <td>0.0</td>\n",
       "      <td>0.0</td>\n",
       "      <td>0.0</td>\n",
       "      <td>0.0</td>\n",
       "      <td>0.0</td>\n",
       "      <td>0.0</td>\n",
       "      <td>0</td>\n",
       "    </tr>\n",
       "  </tbody>\n",
       "</table>\n",
       "<p>2 rows × 21378 columns</p>\n",
       "</div>"
      ],
      "text/plain": [
       "     0    1    2    3    4    5    6    7    8    9     ...      21368  21369  \\\n",
       "0  0.0  0.0  0.0  0.0  0.0  0.0  0.0  0.0  0.0  0.0     ...        0.0    0.0   \n",
       "1  0.0  0.0  0.0  0.0  0.0  0.0  0.0  0.0  0.0  0.0     ...        0.0    0.0   \n",
       "\n",
       "   21370  21371  21372  21373  21374  21375  21376  n_citation  \n",
       "0    0.0    0.0    0.0    0.0    0.0    0.0    0.0           0  \n",
       "1    0.0    0.0    0.0    0.0    0.0    0.0    0.0           0  \n",
       "\n",
       "[2 rows x 21378 columns]"
      ]
     },
     "execution_count": 44,
     "metadata": {},
     "output_type": "execute_result"
    }
   ],
   "source": [
    "train_dataAuthorCitationAndVenueWeights.head(2)"
   ]
  },
  {
   "cell_type": "code",
   "execution_count": 45,
   "metadata": {},
   "outputs": [],
   "source": [
    "# Calculating total number of citation author has during the period \n",
    "# and assigning it to frame train_sumOfCitationForAuthors \n",
    "\n",
    "train_sumOfCitationForAuthors=pd.DataFrame(train_authorInfo.multiply(pd.DataFrame(data_numberOfCitation_train)[\"n_citation\"], axis = 0).sum(axis=0)).rename(index=int, columns={0: \"SumOfCitationCount\"})\n",
    "\n",
    "# Calculating average citation for authors by dividing total number of citations by total number of papers\n",
    "# written by the authors  \n",
    "train_averageCitationForAuthors = pd.DataFrame(train_sumOfCitationForAuthors.div(train_TotalNumberOfPapers['TotalNumberOfPapers'],axis=0)).rename(index=int, columns={0: \"AverageCitationCount\"})\n",
    "\n",
    "# Assigning train_sumOfCitationForAuthors and AverageCitationCount \n",
    "# to the frame train_author_InformationFinal for each authors\n",
    "train_author_InformationFinal=pd.DataFrame(train_TotalNumberOfPapers)\n",
    "train_author_InformationFinal['SumOfCitationCount'] = train_sumOfCitationForAuthors\n",
    "train_author_InformationFinal['AverageCitationCount'] = train_averageCitationForAuthors"
   ]
  },
  {
   "cell_type": "code",
   "execution_count": 46,
   "metadata": {},
   "outputs": [
    {
     "data": {
      "text/html": [
       "<div>\n",
       "<style scoped>\n",
       "    .dataframe tbody tr th:only-of-type {\n",
       "        vertical-align: middle;\n",
       "    }\n",
       "\n",
       "    .dataframe tbody tr th {\n",
       "        vertical-align: top;\n",
       "    }\n",
       "\n",
       "    .dataframe thead th {\n",
       "        text-align: right;\n",
       "    }\n",
       "</style>\n",
       "<table border=\"1\" class=\"dataframe\">\n",
       "  <thead>\n",
       "    <tr style=\"text-align: right;\">\n",
       "      <th></th>\n",
       "      <th>TotalNumberOfPapers</th>\n",
       "      <th>authorList</th>\n",
       "      <th>SumOfCitationCount</th>\n",
       "      <th>AverageCitationCount</th>\n",
       "    </tr>\n",
       "  </thead>\n",
       "  <tbody>\n",
       "    <tr>\n",
       "      <th>0</th>\n",
       "      <td>1.0</td>\n",
       "      <td>aabdelfattah</td>\n",
       "      <td>0.0</td>\n",
       "      <td>0.0</td>\n",
       "    </tr>\n",
       "    <tr>\n",
       "      <th>1</th>\n",
       "      <td>1.0</td>\n",
       "      <td>aaishaamjad</td>\n",
       "      <td>0.0</td>\n",
       "      <td>0.0</td>\n",
       "    </tr>\n",
       "    <tr>\n",
       "      <th>2</th>\n",
       "      <td>1.0</td>\n",
       "      <td>aameeliaroseline</td>\n",
       "      <td>0.0</td>\n",
       "      <td>0.0</td>\n",
       "    </tr>\n",
       "  </tbody>\n",
       "</table>\n",
       "</div>"
      ],
      "text/plain": [
       "   TotalNumberOfPapers        authorList  SumOfCitationCount  \\\n",
       "0                  1.0      aabdelfattah                 0.0   \n",
       "1                  1.0       aaishaamjad                 0.0   \n",
       "2                  1.0  aameeliaroseline                 0.0   \n",
       "\n",
       "   AverageCitationCount  \n",
       "0                   0.0  \n",
       "1                   0.0  \n",
       "2                   0.0  "
      ]
     },
     "execution_count": 46,
     "metadata": {},
     "output_type": "execute_result"
    }
   ],
   "source": [
    "# First 1st 3 rows of train_author_InformationFinal\n",
    "train_author_InformationFinal.head(3)"
   ]
  },
  {
   "cell_type": "code",
   "execution_count": 47,
   "metadata": {},
   "outputs": [
    {
     "data": {
      "text/html": [
       "<div>\n",
       "<style scoped>\n",
       "    .dataframe tbody tr th:only-of-type {\n",
       "        vertical-align: middle;\n",
       "    }\n",
       "\n",
       "    .dataframe tbody tr th {\n",
       "        vertical-align: top;\n",
       "    }\n",
       "\n",
       "    .dataframe thead th {\n",
       "        text-align: right;\n",
       "    }\n",
       "</style>\n",
       "<table border=\"1\" class=\"dataframe\">\n",
       "  <thead>\n",
       "    <tr style=\"text-align: right;\">\n",
       "      <th></th>\n",
       "      <th>TotalNumberOfPapers</th>\n",
       "      <th>authorList</th>\n",
       "      <th>SumOfCitationCount</th>\n",
       "      <th>AverageCitationCount</th>\n",
       "    </tr>\n",
       "  </thead>\n",
       "  <tbody>\n",
       "    <tr>\n",
       "      <th>21367</th>\n",
       "      <td>1.0</td>\n",
       "      <td>łukaszwróbel</td>\n",
       "      <td>0.0</td>\n",
       "      <td>0.0</td>\n",
       "    </tr>\n",
       "    <tr>\n",
       "      <th>21368</th>\n",
       "      <td>1.0</td>\n",
       "      <td>łukaszłaniewskiwołłk</td>\n",
       "      <td>0.0</td>\n",
       "      <td>0.0</td>\n",
       "    </tr>\n",
       "    <tr>\n",
       "      <th>21369</th>\n",
       "      <td>1.0</td>\n",
       "      <td>şahinkoçak</td>\n",
       "      <td>0.0</td>\n",
       "      <td>0.0</td>\n",
       "    </tr>\n",
       "    <tr>\n",
       "      <th>21370</th>\n",
       "      <td>1.0</td>\n",
       "      <td>şeydayılmaz</td>\n",
       "      <td>0.0</td>\n",
       "      <td>0.0</td>\n",
       "    </tr>\n",
       "    <tr>\n",
       "      <th>21371</th>\n",
       "      <td>1.0</td>\n",
       "      <td>špelažuperl</td>\n",
       "      <td>0.0</td>\n",
       "      <td>0.0</td>\n",
       "    </tr>\n",
       "    <tr>\n",
       "      <th>21372</th>\n",
       "      <td>1.0</td>\n",
       "      <td>štefkomiklavič</td>\n",
       "      <td>0.0</td>\n",
       "      <td>0.0</td>\n",
       "    </tr>\n",
       "    <tr>\n",
       "      <th>21373</th>\n",
       "      <td>1.0</td>\n",
       "      <td>štĕpánkastehlíková</td>\n",
       "      <td>0.0</td>\n",
       "      <td>0.0</td>\n",
       "    </tr>\n",
       "    <tr>\n",
       "      <th>21374</th>\n",
       "      <td>1.0</td>\n",
       "      <td>štěpánjurajda</td>\n",
       "      <td>0.0</td>\n",
       "      <td>0.0</td>\n",
       "    </tr>\n",
       "    <tr>\n",
       "      <th>21375</th>\n",
       "      <td>1.0</td>\n",
       "      <td>żanetakaszta</td>\n",
       "      <td>50.0</td>\n",
       "      <td>50.0</td>\n",
       "    </tr>\n",
       "    <tr>\n",
       "      <th>21376</th>\n",
       "      <td>1.0</td>\n",
       "      <td>мkaidan</td>\n",
       "      <td>0.0</td>\n",
       "      <td>0.0</td>\n",
       "    </tr>\n",
       "  </tbody>\n",
       "</table>\n",
       "</div>"
      ],
      "text/plain": [
       "       TotalNumberOfPapers            authorList  SumOfCitationCount  \\\n",
       "21367                  1.0          łukaszwróbel                 0.0   \n",
       "21368                  1.0  łukaszłaniewskiwołłk                 0.0   \n",
       "21369                  1.0            şahinkoçak                 0.0   \n",
       "21370                  1.0           şeydayılmaz                 0.0   \n",
       "21371                  1.0           špelažuperl                 0.0   \n",
       "21372                  1.0        štefkomiklavič                 0.0   \n",
       "21373                  1.0    štĕpánkastehlíková                 0.0   \n",
       "21374                  1.0         štěpánjurajda                 0.0   \n",
       "21375                  1.0          żanetakaszta                50.0   \n",
       "21376                  1.0               мkaidan                 0.0   \n",
       "\n",
       "       AverageCitationCount  \n",
       "21367                   0.0  \n",
       "21368                   0.0  \n",
       "21369                   0.0  \n",
       "21370                   0.0  \n",
       "21371                   0.0  \n",
       "21372                   0.0  \n",
       "21373                   0.0  \n",
       "21374                   0.0  \n",
       "21375                  50.0  \n",
       "21376                   0.0  "
      ]
     },
     "execution_count": 47,
     "metadata": {},
     "output_type": "execute_result"
    }
   ],
   "source": [
    "# Last 10 rows of train_author_InformationFinal\n",
    "train_author_InformationFinal.tail(10)"
   ]
  },
  {
   "cell_type": "code",
   "execution_count": 48,
   "metadata": {},
   "outputs": [],
   "source": [
    "# Creating the duplicate frame train_author_InformationDup from train_author_InformationFinal\n",
    "# Dropping SumOfCitationCount and TotalNumberOfPapers column from the frame\n",
    "train_author_InformationDup=pd.DataFrame(train_author_InformationFinal)\n",
    "train_author_InformationDup.drop(['SumOfCitationCount'], axis=1,inplace=True)\n",
    "train_author_InformationDup.drop(['TotalNumberOfPapers'], axis=1,inplace=True)"
   ]
  },
  {
   "cell_type": "code",
   "execution_count": 49,
   "metadata": {},
   "outputs": [
    {
     "data": {
      "text/html": [
       "<div>\n",
       "<style scoped>\n",
       "    .dataframe tbody tr th:only-of-type {\n",
       "        vertical-align: middle;\n",
       "    }\n",
       "\n",
       "    .dataframe tbody tr th {\n",
       "        vertical-align: top;\n",
       "    }\n",
       "\n",
       "    .dataframe thead th {\n",
       "        text-align: right;\n",
       "    }\n",
       "</style>\n",
       "<table border=\"1\" class=\"dataframe\">\n",
       "  <thead>\n",
       "    <tr style=\"text-align: right;\">\n",
       "      <th></th>\n",
       "      <th>authorList</th>\n",
       "      <th>AverageCitationCount</th>\n",
       "    </tr>\n",
       "  </thead>\n",
       "  <tbody>\n",
       "    <tr>\n",
       "      <th>0</th>\n",
       "      <td>aabdelfattah</td>\n",
       "      <td>0.0</td>\n",
       "    </tr>\n",
       "    <tr>\n",
       "      <th>1</th>\n",
       "      <td>aaishaamjad</td>\n",
       "      <td>0.0</td>\n",
       "    </tr>\n",
       "    <tr>\n",
       "      <th>2</th>\n",
       "      <td>aameeliaroseline</td>\n",
       "      <td>0.0</td>\n",
       "    </tr>\n",
       "    <tr>\n",
       "      <th>3</th>\n",
       "      <td>aamerbilalasghar</td>\n",
       "      <td>0.0</td>\n",
       "    </tr>\n",
       "  </tbody>\n",
       "</table>\n",
       "</div>"
      ],
      "text/plain": [
       "         authorList  AverageCitationCount\n",
       "0      aabdelfattah                   0.0\n",
       "1       aaishaamjad                   0.0\n",
       "2  aameeliaroseline                   0.0\n",
       "3  aamerbilalasghar                   0.0"
      ]
     },
     "execution_count": 49,
     "metadata": {},
     "output_type": "execute_result"
    }
   ],
   "source": [
    "# First 4 rows for train_author_InformationDup\n",
    "train_author_InformationDup.head(4)"
   ]
  },
  {
   "cell_type": "code",
   "execution_count": 50,
   "metadata": {},
   "outputs": [
    {
     "data": {
      "text/html": [
       "<div>\n",
       "<style scoped>\n",
       "    .dataframe tbody tr th:only-of-type {\n",
       "        vertical-align: middle;\n",
       "    }\n",
       "\n",
       "    .dataframe tbody tr th {\n",
       "        vertical-align: top;\n",
       "    }\n",
       "\n",
       "    .dataframe thead th {\n",
       "        text-align: right;\n",
       "    }\n",
       "</style>\n",
       "<table border=\"1\" class=\"dataframe\">\n",
       "  <thead>\n",
       "    <tr style=\"text-align: right;\">\n",
       "      <th></th>\n",
       "      <th>authorList</th>\n",
       "      <th>AverageCitationCount</th>\n",
       "    </tr>\n",
       "  </thead>\n",
       "  <tbody>\n",
       "    <tr>\n",
       "      <th>0</th>\n",
       "      <td>aabdelfattah</td>\n",
       "      <td>0.0</td>\n",
       "    </tr>\n",
       "    <tr>\n",
       "      <th>1</th>\n",
       "      <td>aaishaamjad</td>\n",
       "      <td>0.0</td>\n",
       "    </tr>\n",
       "    <tr>\n",
       "      <th>2</th>\n",
       "      <td>aameeliaroseline</td>\n",
       "      <td>0.0</td>\n",
       "    </tr>\n",
       "    <tr>\n",
       "      <th>3</th>\n",
       "      <td>aamerbilalasghar</td>\n",
       "      <td>0.0</td>\n",
       "    </tr>\n",
       "    <tr>\n",
       "      <th>4</th>\n",
       "      <td>aanpalagan</td>\n",
       "      <td>0.0</td>\n",
       "    </tr>\n",
       "    <tr>\n",
       "      <th>5</th>\n",
       "      <td>aari</td>\n",
       "      <td>0.0</td>\n",
       "    </tr>\n",
       "    <tr>\n",
       "      <th>6</th>\n",
       "      <td>aarneodo</td>\n",
       "      <td>0.0</td>\n",
       "    </tr>\n",
       "    <tr>\n",
       "      <th>7</th>\n",
       "      <td>aarongibson</td>\n",
       "      <td>0.0</td>\n",
       "    </tr>\n",
       "    <tr>\n",
       "      <th>8</th>\n",
       "      <td>aaronherman</td>\n",
       "      <td>0.0</td>\n",
       "    </tr>\n",
       "    <tr>\n",
       "      <th>9</th>\n",
       "      <td>aaronjmasino</td>\n",
       "      <td>0.0</td>\n",
       "    </tr>\n",
       "  </tbody>\n",
       "</table>\n",
       "</div>"
      ],
      "text/plain": [
       "         authorList  AverageCitationCount\n",
       "0      aabdelfattah                   0.0\n",
       "1       aaishaamjad                   0.0\n",
       "2  aameeliaroseline                   0.0\n",
       "3  aamerbilalasghar                   0.0\n",
       "4        aanpalagan                   0.0\n",
       "5              aari                   0.0\n",
       "6          aarneodo                   0.0\n",
       "7       aarongibson                   0.0\n",
       "8       aaronherman                   0.0\n",
       "9      aaronjmasino                   0.0"
      ]
     },
     "execution_count": 50,
     "metadata": {},
     "output_type": "execute_result"
    }
   ],
   "source": [
    "# First 10 rows for train_author_InformationDup\n",
    "train_author_InformationDup.head(10)"
   ]
  },
  {
   "cell_type": "code",
   "execution_count": 51,
   "metadata": {},
   "outputs": [
    {
     "data": {
      "text/html": [
       "<div>\n",
       "<style scoped>\n",
       "    .dataframe tbody tr th:only-of-type {\n",
       "        vertical-align: middle;\n",
       "    }\n",
       "\n",
       "    .dataframe tbody tr th {\n",
       "        vertical-align: top;\n",
       "    }\n",
       "\n",
       "    .dataframe thead th {\n",
       "        text-align: right;\n",
       "    }\n",
       "</style>\n",
       "<table border=\"1\" class=\"dataframe\">\n",
       "  <thead>\n",
       "    <tr style=\"text-align: right;\">\n",
       "      <th></th>\n",
       "      <th>authorList</th>\n",
       "      <th>AverageCitationCount</th>\n",
       "    </tr>\n",
       "  </thead>\n",
       "  <tbody>\n",
       "    <tr>\n",
       "      <th>21374</th>\n",
       "      <td>štěpánjurajda</td>\n",
       "      <td>0.0</td>\n",
       "    </tr>\n",
       "    <tr>\n",
       "      <th>21375</th>\n",
       "      <td>żanetakaszta</td>\n",
       "      <td>50.0</td>\n",
       "    </tr>\n",
       "    <tr>\n",
       "      <th>21376</th>\n",
       "      <td>мkaidan</td>\n",
       "      <td>0.0</td>\n",
       "    </tr>\n",
       "  </tbody>\n",
       "</table>\n",
       "</div>"
      ],
      "text/plain": [
       "          authorList  AverageCitationCount\n",
       "21374  štěpánjurajda                   0.0\n",
       "21375   żanetakaszta                  50.0\n",
       "21376        мkaidan                   0.0"
      ]
     },
     "execution_count": 51,
     "metadata": {},
     "output_type": "execute_result"
    }
   ],
   "source": [
    "# Last 3 rows of train_author_InformationDup\n",
    "train_author_InformationDup.tail(3)"
   ]
  },
  {
   "cell_type": "code",
   "execution_count": 52,
   "metadata": {},
   "outputs": [
    {
     "data": {
      "text/html": [
       "<div>\n",
       "<style scoped>\n",
       "    .dataframe tbody tr th:only-of-type {\n",
       "        vertical-align: middle;\n",
       "    }\n",
       "\n",
       "    .dataframe tbody tr th {\n",
       "        vertical-align: top;\n",
       "    }\n",
       "\n",
       "    .dataframe thead th {\n",
       "        text-align: right;\n",
       "    }\n",
       "</style>\n",
       "<table border=\"1\" class=\"dataframe\">\n",
       "  <thead>\n",
       "    <tr style=\"text-align: right;\">\n",
       "      <th></th>\n",
       "      <th>AverageCitationCount</th>\n",
       "    </tr>\n",
       "  </thead>\n",
       "  <tbody>\n",
       "    <tr>\n",
       "      <th>count</th>\n",
       "      <td>21377.000000</td>\n",
       "    </tr>\n",
       "    <tr>\n",
       "      <th>mean</th>\n",
       "      <td>8.828901</td>\n",
       "    </tr>\n",
       "    <tr>\n",
       "      <th>std</th>\n",
       "      <td>52.365848</td>\n",
       "    </tr>\n",
       "    <tr>\n",
       "      <th>min</th>\n",
       "      <td>0.000000</td>\n",
       "    </tr>\n",
       "    <tr>\n",
       "      <th>25%</th>\n",
       "      <td>0.000000</td>\n",
       "    </tr>\n",
       "    <tr>\n",
       "      <th>50%</th>\n",
       "      <td>0.000000</td>\n",
       "    </tr>\n",
       "    <tr>\n",
       "      <th>75%</th>\n",
       "      <td>0.000000</td>\n",
       "    </tr>\n",
       "    <tr>\n",
       "      <th>max</th>\n",
       "      <td>2844.000000</td>\n",
       "    </tr>\n",
       "  </tbody>\n",
       "</table>\n",
       "</div>"
      ],
      "text/plain": [
       "       AverageCitationCount\n",
       "count          21377.000000\n",
       "mean               8.828901\n",
       "std               52.365848\n",
       "min                0.000000\n",
       "25%                0.000000\n",
       "50%                0.000000\n",
       "75%                0.000000\n",
       "max             2844.000000"
      ]
     },
     "execution_count": 52,
     "metadata": {},
     "output_type": "execute_result"
    }
   ],
   "source": [
    "# Description of train_author_InformationDup \n",
    "train_author_InformationDup.describe()"
   ]
  },
  {
   "cell_type": "code",
   "execution_count": 53,
   "metadata": {},
   "outputs": [
    {
     "name": "stdout",
     "output_type": "stream",
     "text": [
      "<class 'pandas.core.frame.DataFrame'>\n",
      "Int64Index: 21377 entries, 0 to 21376\n",
      "Data columns (total 2 columns):\n",
      "authorList              21377 non-null object\n",
      "AverageCitationCount    21377 non-null float64\n",
      "dtypes: float64(1), object(1)\n",
      "memory usage: 501.0+ KB\n"
     ]
    }
   ],
   "source": [
    "# train_author_InformationDup statistics\n",
    "train_author_InformationDup.info()"
   ]
  },
  {
   "cell_type": "code",
   "execution_count": 54,
   "metadata": {},
   "outputs": [],
   "source": [
    "# Copy of train_author_InformationDup\n",
    "train_data_authorPapers=train_author_InformationDup.copy()"
   ]
  },
  {
   "cell_type": "code",
   "execution_count": 55,
   "metadata": {},
   "outputs": [
    {
     "data": {
      "text/html": [
       "<div>\n",
       "<style scoped>\n",
       "    .dataframe tbody tr th:only-of-type {\n",
       "        vertical-align: middle;\n",
       "    }\n",
       "\n",
       "    .dataframe tbody tr th {\n",
       "        vertical-align: top;\n",
       "    }\n",
       "\n",
       "    .dataframe thead th {\n",
       "        text-align: right;\n",
       "    }\n",
       "</style>\n",
       "<table border=\"1\" class=\"dataframe\">\n",
       "  <thead>\n",
       "    <tr style=\"text-align: right;\">\n",
       "      <th></th>\n",
       "      <th>authorList</th>\n",
       "      <th>AverageCitationCount</th>\n",
       "    </tr>\n",
       "  </thead>\n",
       "  <tbody>\n",
       "    <tr>\n",
       "      <th>0</th>\n",
       "      <td>aabdelfattah</td>\n",
       "      <td>0.0</td>\n",
       "    </tr>\n",
       "    <tr>\n",
       "      <th>1</th>\n",
       "      <td>aaishaamjad</td>\n",
       "      <td>0.0</td>\n",
       "    </tr>\n",
       "    <tr>\n",
       "      <th>2</th>\n",
       "      <td>aameeliaroseline</td>\n",
       "      <td>0.0</td>\n",
       "    </tr>\n",
       "    <tr>\n",
       "      <th>3</th>\n",
       "      <td>aamerbilalasghar</td>\n",
       "      <td>0.0</td>\n",
       "    </tr>\n",
       "  </tbody>\n",
       "</table>\n",
       "</div>"
      ],
      "text/plain": [
       "         authorList  AverageCitationCount\n",
       "0      aabdelfattah                   0.0\n",
       "1       aaishaamjad                   0.0\n",
       "2  aameeliaroseline                   0.0\n",
       "3  aamerbilalasghar                   0.0"
      ]
     },
     "execution_count": 55,
     "metadata": {},
     "output_type": "execute_result"
    }
   ],
   "source": [
    "# First 4 rows of train_data_authorPapers\n",
    "train_data_authorPapers.head(4)"
   ]
  },
  {
   "cell_type": "code",
   "execution_count": 56,
   "metadata": {},
   "outputs": [],
   "source": [
    "# Copy frame to another train_authorInfo\n",
    "train_authorInfoNew=train_authorInfo.copy()\n",
    "\n",
    "# Transposing the AverageCitationCount feature from column to a single row\n",
    "# so that the cumulating Ranking weight ['CumulativeAuthorCitationCount'] can be found out\n",
    "# And adding column TotalNumberOfAuthors for the paper to the same frame\n",
    "\n",
    "train_authorAverageCitationCount=pd.DataFrame((train_data_authorPapers)[\"AverageCitationCount\"]).T\n",
    "train_authorInfoNew['CumulativeAuthorCitationCount']=pd.DataFrame(train_authorInfo.iloc[:,range(0,len(train_authorInfo.columns))].values*train_authorAverageCitationCount.iloc[:,range(0,len(train_authorAverageCitationCount.columns))].values).sum(axis=1)\n",
    "train_authorInfoNew['TotalNumberOfAuthors']=pd.DataFrame(train_authorInfo.sum(axis=1))"
   ]
  },
  {
   "cell_type": "code",
   "execution_count": 57,
   "metadata": {},
   "outputs": [
    {
     "data": {
      "text/html": [
       "<div>\n",
       "<style scoped>\n",
       "    .dataframe tbody tr th:only-of-type {\n",
       "        vertical-align: middle;\n",
       "    }\n",
       "\n",
       "    .dataframe tbody tr th {\n",
       "        vertical-align: top;\n",
       "    }\n",
       "\n",
       "    .dataframe thead th {\n",
       "        text-align: right;\n",
       "    }\n",
       "</style>\n",
       "<table border=\"1\" class=\"dataframe\">\n",
       "  <thead>\n",
       "    <tr style=\"text-align: right;\">\n",
       "      <th></th>\n",
       "      <th>0</th>\n",
       "      <th>1</th>\n",
       "      <th>2</th>\n",
       "      <th>3</th>\n",
       "      <th>4</th>\n",
       "      <th>5</th>\n",
       "      <th>6</th>\n",
       "      <th>7</th>\n",
       "      <th>8</th>\n",
       "      <th>9</th>\n",
       "      <th>...</th>\n",
       "      <th>21369</th>\n",
       "      <th>21370</th>\n",
       "      <th>21371</th>\n",
       "      <th>21372</th>\n",
       "      <th>21373</th>\n",
       "      <th>21374</th>\n",
       "      <th>21375</th>\n",
       "      <th>21376</th>\n",
       "      <th>CumulativeAuthorCitationCount</th>\n",
       "      <th>TotalNumberOfAuthors</th>\n",
       "    </tr>\n",
       "  </thead>\n",
       "  <tbody>\n",
       "    <tr>\n",
       "      <th>0</th>\n",
       "      <td>0.0</td>\n",
       "      <td>0.0</td>\n",
       "      <td>0.0</td>\n",
       "      <td>0.0</td>\n",
       "      <td>0.0</td>\n",
       "      <td>0.0</td>\n",
       "      <td>0.0</td>\n",
       "      <td>0.0</td>\n",
       "      <td>0.0</td>\n",
       "      <td>0.0</td>\n",
       "      <td>...</td>\n",
       "      <td>0.0</td>\n",
       "      <td>0.0</td>\n",
       "      <td>0.0</td>\n",
       "      <td>0.0</td>\n",
       "      <td>0.0</td>\n",
       "      <td>0.0</td>\n",
       "      <td>0.0</td>\n",
       "      <td>0.0</td>\n",
       "      <td>0.0</td>\n",
       "      <td>3.0</td>\n",
       "    </tr>\n",
       "    <tr>\n",
       "      <th>1</th>\n",
       "      <td>0.0</td>\n",
       "      <td>0.0</td>\n",
       "      <td>0.0</td>\n",
       "      <td>0.0</td>\n",
       "      <td>0.0</td>\n",
       "      <td>0.0</td>\n",
       "      <td>0.0</td>\n",
       "      <td>0.0</td>\n",
       "      <td>0.0</td>\n",
       "      <td>0.0</td>\n",
       "      <td>...</td>\n",
       "      <td>0.0</td>\n",
       "      <td>0.0</td>\n",
       "      <td>0.0</td>\n",
       "      <td>0.0</td>\n",
       "      <td>0.0</td>\n",
       "      <td>0.0</td>\n",
       "      <td>0.0</td>\n",
       "      <td>0.0</td>\n",
       "      <td>0.0</td>\n",
       "      <td>3.0</td>\n",
       "    </tr>\n",
       "    <tr>\n",
       "      <th>2</th>\n",
       "      <td>0.0</td>\n",
       "      <td>0.0</td>\n",
       "      <td>0.0</td>\n",
       "      <td>0.0</td>\n",
       "      <td>0.0</td>\n",
       "      <td>0.0</td>\n",
       "      <td>0.0</td>\n",
       "      <td>0.0</td>\n",
       "      <td>0.0</td>\n",
       "      <td>0.0</td>\n",
       "      <td>...</td>\n",
       "      <td>0.0</td>\n",
       "      <td>0.0</td>\n",
       "      <td>0.0</td>\n",
       "      <td>0.0</td>\n",
       "      <td>0.0</td>\n",
       "      <td>0.0</td>\n",
       "      <td>0.0</td>\n",
       "      <td>0.0</td>\n",
       "      <td>0.0</td>\n",
       "      <td>2.0</td>\n",
       "    </tr>\n",
       "  </tbody>\n",
       "</table>\n",
       "<p>3 rows × 21379 columns</p>\n",
       "</div>"
      ],
      "text/plain": [
       "     0    1    2    3    4    5    6    7    8    9          ...           \\\n",
       "0  0.0  0.0  0.0  0.0  0.0  0.0  0.0  0.0  0.0  0.0          ...            \n",
       "1  0.0  0.0  0.0  0.0  0.0  0.0  0.0  0.0  0.0  0.0          ...            \n",
       "2  0.0  0.0  0.0  0.0  0.0  0.0  0.0  0.0  0.0  0.0          ...            \n",
       "\n",
       "   21369  21370  21371  21372  21373  21374  21375  21376  \\\n",
       "0    0.0    0.0    0.0    0.0    0.0    0.0    0.0    0.0   \n",
       "1    0.0    0.0    0.0    0.0    0.0    0.0    0.0    0.0   \n",
       "2    0.0    0.0    0.0    0.0    0.0    0.0    0.0    0.0   \n",
       "\n",
       "   CumulativeAuthorCitationCount  TotalNumberOfAuthors  \n",
       "0                            0.0                   3.0  \n",
       "1                            0.0                   3.0  \n",
       "2                            0.0                   2.0  \n",
       "\n",
       "[3 rows x 21379 columns]"
      ]
     },
     "execution_count": 57,
     "metadata": {},
     "output_type": "execute_result"
    }
   ],
   "source": [
    "# First 3 rows of train_authorInfoNew\n",
    "train_authorInfoNew.head(3)"
   ]
  },
  {
   "cell_type": "code",
   "execution_count": 58,
   "metadata": {},
   "outputs": [],
   "source": [
    "# Dropping the numbered indexes related to Authors and \n",
    "# adding a new column/Feature called AverageCumulativeAuthorCitationCount (AcCc) \n",
    "# found by dividing CumulativeAuthorCitationCount by TotalNumberOfAuthors for each paper\n",
    "\n",
    "train_authorInfoNewCopy=train_authorInfoNew.copy()\n",
    "train_authorInfoNewCopy.drop(range(0,len(train_authorInfoNewCopy.columns)-2),axis=1,inplace=True)\n",
    "train_authorInfoNewCopy['AverageCumulativeAuthorCitationCount']=pd.DataFrame(train_authorInfoNewCopy['CumulativeAuthorCitationCount'].div(train_authorInfoNewCopy[\"TotalNumberOfAuthors\"], axis = 0)).rename(index=int, columns={0: \"AverageCumulativeAuthorCitationCount\"})['AverageCumulativeAuthorCitationCount']"
   ]
  },
  {
   "cell_type": "code",
   "execution_count": 59,
   "metadata": {},
   "outputs": [
    {
     "data": {
      "text/html": [
       "<div>\n",
       "<style scoped>\n",
       "    .dataframe tbody tr th:only-of-type {\n",
       "        vertical-align: middle;\n",
       "    }\n",
       "\n",
       "    .dataframe tbody tr th {\n",
       "        vertical-align: top;\n",
       "    }\n",
       "\n",
       "    .dataframe thead th {\n",
       "        text-align: right;\n",
       "    }\n",
       "</style>\n",
       "<table border=\"1\" class=\"dataframe\">\n",
       "  <thead>\n",
       "    <tr style=\"text-align: right;\">\n",
       "      <th></th>\n",
       "      <th>CumulativeAuthorCitationCount</th>\n",
       "      <th>TotalNumberOfAuthors</th>\n",
       "      <th>AverageCumulativeAuthorCitationCount</th>\n",
       "    </tr>\n",
       "  </thead>\n",
       "  <tbody>\n",
       "    <tr>\n",
       "      <th>0</th>\n",
       "      <td>0.0</td>\n",
       "      <td>3.0</td>\n",
       "      <td>0.0</td>\n",
       "    </tr>\n",
       "    <tr>\n",
       "      <th>1</th>\n",
       "      <td>0.0</td>\n",
       "      <td>3.0</td>\n",
       "      <td>0.0</td>\n",
       "    </tr>\n",
       "    <tr>\n",
       "      <th>2</th>\n",
       "      <td>0.0</td>\n",
       "      <td>2.0</td>\n",
       "      <td>0.0</td>\n",
       "    </tr>\n",
       "  </tbody>\n",
       "</table>\n",
       "</div>"
      ],
      "text/plain": [
       "   CumulativeAuthorCitationCount  TotalNumberOfAuthors  \\\n",
       "0                            0.0                   3.0   \n",
       "1                            0.0                   3.0   \n",
       "2                            0.0                   2.0   \n",
       "\n",
       "   AverageCumulativeAuthorCitationCount  \n",
       "0                                   0.0  \n",
       "1                                   0.0  \n",
       "2                                   0.0  "
      ]
     },
     "execution_count": 59,
     "metadata": {},
     "output_type": "execute_result"
    }
   ],
   "source": [
    "# First 3 rows of train_authorInfoNewCopy\n",
    "train_authorInfoNewCopy.head(3)"
   ]
  },
  {
   "cell_type": "code",
   "execution_count": 60,
   "metadata": {},
   "outputs": [],
   "source": [
    "# Assigning columns id and n_citation to train_authorInfoNewCopy\n",
    "train_authorInfoNewCopy['n_citation']=data_numberOfCitation_train\n",
    "train_authorInfoNewCopy['id']=data_id_train"
   ]
  },
  {
   "cell_type": "code",
   "execution_count": 61,
   "metadata": {},
   "outputs": [
    {
     "data": {
      "text/html": [
       "<div>\n",
       "<style scoped>\n",
       "    .dataframe tbody tr th:only-of-type {\n",
       "        vertical-align: middle;\n",
       "    }\n",
       "\n",
       "    .dataframe tbody tr th {\n",
       "        vertical-align: top;\n",
       "    }\n",
       "\n",
       "    .dataframe thead th {\n",
       "        text-align: right;\n",
       "    }\n",
       "</style>\n",
       "<table border=\"1\" class=\"dataframe\">\n",
       "  <thead>\n",
       "    <tr style=\"text-align: right;\">\n",
       "      <th></th>\n",
       "      <th>CumulativeAuthorCitationCount</th>\n",
       "      <th>TotalNumberOfAuthors</th>\n",
       "      <th>AverageCumulativeAuthorCitationCount</th>\n",
       "      <th>n_citation</th>\n",
       "      <th>id</th>\n",
       "    </tr>\n",
       "  </thead>\n",
       "  <tbody>\n",
       "    <tr>\n",
       "      <th>0</th>\n",
       "      <td>0.0</td>\n",
       "      <td>3.0</td>\n",
       "      <td>0.0</td>\n",
       "      <td>0</td>\n",
       "      <td>4c5066c3-7ab5-4577-be22-10a5043b0bdb</td>\n",
       "    </tr>\n",
       "    <tr>\n",
       "      <th>1</th>\n",
       "      <td>0.0</td>\n",
       "      <td>3.0</td>\n",
       "      <td>0.0</td>\n",
       "      <td>0</td>\n",
       "      <td>77eee6bd-cfc3-438c-aa96-9cf7e987feb7</td>\n",
       "    </tr>\n",
       "    <tr>\n",
       "      <th>2</th>\n",
       "      <td>0.0</td>\n",
       "      <td>2.0</td>\n",
       "      <td>0.0</td>\n",
       "      <td>0</td>\n",
       "      <td>90ada658-4d06-489c-a9a2-7068bf0ac1ae</td>\n",
       "    </tr>\n",
       "  </tbody>\n",
       "</table>\n",
       "</div>"
      ],
      "text/plain": [
       "   CumulativeAuthorCitationCount  TotalNumberOfAuthors  \\\n",
       "0                            0.0                   3.0   \n",
       "1                            0.0                   3.0   \n",
       "2                            0.0                   2.0   \n",
       "\n",
       "   AverageCumulativeAuthorCitationCount  n_citation  \\\n",
       "0                                   0.0           0   \n",
       "1                                   0.0           0   \n",
       "2                                   0.0           0   \n",
       "\n",
       "                                     id  \n",
       "0  4c5066c3-7ab5-4577-be22-10a5043b0bdb  \n",
       "1  77eee6bd-cfc3-438c-aa96-9cf7e987feb7  \n",
       "2  90ada658-4d06-489c-a9a2-7068bf0ac1ae  "
      ]
     },
     "execution_count": 61,
     "metadata": {},
     "output_type": "execute_result"
    }
   ],
   "source": [
    "# First 3 rows of train_authorInfoNewCopy\n",
    "train_authorInfoNewCopy.head(3)"
   ]
  },
  {
   "cell_type": "markdown",
   "metadata": {},
   "source": [
    "### Correlation - AverageCumulativeAuthorCitationCount(AcCc) vs n_citation  "
   ]
  },
  {
   "cell_type": "code",
   "execution_count": 62,
   "metadata": {
    "scrolled": true
   },
   "outputs": [
    {
     "data": {
      "text/html": [
       "<div>\n",
       "<style scoped>\n",
       "    .dataframe tbody tr th:only-of-type {\n",
       "        vertical-align: middle;\n",
       "    }\n",
       "\n",
       "    .dataframe tbody tr th {\n",
       "        vertical-align: top;\n",
       "    }\n",
       "\n",
       "    .dataframe thead th {\n",
       "        text-align: right;\n",
       "    }\n",
       "</style>\n",
       "<table border=\"1\" class=\"dataframe\">\n",
       "  <thead>\n",
       "    <tr style=\"text-align: right;\">\n",
       "      <th></th>\n",
       "      <th>CumulativeAuthorCitationCount</th>\n",
       "      <th>TotalNumberOfAuthors</th>\n",
       "      <th>AverageCumulativeAuthorCitationCount</th>\n",
       "      <th>n_citation</th>\n",
       "    </tr>\n",
       "  </thead>\n",
       "  <tbody>\n",
       "    <tr>\n",
       "      <th>CumulativeAuthorCitationCount</th>\n",
       "      <td>1.000000</td>\n",
       "      <td>0.090488</td>\n",
       "      <td>0.901771</td>\n",
       "      <td>0.899603</td>\n",
       "    </tr>\n",
       "    <tr>\n",
       "      <th>TotalNumberOfAuthors</th>\n",
       "      <td>0.090488</td>\n",
       "      <td>1.000000</td>\n",
       "      <td>-0.014213</td>\n",
       "      <td>-0.013784</td>\n",
       "    </tr>\n",
       "    <tr>\n",
       "      <th>AverageCumulativeAuthorCitationCount</th>\n",
       "      <td>0.901771</td>\n",
       "      <td>-0.014213</td>\n",
       "      <td>1.000000</td>\n",
       "      <td>0.995962</td>\n",
       "    </tr>\n",
       "    <tr>\n",
       "      <th>n_citation</th>\n",
       "      <td>0.899603</td>\n",
       "      <td>-0.013784</td>\n",
       "      <td>0.995962</td>\n",
       "      <td>1.000000</td>\n",
       "    </tr>\n",
       "  </tbody>\n",
       "</table>\n",
       "</div>"
      ],
      "text/plain": [
       "                                      CumulativeAuthorCitationCount  \\\n",
       "CumulativeAuthorCitationCount                              1.000000   \n",
       "TotalNumberOfAuthors                                       0.090488   \n",
       "AverageCumulativeAuthorCitationCount                       0.901771   \n",
       "n_citation                                                 0.899603   \n",
       "\n",
       "                                      TotalNumberOfAuthors  \\\n",
       "CumulativeAuthorCitationCount                     0.090488   \n",
       "TotalNumberOfAuthors                              1.000000   \n",
       "AverageCumulativeAuthorCitationCount             -0.014213   \n",
       "n_citation                                       -0.013784   \n",
       "\n",
       "                                      AverageCumulativeAuthorCitationCount  \\\n",
       "CumulativeAuthorCitationCount                                     0.901771   \n",
       "TotalNumberOfAuthors                                             -0.014213   \n",
       "AverageCumulativeAuthorCitationCount                              1.000000   \n",
       "n_citation                                                        0.995962   \n",
       "\n",
       "                                      n_citation  \n",
       "CumulativeAuthorCitationCount           0.899603  \n",
       "TotalNumberOfAuthors                   -0.013784  \n",
       "AverageCumulativeAuthorCitationCount    0.995962  \n",
       "n_citation                              1.000000  "
      ]
     },
     "execution_count": 62,
     "metadata": {},
     "output_type": "execute_result"
    },
    {
     "data": {
      "image/png": "[encoded data removed]",
      "text/plain": [
       "<Figure size 432x288 with 2 Axes>"
      ]
     },
     "metadata": {
      "needs_background": "light"
     },
     "output_type": "display_data"
    }
   ],
   "source": [
    "# Correlation Heat Map \n",
    "# Correlation between AverageCumulativeAuthorCitationCount(AcCc) and n_citation found to be 0.954561\n",
    "corr = train_authorInfoNewCopy.corr()\n",
    "sns.heatmap(corr);\n",
    "corr"
   ]
  },
  {
   "cell_type": "markdown",
   "metadata": {},
   "source": [
    "## Author - AcCc -- Test"
   ]
  },
  {
   "cell_type": "code",
   "execution_count": 63,
   "metadata": {},
   "outputs": [],
   "source": [
    "# Test Set Data\n",
    "# data_test.index = pd.RangeIndex(len(data_test_Complete.index))\n",
    "data_Author_test = test['authors']\n",
    "data_numberOfCitation_test = test['n_citation']\n",
    "data_id_test = pd.DataFrame(test['id'])"
   ]
  },
  {
   "cell_type": "code",
   "execution_count": 64,
   "metadata": {},
   "outputs": [
    {
     "data": {
      "text/plain": [
       "Int64Index([], dtype='int64')"
      ]
     },
     "execution_count": 64,
     "metadata": {},
     "output_type": "execute_result"
    }
   ],
   "source": [
    "data_id_test.index[data_id_test.index.duplicated(keep=False)]"
   ]
  },
  {
   "cell_type": "code",
   "execution_count": 65,
   "metadata": {},
   "outputs": [
    {
     "data": {
      "text/html": [
       "<div>\n",
       "<style scoped>\n",
       "    .dataframe tbody tr th:only-of-type {\n",
       "        vertical-align: middle;\n",
       "    }\n",
       "\n",
       "    .dataframe tbody tr th {\n",
       "        vertical-align: top;\n",
       "    }\n",
       "\n",
       "    .dataframe thead th {\n",
       "        text-align: right;\n",
       "    }\n",
       "</style>\n",
       "<table border=\"1\" class=\"dataframe\">\n",
       "  <thead>\n",
       "    <tr style=\"text-align: right;\">\n",
       "      <th></th>\n",
       "      <th>id</th>\n",
       "    </tr>\n",
       "  </thead>\n",
       "  <tbody>\n",
       "    <tr>\n",
       "      <th>1657</th>\n",
       "      <td>f10d2b94-a293-4c39-aba5-6f1e618bfb26</td>\n",
       "    </tr>\n",
       "    <tr>\n",
       "      <th>1658</th>\n",
       "      <td>9db0808b-f67e-49b1-8ce6-d58dd4d96cb3</td>\n",
       "    </tr>\n",
       "    <tr>\n",
       "      <th>1659</th>\n",
       "      <td>5652eae4-ec59-448d-bca7-224d2a97ab42</td>\n",
       "    </tr>\n",
       "    <tr>\n",
       "      <th>1660</th>\n",
       "      <td>66a00e3e-938b-4e17-9a04-c8f6526720d8</td>\n",
       "    </tr>\n",
       "    <tr>\n",
       "      <th>1661</th>\n",
       "      <td>a2b1bca8-fa93-41c4-84d7-77f1cb4e3df3</td>\n",
       "    </tr>\n",
       "  </tbody>\n",
       "</table>\n",
       "</div>"
      ],
      "text/plain": [
       "                                        id\n",
       "1657  f10d2b94-a293-4c39-aba5-6f1e618bfb26\n",
       "1658  9db0808b-f67e-49b1-8ce6-d58dd4d96cb3\n",
       "1659  5652eae4-ec59-448d-bca7-224d2a97ab42\n",
       "1660  66a00e3e-938b-4e17-9a04-c8f6526720d8\n",
       "1661  a2b1bca8-fa93-41c4-84d7-77f1cb4e3df3"
      ]
     },
     "execution_count": 65,
     "metadata": {},
     "output_type": "execute_result"
    }
   ],
   "source": [
    "data_id_test.tail()"
   ]
  },
  {
   "cell_type": "code",
   "execution_count": 66,
   "metadata": {},
   "outputs": [],
   "source": [
    "# Test################################################################\n",
    "# Here we are combining first and last name of authors to identify them\n",
    "# Our assumption is all authors have unique name and they are different which may not hold true for all cases \n",
    "\n",
    "# Find all authors from all the papers and store in a list\n",
    "X_test_authorValue=list()\n",
    "for key, value in data_Author_test.items():\n",
    "    X_test_authorValue.append(value)\n",
    "    \n",
    "##########################################################################################\n",
    "\n",
    "# Here we make name in X_test_authorValue as lowercase and combine the first and last name \n",
    "# And remove any spaces,special character - between names \n",
    "\n",
    "X_test_authorValue=','.join(str(e).lower().replace(\" \",\"\") for e in data_Author_test[0:len(data_Author_test)])\n",
    "X_test_authorValue=X_test_authorValue.replace('-','')\n",
    "X_test_authorValue=X_test_authorValue.replace('.','')\n",
    "\n",
    "\n",
    "# Copy contents to new string and replace blank and special character like '[', ']' inside the name\n",
    "X_test_allAuthorsNew=X_test_authorValue.replace('[','')\n",
    "X_test_allAuthorsNew=X_test_allAuthorsNew.replace(']','')\n",
    "X_test_allAuthorsNew=X_test_allAuthorsNew.replace(\" \",\"\")\n",
    "\n",
    "# We create an array X_test_authorValueArray of authors for papers by using ],[ as splitting criterion \n",
    "# And replace '[', ']' and \"'\" inside the name\n",
    "X_test_authorValueArray=X_test_authorValue.split('],[')\n",
    "X_test_authorValueArray = [s.replace('[', '') for s in X_test_authorValueArray]\n",
    "X_test_authorValueArray = [s.replace(']', '') for s in X_test_authorValueArray]"
   ]
  },
  {
   "cell_type": "code",
   "execution_count": 67,
   "metadata": {},
   "outputs": [],
   "source": [
    "# Test################################################################\n",
    "# Bag of Words Implementation\n",
    "test_vectorizer = CountVectorizer(analyzer = \"word\", tokenizer = None, preprocessor = None, stop_words = None, max_features = 500000) \n",
    "test_sentences=[X_test_allAuthorsNew]\n",
    "test_data_features = test_vectorizer.fit_transform(train_sentences)\n",
    "test_vectorizerActual=test_vectorizer.transform([value for value in X_test_authorValueArray[0:len(X_test_authorValueArray)]])\n",
    "test_vectorList = pd.SparseDataFrame(test_vectorizerActual).fillna(0)\n",
    "############################################################################\n",
    "test_authorList=pd.DataFrame(test_vectorizer.get_feature_names()).rename(index=int, columns={0: \"authorList\"})"
   ]
  },
  {
   "cell_type": "code",
   "execution_count": 68,
   "metadata": {},
   "outputs": [
    {
     "name": "stdout",
     "output_type": "stream",
     "text": [
      "21377\n",
      "1662\n"
     ]
    }
   ],
   "source": [
    "# Get Number of authors Feature Names after implementation of bag of words\n",
    "print(len(test_vectorizer.get_feature_names()))\n",
    "# Get number of papers\n",
    "print(len(test_vectorList))"
   ]
  },
  {
   "cell_type": "code",
   "execution_count": 69,
   "metadata": {},
   "outputs": [],
   "source": [
    "# Get all the authors from the test set\n",
    "test_authorInfo=pd.DataFrame(test_vectorList)\n",
    "test_TotalNumberOfAuthors=test_authorList.copy()"
   ]
  },
  {
   "cell_type": "code",
   "execution_count": 70,
   "metadata": {},
   "outputs": [],
   "source": [
    "# Assign AverageCitationCount for the authors in test data set based on trained dataset\n",
    "# For new author, the default value of zero is assigned\n",
    "test_data_authorPapers= pd.merge(test_TotalNumberOfAuthors, train_author_InformationDup, on='authorList',how='left')"
   ]
  },
  {
   "cell_type": "code",
   "execution_count": 71,
   "metadata": {},
   "outputs": [],
   "source": [
    "# Copy frame to another train_authorInfo\n",
    "test_authorInfoNew=test_authorInfo.copy()"
   ]
  },
  {
   "cell_type": "code",
   "execution_count": 72,
   "metadata": {},
   "outputs": [
    {
     "data": {
      "text/html": [
       "<div>\n",
       "<style scoped>\n",
       "    .dataframe tbody tr th:only-of-type {\n",
       "        vertical-align: middle;\n",
       "    }\n",
       "\n",
       "    .dataframe tbody tr th {\n",
       "        vertical-align: top;\n",
       "    }\n",
       "\n",
       "    .dataframe thead th {\n",
       "        text-align: right;\n",
       "    }\n",
       "</style>\n",
       "<table border=\"1\" class=\"dataframe\">\n",
       "  <thead>\n",
       "    <tr style=\"text-align: right;\">\n",
       "      <th></th>\n",
       "      <th>0</th>\n",
       "      <th>1</th>\n",
       "      <th>2</th>\n",
       "      <th>3</th>\n",
       "      <th>4</th>\n",
       "      <th>5</th>\n",
       "      <th>6</th>\n",
       "      <th>7</th>\n",
       "      <th>8</th>\n",
       "      <th>9</th>\n",
       "      <th>...</th>\n",
       "      <th>21367</th>\n",
       "      <th>21368</th>\n",
       "      <th>21369</th>\n",
       "      <th>21370</th>\n",
       "      <th>21371</th>\n",
       "      <th>21372</th>\n",
       "      <th>21373</th>\n",
       "      <th>21374</th>\n",
       "      <th>21375</th>\n",
       "      <th>21376</th>\n",
       "    </tr>\n",
       "  </thead>\n",
       "  <tbody>\n",
       "    <tr>\n",
       "      <th>1657</th>\n",
       "      <td>0.0</td>\n",
       "      <td>0.0</td>\n",
       "      <td>0.0</td>\n",
       "      <td>0.0</td>\n",
       "      <td>0.0</td>\n",
       "      <td>0.0</td>\n",
       "      <td>0.0</td>\n",
       "      <td>0.0</td>\n",
       "      <td>0.0</td>\n",
       "      <td>0.0</td>\n",
       "      <td>...</td>\n",
       "      <td>0.0</td>\n",
       "      <td>0.0</td>\n",
       "      <td>0.0</td>\n",
       "      <td>0.0</td>\n",
       "      <td>0.0</td>\n",
       "      <td>0.0</td>\n",
       "      <td>0.0</td>\n",
       "      <td>0.0</td>\n",
       "      <td>0.0</td>\n",
       "      <td>0.0</td>\n",
       "    </tr>\n",
       "    <tr>\n",
       "      <th>1658</th>\n",
       "      <td>0.0</td>\n",
       "      <td>0.0</td>\n",
       "      <td>0.0</td>\n",
       "      <td>0.0</td>\n",
       "      <td>0.0</td>\n",
       "      <td>0.0</td>\n",
       "      <td>0.0</td>\n",
       "      <td>0.0</td>\n",
       "      <td>0.0</td>\n",
       "      <td>0.0</td>\n",
       "      <td>...</td>\n",
       "      <td>0.0</td>\n",
       "      <td>0.0</td>\n",
       "      <td>0.0</td>\n",
       "      <td>0.0</td>\n",
       "      <td>0.0</td>\n",
       "      <td>0.0</td>\n",
       "      <td>0.0</td>\n",
       "      <td>0.0</td>\n",
       "      <td>0.0</td>\n",
       "      <td>0.0</td>\n",
       "    </tr>\n",
       "    <tr>\n",
       "      <th>1659</th>\n",
       "      <td>0.0</td>\n",
       "      <td>0.0</td>\n",
       "      <td>0.0</td>\n",
       "      <td>0.0</td>\n",
       "      <td>0.0</td>\n",
       "      <td>0.0</td>\n",
       "      <td>0.0</td>\n",
       "      <td>0.0</td>\n",
       "      <td>0.0</td>\n",
       "      <td>0.0</td>\n",
       "      <td>...</td>\n",
       "      <td>0.0</td>\n",
       "      <td>0.0</td>\n",
       "      <td>0.0</td>\n",
       "      <td>0.0</td>\n",
       "      <td>0.0</td>\n",
       "      <td>0.0</td>\n",
       "      <td>0.0</td>\n",
       "      <td>0.0</td>\n",
       "      <td>0.0</td>\n",
       "      <td>0.0</td>\n",
       "    </tr>\n",
       "    <tr>\n",
       "      <th>1660</th>\n",
       "      <td>0.0</td>\n",
       "      <td>0.0</td>\n",
       "      <td>0.0</td>\n",
       "      <td>0.0</td>\n",
       "      <td>0.0</td>\n",
       "      <td>0.0</td>\n",
       "      <td>0.0</td>\n",
       "      <td>0.0</td>\n",
       "      <td>0.0</td>\n",
       "      <td>0.0</td>\n",
       "      <td>...</td>\n",
       "      <td>0.0</td>\n",
       "      <td>0.0</td>\n",
       "      <td>0.0</td>\n",
       "      <td>0.0</td>\n",
       "      <td>0.0</td>\n",
       "      <td>0.0</td>\n",
       "      <td>0.0</td>\n",
       "      <td>0.0</td>\n",
       "      <td>0.0</td>\n",
       "      <td>0.0</td>\n",
       "    </tr>\n",
       "    <tr>\n",
       "      <th>1661</th>\n",
       "      <td>0.0</td>\n",
       "      <td>0.0</td>\n",
       "      <td>0.0</td>\n",
       "      <td>0.0</td>\n",
       "      <td>0.0</td>\n",
       "      <td>0.0</td>\n",
       "      <td>0.0</td>\n",
       "      <td>0.0</td>\n",
       "      <td>0.0</td>\n",
       "      <td>0.0</td>\n",
       "      <td>...</td>\n",
       "      <td>0.0</td>\n",
       "      <td>0.0</td>\n",
       "      <td>0.0</td>\n",
       "      <td>0.0</td>\n",
       "      <td>0.0</td>\n",
       "      <td>0.0</td>\n",
       "      <td>0.0</td>\n",
       "      <td>0.0</td>\n",
       "      <td>0.0</td>\n",
       "      <td>0.0</td>\n",
       "    </tr>\n",
       "  </tbody>\n",
       "</table>\n",
       "<p>5 rows × 21377 columns</p>\n",
       "</div>"
      ],
      "text/plain": [
       "      0      1      2      3      4      5      6      7      8      9      \\\n",
       "1657    0.0    0.0    0.0    0.0    0.0    0.0    0.0    0.0    0.0    0.0   \n",
       "1658    0.0    0.0    0.0    0.0    0.0    0.0    0.0    0.0    0.0    0.0   \n",
       "1659    0.0    0.0    0.0    0.0    0.0    0.0    0.0    0.0    0.0    0.0   \n",
       "1660    0.0    0.0    0.0    0.0    0.0    0.0    0.0    0.0    0.0    0.0   \n",
       "1661    0.0    0.0    0.0    0.0    0.0    0.0    0.0    0.0    0.0    0.0   \n",
       "\n",
       "      ...    21367  21368  21369  21370  21371  21372  21373  21374  21375  \\\n",
       "1657  ...      0.0    0.0    0.0    0.0    0.0    0.0    0.0    0.0    0.0   \n",
       "1658  ...      0.0    0.0    0.0    0.0    0.0    0.0    0.0    0.0    0.0   \n",
       "1659  ...      0.0    0.0    0.0    0.0    0.0    0.0    0.0    0.0    0.0   \n",
       "1660  ...      0.0    0.0    0.0    0.0    0.0    0.0    0.0    0.0    0.0   \n",
       "1661  ...      0.0    0.0    0.0    0.0    0.0    0.0    0.0    0.0    0.0   \n",
       "\n",
       "      21376  \n",
       "1657    0.0  \n",
       "1658    0.0  \n",
       "1659    0.0  \n",
       "1660    0.0  \n",
       "1661    0.0  \n",
       "\n",
       "[5 rows x 21377 columns]"
      ]
     },
     "execution_count": 72,
     "metadata": {},
     "output_type": "execute_result"
    }
   ],
   "source": [
    "test_authorInfoNew.tail()"
   ]
  },
  {
   "cell_type": "code",
   "execution_count": 73,
   "metadata": {},
   "outputs": [],
   "source": [
    "test_authorAverageCitationCount=pd.DataFrame((test_data_authorPapers)[\"AverageCitationCount\"]).T\n",
    "test_authorInfoNew['CumulativeAuthorCitationCount']=pd.DataFrame(test_authorInfo.iloc[:,range(0,len(test_authorInfo.columns))].values*test_authorAverageCitationCount.iloc[:,range(0,len(test_authorAverageCitationCount.columns))].values).sum(axis=1)\n",
    "test_authorInfoNew['TotalNumberOfAuthors']=pd.DataFrame(test_authorInfo.sum(axis=1))\n",
    "test_authorInfoNew['AverageCumulativeAuthorCitationCount']=pd.DataFrame(test_authorInfoNew['CumulativeAuthorCitationCount'].div(test_authorInfoNew[\"TotalNumberOfAuthors\"], axis = 0)).rename(index=int, columns={0: \"AverageCumulativeAuthorCitationCount\"})['AverageCumulativeAuthorCitationCount']"
   ]
  },
  {
   "cell_type": "code",
   "execution_count": 74,
   "metadata": {},
   "outputs": [
    {
     "data": {
      "text/html": [
       "<div>\n",
       "<style scoped>\n",
       "    .dataframe tbody tr th:only-of-type {\n",
       "        vertical-align: middle;\n",
       "    }\n",
       "\n",
       "    .dataframe tbody tr th {\n",
       "        vertical-align: top;\n",
       "    }\n",
       "\n",
       "    .dataframe thead th {\n",
       "        text-align: right;\n",
       "    }\n",
       "</style>\n",
       "<table border=\"1\" class=\"dataframe\">\n",
       "  <thead>\n",
       "    <tr style=\"text-align: right;\">\n",
       "      <th></th>\n",
       "      <th>0</th>\n",
       "      <th>1</th>\n",
       "      <th>2</th>\n",
       "      <th>3</th>\n",
       "      <th>4</th>\n",
       "      <th>5</th>\n",
       "      <th>6</th>\n",
       "      <th>7</th>\n",
       "      <th>8</th>\n",
       "      <th>9</th>\n",
       "      <th>...</th>\n",
       "      <th>21370</th>\n",
       "      <th>21371</th>\n",
       "      <th>21372</th>\n",
       "      <th>21373</th>\n",
       "      <th>21374</th>\n",
       "      <th>21375</th>\n",
       "      <th>21376</th>\n",
       "      <th>CumulativeAuthorCitationCount</th>\n",
       "      <th>TotalNumberOfAuthors</th>\n",
       "      <th>AverageCumulativeAuthorCitationCount</th>\n",
       "    </tr>\n",
       "  </thead>\n",
       "  <tbody>\n",
       "    <tr>\n",
       "      <th>1657</th>\n",
       "      <td>0.0</td>\n",
       "      <td>0.0</td>\n",
       "      <td>0.0</td>\n",
       "      <td>0.0</td>\n",
       "      <td>0.0</td>\n",
       "      <td>0.0</td>\n",
       "      <td>0.0</td>\n",
       "      <td>0.0</td>\n",
       "      <td>0.0</td>\n",
       "      <td>0.0</td>\n",
       "      <td>...</td>\n",
       "      <td>0.0</td>\n",
       "      <td>0.0</td>\n",
       "      <td>0.0</td>\n",
       "      <td>0.0</td>\n",
       "      <td>0.0</td>\n",
       "      <td>0.0</td>\n",
       "      <td>0.0</td>\n",
       "      <td>0.0</td>\n",
       "      <td>1.0</td>\n",
       "      <td>0.0</td>\n",
       "    </tr>\n",
       "    <tr>\n",
       "      <th>1658</th>\n",
       "      <td>0.0</td>\n",
       "      <td>0.0</td>\n",
       "      <td>0.0</td>\n",
       "      <td>0.0</td>\n",
       "      <td>0.0</td>\n",
       "      <td>0.0</td>\n",
       "      <td>0.0</td>\n",
       "      <td>0.0</td>\n",
       "      <td>0.0</td>\n",
       "      <td>0.0</td>\n",
       "      <td>...</td>\n",
       "      <td>0.0</td>\n",
       "      <td>0.0</td>\n",
       "      <td>0.0</td>\n",
       "      <td>0.0</td>\n",
       "      <td>0.0</td>\n",
       "      <td>0.0</td>\n",
       "      <td>0.0</td>\n",
       "      <td>0.0</td>\n",
       "      <td>2.0</td>\n",
       "      <td>0.0</td>\n",
       "    </tr>\n",
       "    <tr>\n",
       "      <th>1659</th>\n",
       "      <td>0.0</td>\n",
       "      <td>0.0</td>\n",
       "      <td>0.0</td>\n",
       "      <td>0.0</td>\n",
       "      <td>0.0</td>\n",
       "      <td>0.0</td>\n",
       "      <td>0.0</td>\n",
       "      <td>0.0</td>\n",
       "      <td>0.0</td>\n",
       "      <td>0.0</td>\n",
       "      <td>...</td>\n",
       "      <td>0.0</td>\n",
       "      <td>0.0</td>\n",
       "      <td>0.0</td>\n",
       "      <td>0.0</td>\n",
       "      <td>0.0</td>\n",
       "      <td>0.0</td>\n",
       "      <td>0.0</td>\n",
       "      <td>0.0</td>\n",
       "      <td>0.0</td>\n",
       "      <td>NaN</td>\n",
       "    </tr>\n",
       "    <tr>\n",
       "      <th>1660</th>\n",
       "      <td>0.0</td>\n",
       "      <td>0.0</td>\n",
       "      <td>0.0</td>\n",
       "      <td>0.0</td>\n",
       "      <td>0.0</td>\n",
       "      <td>0.0</td>\n",
       "      <td>0.0</td>\n",
       "      <td>0.0</td>\n",
       "      <td>0.0</td>\n",
       "      <td>0.0</td>\n",
       "      <td>...</td>\n",
       "      <td>0.0</td>\n",
       "      <td>0.0</td>\n",
       "      <td>0.0</td>\n",
       "      <td>0.0</td>\n",
       "      <td>0.0</td>\n",
       "      <td>0.0</td>\n",
       "      <td>0.0</td>\n",
       "      <td>0.0</td>\n",
       "      <td>0.0</td>\n",
       "      <td>NaN</td>\n",
       "    </tr>\n",
       "    <tr>\n",
       "      <th>1661</th>\n",
       "      <td>0.0</td>\n",
       "      <td>0.0</td>\n",
       "      <td>0.0</td>\n",
       "      <td>0.0</td>\n",
       "      <td>0.0</td>\n",
       "      <td>0.0</td>\n",
       "      <td>0.0</td>\n",
       "      <td>0.0</td>\n",
       "      <td>0.0</td>\n",
       "      <td>0.0</td>\n",
       "      <td>...</td>\n",
       "      <td>0.0</td>\n",
       "      <td>0.0</td>\n",
       "      <td>0.0</td>\n",
       "      <td>0.0</td>\n",
       "      <td>0.0</td>\n",
       "      <td>0.0</td>\n",
       "      <td>0.0</td>\n",
       "      <td>0.0</td>\n",
       "      <td>2.0</td>\n",
       "      <td>0.0</td>\n",
       "    </tr>\n",
       "  </tbody>\n",
       "</table>\n",
       "<p>5 rows × 21380 columns</p>\n",
       "</div>"
      ],
      "text/plain": [
       "        0    1    2    3    4    5    6    7    8    9  \\\n",
       "1657  0.0  0.0  0.0  0.0  0.0  0.0  0.0  0.0  0.0  0.0   \n",
       "1658  0.0  0.0  0.0  0.0  0.0  0.0  0.0  0.0  0.0  0.0   \n",
       "1659  0.0  0.0  0.0  0.0  0.0  0.0  0.0  0.0  0.0  0.0   \n",
       "1660  0.0  0.0  0.0  0.0  0.0  0.0  0.0  0.0  0.0  0.0   \n",
       "1661  0.0  0.0  0.0  0.0  0.0  0.0  0.0  0.0  0.0  0.0   \n",
       "\n",
       "                      ...                   21370  21371  21372  21373  21374  \\\n",
       "1657                  ...                     0.0    0.0    0.0    0.0    0.0   \n",
       "1658                  ...                     0.0    0.0    0.0    0.0    0.0   \n",
       "1659                  ...                     0.0    0.0    0.0    0.0    0.0   \n",
       "1660                  ...                     0.0    0.0    0.0    0.0    0.0   \n",
       "1661                  ...                     0.0    0.0    0.0    0.0    0.0   \n",
       "\n",
       "      21375  21376  CumulativeAuthorCitationCount  TotalNumberOfAuthors  \\\n",
       "1657    0.0    0.0                            0.0                   1.0   \n",
       "1658    0.0    0.0                            0.0                   2.0   \n",
       "1659    0.0    0.0                            0.0                   0.0   \n",
       "1660    0.0    0.0                            0.0                   0.0   \n",
       "1661    0.0    0.0                            0.0                   2.0   \n",
       "\n",
       "      AverageCumulativeAuthorCitationCount  \n",
       "1657                                   0.0  \n",
       "1658                                   0.0  \n",
       "1659                                   NaN  \n",
       "1660                                   NaN  \n",
       "1661                                   0.0  \n",
       "\n",
       "[5 rows x 21380 columns]"
      ]
     },
     "execution_count": 74,
     "metadata": {},
     "output_type": "execute_result"
    }
   ],
   "source": [
    "test_authorInfoNew.tail()"
   ]
  },
  {
   "cell_type": "code",
   "execution_count": 75,
   "metadata": {},
   "outputs": [
    {
     "data": {
      "text/plain": [
       "Int64Index([], dtype='int64')"
      ]
     },
     "execution_count": 75,
     "metadata": {},
     "output_type": "execute_result"
    }
   ],
   "source": [
    "test_authorInfoNew.index[test_authorInfoNew.index.duplicated(keep=False)]"
   ]
  },
  {
   "cell_type": "code",
   "execution_count": 76,
   "metadata": {},
   "outputs": [],
   "source": [
    "# test_authorInfoNew['id'] = data_id_test\n",
    "# test_authorInfoNew['n_citation']=data_numberOfCitation_test\n",
    "test_authorInfoNew.fillna(0,inplace=True)"
   ]
  },
  {
   "cell_type": "code",
   "execution_count": 77,
   "metadata": {},
   "outputs": [
    {
     "data": {
      "text/plain": [
       "1662"
      ]
     },
     "execution_count": 77,
     "metadata": {},
     "output_type": "execute_result"
    }
   ],
   "source": [
    "len(test_authorInfoNew['AverageCumulativeAuthorCitationCount'])"
   ]
  },
  {
   "cell_type": "code",
   "execution_count": 78,
   "metadata": {},
   "outputs": [
    {
     "data": {
      "text/plain": [
       "Int64Index([   0,    1,    2,    3,    4,    5,    6,    7,    8,    9,\n",
       "            ...\n",
       "            1652, 1653, 1654, 1655, 1656, 1657, 1658, 1659, 1660, 1661],\n",
       "           dtype='int64', length=1662)"
      ]
     },
     "execution_count": 78,
     "metadata": {},
     "output_type": "execute_result"
    }
   ],
   "source": [
    "test.index.difference(test_authorInfoNew)"
   ]
  },
  {
   "cell_type": "code",
   "execution_count": 79,
   "metadata": {},
   "outputs": [
    {
     "data": {
      "text/plain": [
       "1657    0.0\n",
       "1658    0.0\n",
       "1659    0.0\n",
       "1660    0.0\n",
       "1661    0.0\n",
       "Name: AverageCumulativeAuthorCitationCount, dtype: float64"
      ]
     },
     "execution_count": 79,
     "metadata": {},
     "output_type": "execute_result"
    }
   ],
   "source": [
    "test_authorInfoNew['AverageCumulativeAuthorCitationCount'].tail()"
   ]
  },
  {
   "cell_type": "code",
   "execution_count": 80,
   "metadata": {},
   "outputs": [],
   "source": [
    "test['AcCc'] = test_authorInfoNew['AverageCumulativeAuthorCitationCount']"
   ]
  },
  {
   "cell_type": "code",
   "execution_count": 81,
   "metadata": {},
   "outputs": [
    {
     "data": {
      "text/plain": [
       "1662"
      ]
     },
     "execution_count": 81,
     "metadata": {},
     "output_type": "execute_result"
    }
   ],
   "source": [
    "len(test)"
   ]
  },
  {
   "cell_type": "code",
   "execution_count": 82,
   "metadata": {},
   "outputs": [
    {
     "data": {
      "text/html": [
       "<div>\n",
       "<style scoped>\n",
       "    .dataframe tbody tr th:only-of-type {\n",
       "        vertical-align: middle;\n",
       "    }\n",
       "\n",
       "    .dataframe tbody tr th {\n",
       "        vertical-align: top;\n",
       "    }\n",
       "\n",
       "    .dataframe thead th {\n",
       "        text-align: right;\n",
       "    }\n",
       "</style>\n",
       "<table border=\"1\" class=\"dataframe\">\n",
       "  <thead>\n",
       "    <tr style=\"text-align: right;\">\n",
       "      <th></th>\n",
       "      <th>abstract</th>\n",
       "      <th>authors</th>\n",
       "      <th>id</th>\n",
       "      <th>n_citation</th>\n",
       "      <th>references</th>\n",
       "      <th>title</th>\n",
       "      <th>venue</th>\n",
       "      <th>year</th>\n",
       "      <th>age</th>\n",
       "      <th>Rank</th>\n",
       "      <th>H5-Index</th>\n",
       "      <th>rank-age</th>\n",
       "      <th>h5-age</th>\n",
       "      <th>avgVenueCite</th>\n",
       "      <th>venueCC-age</th>\n",
       "      <th>AcCc</th>\n",
       "    </tr>\n",
       "  </thead>\n",
       "  <tbody>\n",
       "    <tr>\n",
       "      <th>1657</th>\n",
       "      <td>The medial axis is a natural skeleton for shap...</td>\n",
       "      <td>['Lei Lan', 'Junfeng Yao', 'Ping Huang', 'Xiao...</td>\n",
       "      <td>f10d2b94-a293-4c39-aba5-6f1e618bfb26</td>\n",
       "      <td>50</td>\n",
       "      <td>['01844457-36fa-4c85-8b31-e06e31702d4f', '0c04...</td>\n",
       "      <td>Medial-axis-driven shape deformation with volu...</td>\n",
       "      <td>The Visual Computer</td>\n",
       "      <td>2017</td>\n",
       "      <td>1</td>\n",
       "      <td>574</td>\n",
       "      <td>19.0</td>\n",
       "      <td>574</td>\n",
       "      <td>19.0</td>\n",
       "      <td>28.333333</td>\n",
       "      <td>28.333333</td>\n",
       "      <td>0.0</td>\n",
       "    </tr>\n",
       "    <tr>\n",
       "      <th>1658</th>\n",
       "      <td>Condition-based maintenance (CBM) has received...</td>\n",
       "      <td>['Minou C.A. Olde Keizer', 'Simme Douwe P. Fla...</td>\n",
       "      <td>9db0808b-f67e-49b1-8ce6-d58dd4d96cb3</td>\n",
       "      <td>50</td>\n",
       "      <td>['030d7248-9611-4a78-a7a1-5bebabf8a84b', '0559...</td>\n",
       "      <td>Condition-based maintenance policies for syste...</td>\n",
       "      <td>European Journal of Operational Research</td>\n",
       "      <td>2017</td>\n",
       "      <td>1</td>\n",
       "      <td>26</td>\n",
       "      <td>59.0</td>\n",
       "      <td>26</td>\n",
       "      <td>59.0</td>\n",
       "      <td>6.220779</td>\n",
       "      <td>6.220779</td>\n",
       "      <td>0.0</td>\n",
       "    </tr>\n",
       "    <tr>\n",
       "      <th>1659</th>\n",
       "      <td>This article presents an extension of the IaaS...</td>\n",
       "      <td>['Hamza Ouarnoughi', 'Jalil Boukhobza', 'Frank...</td>\n",
       "      <td>5652eae4-ec59-448d-bca7-224d2a97ab42</td>\n",
       "      <td>0</td>\n",
       "      <td>['444373bf-e707-462c-9da2-48c67e9d4187', '5a4c...</td>\n",
       "      <td>Integrating I/Os in Cloudsim for Performance a...</td>\n",
       "      <td>Operating Systems Review</td>\n",
       "      <td>2017</td>\n",
       "      <td>1</td>\n",
       "      <td>463</td>\n",
       "      <td>21.0</td>\n",
       "      <td>463</td>\n",
       "      <td>21.0</td>\n",
       "      <td>18.181818</td>\n",
       "      <td>18.181818</td>\n",
       "      <td>0.0</td>\n",
       "    </tr>\n",
       "    <tr>\n",
       "      <th>1660</th>\n",
       "      <td>In analyzing longitudinal data, within-subject...</td>\n",
       "      <td>['Lianfen Qian', 'Suojin Wang']</td>\n",
       "      <td>66a00e3e-938b-4e17-9a04-c8f6526720d8</td>\n",
       "      <td>0</td>\n",
       "      <td>[]</td>\n",
       "      <td>Subject-wise empirical likelihood inference in...</td>\n",
       "      <td>Computational Statistics &amp; Data Analysis</td>\n",
       "      <td>2017</td>\n",
       "      <td>1</td>\n",
       "      <td>186</td>\n",
       "      <td>32.0</td>\n",
       "      <td>186</td>\n",
       "      <td>32.0</td>\n",
       "      <td>1.470588</td>\n",
       "      <td>1.470588</td>\n",
       "      <td>0.0</td>\n",
       "    </tr>\n",
       "    <tr>\n",
       "      <th>1661</th>\n",
       "      <td>Peer-to-peer network is organized on top of an...</td>\n",
       "      <td>['Sara Fathipour Deiman', 'Ali Mohammad Saghir...</td>\n",
       "      <td>a2b1bca8-fa93-41c4-84d7-77f1cb4e3df3</td>\n",
       "      <td>0</td>\n",
       "      <td>['092300d0-146d-46d6-ba94-7188584c4ccc', '1c26...</td>\n",
       "      <td>A Delay Aware Super-Peer Selection Algorithm f...</td>\n",
       "      <td>Wireless Personal Communications</td>\n",
       "      <td>2017</td>\n",
       "      <td>1</td>\n",
       "      <td>542</td>\n",
       "      <td>19.0</td>\n",
       "      <td>542</td>\n",
       "      <td>19.0</td>\n",
       "      <td>1.912568</td>\n",
       "      <td>1.912568</td>\n",
       "      <td>0.0</td>\n",
       "    </tr>\n",
       "  </tbody>\n",
       "</table>\n",
       "</div>"
      ],
      "text/plain": [
       "                                               abstract  \\\n",
       "1657  The medial axis is a natural skeleton for shap...   \n",
       "1658  Condition-based maintenance (CBM) has received...   \n",
       "1659  This article presents an extension of the IaaS...   \n",
       "1660  In analyzing longitudinal data, within-subject...   \n",
       "1661  Peer-to-peer network is organized on top of an...   \n",
       "\n",
       "                                                authors  \\\n",
       "1657  ['Lei Lan', 'Junfeng Yao', 'Ping Huang', 'Xiao...   \n",
       "1658  ['Minou C.A. Olde Keizer', 'Simme Douwe P. Fla...   \n",
       "1659  ['Hamza Ouarnoughi', 'Jalil Boukhobza', 'Frank...   \n",
       "1660                    ['Lianfen Qian', 'Suojin Wang']   \n",
       "1661  ['Sara Fathipour Deiman', 'Ali Mohammad Saghir...   \n",
       "\n",
       "                                        id  n_citation  \\\n",
       "1657  f10d2b94-a293-4c39-aba5-6f1e618bfb26          50   \n",
       "1658  9db0808b-f67e-49b1-8ce6-d58dd4d96cb3          50   \n",
       "1659  5652eae4-ec59-448d-bca7-224d2a97ab42           0   \n",
       "1660  66a00e3e-938b-4e17-9a04-c8f6526720d8           0   \n",
       "1661  a2b1bca8-fa93-41c4-84d7-77f1cb4e3df3           0   \n",
       "\n",
       "                                             references  \\\n",
       "1657  ['01844457-36fa-4c85-8b31-e06e31702d4f', '0c04...   \n",
       "1658  ['030d7248-9611-4a78-a7a1-5bebabf8a84b', '0559...   \n",
       "1659  ['444373bf-e707-462c-9da2-48c67e9d4187', '5a4c...   \n",
       "1660                                                 []   \n",
       "1661  ['092300d0-146d-46d6-ba94-7188584c4ccc', '1c26...   \n",
       "\n",
       "                                                  title  \\\n",
       "1657  Medial-axis-driven shape deformation with volu...   \n",
       "1658  Condition-based maintenance policies for syste...   \n",
       "1659  Integrating I/Os in Cloudsim for Performance a...   \n",
       "1660  Subject-wise empirical likelihood inference in...   \n",
       "1661  A Delay Aware Super-Peer Selection Algorithm f...   \n",
       "\n",
       "                                         venue  year  age  Rank  H5-Index  \\\n",
       "1657                       The Visual Computer  2017    1   574      19.0   \n",
       "1658  European Journal of Operational Research  2017    1    26      59.0   \n",
       "1659                  Operating Systems Review  2017    1   463      21.0   \n",
       "1660  Computational Statistics & Data Analysis  2017    1   186      32.0   \n",
       "1661          Wireless Personal Communications  2017    1   542      19.0   \n",
       "\n",
       "      rank-age  h5-age  avgVenueCite  venueCC-age  AcCc  \n",
       "1657       574    19.0     28.333333    28.333333   0.0  \n",
       "1658        26    59.0      6.220779     6.220779   0.0  \n",
       "1659       463    21.0     18.181818    18.181818   0.0  \n",
       "1660       186    32.0      1.470588     1.470588   0.0  \n",
       "1661       542    19.0      1.912568     1.912568   0.0  "
      ]
     },
     "execution_count": 82,
     "metadata": {},
     "output_type": "execute_result"
    }
   ],
   "source": [
    "test.tail()"
   ]
  },
  {
   "cell_type": "code",
   "execution_count": 83,
   "metadata": {},
   "outputs": [
    {
     "data": {
      "text/plain": [
       "Int64Index([], dtype='int64')"
      ]
     },
     "execution_count": 83,
     "metadata": {},
     "output_type": "execute_result"
    }
   ],
   "source": [
    "test_authorInfoNew.index[test_authorInfoNew.index.duplicated(keep=False)]"
   ]
  },
  {
   "cell_type": "markdown",
   "metadata": {},
   "source": [
    "### Join AcCc "
   ]
  },
  {
   "cell_type": "code",
   "execution_count": 84,
   "metadata": {},
   "outputs": [],
   "source": [
    "train['AcCc'] = train_authorInfoNewCopy['AverageCumulativeAuthorCitationCount']"
   ]
  },
  {
   "cell_type": "code",
   "execution_count": 85,
   "metadata": {},
   "outputs": [
    {
     "name": "stdout",
     "output_type": "stream",
     "text": [
      "<class 'pandas.core.frame.DataFrame'>\n",
      "RangeIndex: 6686 entries, 0 to 6685\n",
      "Data columns (total 16 columns):\n",
      "abstract        6686 non-null object\n",
      "authors         6686 non-null object\n",
      "id              6686 non-null object\n",
      "n_citation      6686 non-null int64\n",
      "references      6686 non-null object\n",
      "title           6686 non-null object\n",
      "venue           6686 non-null object\n",
      "year            6686 non-null int64\n",
      "age             6686 non-null int64\n",
      "Rank            6686 non-null int64\n",
      "H5-Index        6686 non-null float64\n",
      "rank-age        6686 non-null int64\n",
      "h5-age          6686 non-null float64\n",
      "avgVenueCite    6686 non-null float64\n",
      "venueCC-age     6686 non-null float64\n",
      "AcCc            6686 non-null float64\n",
      "dtypes: float64(5), int64(5), object(6)\n",
      "memory usage: 835.8+ KB\n"
     ]
    }
   ],
   "source": [
    "train.info()"
   ]
  },
  {
   "cell_type": "markdown",
   "metadata": {},
   "source": [
    "## AcCc-age"
   ]
  },
  {
   "cell_type": "code",
   "execution_count": 86,
   "metadata": {},
   "outputs": [],
   "source": [
    "train['AcCc-age'] = train['AcCc'] * train['age']\n",
    "test['AcCc-age'] = test['AcCc'] * test['age']"
   ]
  },
  {
   "cell_type": "code",
   "execution_count": 87,
   "metadata": {},
   "outputs": [
    {
     "data": {
      "text/html": [
       "<div>\n",
       "<style scoped>\n",
       "    .dataframe tbody tr th:only-of-type {\n",
       "        vertical-align: middle;\n",
       "    }\n",
       "\n",
       "    .dataframe tbody tr th {\n",
       "        vertical-align: top;\n",
       "    }\n",
       "\n",
       "    .dataframe thead th {\n",
       "        text-align: right;\n",
       "    }\n",
       "</style>\n",
       "<table border=\"1\" class=\"dataframe\">\n",
       "  <thead>\n",
       "    <tr style=\"text-align: right;\">\n",
       "      <th></th>\n",
       "      <th>n_citation</th>\n",
       "      <th>AcCc-age</th>\n",
       "    </tr>\n",
       "  </thead>\n",
       "  <tbody>\n",
       "    <tr>\n",
       "      <th>n_citation</th>\n",
       "      <td>1.000000</td>\n",
       "      <td>0.878892</td>\n",
       "    </tr>\n",
       "    <tr>\n",
       "      <th>AcCc-age</th>\n",
       "      <td>0.878892</td>\n",
       "      <td>1.000000</td>\n",
       "    </tr>\n",
       "  </tbody>\n",
       "</table>\n",
       "</div>"
      ],
      "text/plain": [
       "            n_citation  AcCc-age\n",
       "n_citation    1.000000  0.878892\n",
       "AcCc-age      0.878892  1.000000"
      ]
     },
     "execution_count": 87,
     "metadata": {},
     "output_type": "execute_result"
    },
    {
     "data": {
      "image/png": "[encoded data removed]",
      "text/plain": [
       "<Figure size 432x288 with 2 Axes>"
      ]
     },
     "metadata": {
      "needs_background": "light"
     },
     "output_type": "display_data"
    }
   ],
   "source": [
    "train_corr = train[['n_citation', 'AcCc-age']].corr()\n",
    "sns.heatmap(train_corr);\n",
    "train_corr"
   ]
  },
  {
   "cell_type": "markdown",
   "metadata": {},
   "source": [
    "## Applying ML "
   ]
  },
  {
   "cell_type": "code",
   "execution_count": 88,
   "metadata": {},
   "outputs": [],
   "source": [
    "# X_train = train[['age', 'rank-age', 'h5-age', 'avgVenueCite', 'venueCC-age', 'AcCc', 'AcCc-age']]\n",
    "# Y_train= train['n_citation']\n",
    "# X_test = test[['age', 'rank-age', 'h5-age', 'avgVenueCite', 'venueCC-age', 'AcCc', 'AcCc-age']]\n",
    "# Y_test = test['n_citation']"
   ]
  },
  {
   "cell_type": "code",
   "execution_count": 89,
   "metadata": {},
   "outputs": [],
   "source": [
    "X_train = train[['age', 'rank-age', 'h5-age', 'avgVenueCite', 'venueCC-age']]\n",
    "Y_train= train['n_citation']\n",
    "X_test = test[['age', 'rank-age', 'h5-age', 'avgVenueCite', 'venueCC-age']]\n",
    "Y_test = test['n_citation']"
   ]
  },
  {
   "cell_type": "code",
   "execution_count": 90,
   "metadata": {},
   "outputs": [
    {
     "data": {
      "text/plain": [
       "1662"
      ]
     },
     "execution_count": 90,
     "metadata": {},
     "output_type": "execute_result"
    }
   ],
   "source": [
    "len(X_test)"
   ]
  },
  {
   "cell_type": "code",
   "execution_count": 91,
   "metadata": {},
   "outputs": [],
   "source": [
    "X_train_Dup=X_train.copy()\n",
    "X_test_Dup=X_test.copy()"
   ]
  },
  {
   "cell_type": "markdown",
   "metadata": {},
   "source": [
    "## Section Excluding AcCc"
   ]
  },
  {
   "cell_type": "markdown",
   "metadata": {},
   "source": [
    "### Including All Featutes"
   ]
  },
  {
   "cell_type": "markdown",
   "metadata": {},
   "source": [
    "## Linear Regression"
   ]
  },
  {
   "cell_type": "code",
   "execution_count": 92,
   "metadata": {},
   "outputs": [
    {
     "name": "stdout",
     "output_type": "stream",
     "text": [
      "R2 Score 0.14899944848188196\n",
      "Mean Absolute Error 11.242240983728705\n"
     ]
    }
   ],
   "source": [
    "# Linear Regression Algorithm\n",
    "linreg=LinearRegression()\n",
    "linreg.fit(X_train, Y_train)\n",
    "\n",
    "# predict\n",
    "Y_pred_LinearReg = linreg.predict(X_test)\n",
    "acc_log_LinReg = round(linreg.score(X_test, Y_test) * 100, 2)\n",
    "r2_score_LinReg = r2_score(Y_test,Y_pred_LinearReg)\n",
    "mean_absolute_error_LinReg=mean_absolute_error(Y_test, Y_pred_LinearReg)\n",
    "\n",
    "print('R2 Score '+ str(r2_score_LinReg))\n",
    "print('Mean Absolute Error '+ str(mean_absolute_error_LinReg))"
   ]
  },
  {
   "cell_type": "markdown",
   "metadata": {},
   "source": [
    "## CART Decision Tree Algorithm\n"
   ]
  },
  {
   "cell_type": "code",
   "execution_count": 93,
   "metadata": {},
   "outputs": [
    {
     "name": "stdout",
     "output_type": "stream",
     "text": [
      "R2 Score 0.15314867387708775\n",
      "Mean Absolute Error 10.291802233428635\n"
     ]
    }
   ],
   "source": [
    "cart = DecisionTreeRegressor(criterion='mse', max_depth=None, min_samples_split=2, min_samples_leaf=1, max_features=None, random_state=0)\n",
    "cart.fit(X_train, Y_train)\n",
    "# Predicting a new result\n",
    "Y_pred_CART = cart.predict(X_test)\n",
    "acc_log_CART = round(cart.score(X_test, Y_test) * 100, 2)\n",
    "r2_score_CART = r2_score(Y_test,Y_pred_CART)\n",
    "mean_absolute_error_CART=mean_absolute_error(Y_test, Y_pred_CART)\n",
    "print('R2 Score '+ str(r2_score_CART))\n",
    "print('Mean Absolute Error '+ str(mean_absolute_error_CART))"
   ]
  },
  {
   "cell_type": "markdown",
   "metadata": {},
   "source": [
    "## SVR with Linear kernel / Linear SVR Algorithm"
   ]
  },
  {
   "cell_type": "code",
   "execution_count": 94,
   "metadata": {},
   "outputs": [
    {
     "name": "stdout",
     "output_type": "stream",
     "text": [
      "R2 Score with RBF kernel 0.1464224830495372\n",
      "Mean Absolute Error with RBF kernel 7.890655859502256\n",
      "R2 Score with Linear kernel -1.2115468074619122\n",
      "Mean Absolute Error with Linear kernel 7.8221745621342595\n"
     ]
    }
   ],
   "source": [
    "# Application of the StandardScaler before applying SVR\n",
    "scaler = StandardScaler()\n",
    "scaler.fit(X_train)\n",
    "X_train_Scaled=scaler.transform(X_train)\n",
    "scaler.fit(X_test)\n",
    "X_test_Scaled=scaler.transform(X_test)\n",
    "\n",
    "# SVR with RBF kernel\n",
    "svr=SVR(kernel='rbf')\n",
    "svr.fit(X_train_Scaled,Y_train)\n",
    "# predict\n",
    "Y_pred_SVR=svr.predict(X_test_Scaled)\n",
    "\n",
    "acc_log_SVR = round(svr.score(X_test_Scaled, Y_test) * 100, 2)\n",
    "r2_score_SVR = r2_score(Y_test,Y_pred_SVR)\n",
    "mean_absolute_error_SVR=mean_absolute_error(Y_test, Y_pred_SVR)\n",
    "# Print the computed values\n",
    "print('R2 Score with RBF kernel '+ str(r2_score_SVR))\n",
    "print('Mean Absolute Error with RBF kernel '+ str(mean_absolute_error_SVR))\n",
    "\n",
    "# SVR with Linear kernel / Linear SVR Algorithm\n",
    "lsvr = LinearSVR(random_state=0, tol=1e-5)\n",
    "lsvr.fit(X_train_Scaled, Y_train)\n",
    "# predict\n",
    "Y_pred_SVR=lsvr.predict(X_test_Scaled)\n",
    "\n",
    "acc_log_SVR = round(lsvr.score(X_test_Scaled, Y_test) * 100, 2)\n",
    "r2_score_SVR = r2_score(Y_test,Y_pred_SVR)\n",
    "mean_absolute_error_SVR=mean_absolute_error(Y_test, Y_pred_SVR)\n",
    "# Print the computed values\n",
    "print('R2 Score with Linear kernel '+ str(r2_score_SVR))\n",
    "print('Mean Absolute Error with Linear kernel '+ str(mean_absolute_error_SVR))"
   ]
  },
  {
   "cell_type": "markdown",
   "metadata": {},
   "source": [
    "#### Considering all features except Age"
   ]
  },
  {
   "cell_type": "code",
   "execution_count": 95,
   "metadata": {},
   "outputs": [],
   "source": [
    "X_train = X_train_Dup.drop(['age'],axis=1)\n",
    "X_test = X_test_Dup.drop(['age'],axis=1)"
   ]
  },
  {
   "cell_type": "code",
   "execution_count": 96,
   "metadata": {},
   "outputs": [
    {
     "name": "stdout",
     "output_type": "stream",
     "text": [
      "The history saving thread hit an unexpected error (OperationalError('database is locked')).History will not be written to the database.\n",
      "R2 Score 0.08739284789922241\n",
      "Mean Absolute Error 11.31453076267318\n"
     ]
    }
   ],
   "source": [
    "# Linear Regression Algorithm\n",
    "linreg=LinearRegression()\n",
    "linreg.fit(X_train, Y_train)\n",
    "\n",
    "# predict\n",
    "Y_pred_LinearReg = linreg.predict(X_test)\n",
    "acc_log_LinReg = round(linreg.score(X_test, Y_test) * 100, 2)\n",
    "r2_score_LinReg = r2_score(Y_test,Y_pred_LinearReg)\n",
    "mean_absolute_error_LinReg=mean_absolute_error(Y_test, Y_pred_LinearReg)\n",
    "\n",
    "print('R2 Score '+ str(r2_score_LinReg))\n",
    "print('Mean Absolute Error '+ str(mean_absolute_error_LinReg))"
   ]
  },
  {
   "cell_type": "code",
   "execution_count": 97,
   "metadata": {},
   "outputs": [
    {
     "name": "stdout",
     "output_type": "stream",
     "text": [
      "R2 Score 0.13159380757229022\n",
      "Mean Absolute Error 10.302958470893534\n"
     ]
    }
   ],
   "source": [
    "# CART Decision Tree Algorithm\n",
    "cart = DecisionTreeRegressor(criterion='mse', max_depth=None, min_samples_split=2, min_samples_leaf=1, max_features=None, random_state=0)\n",
    "cart.fit(X_train, Y_train)\n",
    "# Predicting a new result\n",
    "Y_pred_CART = cart.predict(X_test)\n",
    "acc_log_CART = round(cart.score(X_test, Y_test) * 100, 2)\n",
    "r2_score_CART = r2_score(Y_test,Y_pred_CART)\n",
    "mean_absolute_error_CART=mean_absolute_error(Y_test, Y_pred_CART)\n",
    "print('R2 Score '+ str(r2_score_CART))\n",
    "print('Mean Absolute Error '+ str(mean_absolute_error_CART))"
   ]
  },
  {
   "cell_type": "code",
   "execution_count": 98,
   "metadata": {},
   "outputs": [],
   "source": [
    "# Visualisation of the CART tree formed\n",
    "# feature_cols = ['age','Rank','H5-Index','ref_avg_count','AverageCumulativeAuthorCitationCount']\n",
    "# dot_data = StringIO()\n",
    "# export_graphviz(cart, out_file=dot_data,  \n",
    "#                 filled=True, rounded=True,\n",
    "#                 special_characters=True,feature_names = feature_cols)\n",
    "# graph = pydotplus.graph_from_dot_data(dot_data.getvalue())  \n",
    "# graph.write_png('../Data/CART.png')"
   ]
  },
  {
   "cell_type": "code",
   "execution_count": 99,
   "metadata": {},
   "outputs": [
    {
     "name": "stdout",
     "output_type": "stream",
     "text": [
      "R2 Score with RBF kernel 0.14450075143629093\n",
      "Mean Absolute Error with RBF kernel 7.86494024086831\n",
      "R2 Score with Linear kernel -2.706668839696917\n",
      "Mean Absolute Error with Linear kernel 8.587164046107302\n"
     ]
    }
   ],
   "source": [
    "# Application of the StandardScaler before applying SVR\n",
    "scaler = StandardScaler()\n",
    "scaler.fit(X_train)\n",
    "X_train_Scaled=scaler.transform(X_train)\n",
    "scaler.fit(X_test)\n",
    "X_test_Scaled=scaler.transform(X_test)\n",
    "\n",
    "# SVR with RBF kernel\n",
    "svr=SVR(kernel='rbf')\n",
    "svr.fit(X_train_Scaled,Y_train)\n",
    "# predict\n",
    "Y_pred_SVR=svr.predict(X_test_Scaled)\n",
    "\n",
    "acc_log_SVR = round(svr.score(X_test_Scaled, Y_test) * 100, 2)\n",
    "r2_score_SVR = r2_score(Y_test,Y_pred_SVR)\n",
    "mean_absolute_error_SVR=mean_absolute_error(Y_test, Y_pred_SVR)\n",
    "# Print the computed values\n",
    "print('R2 Score with RBF kernel '+ str(r2_score_SVR))\n",
    "print('Mean Absolute Error with RBF kernel '+ str(mean_absolute_error_SVR))\n",
    "\n",
    "# SVR with Linear kernel / Linear SVR Algorithm\n",
    "lsvr = LinearSVR(random_state=0, tol=1e-5)\n",
    "lsvr.fit(X_train_Scaled, Y_train)\n",
    "# predict\n",
    "Y_pred_SVR=lsvr.predict(X_test_Scaled)\n",
    "\n",
    "acc_log_SVR = round(lsvr.score(X_test_Scaled, Y_test) * 100, 2)\n",
    "r2_score_SVR = r2_score(Y_test,Y_pred_SVR)\n",
    "mean_absolute_error_SVR=mean_absolute_error(Y_test, Y_pred_SVR)\n",
    "# Print the computed values\n",
    "print('R2 Score with Linear kernel '+ str(r2_score_SVR))\n",
    "print('Mean Absolute Error with Linear kernel '+ str(mean_absolute_error_SVR))"
   ]
  },
  {
   "cell_type": "markdown",
   "metadata": {},
   "source": [
    "#### Considering all features except avgVenueCite"
   ]
  },
  {
   "cell_type": "code",
   "execution_count": 100,
   "metadata": {},
   "outputs": [],
   "source": [
    "X_train = X_train_Dup.drop(['avgVenueCite'],axis=1)\n",
    "X_test = X_test_Dup.drop(['avgVenueCite'],axis=1)"
   ]
  },
  {
   "cell_type": "code",
   "execution_count": 101,
   "metadata": {},
   "outputs": [
    {
     "name": "stdout",
     "output_type": "stream",
     "text": [
      "R2 Score 0.11918672735233504\n",
      "Mean Absolute Error 11.591612877856367\n"
     ]
    }
   ],
   "source": [
    "# Linear Regression Algorithm\n",
    "linreg=LinearRegression()\n",
    "linreg.fit(X_train, Y_train)\n",
    "\n",
    "# predict\n",
    "Y_pred_LinearReg = linreg.predict(X_test)\n",
    "acc_log_LinReg = round(linreg.score(X_test, Y_test) * 100, 2)\n",
    "r2_score_LinReg = r2_score(Y_test,Y_pred_LinearReg)\n",
    "mean_absolute_error_LinReg=mean_absolute_error(Y_test, Y_pred_LinearReg)\n",
    "\n",
    "print('R2 Score '+ str(r2_score_LinReg))\n",
    "print('Mean Absolute Error '+ str(mean_absolute_error_LinReg))"
   ]
  },
  {
   "cell_type": "code",
   "execution_count": 102,
   "metadata": {},
   "outputs": [
    {
     "name": "stdout",
     "output_type": "stream",
     "text": [
      "R2 Score 0.09155002198115092\n",
      "Mean Absolute Error 10.485870624924823\n"
     ]
    }
   ],
   "source": [
    "# CART Decision Tree Algorithm\n",
    "cart = DecisionTreeRegressor(criterion='mse', max_depth=None, min_samples_split=2, min_samples_leaf=1, max_features=None, random_state=0)\n",
    "cart.fit(X_train, Y_train)\n",
    "# Predicting a new result\n",
    "Y_pred_CART = cart.predict(X_test)\n",
    "acc_log_CART = round(cart.score(X_test, Y_test) * 100, 2)\n",
    "r2_score_CART = r2_score(Y_test,Y_pred_CART)\n",
    "mean_absolute_error_CART=mean_absolute_error(Y_test, Y_pred_CART)\n",
    "print('R2 Score '+ str(r2_score_CART))\n",
    "print('Mean Absolute Error '+ str(mean_absolute_error_CART))"
   ]
  },
  {
   "cell_type": "code",
   "execution_count": 103,
   "metadata": {},
   "outputs": [
    {
     "name": "stdout",
     "output_type": "stream",
     "text": [
      "R2 Score with RBF kernel 0.16006487225422628\n",
      "Mean Absolute Error with RBF kernel 7.343248642639776\n",
      "R2 Score with Linear kernel -0.3842601662682348\n",
      "Mean Absolute Error with Linear kernel 7.872816852297575\n"
     ]
    }
   ],
   "source": [
    "# Application of the StandardScaler before applying SVR\n",
    "scaler = StandardScaler()\n",
    "scaler.fit(X_train)\n",
    "X_train_Scaled=scaler.transform(X_train)\n",
    "scaler.fit(X_test)\n",
    "X_test_Scaled=scaler.transform(X_test)\n",
    "\n",
    "# SVR with RBF kernel\n",
    "svr=SVR(kernel='rbf')\n",
    "svr.fit(X_train_Scaled,Y_train)\n",
    "# predict\n",
    "Y_pred_SVR=svr.predict(X_test_Scaled)\n",
    "\n",
    "acc_log_SVR = round(svr.score(X_test_Scaled, Y_test) * 100, 2)\n",
    "r2_score_SVR = r2_score(Y_test,Y_pred_SVR)\n",
    "mean_absolute_error_SVR=mean_absolute_error(Y_test, Y_pred_SVR)\n",
    "# Print the computed values\n",
    "print('R2 Score with RBF kernel '+ str(r2_score_SVR))\n",
    "print('Mean Absolute Error with RBF kernel '+ str(mean_absolute_error_SVR))\n",
    "\n",
    "# SVR with Linear kernel / Linear SVR Algorithm\n",
    "lsvr = LinearSVR(random_state=0, tol=1e-5)\n",
    "lsvr.fit(X_train_Scaled, Y_train)\n",
    "# predict\n",
    "Y_pred_SVR=lsvr.predict(X_test_Scaled)\n",
    "\n",
    "acc_log_SVR = round(lsvr.score(X_test_Scaled, Y_test) * 100, 2)\n",
    "r2_score_SVR = r2_score(Y_test,Y_pred_SVR)\n",
    "mean_absolute_error_SVR=mean_absolute_error(Y_test, Y_pred_SVR)\n",
    "# Print the computed values\n",
    "print('R2 Score with Linear kernel '+ str(r2_score_SVR))\n",
    "print('Mean Absolute Error with Linear kernel '+ str(mean_absolute_error_SVR))"
   ]
  },
  {
   "cell_type": "markdown",
   "metadata": {},
   "source": [
    "#### Considering all features except h5-age"
   ]
  },
  {
   "cell_type": "code",
   "execution_count": 104,
   "metadata": {},
   "outputs": [],
   "source": [
    "X_train = X_train_Dup.drop(['h5-age'],axis=1)\n",
    "X_test = X_test_Dup.drop(['h5-age'],axis=1)"
   ]
  },
  {
   "cell_type": "code",
   "execution_count": 105,
   "metadata": {},
   "outputs": [
    {
     "name": "stdout",
     "output_type": "stream",
     "text": [
      "R2 Score 0.1653216257379212\n",
      "Mean Absolute Error 11.244906844539878\n"
     ]
    }
   ],
   "source": [
    "# Linear Regression Algorithm\n",
    "linreg=LinearRegression()\n",
    "linreg.fit(X_train, Y_train)\n",
    "\n",
    "# predict\n",
    "Y_pred_LinearReg = linreg.predict(X_test)\n",
    "acc_log_LinReg = round(linreg.score(X_test, Y_test) * 100, 2)\n",
    "r2_score_LinReg = r2_score(Y_test,Y_pred_LinearReg)\n",
    "mean_absolute_error_LinReg=mean_absolute_error(Y_test, Y_pred_LinearReg)\n",
    "\n",
    "print('R2 Score '+ str(r2_score_LinReg))\n",
    "print('Mean Absolute Error '+ str(mean_absolute_error_LinReg))"
   ]
  },
  {
   "cell_type": "code",
   "execution_count": 106,
   "metadata": {},
   "outputs": [
    {
     "name": "stdout",
     "output_type": "stream",
     "text": [
      "R2 Score 0.11501235356422657\n",
      "Mean Absolute Error 10.32669994702671\n"
     ]
    }
   ],
   "source": [
    "# CART Decision Tree Algorithm\n",
    "cart = DecisionTreeRegressor(criterion='mse', max_depth=None, min_samples_split=2, min_samples_leaf=1, max_features=None, random_state=0)\n",
    "cart.fit(X_train, Y_train)\n",
    "# Predicting a new result\n",
    "Y_pred_CART = cart.predict(X_test)\n",
    "acc_log_CART = round(cart.score(X_test, Y_test) * 100, 2)\n",
    "r2_score_CART = r2_score(Y_test,Y_pred_CART)\n",
    "mean_absolute_error_CART=mean_absolute_error(Y_test, Y_pred_CART)\n",
    "print('R2 Score '+ str(r2_score_CART))\n",
    "print('Mean Absolute Error '+ str(mean_absolute_error_CART))"
   ]
  },
  {
   "cell_type": "code",
   "execution_count": 107,
   "metadata": {},
   "outputs": [
    {
     "name": "stdout",
     "output_type": "stream",
     "text": [
      "R2 Score with RBF kernel 0.13717901955561063\n",
      "Mean Absolute Error with RBF kernel 7.719168855151662\n",
      "R2 Score with Linear kernel -1.2119715207920532\n",
      "Mean Absolute Error with Linear kernel 7.822302575219037\n"
     ]
    }
   ],
   "source": [
    "# Application of the StandardScaler before applying SVR\n",
    "scaler = StandardScaler()\n",
    "scaler.fit(X_train)\n",
    "X_train_Scaled=scaler.transform(X_train)\n",
    "scaler.fit(X_test)\n",
    "X_test_Scaled=scaler.transform(X_test)\n",
    "\n",
    "# SVR with RBF kernel\n",
    "svr=SVR(kernel='rbf')\n",
    "svr.fit(X_train_Scaled,Y_train)\n",
    "# predict\n",
    "Y_pred_SVR=svr.predict(X_test_Scaled)\n",
    "\n",
    "acc_log_SVR = round(svr.score(X_test_Scaled, Y_test) * 100, 2)\n",
    "r2_score_SVR = r2_score(Y_test,Y_pred_SVR)\n",
    "mean_absolute_error_SVR=mean_absolute_error(Y_test, Y_pred_SVR)\n",
    "# Print the computed values\n",
    "print('R2 Score with RBF kernel '+ str(r2_score_SVR))\n",
    "print('Mean Absolute Error with RBF kernel '+ str(mean_absolute_error_SVR))\n",
    "\n",
    "# SVR with Linear kernel / Linear SVR Algorithm\n",
    "lsvr = LinearSVR(random_state=0, tol=1e-5)\n",
    "lsvr.fit(X_train_Scaled, Y_train)\n",
    "# predict\n",
    "Y_pred_SVR=lsvr.predict(X_test_Scaled)\n",
    "\n",
    "acc_log_SVR = round(lsvr.score(X_test_Scaled, Y_test) * 100, 2)\n",
    "r2_score_SVR = r2_score(Y_test,Y_pred_SVR)\n",
    "mean_absolute_error_SVR=mean_absolute_error(Y_test, Y_pred_SVR)\n",
    "# Print the computed values\n",
    "print('R2 Score with Linear kernel '+ str(r2_score_SVR))\n",
    "print('Mean Absolute Error with Linear kernel '+ str(mean_absolute_error_SVR))"
   ]
  },
  {
   "cell_type": "markdown",
   "metadata": {},
   "source": [
    "#### Considering all features except rank-age"
   ]
  },
  {
   "cell_type": "code",
   "execution_count": 108,
   "metadata": {},
   "outputs": [],
   "source": [
    "X_train = X_train_Dup.drop(['rank-age'],axis=1)\n",
    "X_test = X_test_Dup.drop(['rank-age'],axis=1)"
   ]
  },
  {
   "cell_type": "code",
   "execution_count": 109,
   "metadata": {},
   "outputs": [
    {
     "name": "stdout",
     "output_type": "stream",
     "text": [
      "R2 Score 0.05901905353847947\n",
      "Mean Absolute Error 11.210854030768775\n"
     ]
    }
   ],
   "source": [
    "# Linear Regression Algorithm\n",
    "linreg=LinearRegression()\n",
    "linreg.fit(X_train, Y_train)\n",
    "\n",
    "# predict\n",
    "Y_pred_LinearReg = linreg.predict(X_test)\n",
    "acc_log_LinReg = round(linreg.score(X_test, Y_test) * 100, 2)\n",
    "r2_score_LinReg = r2_score(Y_test,Y_pred_LinearReg)\n",
    "mean_absolute_error_LinReg=mean_absolute_error(Y_test, Y_pred_LinearReg)\n",
    "\n",
    "print('R2 Score '+ str(r2_score_LinReg))\n",
    "print('Mean Absolute Error '+ str(mean_absolute_error_LinReg))"
   ]
  },
  {
   "cell_type": "code",
   "execution_count": 110,
   "metadata": {},
   "outputs": [
    {
     "name": "stdout",
     "output_type": "stream",
     "text": [
      "R2 Score 0.25586741190321094\n",
      "Mean Absolute Error 10.119068579196783\n"
     ]
    }
   ],
   "source": [
    "# CART Decision Tree Algorithm\n",
    "cart = DecisionTreeRegressor(criterion='mse', max_depth=None, min_samples_split=2, min_samples_leaf=1, max_features=None, random_state=0)\n",
    "cart.fit(X_train, Y_train)\n",
    "# Predicting a new result\n",
    "Y_pred_CART = cart.predict(X_test)\n",
    "acc_log_CART = round(cart.score(X_test, Y_test) * 100, 2)\n",
    "r2_score_CART = r2_score(Y_test,Y_pred_CART)\n",
    "mean_absolute_error_CART=mean_absolute_error(Y_test, Y_pred_CART)\n",
    "print('R2 Score '+ str(r2_score_CART))\n",
    "print('Mean Absolute Error '+ str(mean_absolute_error_CART))"
   ]
  },
  {
   "cell_type": "code",
   "execution_count": 111,
   "metadata": {},
   "outputs": [
    {
     "name": "stdout",
     "output_type": "stream",
     "text": [
      "R2 Score with RBF kernel 0.13681407243343569\n",
      "Mean Absolute Error with RBF kernel 7.641197445587702\n",
      "R2 Score with Linear kernel -1.2122502075785047\n",
      "Mean Absolute Error with Linear kernel 7.822438203541904\n"
     ]
    }
   ],
   "source": [
    "# Application of the StandardScaler before applying SVR\n",
    "scaler = StandardScaler()\n",
    "scaler.fit(X_train)\n",
    "X_train_Scaled=scaler.transform(X_train)\n",
    "scaler.fit(X_test)\n",
    "X_test_Scaled=scaler.transform(X_test)\n",
    "\n",
    "# SVR with RBF kernel\n",
    "svr=SVR(kernel='rbf')\n",
    "svr.fit(X_train_Scaled,Y_train)\n",
    "# predict\n",
    "Y_pred_SVR=svr.predict(X_test_Scaled)\n",
    "\n",
    "acc_log_SVR = round(svr.score(X_test_Scaled, Y_test) * 100, 2)\n",
    "r2_score_SVR = r2_score(Y_test,Y_pred_SVR)\n",
    "mean_absolute_error_SVR=mean_absolute_error(Y_test, Y_pred_SVR)\n",
    "# Print the computed values\n",
    "print('R2 Score with RBF kernel '+ str(r2_score_SVR))\n",
    "print('Mean Absolute Error with RBF kernel '+ str(mean_absolute_error_SVR))\n",
    "\n",
    "# SVR with Linear kernel / Linear SVR Algorithm\n",
    "lsvr = LinearSVR(random_state=0, tol=1e-5)\n",
    "lsvr.fit(X_train_Scaled, Y_train)\n",
    "# predict\n",
    "Y_pred_SVR=lsvr.predict(X_test_Scaled)\n",
    "\n",
    "acc_log_SVR = round(lsvr.score(X_test_Scaled, Y_test) * 100, 2)\n",
    "r2_score_SVR = r2_score(Y_test,Y_pred_SVR)\n",
    "mean_absolute_error_SVR=mean_absolute_error(Y_test, Y_pred_SVR)\n",
    "# Print the computed values\n",
    "print('R2 Score with Linear kernel '+ str(r2_score_SVR))\n",
    "print('Mean Absolute Error with Linear kernel '+ str(mean_absolute_error_SVR))"
   ]
  },
  {
   "cell_type": "markdown",
   "metadata": {},
   "source": [
    "#### Considering all features except venueCC-age"
   ]
  },
  {
   "cell_type": "code",
   "execution_count": 112,
   "metadata": {},
   "outputs": [],
   "source": [
    "X_train = X_train_Dup.drop(['venueCC-age'],axis=1)\n",
    "X_test = X_test_Dup.drop(['venueCC-age'],axis=1)"
   ]
  },
  {
   "cell_type": "code",
   "execution_count": 113,
   "metadata": {},
   "outputs": [
    {
     "name": "stdout",
     "output_type": "stream",
     "text": [
      "R2 Score 0.07644389343840197\n",
      "Mean Absolute Error 11.326502104596853\n"
     ]
    }
   ],
   "source": [
    "# Linear Regression Algorithm\n",
    "linreg=LinearRegression()\n",
    "linreg.fit(X_train, Y_train)\n",
    "\n",
    "# predict\n",
    "Y_pred_LinearReg = linreg.predict(X_test)\n",
    "acc_log_LinReg = round(linreg.score(X_test, Y_test) * 100, 2)\n",
    "r2_score_LinReg = r2_score(Y_test,Y_pred_LinearReg)\n",
    "mean_absolute_error_LinReg=mean_absolute_error(Y_test, Y_pred_LinearReg)\n",
    "\n",
    "print('R2 Score '+ str(r2_score_LinReg))\n",
    "print('Mean Absolute Error '+ str(mean_absolute_error_LinReg))"
   ]
  },
  {
   "cell_type": "code",
   "execution_count": 114,
   "metadata": {},
   "outputs": [
    {
     "name": "stdout",
     "output_type": "stream",
     "text": [
      "R2 Score 0.13189588733594348\n",
      "Mean Absolute Error 10.244168859982986\n"
     ]
    }
   ],
   "source": [
    "# CART Decision Tree Algorithm\n",
    "cart = DecisionTreeRegressor(criterion='mse', max_depth=None, min_samples_split=2, min_samples_leaf=1, max_features=None, random_state=0)\n",
    "cart.fit(X_train, Y_train)\n",
    "# Predicting a new result\n",
    "Y_pred_CART = cart.predict(X_test)\n",
    "acc_log_CART = round(cart.score(X_test, Y_test) * 100, 2)\n",
    "r2_score_CART = r2_score(Y_test,Y_pred_CART)\n",
    "mean_absolute_error_CART=mean_absolute_error(Y_test, Y_pred_CART)\n",
    "print('R2 Score '+ str(r2_score_CART))\n",
    "print('Mean Absolute Error '+ str(mean_absolute_error_CART))"
   ]
  },
  {
   "cell_type": "code",
   "execution_count": 115,
   "metadata": {},
   "outputs": [
    {
     "name": "stdout",
     "output_type": "stream",
     "text": [
      "R2 Score with RBF kernel 0.14454624694305462\n",
      "Mean Absolute Error with RBF kernel 7.952890501908552\n",
      "R2 Score with Linear kernel 0.2768940395753441\n",
      "Mean Absolute Error with Linear kernel 7.045305372698127\n"
     ]
    }
   ],
   "source": [
    "# Application of the StandardScaler before applying SVR\n",
    "scaler = StandardScaler()\n",
    "scaler.fit(X_train)\n",
    "X_train_Scaled=scaler.transform(X_train)\n",
    "scaler.fit(X_test)\n",
    "X_test_Scaled=scaler.transform(X_test)\n",
    "\n",
    "# SVR with RBF kernel\n",
    "svr=SVR(kernel='rbf')\n",
    "svr.fit(X_train_Scaled,Y_train)\n",
    "# predict\n",
    "Y_pred_SVR=svr.predict(X_test_Scaled)\n",
    "\n",
    "acc_log_SVR = round(svr.score(X_test_Scaled, Y_test) * 100, 2)\n",
    "r2_score_SVR = r2_score(Y_test,Y_pred_SVR)\n",
    "mean_absolute_error_SVR=mean_absolute_error(Y_test, Y_pred_SVR)\n",
    "# Print the computed values\n",
    "print('R2 Score with RBF kernel '+ str(r2_score_SVR))\n",
    "print('Mean Absolute Error with RBF kernel '+ str(mean_absolute_error_SVR))\n",
    "\n",
    "# SVR with Linear kernel / Linear SVR Algorithm\n",
    "lsvr = LinearSVR(random_state=0, tol=1e-5)\n",
    "lsvr.fit(X_train_Scaled, Y_train)\n",
    "# predict\n",
    "Y_pred_SVR=lsvr.predict(X_test_Scaled)\n",
    "\n",
    "acc_log_SVR = round(lsvr.score(X_test_Scaled, Y_test) * 100, 2)\n",
    "r2_score_SVR = r2_score(Y_test,Y_pred_SVR)\n",
    "mean_absolute_error_SVR=mean_absolute_error(Y_test, Y_pred_SVR)\n",
    "# Print the computed values\n",
    "print('R2 Score with Linear kernel '+ str(r2_score_SVR))\n",
    "print('Mean Absolute Error with Linear kernel '+ str(mean_absolute_error_SVR))"
   ]
  },
  {
   "cell_type": "markdown",
   "metadata": {},
   "source": [
    "#### Considering only age"
   ]
  },
  {
   "cell_type": "code",
   "execution_count": 116,
   "metadata": {},
   "outputs": [],
   "source": [
    "X_train=X_train_Dup[['age']]\n",
    "X_test=X_test_Dup[['age']]"
   ]
  },
  {
   "cell_type": "code",
   "execution_count": 117,
   "metadata": {},
   "outputs": [
    {
     "name": "stdout",
     "output_type": "stream",
     "text": [
      "R2 Score 0.328589802599915\n",
      "Mean Absolute Error 11.312506857371181\n"
     ]
    }
   ],
   "source": [
    "# Linear Regression Algorithm\n",
    "linreg=LinearRegression()\n",
    "linreg.fit(X_train, Y_train)\n",
    "\n",
    "# predict\n",
    "Y_pred_LinearReg = linreg.predict(X_test)\n",
    "acc_log_LinReg = round(linreg.score(X_test, Y_test) * 100, 2)\n",
    "r2_score_LinReg = r2_score(Y_test,Y_pred_LinearReg)\n",
    "mean_absolute_error_LinReg=mean_absolute_error(Y_test, Y_pred_LinearReg)\n",
    "\n",
    "print('R2 Score '+ str(r2_score_LinReg))\n",
    "print('Mean Absolute Error '+ str(mean_absolute_error_LinReg))"
   ]
  },
  {
   "cell_type": "code",
   "execution_count": 118,
   "metadata": {},
   "outputs": [
    {
     "name": "stdout",
     "output_type": "stream",
     "text": [
      "R2 Score -0.01414352707353328\n",
      "Mean Absolute Error 11.562263990879758\n"
     ]
    }
   ],
   "source": [
    "# CART Decision Tree Algorithm\n",
    "cart = DecisionTreeRegressor(criterion='mse', max_depth=None, min_samples_split=2, min_samples_leaf=1, max_features=None, random_state=0)\n",
    "cart.fit(X_train, Y_train)\n",
    "# Predicting a new result\n",
    "Y_pred_CART = cart.predict(X_test)\n",
    "acc_log_CART = round(cart.score(X_test, Y_test) * 100, 2)\n",
    "r2_score_CART = r2_score(Y_test,Y_pred_CART)\n",
    "mean_absolute_error_CART=mean_absolute_error(Y_test, Y_pred_CART)\n",
    "print('R2 Score '+ str(r2_score_CART))\n",
    "print('Mean Absolute Error '+ str(mean_absolute_error_CART))"
   ]
  },
  {
   "cell_type": "code",
   "execution_count": 119,
   "metadata": {},
   "outputs": [
    {
     "name": "stdout",
     "output_type": "stream",
     "text": [
      "R2 Score with RBF kernel 0.15421854492342268\n",
      "Mean Absolute Error with RBF kernel 7.144046352997262\n",
      "R2 Score with Linear kernel 0.2769588591720963\n",
      "Mean Absolute Error with Linear kernel 7.045408045645521\n"
     ]
    }
   ],
   "source": [
    "# Application of the StandardScaler before applying SVR\n",
    "scaler = StandardScaler()\n",
    "scaler.fit(X_train)\n",
    "X_train_Scaled=scaler.transform(X_train)\n",
    "scaler.fit(X_test)\n",
    "X_test_Scaled=scaler.transform(X_test)\n",
    "\n",
    "# SVR with RBF kernel\n",
    "svr=SVR(kernel='rbf')\n",
    "svr.fit(X_train_Scaled,Y_train)\n",
    "# predict\n",
    "Y_pred_SVR=svr.predict(X_test_Scaled)\n",
    "\n",
    "acc_log_SVR = round(svr.score(X_test_Scaled, Y_test) * 100, 2)\n",
    "r2_score_SVR = r2_score(Y_test,Y_pred_SVR)\n",
    "mean_absolute_error_SVR=mean_absolute_error(Y_test, Y_pred_SVR)\n",
    "# Print the computed values\n",
    "print('R2 Score with RBF kernel '+ str(r2_score_SVR))\n",
    "print('Mean Absolute Error with RBF kernel '+ str(mean_absolute_error_SVR))\n",
    "\n",
    "# SVR with Linear kernel / Linear SVR Algorithm\n",
    "lsvr = LinearSVR(random_state=0, tol=1e-5)\n",
    "lsvr.fit(X_train_Scaled, Y_train)\n",
    "# predict\n",
    "Y_pred_SVR=lsvr.predict(X_test_Scaled)\n",
    "\n",
    "acc_log_SVR = round(lsvr.score(X_test_Scaled, Y_test) * 100, 2)\n",
    "r2_score_SVR = r2_score(Y_test,Y_pred_SVR)\n",
    "mean_absolute_error_SVR=mean_absolute_error(Y_test, Y_pred_SVR)\n",
    "# Print the computed values\n",
    "print('R2 Score with Linear kernel '+ str(r2_score_SVR))\n",
    "print('Mean Absolute Error with Linear kernel '+ str(mean_absolute_error_SVR))"
   ]
  },
  {
   "cell_type": "markdown",
   "metadata": {},
   "source": [
    "#### Considering only avgVenueCite"
   ]
  },
  {
   "cell_type": "code",
   "execution_count": 120,
   "metadata": {},
   "outputs": [],
   "source": [
    "X_train=X_train_Dup[['avgVenueCite']]\n",
    "X_test=X_test_Dup[['avgVenueCite']]"
   ]
  },
  {
   "cell_type": "code",
   "execution_count": 121,
   "metadata": {},
   "outputs": [
    {
     "name": "stdout",
     "output_type": "stream",
     "text": [
      "R2 Score -0.2049646310730815\n",
      "Mean Absolute Error 12.356512574317666\n"
     ]
    }
   ],
   "source": [
    "# Linear Regression Algorithm\n",
    "linreg=LinearRegression()\n",
    "linreg.fit(X_train, Y_train)\n",
    "\n",
    "# predict\n",
    "Y_pred_LinearReg = linreg.predict(X_test)\n",
    "acc_log_LinReg = round(linreg.score(X_test, Y_test) * 100, 2)\n",
    "r2_score_LinReg = r2_score(Y_test,Y_pred_LinearReg)\n",
    "mean_absolute_error_LinReg=mean_absolute_error(Y_test, Y_pred_LinearReg)\n",
    "\n",
    "print('R2 Score '+ str(r2_score_LinReg))\n",
    "print('Mean Absolute Error '+ str(mean_absolute_error_LinReg))"
   ]
  },
  {
   "cell_type": "code",
   "execution_count": 122,
   "metadata": {},
   "outputs": [
    {
     "name": "stdout",
     "output_type": "stream",
     "text": [
      "R2 Score -0.20496463107308194\n",
      "Mean Absolute Error 12.356512574317666\n"
     ]
    }
   ],
   "source": [
    "# CART Decision Tree Algorithm\n",
    "cart = DecisionTreeRegressor(criterion='mse', max_depth=None, min_samples_split=2, min_samples_leaf=1, max_features=None, random_state=0)\n",
    "cart.fit(X_train, Y_train)\n",
    "# Predicting a new result\n",
    "Y_pred_CART = cart.predict(X_test)\n",
    "acc_log_CART = round(cart.score(X_test, Y_test) * 100, 2)\n",
    "r2_score_CART = r2_score(Y_test,Y_pred_CART)\n",
    "mean_absolute_error_CART=mean_absolute_error(Y_test, Y_pred_CART)\n",
    "print('R2 Score '+ str(r2_score_CART))\n",
    "print('Mean Absolute Error '+ str(mean_absolute_error_CART))"
   ]
  },
  {
   "cell_type": "code",
   "execution_count": 123,
   "metadata": {},
   "outputs": [
    {
     "name": "stdout",
     "output_type": "stream",
     "text": [
      "R2 Score with RBF kernel -0.03821820296880807\n",
      "Mean Absolute Error with RBF kernel 8.194096494150577\n",
      "R2 Score with Linear kernel -0.09879841483495966\n",
      "Mean Absolute Error with Linear kernel 7.614921780986787\n"
     ]
    }
   ],
   "source": [
    "# Application of the StandardScaler before applying SVR\n",
    "scaler = StandardScaler()\n",
    "scaler.fit(X_train)\n",
    "X_train_Scaled=scaler.transform(X_train)\n",
    "scaler.fit(X_test)\n",
    "X_test_Scaled=scaler.transform(X_test)\n",
    "\n",
    "# SVR with RBF kernel\n",
    "svr=SVR(kernel='rbf')\n",
    "svr.fit(X_train_Scaled,Y_train)\n",
    "# predict\n",
    "Y_pred_SVR=svr.predict(X_test_Scaled)\n",
    "\n",
    "acc_log_SVR = round(svr.score(X_test_Scaled, Y_test) * 100, 2)\n",
    "r2_score_SVR = r2_score(Y_test,Y_pred_SVR)\n",
    "mean_absolute_error_SVR=mean_absolute_error(Y_test, Y_pred_SVR)\n",
    "# Print the computed values\n",
    "print('R2 Score with RBF kernel '+ str(r2_score_SVR))\n",
    "print('Mean Absolute Error with RBF kernel '+ str(mean_absolute_error_SVR))\n",
    "\n",
    "# SVR with Linear kernel / Linear SVR Algorithm\n",
    "lsvr = LinearSVR(random_state=0, tol=1e-5)\n",
    "lsvr.fit(X_train_Scaled, Y_train)\n",
    "# predict\n",
    "Y_pred_SVR=lsvr.predict(X_test_Scaled)\n",
    "\n",
    "acc_log_SVR = round(lsvr.score(X_test_Scaled, Y_test) * 100, 2)\n",
    "r2_score_SVR = r2_score(Y_test,Y_pred_SVR)\n",
    "mean_absolute_error_SVR=mean_absolute_error(Y_test, Y_pred_SVR)\n",
    "# Print the computed values\n",
    "print('R2 Score with Linear kernel '+ str(r2_score_SVR))\n",
    "print('Mean Absolute Error with Linear kernel '+ str(mean_absolute_error_SVR))"
   ]
  },
  {
   "cell_type": "markdown",
   "metadata": {},
   "source": [
    "#### Considering only h5-age "
   ]
  },
  {
   "cell_type": "code",
   "execution_count": 124,
   "metadata": {},
   "outputs": [],
   "source": [
    "X_train=X_train_Dup[['h5-age']]\n",
    "X_test=X_test_Dup[['h5-age']]"
   ]
  },
  {
   "cell_type": "code",
   "execution_count": 125,
   "metadata": {},
   "outputs": [
    {
     "name": "stdout",
     "output_type": "stream",
     "text": [
      "R2 Score 0.3575379116020757\n",
      "Mean Absolute Error 11.430184037310166\n"
     ]
    }
   ],
   "source": [
    "# Linear Regression Algorithm\n",
    "linreg=LinearRegression()\n",
    "linreg.fit(X_train, Y_train)\n",
    "\n",
    "# predict\n",
    "Y_pred_LinearReg = linreg.predict(X_test)\n",
    "acc_log_LinReg = round(linreg.score(X_test, Y_test) * 100, 2)\n",
    "r2_score_LinReg = r2_score(Y_test,Y_pred_LinearReg)\n",
    "mean_absolute_error_LinReg=mean_absolute_error(Y_test, Y_pred_LinearReg)\n",
    "\n",
    "print('R2 Score '+ str(r2_score_LinReg))\n",
    "print('Mean Absolute Error '+ str(mean_absolute_error_LinReg))"
   ]
  },
  {
   "cell_type": "code",
   "execution_count": 126,
   "metadata": {},
   "outputs": [
    {
     "name": "stdout",
     "output_type": "stream",
     "text": [
      "R2 Score -7.779097826821181\n",
      "Mean Absolute Error 12.347628284016205\n"
     ]
    }
   ],
   "source": [
    "# CART Decision Tree Algorithm\n",
    "cart = DecisionTreeRegressor(criterion='mse', max_depth=None, min_samples_split=2, min_samples_leaf=1, max_features=None, random_state=0)\n",
    "cart.fit(X_train, Y_train)\n",
    "# Predicting a new result\n",
    "Y_pred_CART = cart.predict(X_test)\n",
    "acc_log_CART = round(cart.score(X_test, Y_test) * 100, 2)\n",
    "r2_score_CART = r2_score(Y_test,Y_pred_CART)\n",
    "mean_absolute_error_CART=mean_absolute_error(Y_test, Y_pred_CART)\n",
    "print('R2 Score '+ str(r2_score_CART))\n",
    "print('Mean Absolute Error '+ str(mean_absolute_error_CART))"
   ]
  },
  {
   "cell_type": "code",
   "execution_count": 127,
   "metadata": {},
   "outputs": [
    {
     "name": "stdout",
     "output_type": "stream",
     "text": [
      "R2 Score with RBF kernel 0.13921963089723444\n",
      "Mean Absolute Error with RBF kernel 7.104560249362247\n",
      "R2 Score with Linear kernel -0.05303393827769054\n",
      "Mean Absolute Error with Linear kernel 7.680724949742148\n"
     ]
    }
   ],
   "source": [
    "# Application of the StandardScaler before applying SVR\n",
    "scaler = StandardScaler()\n",
    "scaler.fit(X_train)\n",
    "X_train_Scaled=scaler.transform(X_train)\n",
    "scaler.fit(X_test)\n",
    "X_test_Scaled=scaler.transform(X_test)\n",
    "\n",
    "# SVR with RBF kernel\n",
    "svr=SVR(kernel='rbf')\n",
    "svr.fit(X_train_Scaled,Y_train)\n",
    "# predict\n",
    "Y_pred_SVR=svr.predict(X_test_Scaled)\n",
    "\n",
    "acc_log_SVR = round(svr.score(X_test_Scaled, Y_test) * 100, 2)\n",
    "r2_score_SVR = r2_score(Y_test,Y_pred_SVR)\n",
    "mean_absolute_error_SVR=mean_absolute_error(Y_test, Y_pred_SVR)\n",
    "# Print the computed values\n",
    "print('R2 Score with RBF kernel '+ str(r2_score_SVR))\n",
    "print('Mean Absolute Error with RBF kernel '+ str(mean_absolute_error_SVR))\n",
    "\n",
    "# SVR with Linear kernel / Linear SVR Algorithm\n",
    "lsvr = LinearSVR(random_state=0, tol=1e-5)\n",
    "lsvr.fit(X_train_Scaled, Y_train)\n",
    "# predict\n",
    "Y_pred_SVR=lsvr.predict(X_test_Scaled)\n",
    "\n",
    "acc_log_SVR = round(lsvr.score(X_test_Scaled, Y_test) * 100, 2)\n",
    "r2_score_SVR = r2_score(Y_test,Y_pred_SVR)\n",
    "mean_absolute_error_SVR=mean_absolute_error(Y_test, Y_pred_SVR)\n",
    "# Print the computed values\n",
    "print('R2 Score with Linear kernel '+ str(r2_score_SVR))\n",
    "print('Mean Absolute Error with Linear kernel '+ str(mean_absolute_error_SVR))"
   ]
  },
  {
   "cell_type": "markdown",
   "metadata": {},
   "source": [
    "#### Considering only rank-age "
   ]
  },
  {
   "cell_type": "code",
   "execution_count": 128,
   "metadata": {},
   "outputs": [],
   "source": [
    "X_train=X_train_Dup[['rank-age']]\n",
    "X_test=X_test_Dup[['rank-age']]"
   ]
  },
  {
   "cell_type": "code",
   "execution_count": 129,
   "metadata": {},
   "outputs": [
    {
     "name": "stdout",
     "output_type": "stream",
     "text": [
      "R2 Score 0.08370664481628454\n",
      "Mean Absolute Error 13.01447670373557\n"
     ]
    }
   ],
   "source": [
    "# Linear Regression Algorithm\n",
    "linreg=LinearRegression()\n",
    "linreg.fit(X_train, Y_train)\n",
    "\n",
    "# predict\n",
    "Y_pred_LinearReg = linreg.predict(X_test)\n",
    "acc_log_LinReg = round(linreg.score(X_test, Y_test) * 100, 2)\n",
    "r2_score_LinReg = r2_score(Y_test,Y_pred_LinearReg)\n",
    "mean_absolute_error_LinReg=mean_absolute_error(Y_test, Y_pred_LinearReg)\n",
    "\n",
    "print('R2 Score '+ str(r2_score_LinReg))\n",
    "print('Mean Absolute Error '+ str(mean_absolute_error_LinReg))"
   ]
  },
  {
   "cell_type": "code",
   "execution_count": 130,
   "metadata": {},
   "outputs": [
    {
     "name": "stdout",
     "output_type": "stream",
     "text": [
      "R2 Score -8.61730616441719\n",
      "Mean Absolute Error 13.127963501945386\n"
     ]
    }
   ],
   "source": [
    "# CART Decision Tree Algorithm\n",
    "cart = DecisionTreeRegressor(criterion='mse', max_depth=None, min_samples_split=2, min_samples_leaf=1, max_features=None, random_state=0)\n",
    "cart.fit(X_train, Y_train)\n",
    "# Predicting a new result\n",
    "Y_pred_CART = cart.predict(X_test)\n",
    "acc_log_CART = round(cart.score(X_test, Y_test) * 100, 2)\n",
    "r2_score_CART = r2_score(Y_test,Y_pred_CART)\n",
    "mean_absolute_error_CART=mean_absolute_error(Y_test, Y_pred_CART)\n",
    "print('R2 Score '+ str(r2_score_CART))\n",
    "print('Mean Absolute Error '+ str(mean_absolute_error_CART))"
   ]
  },
  {
   "cell_type": "code",
   "execution_count": 131,
   "metadata": {},
   "outputs": [
    {
     "name": "stdout",
     "output_type": "stream",
     "text": [
      "R2 Score with RBF kernel 0.10060665383496858\n",
      "Mean Absolute Error with RBF kernel 7.1819746946356995\n",
      "R2 Score with Linear kernel -0.08578085212596931\n",
      "Mean Absolute Error with Linear kernel 7.626969593564476\n"
     ]
    }
   ],
   "source": [
    "# Application of the StandardScaler before applying SVR\n",
    "scaler = StandardScaler()\n",
    "scaler.fit(X_train)\n",
    "X_train_Scaled=scaler.transform(X_train)\n",
    "scaler.fit(X_test)\n",
    "X_test_Scaled=scaler.transform(X_test)\n",
    "\n",
    "# SVR with RBF kernel\n",
    "svr=SVR(kernel='rbf')\n",
    "svr.fit(X_train_Scaled,Y_train)\n",
    "# predict\n",
    "Y_pred_SVR=svr.predict(X_test_Scaled)\n",
    "\n",
    "acc_log_SVR = round(svr.score(X_test_Scaled, Y_test) * 100, 2)\n",
    "r2_score_SVR = r2_score(Y_test,Y_pred_SVR)\n",
    "mean_absolute_error_SVR=mean_absolute_error(Y_test, Y_pred_SVR)\n",
    "# Print the computed values\n",
    "print('R2 Score with RBF kernel '+ str(r2_score_SVR))\n",
    "print('Mean Absolute Error with RBF kernel '+ str(mean_absolute_error_SVR))\n",
    "\n",
    "# SVR with Linear kernel / Linear SVR Algorithm\n",
    "lsvr = LinearSVR(random_state=0, tol=1e-5)\n",
    "lsvr.fit(X_train_Scaled, Y_train)\n",
    "# predict\n",
    "Y_pred_SVR=lsvr.predict(X_test_Scaled)\n",
    "\n",
    "acc_log_SVR = round(lsvr.score(X_test_Scaled, Y_test) * 100, 2)\n",
    "r2_score_SVR = r2_score(Y_test,Y_pred_SVR)\n",
    "mean_absolute_error_SVR=mean_absolute_error(Y_test, Y_pred_SVR)\n",
    "# Print the computed values\n",
    "print('R2 Score with Linear kernel '+ str(r2_score_SVR))\n",
    "print('Mean Absolute Error with Linear kernel '+ str(mean_absolute_error_SVR))"
   ]
  },
  {
   "cell_type": "markdown",
   "metadata": {},
   "source": [
    "#### Considering only venueCC-age "
   ]
  },
  {
   "cell_type": "code",
   "execution_count": 132,
   "metadata": {},
   "outputs": [],
   "source": [
    "X_train=X_train_Dup[['venueCC-age']]\n",
    "X_test=X_test_Dup[['venueCC-age']]"
   ]
  },
  {
   "cell_type": "code",
   "execution_count": 133,
   "metadata": {},
   "outputs": [
    {
     "name": "stdout",
     "output_type": "stream",
     "text": [
      "R2 Score -0.1745287012863943\n",
      "Mean Absolute Error 12.35542779183069\n"
     ]
    }
   ],
   "source": [
    "# Linear Regression Algorithm\n",
    "linreg=LinearRegression()\n",
    "linreg.fit(X_train, Y_train)\n",
    "\n",
    "# predict\n",
    "Y_pred_LinearReg = linreg.predict(X_test)\n",
    "acc_log_LinReg = round(linreg.score(X_test, Y_test) * 100, 2)\n",
    "r2_score_LinReg = r2_score(Y_test,Y_pred_LinearReg)\n",
    "mean_absolute_error_LinReg=mean_absolute_error(Y_test, Y_pred_LinearReg)\n",
    "\n",
    "print('R2 Score '+ str(r2_score_LinReg))\n",
    "print('Mean Absolute Error '+ str(mean_absolute_error_LinReg))"
   ]
  },
  {
   "cell_type": "code",
   "execution_count": 134,
   "metadata": {},
   "outputs": [
    {
     "name": "stdout",
     "output_type": "stream",
     "text": [
      "R2 Score -0.03294790199303543\n",
      "Mean Absolute Error 10.587476083616993\n"
     ]
    }
   ],
   "source": [
    "# CART Decision Tree Algorithm\n",
    "cart = DecisionTreeRegressor(criterion='mse', max_depth=None, min_samples_split=2, min_samples_leaf=1, max_features=None, random_state=0)\n",
    "cart.fit(X_train, Y_train)\n",
    "# Predicting a new result\n",
    "Y_pred_CART = cart.predict(X_test)\n",
    "acc_log_CART = round(cart.score(X_test, Y_test) * 100, 2)\n",
    "r2_score_CART = r2_score(Y_test,Y_pred_CART)\n",
    "mean_absolute_error_CART=mean_absolute_error(Y_test, Y_pred_CART)\n",
    "print('R2 Score '+ str(r2_score_CART))\n",
    "print('Mean Absolute Error '+ str(mean_absolute_error_CART))"
   ]
  },
  {
   "cell_type": "code",
   "execution_count": 135,
   "metadata": {},
   "outputs": [
    {
     "name": "stdout",
     "output_type": "stream",
     "text": [
      "R2 Score with RBF kernel 0.07227256183342878\n",
      "Mean Absolute Error with RBF kernel 7.50354923710746\n",
      "R2 Score with Linear kernel -2.148289363819278\n",
      "Mean Absolute Error with Linear kernel 9.322666721841937\n"
     ]
    }
   ],
   "source": [
    "# Application of the StandardScaler before applying SVR\n",
    "scaler = StandardScaler()\n",
    "scaler.fit(X_train)\n",
    "X_train_Scaled=scaler.transform(X_train)\n",
    "scaler.fit(X_test)\n",
    "X_test_Scaled=scaler.transform(X_test)\n",
    "\n",
    "# SVR with RBF kernel\n",
    "svr=SVR(kernel='rbf')\n",
    "svr.fit(X_train_Scaled,Y_train)\n",
    "# predict\n",
    "Y_pred_SVR=svr.predict(X_test_Scaled)\n",
    "\n",
    "acc_log_SVR = round(svr.score(X_test_Scaled, Y_test) * 100, 2)\n",
    "r2_score_SVR = r2_score(Y_test,Y_pred_SVR)\n",
    "mean_absolute_error_SVR=mean_absolute_error(Y_test, Y_pred_SVR)\n",
    "# Print the computed values\n",
    "print('R2 Score with RBF kernel '+ str(r2_score_SVR))\n",
    "print('Mean Absolute Error with RBF kernel '+ str(mean_absolute_error_SVR))\n",
    "\n",
    "# SVR with Linear kernel / Linear SVR Algorithm\n",
    "lsvr = LinearSVR(random_state=0, tol=1e-5)\n",
    "lsvr.fit(X_train_Scaled, Y_train)\n",
    "# predict\n",
    "Y_pred_SVR=lsvr.predict(X_test_Scaled)\n",
    "\n",
    "acc_log_SVR = round(lsvr.score(X_test_Scaled, Y_test) * 100, 2)\n",
    "r2_score_SVR = r2_score(Y_test,Y_pred_SVR)\n",
    "mean_absolute_error_SVR=mean_absolute_error(Y_test, Y_pred_SVR)\n",
    "# Print the computed values\n",
    "print('R2 Score with Linear kernel '+ str(r2_score_SVR))\n",
    "print('Mean Absolute Error with Linear kernel '+ str(mean_absolute_error_SVR))"
   ]
  },
  {
   "cell_type": "markdown",
   "metadata": {},
   "source": [
    "## Section Including AcCc"
   ]
  },
  {
   "cell_type": "code",
   "execution_count": 136,
   "metadata": {},
   "outputs": [],
   "source": [
    "X_train = train[['age', 'rank-age', 'h5-age', 'avgVenueCite', 'venueCC-age', 'AcCc', 'AcCc-age']]\n",
    "Y_train= train['n_citation']\n",
    "X_test = test[['age', 'rank-age', 'h5-age', 'avgVenueCite', 'venueCC-age', 'AcCc', 'AcCc-age']]\n",
    "Y_test = test['n_citation']"
   ]
  },
  {
   "cell_type": "code",
   "execution_count": 137,
   "metadata": {},
   "outputs": [
    {
     "name": "stdout",
     "output_type": "stream",
     "text": [
      "<class 'pandas.core.frame.DataFrame'>\n",
      "RangeIndex: 6686 entries, 0 to 6685\n",
      "Data columns (total 5 columns):\n",
      "age             6686 non-null int64\n",
      "rank-age        6686 non-null int64\n",
      "h5-age          6686 non-null float64\n",
      "avgVenueCite    6686 non-null float64\n",
      "venueCC-age     6686 non-null float64\n",
      "dtypes: float64(3), int64(2)\n",
      "memory usage: 261.2 KB\n"
     ]
    }
   ],
   "source": [
    "X_train_Dup.info()"
   ]
  },
  {
   "cell_type": "code",
   "execution_count": 138,
   "metadata": {},
   "outputs": [
    {
     "data": {
      "text/plain": [
       "1662"
      ]
     },
     "execution_count": 138,
     "metadata": {},
     "output_type": "execute_result"
    }
   ],
   "source": [
    "len(X_test)"
   ]
  },
  {
   "cell_type": "code",
   "execution_count": 139,
   "metadata": {},
   "outputs": [],
   "source": [
    "X_train_Dup=X_train.copy()\n",
    "X_test_Dup=X_test.copy()"
   ]
  },
  {
   "cell_type": "markdown",
   "metadata": {},
   "source": [
    "### Including All Featutes"
   ]
  },
  {
   "cell_type": "markdown",
   "metadata": {},
   "source": [
    "## Linear Regression"
   ]
  },
  {
   "cell_type": "code",
   "execution_count": 140,
   "metadata": {},
   "outputs": [
    {
     "name": "stdout",
     "output_type": "stream",
     "text": [
      "R2 Score -0.5423072389326491\n",
      "Mean Absolute Error 9.59617732191177\n"
     ]
    }
   ],
   "source": [
    "# Linear Regression Algorithm\n",
    "linreg=LinearRegression()\n",
    "linreg.fit(X_train, Y_train)\n",
    "\n",
    "# predict\n",
    "Y_pred_LinearReg = linreg.predict(X_test)\n",
    "acc_log_LinReg = round(linreg.score(X_test, Y_test) * 100, 2)\n",
    "r2_score_LinReg = r2_score(Y_test,Y_pred_LinearReg)\n",
    "mean_absolute_error_LinReg=mean_absolute_error(Y_test, Y_pred_LinearReg)\n",
    "\n",
    "print('R2 Score '+ str(r2_score_LinReg))\n",
    "print('Mean Absolute Error '+ str(mean_absolute_error_LinReg))"
   ]
  },
  {
   "cell_type": "markdown",
   "metadata": {},
   "source": [
    "## CART Decision Tree Algorithm\n"
   ]
  },
  {
   "cell_type": "code",
   "execution_count": 141,
   "metadata": {},
   "outputs": [
    {
     "name": "stdout",
     "output_type": "stream",
     "text": [
      "R2 Score -0.5750233312645094\n",
      "Mean Absolute Error 9.126955475330927\n"
     ]
    }
   ],
   "source": [
    "cart = DecisionTreeRegressor(criterion='mse', max_depth=None, min_samples_split=2, min_samples_leaf=1, max_features=None, random_state=0)\n",
    "cart.fit(X_train, Y_train)\n",
    "# Predicting a new result\n",
    "Y_pred_CART = cart.predict(X_test)\n",
    "acc_log_CART = round(cart.score(X_test, Y_test) * 100, 2)\n",
    "r2_score_CART = r2_score(Y_test,Y_pred_CART)\n",
    "mean_absolute_error_CART=mean_absolute_error(Y_test, Y_pred_CART)\n",
    "print('R2 Score '+ str(r2_score_CART))\n",
    "print('Mean Absolute Error '+ str(mean_absolute_error_CART))"
   ]
  },
  {
   "cell_type": "markdown",
   "metadata": {},
   "source": [
    "## SVR with Linear kernel / Linear SVR Algorithm"
   ]
  },
  {
   "cell_type": "code",
   "execution_count": 142,
   "metadata": {},
   "outputs": [
    {
     "name": "stdout",
     "output_type": "stream",
     "text": [
      "R2 Score with RBF kernel -0.3559433108410035\n",
      "Mean Absolute Error with RBF kernel 12.595466656711038\n",
      "R2 Score with Linear kernel -4.660932236726369\n",
      "Mean Absolute Error with Linear kernel 14.898783424308215\n"
     ]
    }
   ],
   "source": [
    "# Application of the StandardScaler before applying SVR\n",
    "scaler = StandardScaler()\n",
    "scaler.fit(X_train)\n",
    "X_train_Scaled=scaler.transform(X_train)\n",
    "scaler.fit(X_test)\n",
    "X_test_Scaled=scaler.transform(X_test)\n",
    "\n",
    "# SVR with RBF kernel\n",
    "svr=SVR(kernel='rbf')\n",
    "svr.fit(X_train_Scaled,Y_train)\n",
    "# predict\n",
    "Y_pred_SVR=svr.predict(X_test_Scaled)\n",
    "\n",
    "acc_log_SVR = round(svr.score(X_test_Scaled, Y_test) * 100, 2)\n",
    "r2_score_SVR = r2_score(Y_test,Y_pred_SVR)\n",
    "mean_absolute_error_SVR=mean_absolute_error(Y_test, Y_pred_SVR)\n",
    "# Print the computed values\n",
    "print('R2 Score with RBF kernel '+ str(r2_score_SVR))\n",
    "print('Mean Absolute Error with RBF kernel '+ str(mean_absolute_error_SVR))\n",
    "\n",
    "# SVR with Linear kernel / Linear SVR Algorithm\n",
    "lsvr = LinearSVR(random_state=0, tol=1e-5)\n",
    "lsvr.fit(X_train_Scaled, Y_train)\n",
    "# predict\n",
    "Y_pred_SVR=lsvr.predict(X_test_Scaled)\n",
    "\n",
    "acc_log_SVR = round(lsvr.score(X_test_Scaled, Y_test) * 100, 2)\n",
    "r2_score_SVR = r2_score(Y_test,Y_pred_SVR)\n",
    "mean_absolute_error_SVR=mean_absolute_error(Y_test, Y_pred_SVR)\n",
    "# Print the computed values\n",
    "print('R2 Score with Linear kernel '+ str(r2_score_SVR))\n",
    "print('Mean Absolute Error with Linear kernel '+ str(mean_absolute_error_SVR))"
   ]
  },
  {
   "cell_type": "markdown",
   "metadata": {},
   "source": [
    "#### Considering all features except Age"
   ]
  },
  {
   "cell_type": "code",
   "execution_count": 143,
   "metadata": {},
   "outputs": [],
   "source": [
    "X_train = X_train_Dup.drop(['age'],axis=1)\n",
    "X_test = X_test_Dup.drop(['age'],axis=1)"
   ]
  },
  {
   "cell_type": "code",
   "execution_count": 144,
   "metadata": {},
   "outputs": [
    {
     "name": "stdout",
     "output_type": "stream",
     "text": [
      "R2 Score -0.5473013460623\n",
      "Mean Absolute Error 9.600536640615104\n"
     ]
    }
   ],
   "source": [
    "# Linear Regression Algorithm\n",
    "linreg=LinearRegression()\n",
    "linreg.fit(X_train, Y_train)\n",
    "\n",
    "# predict\n",
    "Y_pred_LinearReg = linreg.predict(X_test)\n",
    "acc_log_LinReg = round(linreg.score(X_test, Y_test) * 100, 2)\n",
    "r2_score_LinReg = r2_score(Y_test,Y_pred_LinearReg)\n",
    "mean_absolute_error_LinReg=mean_absolute_error(Y_test, Y_pred_LinearReg)\n",
    "\n",
    "print('R2 Score '+ str(r2_score_LinReg))\n",
    "print('Mean Absolute Error '+ str(mean_absolute_error_LinReg))"
   ]
  },
  {
   "cell_type": "code",
   "execution_count": 145,
   "metadata": {},
   "outputs": [
    {
     "name": "stdout",
     "output_type": "stream",
     "text": [
      "R2 Score -0.5737398415502111\n",
      "Mean Absolute Error 9.131768953068592\n"
     ]
    }
   ],
   "source": [
    "# CART Decision Tree Algorithm\n",
    "cart = DecisionTreeRegressor(criterion='mse', max_depth=None, min_samples_split=2, min_samples_leaf=1, max_features=None, random_state=0)\n",
    "cart.fit(X_train, Y_train)\n",
    "# Predicting a new result\n",
    "Y_pred_CART = cart.predict(X_test)\n",
    "acc_log_CART = round(cart.score(X_test, Y_test) * 100, 2)\n",
    "r2_score_CART = r2_score(Y_test,Y_pred_CART)\n",
    "mean_absolute_error_CART=mean_absolute_error(Y_test, Y_pred_CART)\n",
    "print('R2 Score '+ str(r2_score_CART))\n",
    "print('Mean Absolute Error '+ str(mean_absolute_error_CART))"
   ]
  },
  {
   "cell_type": "code",
   "execution_count": 146,
   "metadata": {},
   "outputs": [],
   "source": [
    "# Visualisation of the CART tree formed\n",
    "# feature_cols = ['age','Rank','H5-Index','ref_avg_count','AverageCumulativeAuthorCitationCount']\n",
    "# dot_data = StringIO()\n",
    "# export_graphviz(cart, out_file=dot_data,  \n",
    "#                 filled=True, rounded=True,\n",
    "#                 special_characters=True,feature_names = feature_cols)\n",
    "# graph = pydotplus.graph_from_dot_data(dot_data.getvalue())  \n",
    "# graph.write_png('../Data/CART.png')"
   ]
  },
  {
   "cell_type": "code",
   "execution_count": 147,
   "metadata": {
    "scrolled": true
   },
   "outputs": [
    {
     "name": "stdout",
     "output_type": "stream",
     "text": [
      "R2 Score with RBF kernel -0.321292716777303\n",
      "Mean Absolute Error with RBF kernel 12.518528488435408\n",
      "R2 Score with Linear kernel -4.660931863478925\n",
      "Mean Absolute Error with Linear kernel 14.89878336910854\n"
     ]
    }
   ],
   "source": [
    "# Application of the StandardScaler before applying SVR\n",
    "scaler = StandardScaler()\n",
    "scaler.fit(X_train)\n",
    "X_train_Scaled=scaler.transform(X_train)\n",
    "scaler.fit(X_test)\n",
    "X_test_Scaled=scaler.transform(X_test)\n",
    "\n",
    "# SVR with RBF kernel\n",
    "svr=SVR(kernel='rbf')\n",
    "svr.fit(X_train_Scaled,Y_train)\n",
    "# predict\n",
    "Y_pred_SVR=svr.predict(X_test_Scaled)\n",
    "\n",
    "acc_log_SVR = round(svr.score(X_test_Scaled, Y_test) * 100, 2)\n",
    "r2_score_SVR = r2_score(Y_test,Y_pred_SVR)\n",
    "mean_absolute_error_SVR=mean_absolute_error(Y_test, Y_pred_SVR)\n",
    "# Print the computed values\n",
    "print('R2 Score with RBF kernel '+ str(r2_score_SVR))\n",
    "print('Mean Absolute Error with RBF kernel '+ str(mean_absolute_error_SVR))\n",
    "\n",
    "# SVR with Linear kernel / Linear SVR Algorithm\n",
    "lsvr = LinearSVR(random_state=0, tol=1e-5)\n",
    "lsvr.fit(X_train_Scaled, Y_train)\n",
    "# predict\n",
    "Y_pred_SVR=lsvr.predict(X_test_Scaled)\n",
    "\n",
    "acc_log_SVR = round(lsvr.score(X_test_Scaled, Y_test) * 100, 2)\n",
    "r2_score_SVR = r2_score(Y_test,Y_pred_SVR)\n",
    "mean_absolute_error_SVR=mean_absolute_error(Y_test, Y_pred_SVR)\n",
    "# Print the computed values\n",
    "print('R2 Score with Linear kernel '+ str(r2_score_SVR))\n",
    "print('Mean Absolute Error with Linear kernel '+ str(mean_absolute_error_SVR))"
   ]
  },
  {
   "cell_type": "markdown",
   "metadata": {},
   "source": [
    "#### Considering all features except avgVenueCite"
   ]
  },
  {
   "cell_type": "code",
   "execution_count": 148,
   "metadata": {},
   "outputs": [],
   "source": [
    "X_train = X_train_Dup.drop(['avgVenueCite'],axis=1)\n",
    "X_test = X_test_Dup.drop(['avgVenueCite'],axis=1)"
   ]
  },
  {
   "cell_type": "code",
   "execution_count": 149,
   "metadata": {},
   "outputs": [
    {
     "name": "stdout",
     "output_type": "stream",
     "text": [
      "R2 Score -0.5428294795740884\n",
      "Mean Absolute Error 9.606443380700464\n"
     ]
    }
   ],
   "source": [
    "# Linear Regression Algorithm\n",
    "linreg=LinearRegression()\n",
    "linreg.fit(X_train, Y_train)\n",
    "\n",
    "# predict\n",
    "Y_pred_LinearReg = linreg.predict(X_test)\n",
    "acc_log_LinReg = round(linreg.score(X_test, Y_test) * 100, 2)\n",
    "r2_score_LinReg = r2_score(Y_test,Y_pred_LinearReg)\n",
    "mean_absolute_error_LinReg=mean_absolute_error(Y_test, Y_pred_LinearReg)\n",
    "\n",
    "print('R2 Score '+ str(r2_score_LinReg))\n",
    "print('Mean Absolute Error '+ str(mean_absolute_error_LinReg))"
   ]
  },
  {
   "cell_type": "code",
   "execution_count": 150,
   "metadata": {},
   "outputs": [
    {
     "name": "stdout",
     "output_type": "stream",
     "text": [
      "R2 Score -0.5737418918532691\n",
      "Mean Absolute Error 9.096871239470518\n"
     ]
    }
   ],
   "source": [
    "# CART Decision Tree Algorithm\n",
    "cart = DecisionTreeRegressor(criterion='mse', max_depth=None, min_samples_split=2, min_samples_leaf=1, max_features=None, random_state=0)\n",
    "cart.fit(X_train, Y_train)\n",
    "# Predicting a new result\n",
    "Y_pred_CART = cart.predict(X_test)\n",
    "acc_log_CART = round(cart.score(X_test, Y_test) * 100, 2)\n",
    "r2_score_CART = r2_score(Y_test,Y_pred_CART)\n",
    "mean_absolute_error_CART=mean_absolute_error(Y_test, Y_pred_CART)\n",
    "print('R2 Score '+ str(r2_score_CART))\n",
    "print('Mean Absolute Error '+ str(mean_absolute_error_CART))"
   ]
  },
  {
   "cell_type": "code",
   "execution_count": 151,
   "metadata": {},
   "outputs": [
    {
     "name": "stdout",
     "output_type": "stream",
     "text": [
      "R2 Score with RBF kernel -0.328586275243858\n",
      "Mean Absolute Error with RBF kernel 12.085908362668695\n",
      "R2 Score with Linear kernel -4.660932156920346\n",
      "Mean Absolute Error with Linear kernel 14.898783216145455\n"
     ]
    }
   ],
   "source": [
    "# Application of the StandardScaler before applying SVR\n",
    "scaler = StandardScaler()\n",
    "scaler.fit(X_train)\n",
    "X_train_Scaled=scaler.transform(X_train)\n",
    "scaler.fit(X_test)\n",
    "X_test_Scaled=scaler.transform(X_test)\n",
    "\n",
    "# SVR with RBF kernel\n",
    "svr=SVR(kernel='rbf')\n",
    "svr.fit(X_train_Scaled,Y_train)\n",
    "# predict\n",
    "Y_pred_SVR=svr.predict(X_test_Scaled)\n",
    "\n",
    "acc_log_SVR = round(svr.score(X_test_Scaled, Y_test) * 100, 2)\n",
    "r2_score_SVR = r2_score(Y_test,Y_pred_SVR)\n",
    "mean_absolute_error_SVR=mean_absolute_error(Y_test, Y_pred_SVR)\n",
    "# Print the computed values\n",
    "print('R2 Score with RBF kernel '+ str(r2_score_SVR))\n",
    "print('Mean Absolute Error with RBF kernel '+ str(mean_absolute_error_SVR))\n",
    "\n",
    "# SVR with Linear kernel / Linear SVR Algorithm\n",
    "lsvr = LinearSVR(random_state=0, tol=1e-5)\n",
    "lsvr.fit(X_train_Scaled, Y_train)\n",
    "# predict\n",
    "Y_pred_SVR=lsvr.predict(X_test_Scaled)\n",
    "\n",
    "acc_log_SVR = round(lsvr.score(X_test_Scaled, Y_test) * 100, 2)\n",
    "r2_score_SVR = r2_score(Y_test,Y_pred_SVR)\n",
    "mean_absolute_error_SVR=mean_absolute_error(Y_test, Y_pred_SVR)\n",
    "# Print the computed values\n",
    "print('R2 Score with Linear kernel '+ str(r2_score_SVR))\n",
    "print('Mean Absolute Error with Linear kernel '+ str(mean_absolute_error_SVR))"
   ]
  },
  {
   "cell_type": "markdown",
   "metadata": {},
   "source": [
    "#### Considering all features except AcCc"
   ]
  },
  {
   "cell_type": "code",
   "execution_count": 152,
   "metadata": {},
   "outputs": [],
   "source": [
    "X_train = X_train_Dup.drop(['AcCc'],axis=1)\n",
    "X_test = X_test_Dup.drop(['AcCc'],axis=1)"
   ]
  },
  {
   "cell_type": "code",
   "execution_count": 153,
   "metadata": {},
   "outputs": [
    {
     "name": "stdout",
     "output_type": "stream",
     "text": [
      "R2 Score -1.3916620373610518\n",
      "Mean Absolute Error 12.097005394586322\n"
     ]
    }
   ],
   "source": [
    "# Linear Regression Algorithm\n",
    "linreg=LinearRegression()\n",
    "linreg.fit(X_train, Y_train)\n",
    "\n",
    "# predict\n",
    "Y_pred_LinearReg = linreg.predict(X_test)\n",
    "acc_log_LinReg = round(linreg.score(X_test, Y_test) * 100, 2)\n",
    "r2_score_LinReg = r2_score(Y_test,Y_pred_LinearReg)\n",
    "mean_absolute_error_LinReg=mean_absolute_error(Y_test, Y_pred_LinearReg)\n",
    "\n",
    "print('R2 Score '+ str(r2_score_LinReg))\n",
    "print('Mean Absolute Error '+ str(mean_absolute_error_LinReg))"
   ]
  },
  {
   "cell_type": "code",
   "execution_count": 154,
   "metadata": {},
   "outputs": [
    {
     "name": "stdout",
     "output_type": "stream",
     "text": [
      "R2 Score -0.5708140590864674\n",
      "Mean Absolute Error 9.07641395908544\n"
     ]
    }
   ],
   "source": [
    "# CART Decision Tree Algorithm\n",
    "cart = DecisionTreeRegressor(criterion='mse', max_depth=None, min_samples_split=2, min_samples_leaf=1, max_features=None, random_state=0)\n",
    "cart.fit(X_train, Y_train)\n",
    "# Predicting a new result\n",
    "Y_pred_CART = cart.predict(X_test)\n",
    "acc_log_CART = round(cart.score(X_test, Y_test) * 100, 2)\n",
    "r2_score_CART = r2_score(Y_test,Y_pred_CART)\n",
    "mean_absolute_error_CART=mean_absolute_error(Y_test, Y_pred_CART)\n",
    "print('R2 Score '+ str(r2_score_CART))\n",
    "print('Mean Absolute Error '+ str(mean_absolute_error_CART))"
   ]
  },
  {
   "cell_type": "code",
   "execution_count": 155,
   "metadata": {},
   "outputs": [
    {
     "name": "stdout",
     "output_type": "stream",
     "text": [
      "R2 Score with RBF kernel 0.16041190566038233\n",
      "Mean Absolute Error with RBF kernel 8.4413433564082\n",
      "R2 Score with Linear kernel -3.009753829195689\n",
      "Mean Absolute Error with Linear kernel 10.250410272270688\n"
     ]
    }
   ],
   "source": [
    "# Application of the StandardScaler before applying SVR\n",
    "scaler = StandardScaler()\n",
    "scaler.fit(X_train)\n",
    "X_train_Scaled=scaler.transform(X_train)\n",
    "scaler.fit(X_test)\n",
    "X_test_Scaled=scaler.transform(X_test)\n",
    "\n",
    "# SVR with RBF kernel\n",
    "svr=SVR(kernel='rbf')\n",
    "svr.fit(X_train_Scaled,Y_train)\n",
    "# predict\n",
    "Y_pred_SVR=svr.predict(X_test_Scaled)\n",
    "\n",
    "acc_log_SVR = round(svr.score(X_test_Scaled, Y_test) * 100, 2)\n",
    "r2_score_SVR = r2_score(Y_test,Y_pred_SVR)\n",
    "mean_absolute_error_SVR=mean_absolute_error(Y_test, Y_pred_SVR)\n",
    "# Print the computed values\n",
    "print('R2 Score with RBF kernel '+ str(r2_score_SVR))\n",
    "print('Mean Absolute Error with RBF kernel '+ str(mean_absolute_error_SVR))\n",
    "\n",
    "# SVR with Linear kernel / Linear SVR Algorithm\n",
    "lsvr = LinearSVR(random_state=0, tol=1e-5)\n",
    "lsvr.fit(X_train_Scaled, Y_train)\n",
    "# predict\n",
    "Y_pred_SVR=lsvr.predict(X_test_Scaled)\n",
    "\n",
    "acc_log_SVR = round(lsvr.score(X_test_Scaled, Y_test) * 100, 2)\n",
    "r2_score_SVR = r2_score(Y_test,Y_pred_SVR)\n",
    "mean_absolute_error_SVR=mean_absolute_error(Y_test, Y_pred_SVR)\n",
    "# Print the computed values\n",
    "print('R2 Score with Linear kernel '+ str(r2_score_SVR))\n",
    "print('Mean Absolute Error with Linear kernel '+ str(mean_absolute_error_SVR))"
   ]
  },
  {
   "cell_type": "markdown",
   "metadata": {},
   "source": [
    "#### Considering all features except h5-age"
   ]
  },
  {
   "cell_type": "code",
   "execution_count": 156,
   "metadata": {},
   "outputs": [],
   "source": [
    "X_train = X_train_Dup.drop(['h5-age'],axis=1)\n",
    "X_test = X_test_Dup.drop(['h5-age'],axis=1)"
   ]
  },
  {
   "cell_type": "code",
   "execution_count": 157,
   "metadata": {},
   "outputs": [
    {
     "name": "stdout",
     "output_type": "stream",
     "text": [
      "R2 Score -0.5417510913217802\n",
      "Mean Absolute Error 9.595026459307997\n"
     ]
    }
   ],
   "source": [
    "# Linear Regression Algorithm\n",
    "linreg=LinearRegression()\n",
    "linreg.fit(X_train, Y_train)\n",
    "\n",
    "# predict\n",
    "Y_pred_LinearReg = linreg.predict(X_test)\n",
    "acc_log_LinReg = round(linreg.score(X_test, Y_test) * 100, 2)\n",
    "r2_score_LinReg = r2_score(Y_test,Y_pred_LinearReg)\n",
    "mean_absolute_error_LinReg=mean_absolute_error(Y_test, Y_pred_LinearReg)\n",
    "\n",
    "print('R2 Score '+ str(r2_score_LinReg))\n",
    "print('Mean Absolute Error '+ str(mean_absolute_error_LinReg))"
   ]
  },
  {
   "cell_type": "code",
   "execution_count": 158,
   "metadata": {},
   "outputs": [
    {
     "name": "stdout",
     "output_type": "stream",
     "text": [
      "R2 Score -0.5701846160476662\n",
      "Mean Absolute Error 9.080024067388688\n"
     ]
    }
   ],
   "source": [
    "# CART Decision Tree Algorithm\n",
    "cart = DecisionTreeRegressor(criterion='mse', max_depth=None, min_samples_split=2, min_samples_leaf=1, max_features=None, random_state=0)\n",
    "cart.fit(X_train, Y_train)\n",
    "# Predicting a new result\n",
    "Y_pred_CART = cart.predict(X_test)\n",
    "acc_log_CART = round(cart.score(X_test, Y_test) * 100, 2)\n",
    "r2_score_CART = r2_score(Y_test,Y_pred_CART)\n",
    "mean_absolute_error_CART=mean_absolute_error(Y_test, Y_pred_CART)\n",
    "print('R2 Score '+ str(r2_score_CART))\n",
    "print('Mean Absolute Error '+ str(mean_absolute_error_CART))"
   ]
  },
  {
   "cell_type": "code",
   "execution_count": 159,
   "metadata": {},
   "outputs": [
    {
     "name": "stdout",
     "output_type": "stream",
     "text": [
      "R2 Score with RBF kernel -0.3311690254859325\n",
      "Mean Absolute Error with RBF kernel 12.308606901336\n",
      "R2 Score with Linear kernel -4.660931945319158\n",
      "Mean Absolute Error with Linear kernel 14.898783483867332\n"
     ]
    }
   ],
   "source": [
    "# Application of the StandardScaler before applying SVR\n",
    "scaler = StandardScaler()\n",
    "scaler.fit(X_train)\n",
    "X_train_Scaled=scaler.transform(X_train)\n",
    "scaler.fit(X_test)\n",
    "X_test_Scaled=scaler.transform(X_test)\n",
    "\n",
    "# SVR with RBF kernel\n",
    "svr=SVR(kernel='rbf')\n",
    "svr.fit(X_train_Scaled,Y_train)\n",
    "# predict\n",
    "Y_pred_SVR=svr.predict(X_test_Scaled)\n",
    "\n",
    "acc_log_SVR = round(svr.score(X_test_Scaled, Y_test) * 100, 2)\n",
    "r2_score_SVR = r2_score(Y_test,Y_pred_SVR)\n",
    "mean_absolute_error_SVR=mean_absolute_error(Y_test, Y_pred_SVR)\n",
    "# Print the computed values\n",
    "print('R2 Score with RBF kernel '+ str(r2_score_SVR))\n",
    "print('Mean Absolute Error with RBF kernel '+ str(mean_absolute_error_SVR))\n",
    "\n",
    "# SVR with Linear kernel / Linear SVR Algorithm\n",
    "lsvr = LinearSVR(random_state=0, tol=1e-5)\n",
    "lsvr.fit(X_train_Scaled, Y_train)\n",
    "# predict\n",
    "Y_pred_SVR=lsvr.predict(X_test_Scaled)\n",
    "\n",
    "acc_log_SVR = round(lsvr.score(X_test_Scaled, Y_test) * 100, 2)\n",
    "r2_score_SVR = r2_score(Y_test,Y_pred_SVR)\n",
    "mean_absolute_error_SVR=mean_absolute_error(Y_test, Y_pred_SVR)\n",
    "# Print the computed values\n",
    "print('R2 Score with Linear kernel '+ str(r2_score_SVR))\n",
    "print('Mean Absolute Error with Linear kernel '+ str(mean_absolute_error_SVR))"
   ]
  },
  {
   "cell_type": "markdown",
   "metadata": {},
   "source": [
    "#### Considering all features except rank-age"
   ]
  },
  {
   "cell_type": "code",
   "execution_count": 160,
   "metadata": {},
   "outputs": [],
   "source": [
    "X_train = X_train_Dup.drop(['rank-age'],axis=1)\n",
    "X_test = X_test_Dup.drop(['rank-age'],axis=1)"
   ]
  },
  {
   "cell_type": "code",
   "execution_count": 161,
   "metadata": {},
   "outputs": [
    {
     "name": "stdout",
     "output_type": "stream",
     "text": [
      "R2 Score -0.5428757368010326\n",
      "Mean Absolute Error 9.59723206439382\n"
     ]
    }
   ],
   "source": [
    "# Linear Regression Algorithm\n",
    "linreg=LinearRegression()\n",
    "linreg.fit(X_train, Y_train)\n",
    "\n",
    "# predict\n",
    "Y_pred_LinearReg = linreg.predict(X_test)\n",
    "acc_log_LinReg = round(linreg.score(X_test, Y_test) * 100, 2)\n",
    "r2_score_LinReg = r2_score(Y_test,Y_pred_LinearReg)\n",
    "mean_absolute_error_LinReg=mean_absolute_error(Y_test, Y_pred_LinearReg)\n",
    "\n",
    "print('R2 Score '+ str(r2_score_LinReg))\n",
    "print('Mean Absolute Error '+ str(mean_absolute_error_LinReg))"
   ]
  },
  {
   "cell_type": "code",
   "execution_count": 162,
   "metadata": {},
   "outputs": [
    {
     "name": "stdout",
     "output_type": "stream",
     "text": [
      "R2 Score -0.5769454903813696\n",
      "Mean Absolute Error 9.14199759326113\n"
     ]
    }
   ],
   "source": [
    "# CART Decision Tree Algorithm\n",
    "cart = DecisionTreeRegressor(criterion='mse', max_depth=None, min_samples_split=2, min_samples_leaf=1, max_features=None, random_state=0)\n",
    "cart.fit(X_train, Y_train)\n",
    "# Predicting a new result\n",
    "Y_pred_CART = cart.predict(X_test)\n",
    "acc_log_CART = round(cart.score(X_test, Y_test) * 100, 2)\n",
    "r2_score_CART = r2_score(Y_test,Y_pred_CART)\n",
    "mean_absolute_error_CART=mean_absolute_error(Y_test, Y_pred_CART)\n",
    "print('R2 Score '+ str(r2_score_CART))\n",
    "print('Mean Absolute Error '+ str(mean_absolute_error_CART))"
   ]
  },
  {
   "cell_type": "code",
   "execution_count": 163,
   "metadata": {},
   "outputs": [
    {
     "name": "stdout",
     "output_type": "stream",
     "text": [
      "R2 Score with RBF kernel -0.3144003647625273\n",
      "Mean Absolute Error with RBF kernel 12.204782453045492\n",
      "R2 Score with Linear kernel -4.660932188649248\n",
      "Mean Absolute Error with Linear kernel 14.898783272397763\n"
     ]
    }
   ],
   "source": [
    "# Application of the StandardScaler before applying SVR\n",
    "scaler = StandardScaler()\n",
    "scaler.fit(X_train)\n",
    "X_train_Scaled=scaler.transform(X_train)\n",
    "scaler.fit(X_test)\n",
    "X_test_Scaled=scaler.transform(X_test)\n",
    "\n",
    "# SVR with RBF kernel\n",
    "svr=SVR(kernel='rbf')\n",
    "svr.fit(X_train_Scaled,Y_train)\n",
    "# predict\n",
    "Y_pred_SVR=svr.predict(X_test_Scaled)\n",
    "\n",
    "acc_log_SVR = round(svr.score(X_test_Scaled, Y_test) * 100, 2)\n",
    "r2_score_SVR = r2_score(Y_test,Y_pred_SVR)\n",
    "mean_absolute_error_SVR=mean_absolute_error(Y_test, Y_pred_SVR)\n",
    "# Print the computed values\n",
    "print('R2 Score with RBF kernel '+ str(r2_score_SVR))\n",
    "print('Mean Absolute Error with RBF kernel '+ str(mean_absolute_error_SVR))\n",
    "\n",
    "# SVR with Linear kernel / Linear SVR Algorithm\n",
    "lsvr = LinearSVR(random_state=0, tol=1e-5)\n",
    "lsvr.fit(X_train_Scaled, Y_train)\n",
    "# predict\n",
    "Y_pred_SVR=lsvr.predict(X_test_Scaled)\n",
    "\n",
    "acc_log_SVR = round(lsvr.score(X_test_Scaled, Y_test) * 100, 2)\n",
    "r2_score_SVR = r2_score(Y_test,Y_pred_SVR)\n",
    "mean_absolute_error_SVR=mean_absolute_error(Y_test, Y_pred_SVR)\n",
    "# Print the computed values\n",
    "print('R2 Score with Linear kernel '+ str(r2_score_SVR))\n",
    "print('Mean Absolute Error with Linear kernel '+ str(mean_absolute_error_SVR))"
   ]
  },
  {
   "cell_type": "markdown",
   "metadata": {},
   "source": [
    "#### Considering all features except venueCC-age"
   ]
  },
  {
   "cell_type": "code",
   "execution_count": 164,
   "metadata": {},
   "outputs": [],
   "source": [
    "X_train = X_train_Dup.drop(['venueCC-age'],axis=1)\n",
    "X_test = X_test_Dup.drop(['venueCC-age'],axis=1)"
   ]
  },
  {
   "cell_type": "code",
   "execution_count": 165,
   "metadata": {},
   "outputs": [
    {
     "name": "stdout",
     "output_type": "stream",
     "text": [
      "R2 Score -0.5390784462551121\n",
      "Mean Absolute Error 9.59916341088412\n"
     ]
    }
   ],
   "source": [
    "# Linear Regression Algorithm\n",
    "linreg=LinearRegression()\n",
    "linreg.fit(X_train, Y_train)\n",
    "\n",
    "# predict\n",
    "Y_pred_LinearReg = linreg.predict(X_test)\n",
    "acc_log_LinReg = round(linreg.score(X_test, Y_test) * 100, 2)\n",
    "r2_score_LinReg = r2_score(Y_test,Y_pred_LinearReg)\n",
    "mean_absolute_error_LinReg=mean_absolute_error(Y_test, Y_pred_LinearReg)\n",
    "\n",
    "print('R2 Score '+ str(r2_score_LinReg))\n",
    "print('Mean Absolute Error '+ str(mean_absolute_error_LinReg))"
   ]
  },
  {
   "cell_type": "code",
   "execution_count": 166,
   "metadata": {},
   "outputs": [
    {
     "name": "stdout",
     "output_type": "stream",
     "text": [
      "R2 Score -0.5754323667245773\n",
      "Mean Absolute Error 9.131167268351383\n"
     ]
    }
   ],
   "source": [
    "# CART Decision Tree Algorithm\n",
    "cart = DecisionTreeRegressor(criterion='mse', max_depth=None, min_samples_split=2, min_samples_leaf=1, max_features=None, random_state=0)\n",
    "cart.fit(X_train, Y_train)\n",
    "# Predicting a new result\n",
    "Y_pred_CART = cart.predict(X_test)\n",
    "acc_log_CART = round(cart.score(X_test, Y_test) * 100, 2)\n",
    "r2_score_CART = r2_score(Y_test,Y_pred_CART)\n",
    "mean_absolute_error_CART=mean_absolute_error(Y_test, Y_pred_CART)\n",
    "print('R2 Score '+ str(r2_score_CART))\n",
    "print('Mean Absolute Error '+ str(mean_absolute_error_CART))"
   ]
  },
  {
   "cell_type": "code",
   "execution_count": 167,
   "metadata": {},
   "outputs": [
    {
     "name": "stdout",
     "output_type": "stream",
     "text": [
      "R2 Score with RBF kernel -0.3176689933254795\n",
      "Mean Absolute Error with RBF kernel 12.480884396386239\n",
      "R2 Score with Linear kernel -4.660932157766573\n",
      "Mean Absolute Error with Linear kernel 14.898783216659808\n"
     ]
    }
   ],
   "source": [
    "# Application of the StandardScaler before applying SVR\n",
    "scaler = StandardScaler()\n",
    "scaler.fit(X_train)\n",
    "X_train_Scaled=scaler.transform(X_train)\n",
    "scaler.fit(X_test)\n",
    "X_test_Scaled=scaler.transform(X_test)\n",
    "\n",
    "# SVR with RBF kernel\n",
    "svr=SVR(kernel='rbf')\n",
    "svr.fit(X_train_Scaled,Y_train)\n",
    "# predict\n",
    "Y_pred_SVR=svr.predict(X_test_Scaled)\n",
    "\n",
    "acc_log_SVR = round(svr.score(X_test_Scaled, Y_test) * 100, 2)\n",
    "r2_score_SVR = r2_score(Y_test,Y_pred_SVR)\n",
    "mean_absolute_error_SVR=mean_absolute_error(Y_test, Y_pred_SVR)\n",
    "# Print the computed values\n",
    "print('R2 Score with RBF kernel '+ str(r2_score_SVR))\n",
    "print('Mean Absolute Error with RBF kernel '+ str(mean_absolute_error_SVR))\n",
    "\n",
    "# SVR with Linear kernel / Linear SVR Algorithm\n",
    "lsvr = LinearSVR(random_state=0, tol=1e-5)\n",
    "lsvr.fit(X_train_Scaled, Y_train)\n",
    "# predict\n",
    "Y_pred_SVR=lsvr.predict(X_test_Scaled)\n",
    "\n",
    "acc_log_SVR = round(lsvr.score(X_test_Scaled, Y_test) * 100, 2)\n",
    "r2_score_SVR = r2_score(Y_test,Y_pred_SVR)\n",
    "mean_absolute_error_SVR=mean_absolute_error(Y_test, Y_pred_SVR)\n",
    "# Print the computed values\n",
    "print('R2 Score with Linear kernel '+ str(r2_score_SVR))\n",
    "print('Mean Absolute Error with Linear kernel '+ str(mean_absolute_error_SVR))"
   ]
  },
  {
   "cell_type": "markdown",
   "metadata": {},
   "source": [
    "#### Considering all features except AcCc-age"
   ]
  },
  {
   "cell_type": "code",
   "execution_count": 168,
   "metadata": {},
   "outputs": [],
   "source": [
    "X_train = X_train_Dup.drop(['AcCc-age'],axis=1)\n",
    "X_test = X_test_Dup.drop(['AcCc-age'],axis=1)"
   ]
  },
  {
   "cell_type": "code",
   "execution_count": 169,
   "metadata": {},
   "outputs": [
    {
     "name": "stdout",
     "output_type": "stream",
     "text": [
      "R2 Score -0.5495337608236552\n",
      "Mean Absolute Error 9.575453912146061\n"
     ]
    }
   ],
   "source": [
    "# Linear Regression Algorithm\n",
    "linreg=LinearRegression()\n",
    "linreg.fit(X_train, Y_train)\n",
    "\n",
    "# predict\n",
    "Y_pred_LinearReg = linreg.predict(X_test)\n",
    "acc_log_LinReg = round(linreg.score(X_test, Y_test) * 100, 2)\n",
    "r2_score_LinReg = r2_score(Y_test,Y_pred_LinearReg)\n",
    "mean_absolute_error_LinReg=mean_absolute_error(Y_test, Y_pred_LinearReg)\n",
    "\n",
    "print('R2 Score '+ str(r2_score_LinReg))\n",
    "print('Mean Absolute Error '+ str(mean_absolute_error_LinReg))"
   ]
  },
  {
   "cell_type": "code",
   "execution_count": 170,
   "metadata": {},
   "outputs": [
    {
     "name": "stdout",
     "output_type": "stream",
     "text": [
      "R2 Score -0.5760372061266825\n",
      "Mean Absolute Error 9.144404332129964\n"
     ]
    }
   ],
   "source": [
    "# CART Decision Tree Algorithm\n",
    "cart = DecisionTreeRegressor(criterion='mse', max_depth=None, min_samples_split=2, min_samples_leaf=1, max_features=None, random_state=0)\n",
    "cart.fit(X_train, Y_train)\n",
    "# Predicting a new result\n",
    "Y_pred_CART = cart.predict(X_test)\n",
    "acc_log_CART = round(cart.score(X_test, Y_test) * 100, 2)\n",
    "r2_score_CART = r2_score(Y_test,Y_pred_CART)\n",
    "mean_absolute_error_CART=mean_absolute_error(Y_test, Y_pred_CART)\n",
    "print('R2 Score '+ str(r2_score_CART))\n",
    "print('Mean Absolute Error '+ str(mean_absolute_error_CART))"
   ]
  },
  {
   "cell_type": "code",
   "execution_count": 171,
   "metadata": {},
   "outputs": [
    {
     "name": "stdout",
     "output_type": "stream",
     "text": [
      "R2 Score with RBF kernel -0.3202160366358868\n",
      "Mean Absolute Error with RBF kernel 12.310614805503935\n",
      "R2 Score with Linear kernel -4.660932135820312\n",
      "Mean Absolute Error with Linear kernel 14.89878321682075\n"
     ]
    }
   ],
   "source": [
    "# Application of the StandardScaler before applying SVR\n",
    "scaler = StandardScaler()\n",
    "scaler.fit(X_train)\n",
    "X_train_Scaled=scaler.transform(X_train)\n",
    "scaler.fit(X_test)\n",
    "X_test_Scaled=scaler.transform(X_test)\n",
    "\n",
    "# SVR with RBF kernel\n",
    "svr=SVR(kernel='rbf')\n",
    "svr.fit(X_train_Scaled,Y_train)\n",
    "# predict\n",
    "Y_pred_SVR=svr.predict(X_test_Scaled)\n",
    "\n",
    "acc_log_SVR = round(svr.score(X_test_Scaled, Y_test) * 100, 2)\n",
    "r2_score_SVR = r2_score(Y_test,Y_pred_SVR)\n",
    "mean_absolute_error_SVR=mean_absolute_error(Y_test, Y_pred_SVR)\n",
    "# Print the computed values\n",
    "print('R2 Score with RBF kernel '+ str(r2_score_SVR))\n",
    "print('Mean Absolute Error with RBF kernel '+ str(mean_absolute_error_SVR))\n",
    "\n",
    "# SVR with Linear kernel / Linear SVR Algorithm\n",
    "lsvr = LinearSVR(random_state=0, tol=1e-5)\n",
    "lsvr.fit(X_train_Scaled, Y_train)\n",
    "# predict\n",
    "Y_pred_SVR=lsvr.predict(X_test_Scaled)\n",
    "\n",
    "acc_log_SVR = round(lsvr.score(X_test_Scaled, Y_test) * 100, 2)\n",
    "r2_score_SVR = r2_score(Y_test,Y_pred_SVR)\n",
    "mean_absolute_error_SVR=mean_absolute_error(Y_test, Y_pred_SVR)\n",
    "# Print the computed values\n",
    "print('R2 Score with Linear kernel '+ str(r2_score_SVR))\n",
    "print('Mean Absolute Error with Linear kernel '+ str(mean_absolute_error_SVR))"
   ]
  },
  {
   "cell_type": "markdown",
   "metadata": {},
   "source": [
    "#### Considering only age"
   ]
  },
  {
   "cell_type": "code",
   "execution_count": 172,
   "metadata": {},
   "outputs": [],
   "source": [
    "X_train=X_train_Dup[['age']]\n",
    "X_test=X_test_Dup[['age']]"
   ]
  },
  {
   "cell_type": "code",
   "execution_count": 173,
   "metadata": {},
   "outputs": [
    {
     "name": "stdout",
     "output_type": "stream",
     "text": [
      "R2 Score 0.328589802599915\n",
      "Mean Absolute Error 11.312506857371181\n"
     ]
    }
   ],
   "source": [
    "# Linear Regression Algorithm\n",
    "linreg=LinearRegression()\n",
    "linreg.fit(X_train, Y_train)\n",
    "\n",
    "# predict\n",
    "Y_pred_LinearReg = linreg.predict(X_test)\n",
    "acc_log_LinReg = round(linreg.score(X_test, Y_test) * 100, 2)\n",
    "r2_score_LinReg = r2_score(Y_test,Y_pred_LinearReg)\n",
    "mean_absolute_error_LinReg=mean_absolute_error(Y_test, Y_pred_LinearReg)\n",
    "\n",
    "print('R2 Score '+ str(r2_score_LinReg))\n",
    "print('Mean Absolute Error '+ str(mean_absolute_error_LinReg))"
   ]
  },
  {
   "cell_type": "code",
   "execution_count": 174,
   "metadata": {},
   "outputs": [
    {
     "name": "stdout",
     "output_type": "stream",
     "text": [
      "R2 Score -0.01414352707353328\n",
      "Mean Absolute Error 11.562263990879758\n"
     ]
    }
   ],
   "source": [
    "# CART Decision Tree Algorithm\n",
    "cart = DecisionTreeRegressor(criterion='mse', max_depth=None, min_samples_split=2, min_samples_leaf=1, max_features=None, random_state=0)\n",
    "cart.fit(X_train, Y_train)\n",
    "# Predicting a new result\n",
    "Y_pred_CART = cart.predict(X_test)\n",
    "acc_log_CART = round(cart.score(X_test, Y_test) * 100, 2)\n",
    "r2_score_CART = r2_score(Y_test,Y_pred_CART)\n",
    "mean_absolute_error_CART=mean_absolute_error(Y_test, Y_pred_CART)\n",
    "print('R2 Score '+ str(r2_score_CART))\n",
    "print('Mean Absolute Error '+ str(mean_absolute_error_CART))"
   ]
  },
  {
   "cell_type": "code",
   "execution_count": 175,
   "metadata": {},
   "outputs": [
    {
     "name": "stdout",
     "output_type": "stream",
     "text": [
      "R2 Score with RBF kernel 0.15421854492342268\n",
      "Mean Absolute Error with RBF kernel 7.144046352997262\n",
      "R2 Score with Linear kernel 0.2769588591720963\n",
      "Mean Absolute Error with Linear kernel 7.045408045645521\n"
     ]
    }
   ],
   "source": [
    "# Application of the StandardScaler before applying SVR\n",
    "scaler = StandardScaler()\n",
    "scaler.fit(X_train)\n",
    "X_train_Scaled=scaler.transform(X_train)\n",
    "scaler.fit(X_test)\n",
    "X_test_Scaled=scaler.transform(X_test)\n",
    "\n",
    "# SVR with RBF kernel\n",
    "svr=SVR(kernel='rbf')\n",
    "svr.fit(X_train_Scaled,Y_train)\n",
    "# predict\n",
    "Y_pred_SVR=svr.predict(X_test_Scaled)\n",
    "\n",
    "acc_log_SVR = round(svr.score(X_test_Scaled, Y_test) * 100, 2)\n",
    "r2_score_SVR = r2_score(Y_test,Y_pred_SVR)\n",
    "mean_absolute_error_SVR=mean_absolute_error(Y_test, Y_pred_SVR)\n",
    "# Print the computed values\n",
    "print('R2 Score with RBF kernel '+ str(r2_score_SVR))\n",
    "print('Mean Absolute Error with RBF kernel '+ str(mean_absolute_error_SVR))\n",
    "\n",
    "# SVR with Linear kernel / Linear SVR Algorithm\n",
    "lsvr = LinearSVR(random_state=0, tol=1e-5)\n",
    "lsvr.fit(X_train_Scaled, Y_train)\n",
    "# predict\n",
    "Y_pred_SVR=lsvr.predict(X_test_Scaled)\n",
    "\n",
    "acc_log_SVR = round(lsvr.score(X_test_Scaled, Y_test) * 100, 2)\n",
    "r2_score_SVR = r2_score(Y_test,Y_pred_SVR)\n",
    "mean_absolute_error_SVR=mean_absolute_error(Y_test, Y_pred_SVR)\n",
    "# Print the computed values\n",
    "print('R2 Score with Linear kernel '+ str(r2_score_SVR))\n",
    "print('Mean Absolute Error with Linear kernel '+ str(mean_absolute_error_SVR))"
   ]
  },
  {
   "cell_type": "markdown",
   "metadata": {},
   "source": [
    "#### Considering only avgVenueCite"
   ]
  },
  {
   "cell_type": "code",
   "execution_count": 176,
   "metadata": {},
   "outputs": [],
   "source": [
    "X_train=X_train_Dup[['avgVenueCite']]\n",
    "X_test=X_test_Dup[['avgVenueCite']]"
   ]
  },
  {
   "cell_type": "code",
   "execution_count": 177,
   "metadata": {},
   "outputs": [
    {
     "name": "stdout",
     "output_type": "stream",
     "text": [
      "R2 Score -0.2049646310730815\n",
      "Mean Absolute Error 12.356512574317666\n"
     ]
    }
   ],
   "source": [
    "# Linear Regression Algorithm\n",
    "linreg=LinearRegression()\n",
    "linreg.fit(X_train, Y_train)\n",
    "\n",
    "# predict\n",
    "Y_pred_LinearReg = linreg.predict(X_test)\n",
    "acc_log_LinReg = round(linreg.score(X_test, Y_test) * 100, 2)\n",
    "r2_score_LinReg = r2_score(Y_test,Y_pred_LinearReg)\n",
    "mean_absolute_error_LinReg=mean_absolute_error(Y_test, Y_pred_LinearReg)\n",
    "\n",
    "print('R2 Score '+ str(r2_score_LinReg))\n",
    "print('Mean Absolute Error '+ str(mean_absolute_error_LinReg))"
   ]
  },
  {
   "cell_type": "code",
   "execution_count": 178,
   "metadata": {},
   "outputs": [
    {
     "name": "stdout",
     "output_type": "stream",
     "text": [
      "R2 Score -0.20496463107308194\n",
      "Mean Absolute Error 12.356512574317666\n"
     ]
    }
   ],
   "source": [
    "# CART Decision Tree Algorithm\n",
    "cart = DecisionTreeRegressor(criterion='mse', max_depth=None, min_samples_split=2, min_samples_leaf=1, max_features=None, random_state=0)\n",
    "cart.fit(X_train, Y_train)\n",
    "# Predicting a new result\n",
    "Y_pred_CART = cart.predict(X_test)\n",
    "acc_log_CART = round(cart.score(X_test, Y_test) * 100, 2)\n",
    "r2_score_CART = r2_score(Y_test,Y_pred_CART)\n",
    "mean_absolute_error_CART=mean_absolute_error(Y_test, Y_pred_CART)\n",
    "print('R2 Score '+ str(r2_score_CART))\n",
    "print('Mean Absolute Error '+ str(mean_absolute_error_CART))"
   ]
  },
  {
   "cell_type": "code",
   "execution_count": 179,
   "metadata": {},
   "outputs": [
    {
     "name": "stdout",
     "output_type": "stream",
     "text": [
      "R2 Score with RBF kernel -0.03821820296880807\n",
      "Mean Absolute Error with RBF kernel 8.194096494150577\n",
      "R2 Score with Linear kernel -0.09879841483495966\n",
      "Mean Absolute Error with Linear kernel 7.614921780986787\n"
     ]
    }
   ],
   "source": [
    "# Application of the StandardScaler before applying SVR\n",
    "scaler = StandardScaler()\n",
    "scaler.fit(X_train)\n",
    "X_train_Scaled=scaler.transform(X_train)\n",
    "scaler.fit(X_test)\n",
    "X_test_Scaled=scaler.transform(X_test)\n",
    "\n",
    "# SVR with RBF kernel\n",
    "svr=SVR(kernel='rbf')\n",
    "svr.fit(X_train_Scaled,Y_train)\n",
    "# predict\n",
    "Y_pred_SVR=svr.predict(X_test_Scaled)\n",
    "\n",
    "acc_log_SVR = round(svr.score(X_test_Scaled, Y_test) * 100, 2)\n",
    "r2_score_SVR = r2_score(Y_test,Y_pred_SVR)\n",
    "mean_absolute_error_SVR=mean_absolute_error(Y_test, Y_pred_SVR)\n",
    "# Print the computed values\n",
    "print('R2 Score with RBF kernel '+ str(r2_score_SVR))\n",
    "print('Mean Absolute Error with RBF kernel '+ str(mean_absolute_error_SVR))\n",
    "\n",
    "# SVR with Linear kernel / Linear SVR Algorithm\n",
    "lsvr = LinearSVR(random_state=0, tol=1e-5)\n",
    "lsvr.fit(X_train_Scaled, Y_train)\n",
    "# predict\n",
    "Y_pred_SVR=lsvr.predict(X_test_Scaled)\n",
    "\n",
    "acc_log_SVR = round(lsvr.score(X_test_Scaled, Y_test) * 100, 2)\n",
    "r2_score_SVR = r2_score(Y_test,Y_pred_SVR)\n",
    "mean_absolute_error_SVR=mean_absolute_error(Y_test, Y_pred_SVR)\n",
    "# Print the computed values\n",
    "print('R2 Score with Linear kernel '+ str(r2_score_SVR))\n",
    "print('Mean Absolute Error with Linear kernel '+ str(mean_absolute_error_SVR))"
   ]
  },
  {
   "cell_type": "markdown",
   "metadata": {},
   "source": [
    "#### Considering only AcCc"
   ]
  },
  {
   "cell_type": "code",
   "execution_count": 180,
   "metadata": {},
   "outputs": [],
   "source": [
    "X_train=X_train_Dup[['AcCc']]\n",
    "X_test=X_test_Dup[['AcCc']]"
   ]
  },
  {
   "cell_type": "code",
   "execution_count": 181,
   "metadata": {},
   "outputs": [
    {
     "name": "stdout",
     "output_type": "stream",
     "text": [
      "R2 Score -0.5691071052492644\n",
      "Mean Absolute Error 9.511510165330625\n"
     ]
    }
   ],
   "source": [
    "# Linear Regression Algorithm\n",
    "linreg=LinearRegression()\n",
    "linreg.fit(X_train, Y_train)\n",
    "\n",
    "# predict\n",
    "Y_pred_LinearReg = linreg.predict(X_test)\n",
    "acc_log_LinReg = round(linreg.score(X_test, Y_test) * 100, 2)\n",
    "r2_score_LinReg = r2_score(Y_test,Y_pred_LinearReg)\n",
    "mean_absolute_error_LinReg=mean_absolute_error(Y_test, Y_pred_LinearReg)\n",
    "\n",
    "print('R2 Score '+ str(r2_score_LinReg))\n",
    "print('Mean Absolute Error '+ str(mean_absolute_error_LinReg))"
   ]
  },
  {
   "cell_type": "code",
   "execution_count": 182,
   "metadata": {},
   "outputs": [
    {
     "name": "stdout",
     "output_type": "stream",
     "text": [
      "R2 Score -0.5735041644555823\n",
      "Mean Absolute Error 9.26633886114066\n"
     ]
    }
   ],
   "source": [
    "# CART Decision Tree Algorithm\n",
    "cart = DecisionTreeRegressor(criterion='mse', max_depth=None, min_samples_split=2, min_samples_leaf=1, max_features=None, random_state=0)\n",
    "cart.fit(X_train, Y_train)\n",
    "# Predicting a new result\n",
    "Y_pred_CART = cart.predict(X_test)\n",
    "acc_log_CART = round(cart.score(X_test, Y_test) * 100, 2)\n",
    "r2_score_CART = r2_score(Y_test,Y_pred_CART)\n",
    "mean_absolute_error_CART=mean_absolute_error(Y_test, Y_pred_CART)\n",
    "print('R2 Score '+ str(r2_score_CART))\n",
    "print('Mean Absolute Error '+ str(mean_absolute_error_CART))"
   ]
  },
  {
   "cell_type": "code",
   "execution_count": 183,
   "metadata": {},
   "outputs": [
    {
     "name": "stdout",
     "output_type": "stream",
     "text": [
      "R2 Score with RBF kernel -0.44465225542861453\n",
      "Mean Absolute Error with RBF kernel 10.899536771707385\n",
      "R2 Score with Linear kernel -4.660932157691472\n",
      "Mean Absolute Error with Linear kernel 14.898783216608967\n"
     ]
    }
   ],
   "source": [
    "# Application of the StandardScaler before applying SVR\n",
    "scaler = StandardScaler()\n",
    "scaler.fit(X_train)\n",
    "X_train_Scaled=scaler.transform(X_train)\n",
    "scaler.fit(X_test)\n",
    "X_test_Scaled=scaler.transform(X_test)\n",
    "\n",
    "# SVR with RBF kernel\n",
    "svr=SVR(kernel='rbf')\n",
    "svr.fit(X_train_Scaled,Y_train)\n",
    "# predict\n",
    "Y_pred_SVR=svr.predict(X_test_Scaled)\n",
    "\n",
    "acc_log_SVR = round(svr.score(X_test_Scaled, Y_test) * 100, 2)\n",
    "r2_score_SVR = r2_score(Y_test,Y_pred_SVR)\n",
    "mean_absolute_error_SVR=mean_absolute_error(Y_test, Y_pred_SVR)\n",
    "# Print the computed values\n",
    "print('R2 Score with RBF kernel '+ str(r2_score_SVR))\n",
    "print('Mean Absolute Error with RBF kernel '+ str(mean_absolute_error_SVR))\n",
    "\n",
    "# SVR with Linear kernel / Linear SVR Algorithm\n",
    "lsvr = LinearSVR(random_state=0, tol=1e-5)\n",
    "lsvr.fit(X_train_Scaled, Y_train)\n",
    "# predict\n",
    "Y_pred_SVR=lsvr.predict(X_test_Scaled)\n",
    "\n",
    "acc_log_SVR = round(lsvr.score(X_test_Scaled, Y_test) * 100, 2)\n",
    "r2_score_SVR = r2_score(Y_test,Y_pred_SVR)\n",
    "mean_absolute_error_SVR=mean_absolute_error(Y_test, Y_pred_SVR)\n",
    "# Print the computed values\n",
    "print('R2 Score with Linear kernel '+ str(r2_score_SVR))\n",
    "print('Mean Absolute Error with Linear kernel '+ str(mean_absolute_error_SVR))"
   ]
  },
  {
   "cell_type": "markdown",
   "metadata": {},
   "source": [
    "#### Considering only h5-age "
   ]
  },
  {
   "cell_type": "code",
   "execution_count": 184,
   "metadata": {},
   "outputs": [],
   "source": [
    "X_train=X_train_Dup[['h5-age']]\n",
    "X_test=X_test_Dup[['h5-age']]"
   ]
  },
  {
   "cell_type": "code",
   "execution_count": 185,
   "metadata": {},
   "outputs": [
    {
     "name": "stdout",
     "output_type": "stream",
     "text": [
      "R2 Score 0.3575379116020757\n",
      "Mean Absolute Error 11.430184037310166\n"
     ]
    }
   ],
   "source": [
    "# Linear Regression Algorithm\n",
    "linreg=LinearRegression()\n",
    "linreg.fit(X_train, Y_train)\n",
    "\n",
    "# predict\n",
    "Y_pred_LinearReg = linreg.predict(X_test)\n",
    "acc_log_LinReg = round(linreg.score(X_test, Y_test) * 100, 2)\n",
    "r2_score_LinReg = r2_score(Y_test,Y_pred_LinearReg)\n",
    "mean_absolute_error_LinReg=mean_absolute_error(Y_test, Y_pred_LinearReg)\n",
    "\n",
    "print('R2 Score '+ str(r2_score_LinReg))\n",
    "print('Mean Absolute Error '+ str(mean_absolute_error_LinReg))"
   ]
  },
  {
   "cell_type": "code",
   "execution_count": 186,
   "metadata": {},
   "outputs": [
    {
     "name": "stdout",
     "output_type": "stream",
     "text": [
      "R2 Score -7.779097826821181\n",
      "Mean Absolute Error 12.347628284016205\n"
     ]
    }
   ],
   "source": [
    "# CART Decision Tree Algorithm\n",
    "cart = DecisionTreeRegressor(criterion='mse', max_depth=None, min_samples_split=2, min_samples_leaf=1, max_features=None, random_state=0)\n",
    "cart.fit(X_train, Y_train)\n",
    "# Predicting a new result\n",
    "Y_pred_CART = cart.predict(X_test)\n",
    "acc_log_CART = round(cart.score(X_test, Y_test) * 100, 2)\n",
    "r2_score_CART = r2_score(Y_test,Y_pred_CART)\n",
    "mean_absolute_error_CART=mean_absolute_error(Y_test, Y_pred_CART)\n",
    "print('R2 Score '+ str(r2_score_CART))\n",
    "print('Mean Absolute Error '+ str(mean_absolute_error_CART))"
   ]
  },
  {
   "cell_type": "code",
   "execution_count": 187,
   "metadata": {},
   "outputs": [
    {
     "name": "stdout",
     "output_type": "stream",
     "text": [
      "R2 Score with RBF kernel 0.13921963089723444\n",
      "Mean Absolute Error with RBF kernel 7.104560249362247\n",
      "R2 Score with Linear kernel -0.05303393827769054\n",
      "Mean Absolute Error with Linear kernel 7.680724949742148\n"
     ]
    }
   ],
   "source": [
    "# Application of the StandardScaler before applying SVR\n",
    "scaler = StandardScaler()\n",
    "scaler.fit(X_train)\n",
    "X_train_Scaled=scaler.transform(X_train)\n",
    "scaler.fit(X_test)\n",
    "X_test_Scaled=scaler.transform(X_test)\n",
    "\n",
    "# SVR with RBF kernel\n",
    "svr=SVR(kernel='rbf')\n",
    "svr.fit(X_train_Scaled,Y_train)\n",
    "# predict\n",
    "Y_pred_SVR=svr.predict(X_test_Scaled)\n",
    "\n",
    "acc_log_SVR = round(svr.score(X_test_Scaled, Y_test) * 100, 2)\n",
    "r2_score_SVR = r2_score(Y_test,Y_pred_SVR)\n",
    "mean_absolute_error_SVR=mean_absolute_error(Y_test, Y_pred_SVR)\n",
    "# Print the computed values\n",
    "print('R2 Score with RBF kernel '+ str(r2_score_SVR))\n",
    "print('Mean Absolute Error with RBF kernel '+ str(mean_absolute_error_SVR))\n",
    "\n",
    "# SVR with Linear kernel / Linear SVR Algorithm\n",
    "lsvr = LinearSVR(random_state=0, tol=1e-5)\n",
    "lsvr.fit(X_train_Scaled, Y_train)\n",
    "# predict\n",
    "Y_pred_SVR=lsvr.predict(X_test_Scaled)\n",
    "\n",
    "acc_log_SVR = round(lsvr.score(X_test_Scaled, Y_test) * 100, 2)\n",
    "r2_score_SVR = r2_score(Y_test,Y_pred_SVR)\n",
    "mean_absolute_error_SVR=mean_absolute_error(Y_test, Y_pred_SVR)\n",
    "# Print the computed values\n",
    "print('R2 Score with Linear kernel '+ str(r2_score_SVR))\n",
    "print('Mean Absolute Error with Linear kernel '+ str(mean_absolute_error_SVR))"
   ]
  },
  {
   "cell_type": "markdown",
   "metadata": {},
   "source": [
    "#### Considering only rank-age "
   ]
  },
  {
   "cell_type": "code",
   "execution_count": 188,
   "metadata": {},
   "outputs": [],
   "source": [
    "X_train=X_train_Dup[['rank-age']]\n",
    "X_test=X_test_Dup[['rank-age']]"
   ]
  },
  {
   "cell_type": "code",
   "execution_count": 189,
   "metadata": {},
   "outputs": [
    {
     "name": "stdout",
     "output_type": "stream",
     "text": [
      "R2 Score 0.08370664481628454\n",
      "Mean Absolute Error 13.01447670373557\n"
     ]
    }
   ],
   "source": [
    "# Linear Regression Algorithm\n",
    "linreg=LinearRegression()\n",
    "linreg.fit(X_train, Y_train)\n",
    "\n",
    "# predict\n",
    "Y_pred_LinearReg = linreg.predict(X_test)\n",
    "acc_log_LinReg = round(linreg.score(X_test, Y_test) * 100, 2)\n",
    "r2_score_LinReg = r2_score(Y_test,Y_pred_LinearReg)\n",
    "mean_absolute_error_LinReg=mean_absolute_error(Y_test, Y_pred_LinearReg)\n",
    "\n",
    "print('R2 Score '+ str(r2_score_LinReg))\n",
    "print('Mean Absolute Error '+ str(mean_absolute_error_LinReg))"
   ]
  },
  {
   "cell_type": "code",
   "execution_count": 190,
   "metadata": {},
   "outputs": [
    {
     "name": "stdout",
     "output_type": "stream",
     "text": [
      "R2 Score -8.61730616441719\n",
      "Mean Absolute Error 13.127963501945386\n"
     ]
    }
   ],
   "source": [
    "# CART Decision Tree Algorithm\n",
    "cart = DecisionTreeRegressor(criterion='mse', max_depth=None, min_samples_split=2, min_samples_leaf=1, max_features=None, random_state=0)\n",
    "cart.fit(X_train, Y_train)\n",
    "# Predicting a new result\n",
    "Y_pred_CART = cart.predict(X_test)\n",
    "acc_log_CART = round(cart.score(X_test, Y_test) * 100, 2)\n",
    "r2_score_CART = r2_score(Y_test,Y_pred_CART)\n",
    "mean_absolute_error_CART=mean_absolute_error(Y_test, Y_pred_CART)\n",
    "print('R2 Score '+ str(r2_score_CART))\n",
    "print('Mean Absolute Error '+ str(mean_absolute_error_CART))"
   ]
  },
  {
   "cell_type": "code",
   "execution_count": 191,
   "metadata": {},
   "outputs": [
    {
     "name": "stdout",
     "output_type": "stream",
     "text": [
      "R2 Score with RBF kernel 0.10060665383496858\n",
      "Mean Absolute Error with RBF kernel 7.1819746946356995\n",
      "R2 Score with Linear kernel -0.08578085212596931\n",
      "Mean Absolute Error with Linear kernel 7.626969593564476\n"
     ]
    }
   ],
   "source": [
    "# Application of the StandardScaler before applying SVR\n",
    "scaler = StandardScaler()\n",
    "scaler.fit(X_train)\n",
    "X_train_Scaled=scaler.transform(X_train)\n",
    "scaler.fit(X_test)\n",
    "X_test_Scaled=scaler.transform(X_test)\n",
    "\n",
    "# SVR with RBF kernel\n",
    "svr=SVR(kernel='rbf')\n",
    "svr.fit(X_train_Scaled,Y_train)\n",
    "# predict\n",
    "Y_pred_SVR=svr.predict(X_test_Scaled)\n",
    "\n",
    "acc_log_SVR = round(svr.score(X_test_Scaled, Y_test) * 100, 2)\n",
    "r2_score_SVR = r2_score(Y_test,Y_pred_SVR)\n",
    "mean_absolute_error_SVR=mean_absolute_error(Y_test, Y_pred_SVR)\n",
    "# Print the computed values\n",
    "print('R2 Score with RBF kernel '+ str(r2_score_SVR))\n",
    "print('Mean Absolute Error with RBF kernel '+ str(mean_absolute_error_SVR))\n",
    "\n",
    "# SVR with Linear kernel / Linear SVR Algorithm\n",
    "lsvr = LinearSVR(random_state=0, tol=1e-5)\n",
    "lsvr.fit(X_train_Scaled, Y_train)\n",
    "# predict\n",
    "Y_pred_SVR=lsvr.predict(X_test_Scaled)\n",
    "\n",
    "acc_log_SVR = round(lsvr.score(X_test_Scaled, Y_test) * 100, 2)\n",
    "r2_score_SVR = r2_score(Y_test,Y_pred_SVR)\n",
    "mean_absolute_error_SVR=mean_absolute_error(Y_test, Y_pred_SVR)\n",
    "# Print the computed values\n",
    "print('R2 Score with Linear kernel '+ str(r2_score_SVR))\n",
    "print('Mean Absolute Error with Linear kernel '+ str(mean_absolute_error_SVR))"
   ]
  },
  {
   "cell_type": "markdown",
   "metadata": {},
   "source": [
    "#### Considering only venueCC-age "
   ]
  },
  {
   "cell_type": "code",
   "execution_count": 192,
   "metadata": {},
   "outputs": [],
   "source": [
    "X_train=X_train_Dup[['venueCC-age']]\n",
    "X_test=X_test_Dup[['venueCC-age']]"
   ]
  },
  {
   "cell_type": "code",
   "execution_count": 193,
   "metadata": {},
   "outputs": [
    {
     "name": "stdout",
     "output_type": "stream",
     "text": [
      "R2 Score -0.1745287012863943\n",
      "Mean Absolute Error 12.35542779183069\n"
     ]
    }
   ],
   "source": [
    "# Linear Regression Algorithm\n",
    "linreg=LinearRegression()\n",
    "linreg.fit(X_train, Y_train)\n",
    "\n",
    "# predict\n",
    "Y_pred_LinearReg = linreg.predict(X_test)\n",
    "acc_log_LinReg = round(linreg.score(X_test, Y_test) * 100, 2)\n",
    "r2_score_LinReg = r2_score(Y_test,Y_pred_LinearReg)\n",
    "mean_absolute_error_LinReg=mean_absolute_error(Y_test, Y_pred_LinearReg)\n",
    "\n",
    "print('R2 Score '+ str(r2_score_LinReg))\n",
    "print('Mean Absolute Error '+ str(mean_absolute_error_LinReg))"
   ]
  },
  {
   "cell_type": "code",
   "execution_count": 194,
   "metadata": {},
   "outputs": [
    {
     "name": "stdout",
     "output_type": "stream",
     "text": [
      "R2 Score -0.03294790199303543\n",
      "Mean Absolute Error 10.587476083616993\n"
     ]
    }
   ],
   "source": [
    "# CART Decision Tree Algorithm\n",
    "cart = DecisionTreeRegressor(criterion='mse', max_depth=None, min_samples_split=2, min_samples_leaf=1, max_features=None, random_state=0)\n",
    "cart.fit(X_train, Y_train)\n",
    "# Predicting a new result\n",
    "Y_pred_CART = cart.predict(X_test)\n",
    "acc_log_CART = round(cart.score(X_test, Y_test) * 100, 2)\n",
    "r2_score_CART = r2_score(Y_test,Y_pred_CART)\n",
    "mean_absolute_error_CART=mean_absolute_error(Y_test, Y_pred_CART)\n",
    "print('R2 Score '+ str(r2_score_CART))\n",
    "print('Mean Absolute Error '+ str(mean_absolute_error_CART))"
   ]
  },
  {
   "cell_type": "code",
   "execution_count": 195,
   "metadata": {},
   "outputs": [
    {
     "name": "stdout",
     "output_type": "stream",
     "text": [
      "R2 Score with RBF kernel 0.07227256183342878\n",
      "Mean Absolute Error with RBF kernel 7.50354923710746\n",
      "R2 Score with Linear kernel -2.148289363819278\n",
      "Mean Absolute Error with Linear kernel 9.322666721841937\n"
     ]
    }
   ],
   "source": [
    "# Application of the StandardScaler before applying SVR\n",
    "scaler = StandardScaler()\n",
    "scaler.fit(X_train)\n",
    "X_train_Scaled=scaler.transform(X_train)\n",
    "scaler.fit(X_test)\n",
    "X_test_Scaled=scaler.transform(X_test)\n",
    "\n",
    "# SVR with RBF kernel\n",
    "svr=SVR(kernel='rbf')\n",
    "svr.fit(X_train_Scaled,Y_train)\n",
    "# predict\n",
    "Y_pred_SVR=svr.predict(X_test_Scaled)\n",
    "\n",
    "acc_log_SVR = round(svr.score(X_test_Scaled, Y_test) * 100, 2)\n",
    "r2_score_SVR = r2_score(Y_test,Y_pred_SVR)\n",
    "mean_absolute_error_SVR=mean_absolute_error(Y_test, Y_pred_SVR)\n",
    "# Print the computed values\n",
    "print('R2 Score with RBF kernel '+ str(r2_score_SVR))\n",
    "print('Mean Absolute Error with RBF kernel '+ str(mean_absolute_error_SVR))\n",
    "\n",
    "# SVR with Linear kernel / Linear SVR Algorithm\n",
    "lsvr = LinearSVR(random_state=0, tol=1e-5)\n",
    "lsvr.fit(X_train_Scaled, Y_train)\n",
    "# predict\n",
    "Y_pred_SVR=lsvr.predict(X_test_Scaled)\n",
    "\n",
    "acc_log_SVR = round(lsvr.score(X_test_Scaled, Y_test) * 100, 2)\n",
    "r2_score_SVR = r2_score(Y_test,Y_pred_SVR)\n",
    "mean_absolute_error_SVR=mean_absolute_error(Y_test, Y_pred_SVR)\n",
    "# Print the computed values\n",
    "print('R2 Score with Linear kernel '+ str(r2_score_SVR))\n",
    "print('Mean Absolute Error with Linear kernel '+ str(mean_absolute_error_SVR))"
   ]
  },
  {
   "cell_type": "markdown",
   "metadata": {},
   "source": [
    "#### Considering only AcCc-age "
   ]
  },
  {
   "cell_type": "code",
   "execution_count": 196,
   "metadata": {},
   "outputs": [],
   "source": [
    "X_train=X_train_Dup[['AcCc-age']]\n",
    "X_test=X_test_Dup[['AcCc-age']]"
   ]
  },
  {
   "cell_type": "code",
   "execution_count": 197,
   "metadata": {},
   "outputs": [
    {
     "name": "stdout",
     "output_type": "stream",
     "text": [
      "R2 Score -2.0435233420890913\n",
      "Mean Absolute Error 12.215988757965285\n"
     ]
    }
   ],
   "source": [
    "# Linear Regression Algorithm\n",
    "linreg=LinearRegression()\n",
    "linreg.fit(X_train, Y_train)\n",
    "\n",
    "# predict\n",
    "Y_pred_LinearReg = linreg.predict(X_test)\n",
    "acc_log_LinReg = round(linreg.score(X_test, Y_test) * 100, 2)\n",
    "r2_score_LinReg = r2_score(Y_test,Y_pred_LinearReg)\n",
    "mean_absolute_error_LinReg=mean_absolute_error(Y_test, Y_pred_LinearReg)\n",
    "\n",
    "print('R2 Score '+ str(r2_score_LinReg))\n",
    "print('Mean Absolute Error '+ str(mean_absolute_error_LinReg))"
   ]
  },
  {
   "cell_type": "code",
   "execution_count": 198,
   "metadata": {},
   "outputs": [
    {
     "name": "stdout",
     "output_type": "stream",
     "text": [
      "R2 Score -0.5601603365024508\n",
      "Mean Absolute Error 9.14818837344409\n"
     ]
    }
   ],
   "source": [
    "# CART Decision Tree Algorithm\n",
    "cart = DecisionTreeRegressor(criterion='mse', max_depth=None, min_samples_split=2, min_samples_leaf=1, max_features=None, random_state=0)\n",
    "cart.fit(X_train, Y_train)\n",
    "# Predicting a new result\n",
    "Y_pred_CART = cart.predict(X_test)\n",
    "acc_log_CART = round(cart.score(X_test, Y_test) * 100, 2)\n",
    "r2_score_CART = r2_score(Y_test,Y_pred_CART)\n",
    "mean_absolute_error_CART=mean_absolute_error(Y_test, Y_pred_CART)\n",
    "print('R2 Score '+ str(r2_score_CART))\n",
    "print('Mean Absolute Error '+ str(mean_absolute_error_CART))"
   ]
  },
  {
   "cell_type": "code",
   "execution_count": 199,
   "metadata": {},
   "outputs": [
    {
     "name": "stdout",
     "output_type": "stream",
     "text": [
      "R2 Score with RBF kernel 0.012222913637190191\n",
      "Mean Absolute Error with RBF kernel 11.717551818011954\n",
      "R2 Score with Linear kernel -3.5558251609863456\n",
      "Mean Absolute Error with Linear kernel 10.604627340993922\n"
     ]
    }
   ],
   "source": [
    "# Application of the StandardScaler before applying SVR\n",
    "scaler = StandardScaler()\n",
    "scaler.fit(X_train)\n",
    "X_train_Scaled=scaler.transform(X_train)\n",
    "scaler.fit(X_test)\n",
    "X_test_Scaled=scaler.transform(X_test)\n",
    "\n",
    "# SVR with RBF kernel\n",
    "svr=SVR(kernel='rbf')\n",
    "svr.fit(X_train_Scaled,Y_train)\n",
    "# predict\n",
    "Y_pred_SVR=svr.predict(X_test_Scaled)\n",
    "\n",
    "acc_log_SVR = round(svr.score(X_test_Scaled, Y_test) * 100, 2)\n",
    "r2_score_SVR = r2_score(Y_test,Y_pred_SVR)\n",
    "mean_absolute_error_SVR=mean_absolute_error(Y_test, Y_pred_SVR)\n",
    "# Print the computed values\n",
    "print('R2 Score with RBF kernel '+ str(r2_score_SVR))\n",
    "print('Mean Absolute Error with RBF kernel '+ str(mean_absolute_error_SVR))\n",
    "\n",
    "# SVR with Linear kernel / Linear SVR Algorithm\n",
    "lsvr = LinearSVR(random_state=0, tol=1e-5)\n",
    "lsvr.fit(X_train_Scaled, Y_train)\n",
    "# predict\n",
    "Y_pred_SVR=lsvr.predict(X_test_Scaled)\n",
    "\n",
    "acc_log_SVR = round(lsvr.score(X_test_Scaled, Y_test) * 100, 2)\n",
    "r2_score_SVR = r2_score(Y_test,Y_pred_SVR)\n",
    "mean_absolute_error_SVR=mean_absolute_error(Y_test, Y_pred_SVR)\n",
    "# Print the computed values\n",
    "print('R2 Score with Linear kernel '+ str(r2_score_SVR))\n",
    "print('Mean Absolute Error with Linear kernel '+ str(mean_absolute_error_SVR))"
   ]
  }
 ],
 "metadata": {
  "kernelspec": {
   "display_name": "Python 3",
   "language": "python",
   "name": "python3"
  },
  "language_info": {
   "codemirror_mode": {
    "name": "ipython",
    "version": 3
   },
   "file_extension": ".py",
   "mimetype": "text/x-python",
   "name": "python",
   "nbconvert_exporter": "python",
   "pygments_lexer": "ipython3",
   "version": "3.7.0"
  }
 },
 "nbformat": 4,
 "nbformat_minor": 2
}
